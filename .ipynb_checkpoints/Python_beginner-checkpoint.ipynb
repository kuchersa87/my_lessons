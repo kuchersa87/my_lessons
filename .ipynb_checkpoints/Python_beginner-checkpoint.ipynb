{
 "cells": [
  {
   "cell_type": "markdown",
   "metadata": {
    "id": "qeAAQDNWSffs"
   },
   "source": [
    "# 2. Ввод-вывод данных"
   ]
  },
  {
   "cell_type": "markdown",
   "metadata": {
    "id": "s1PaUeQEzGsi"
   },
   "source": [
    "## 2.2 Ввод / вывод даных. Команды print и input"
   ]
  },
  {
   "cell_type": "code",
   "execution_count": null,
   "metadata": {
    "id": "TTf9dYp4zIPR"
   },
   "outputs": [],
   "source": [
    "# В аргументе команды print необходимо перечислять данные через пробел - общепринятая практика\n",
    "# print() выведет на экран пустую строку\n",
    "# Указывать либо ' ' либо \" \" либо ''' ''' (для возможности переноса текста по строкам)\n",
    "# Команда input() по умолчанию считывает ТЕКСТ"
   ]
  },
  {
   "cell_type": "code",
   "execution_count": null,
   "metadata": {
    "id": "vO1K584t2Y4u"
   },
   "outputs": [],
   "source": [
    "# ВАЖНО! Запрашивать данные сразу перед их вводом на одной строке\n",
    "name = input('Как тебя зовут? ')\n",
    "print(\"Привет,\", name, \"!\")"
   ]
  },
  {
   "cell_type": "markdown",
   "metadata": {
    "id": "5S2bMPQb6Ipe"
   },
   "source": [
    "## 2.3 Ввод / вывод даных. Параметры sep и end. PEP8"
   ]
  },
  {
   "cell_type": "code",
   "execution_count": null,
   "metadata": {
    "id": "yza1a4ss4kvi"
   },
   "outputs": [],
   "source": [
    "# Комананда sep. Позволяет установить строку, с помощью которой будут разделены аргументы при печати\n",
    "print('a', 'b', sep='+')"
   ]
  },
  {
   "cell_type": "code",
   "execution_count": null,
   "metadata": {
    "colab": {
     "base_uri": "https://localhost:8080/"
    },
    "executionInfo": {
     "elapsed": 275,
     "status": "ok",
     "timestamp": 1659559680627,
     "user": {
      "displayName": "Сергей Кучер",
      "userId": "06348785934949478413"
     },
     "user_tz": -180
    },
    "id": "p1_IeSlTcr-f",
    "outputId": "a1c43550-5cd5-4e0f-8511-e2e0984b18d7"
   },
   "outputs": [
    {
     "name": "stdout",
     "output_type": "stream",
     "text": [
      "a b c@d e f@@"
     ]
    }
   ],
   "source": [
    "# Разрыв между строками\n",
    "# По умолчанию параметр команды end переносит строку на следующую.\n",
    "print('a', 'b', 'c', end='@')\n",
    "print('d', 'e', 'f', end='@@')"
   ]
  },
  {
   "cell_type": "code",
   "execution_count": null,
   "metadata": {
    "id": "aO9OQPNF5sWO"
   },
   "outputs": [],
   "source": [
    "# Значения по умолчанию у параметров sep и end следующие:\n",
    "sep=' '   # пробел\n",
    "end='\\n'  # перевод строки"
   ]
  },
  {
   "cell_type": "code",
   "execution_count": null,
   "metadata": {
    "colab": {
     "base_uri": "https://localhost:8080/"
    },
    "executionInfo": {
     "elapsed": 255,
     "status": "ok",
     "timestamp": 1659559749322,
     "user": {
      "displayName": "Сергей Кучер",
      "userId": "06348785934949478413"
     },
     "user_tz": -180
    },
    "id": "l8mDpajc7AUe",
    "outputId": "5963b06f-037f-4806-f67b-3b78ee26b962"
   },
   "outputs": [
    {
     "name": "stdout",
     "output_type": "stream",
     "text": [
      "abcdef\n"
     ]
    }
   ],
   "source": [
    "# Убрать с печати пробелы между строками и перенос строки:\n",
    "print('a', 'b', 'c', sep='', end='')\n",
    "print('d', 'e', 'f', sep='')"
   ]
  },
  {
   "cell_type": "code",
   "execution_count": null,
   "metadata": {
    "id": "ZxTYZfvt7csk"
   },
   "outputs": [],
   "source": [
    "# Если после вывода данных нужно более одного перевода строки:\n",
    "print('Python', end='\\n\\n\\n')\n",
    "print('Окончание печати')"
   ]
  },
  {
   "cell_type": "code",
   "execution_count": null,
   "metadata": {
    "id": "fINSAA0P8xia"
   },
   "outputs": [],
   "source": [
    "a=input()\n",
    "print('Привет, ', a, \"!\", sep='')"
   ]
  },
  {
   "cell_type": "code",
   "execution_count": null,
   "metadata": {
    "id": "XJP51cowLZwW"
   },
   "outputs": [],
   "source": [
    "# Переменные\n",
    "# Вот такие «места в памяти» называются переменными. Любая переменная имеет имя и значение."
   ]
  },
  {
   "cell_type": "code",
   "execution_count": null,
   "metadata": {
    "id": "vzme3nTAMFHl"
   },
   "outputs": [],
   "source": [
    "# Имя переменной\n",
    "# В имени переменной используйте только латинские буквы a-z, A-Z, цифры и символ нижнего подчеркивания (_);\n",
    "# Имя переменной не может начинаться с цифры;\n",
    "# Имя переменной по возможности должно отражать её назначение.\n",
    "# Для именования переменных принято использовать стиль lower_case_with_underscores (слова из маленьких букв с подчеркиваниями)."
   ]
  },
  {
   "cell_type": "code",
   "execution_count": null,
   "metadata": {
    "id": "Dmp6B96zMd8L"
   },
   "outputs": [],
   "source": [
    "# Значение переменной\n",
    "# Знак «=» это оператор присваивания.\n",
    "# <имя переменной> = <значение переменной>"
   ]
  },
  {
   "cell_type": "code",
   "execution_count": null,
   "metadata": {
    "id": "dxuDp325Plcx"
   },
   "outputs": [],
   "source": [
    "# Множественное присваивание\n",
    "# Если слева от знака «равно» в множественном присваивании должны стоять через запятую имена переменных, то справа могут стоять произвольные выражения, разделённые запятыми. \n",
    "# Главное, чтобы слева и справа от знака присваивания было одинаковое число элементов.\n",
    "# Новое значение переменной вытесняет старое.\n",
    "# Переменные можно вводить в любой момент (не только в самом начале программы).\n",
    "# В качестве названия переменных запрещено использовать ключевые (зарезервированные) слова\n",
    "name, surname = input(), input()\n",
    "print('Имя:', name, 'Фамилия:', surname)"
   ]
  },
  {
   "cell_type": "code",
   "execution_count": null,
   "metadata": {
    "id": "Z30_ete3Qbp1"
   },
   "outputs": [],
   "source": [
    "# Обменять значение двух переменных\n",
    "name1 = 'Timur'\n",
    "name2 = 'Gvido'\n",
    "name1, name2 = name2, name1\n",
    "print(name1)\n",
    "print(name2)"
   ]
  },
  {
   "cell_type": "code",
   "execution_count": null,
   "metadata": {
    "id": "C01dZEhASXl2"
   },
   "outputs": [],
   "source": [
    "# PEP 8 — Python Enhanced Proposal - единый и общепринятый стиль написания программ на языке Python\n",
    "# Избегайте использования пробелов перед открывающей скобкой, после которой начинается список аргументов функции.\n",
    "# После запятой нужен пробел.\n",
    "# Не отделяйте пробелами знак «равно», когда он употребляется для обозначения значения параметра по умолчанию.\n",
    "# Комментарии должны отделяться хотя бы двумя пробелами от кода. Они должны начинаться с символа # и одного пробела.\n",
    "# \"=\" отделяется пробелами с двух сторон когда задаются переменные"
   ]
  },
  {
   "cell_type": "markdown",
   "metadata": {
    "id": "Pss5hTvsWnHP"
   },
   "source": [
    "## 2.4 Ввод / вывод даных. Целочисленная арифметика. Преобразование типов. Часть1"
   ]
  },
  {
   "cell_type": "code",
   "execution_count": null,
   "metadata": {
    "id": "rZ-Dzsl9WsFH"
   },
   "outputs": [],
   "source": [
    "# Целые числа\n",
    "# Числа обозначаются без кавычек, а строки — с кавычками.\n",
    "# В Python реализована так называемая длинная арифметика, то есть, по сути, переменная целого типа не имеет ограничений.\n",
    "num1 = 7\n",
    "num2 = 10\n",
    "print(num1+num2)"
   ]
  },
  {
   "cell_type": "code",
   "execution_count": null,
   "metadata": {
    "id": "Q7mDjNIdXhyX"
   },
   "outputs": [],
   "source": [
    "# Над числами можно совершать 4 основные операции (+, −, *, /)."
   ]
  },
  {
   "cell_type": "code",
   "execution_count": null,
   "metadata": {
    "id": "q-4v9DsSXp32"
   },
   "outputs": [],
   "source": [
    "# Порядок выполнения операций в Python аналогичен порядку выполнения операций, которые вы изучали на уроках математики.\n",
    "# Первым делом выполняется умножение или деление, затем сложение и вычитание."
   ]
  },
  {
   "cell_type": "code",
   "execution_count": null,
   "metadata": {
    "id": "g2me0wrcX5_U"
   },
   "outputs": [],
   "source": [
    "# Преобразование типов\n",
    "# Для того, чтобы преобразовать СТРОКУ к ЦЕЛОМУ числу, мы используем команду int()\n",
    "s = '1992'\n",
    "year = int(s)\n",
    "# Мы используем новую команду (точнее, функцию) – int()\n",
    "# Она означает следующее: «Возьми то, что указано в качестве аргумента в скобках, и преврати это в целое число»\n",
    "# Таким образом, переменная year имеет ЦЕЛЫЙ тип данных, а переменная s – СТРОКОВЫЙ тип данных.\n",
    "a = '2'\n",
    "b = '3'                    # Очень важный момент! Совсем разные результаты\n",
    "print(a+b)                 # сложит текст. Переменные имеют строковый тип данных\n",
    "print(int(a)+int(b))       # сложит цифры. Переменные имеют целочисленный тип данных"
   ]
  },
  {
   "cell_type": "code",
   "execution_count": null,
   "metadata": {
    "id": "uvEanozgaA5C"
   },
   "outputs": [],
   "source": [
    "# Для того, чтобы считать одно ЦЕЛОЕ число, мы пишем следующий код\n",
    "num = int(input())"
   ]
  },
  {
   "cell_type": "code",
   "execution_count": null,
   "metadata": {
    "id": "gUxtn6RRc3dY"
   },
   "outputs": [],
   "source": [
    "# Для того, чтобы преобразовать ЦЕЛОЕ число в СТРОКУ, мы используем команду str().\n",
    "a = 2\n",
    "b = 3                      # Очень важный момент! Совсем разные результаты\n",
    "print(a+b)                 # сложит цифры. Переменные имеют целочисленный тип данных\n",
    "print(str(a)+str(b))       # сложит текст. Переменные имеют строковый тип данных"
   ]
  },
  {
   "cell_type": "code",
   "execution_count": null,
   "metadata": {
    "id": "-QO6OGM6emn2"
   },
   "outputs": [],
   "source": [
    "num1 = -6      # унарный минус\n",
    "num2 = 17 - 7  # бинарный минус"
   ]
  },
  {
   "cell_type": "code",
   "execution_count": null,
   "metadata": {
    "id": "JSPpYnbcfSYr"
   },
   "outputs": [],
   "source": [
    "# Задача 1. Три последовательных числа. Напишите программу вывода на экран трех последовательно идущих чисел, каждое на отдельной строке.\n",
    "num1 = int(input())\n",
    "print(num1)          # выводим само число\n",
    "print(num1+1)        # следущее\n",
    "print(num1+2)        # через 1"
   ]
  },
  {
   "cell_type": "code",
   "execution_count": null,
   "metadata": {
    "id": "LPgB1OYIf8ZS"
   },
   "outputs": [],
   "source": [
    "# Задача 2. Сумма трёх чисел\n",
    "num1 = int(input())\n",
    "num2 = int(input())\n",
    "num3 = int(input())\n",
    "print(num1 + num2 + num3)"
   ]
  },
  {
   "cell_type": "code",
   "execution_count": null,
   "metadata": {
    "id": "nET0MeEagucQ"
   },
   "outputs": [],
   "source": [
    "# Задача 3. Куб. Найти объём куба и площадь его полной поверхности\n",
    "dlina_rebra = int(input())\n",
    "print('Объём =', dlina_rebra**3)\n",
    "print('Площадь полной поверхности =', (dlina_rebra**2)*6)"
   ]
  },
  {
   "cell_type": "code",
   "execution_count": null,
   "metadata": {
    "id": "jTMsgoEph0Wd"
   },
   "outputs": [],
   "source": [
    "# Задача 4. Значение функции\n",
    "a = int(input())\n",
    "b = int(input())\n",
    "print(((a+b)**3)*3+(b**2)*275-127*a-41)"
   ]
  },
  {
   "cell_type": "code",
   "execution_count": null,
   "metadata": {
    "id": "ofDdr8FkizIN"
   },
   "outputs": [],
   "source": [
    "# Задача 5. Следующее и предыдущее.\n",
    "num = int(input())\n",
    "print('Следующее за числом', num, 'число:', num+1)\n",
    "print('Для числа', num, 'предыдущее число:', num-1)"
   ]
  },
  {
   "cell_type": "code",
   "execution_count": null,
   "metadata": {
    "id": "0ZDy1JHeoCJA"
   },
   "outputs": [],
   "source": [
    "# Задача 5. Стоимость покупки\n",
    "stoim_mon = int(input())\n",
    "stoim_block = int(input())\n",
    "stoim_klava = int(input())\n",
    "stoim_mouse = int(input())\n",
    "print((stoim_mon+stoim_block+stoim_klava+stoim_mouse)*3)"
   ]
  },
  {
   "cell_type": "code",
   "execution_count": null,
   "metadata": {
    "id": "VzSEqHhVo9ky"
   },
   "outputs": [],
   "source": [
    "# Задача 6. Арифметические операции\n",
    "num1, num2 = int(input()), int(input())\n",
    "print(num1, '+', num2, '=', num1+num2)\n",
    "print(str(num1), '-', str(num2), '=', num1-num2)\n",
    "print(str(num1), '*', str(num2), '=', num1*num2)"
   ]
  },
  {
   "cell_type": "code",
   "execution_count": null,
   "metadata": {
    "id": "Thng6D4mqrwY"
   },
   "outputs": [],
   "source": [
    "# Задача 7. Арифметическая прогрессия\n",
    "# Арифметической прогрессией называется последовательность чисел a1,a2,...an каждое из которых, начиная c a2 получается из предыдущего прибавлением к нему одного и того же постоянного числа d (разность прогрессии):\n",
    "# an=a(n-1) + d\n",
    "a1 = int(input())\n",
    "d = int(input())\n",
    "n = int(input())\n",
    "print(a1+d*(n-1))"
   ]
  },
  {
   "cell_type": "code",
   "execution_count": null,
   "metadata": {
    "id": "cKrMBy6v2gAO"
   },
   "outputs": [],
   "source": [
    "# Задача 7. Разделяй и властвуй\n",
    "num = int(input())\n",
    "print(num, num*2, num*3, num*4, num*5, sep='---')"
   ]
  },
  {
   "cell_type": "markdown",
   "metadata": {
    "id": "bcneUqgR3HOk"
   },
   "source": [
    "## 2.5 Ввод / вывод даных. Целочисленная арифметика. Часть 2"
   ]
  },
  {
   "cell_type": "code",
   "execution_count": null,
   "metadata": {
    "id": "nbr4xwsL3KoM"
   },
   "outputs": [],
   "source": [
    "# Возведение в степень\n",
    "print(2**2)\n",
    "# Важно! Оператор возведения в степень (**) является правоассоциативным (значение выражения вычисляется справа налево) в соответствии с правилами математики.\n",
    "# x**y**z == x**(y**z)\n",
    "print(2**2**3)   # сначала 2 возводим в степень 3 = 8. Второй шаг возводим 2 в степень 8."
   ]
  },
  {
   "cell_type": "code",
   "execution_count": null,
   "metadata": {
    "colab": {
     "base_uri": "https://localhost:8080/"
    },
    "executionInfo": {
     "elapsed": 8,
     "status": "ok",
     "timestamp": 1659598452851,
     "user": {
      "displayName": "Сергей Кучер",
      "userId": "06348785934949478413"
     },
     "user_tz": -180
    },
    "id": "b1gTAyRc4yUD",
    "outputId": "cc067f5d-a6da-4e0e-f67b-3caead3eb32a"
   },
   "outputs": [
    {
     "name": "stdout",
     "output_type": "stream",
     "text": [
      "3\n",
      "-4\n"
     ]
    }
   ],
   "source": [
    "# Целочисленное деление / Деление нацело. Программа округлит результат в МЕНЬШУЮ сторону\n",
    "# Для положительных чисел оператор целочисленного деления ведёт себя как обычное деление, за исключением того, что он отбрасывает десятичную часть результата.\n",
    "print(10//3)   # рузультат будет 3. То-есть число 3 в числе 10 есть 3 раза. Остаток от данного дейсвия - цифра 1. 10 = 3*3(ищем это число) + 1\n",
    "# При делении отрицательных чисел необходимо помнить, что результат целочисленного деления не превосходит частное. Другими словами, округление берётся в МЕНЬШУЮ сторону (число -4 меньше, чем -3)\n",
    "print(-10//3)  # результыт будет -4. То-есть программа округлит значение до меньшего целого."
   ]
  },
  {
   "cell_type": "code",
   "execution_count": null,
   "metadata": {
    "id": "B3nR2PiP8S0f"
   },
   "outputs": [],
   "source": [
    "# Деление с остатком / Деление по остатку\n",
    "# Оператор деления с остатком возвращает остаток от деления двух целых чисел.\n",
    "print(10%3)  # результат будет цифра 1. 10 = 3*3 + 1(ищем это число)\n",
    "# При нахождении остатка от деления на целое число \"n\" может получиться результат 0,1,2,...n-1. Например, при делении на 2 возможны остатки 0,1; при делении на 3 - 0,1,2.\n",
    "# Результатом деления n%m при n<m будет n.\n",
    "print(5%9)  # результат будет цифра 5"
   ]
  },
  {
   "cell_type": "code",
   "execution_count": null,
   "metadata": {
    "id": "aprznEqUm-Lt"
   },
   "outputs": [],
   "source": [
    "# Обработка цифр числа\n",
    "# При помощи операции нахождения остатка и целочисленного деления можно достаточно несложно вычислить любую цифру числа.\n",
    "num = 19\n",
    "a = num % 10   # Находим последнюю цифру\n",
    "b = num // 10  # Находим первую цифру\n",
    "# Последняя цифра числа определяется всегда как остаток от деления числа на 10 - %10\n",
    "# Чтобы отщепить последнюю цифру от числа, необходимо разделить его нацело на 10 - //10"
   ]
  },
  {
   "cell_type": "code",
   "execution_count": null,
   "metadata": {
    "id": "DuIgjP56wDUo"
   },
   "outputs": [],
   "source": [
    "# Программа получения цифр трёхзначного числа\n",
    "num = 859\n",
    "poslednee = num % 10          # Убираем 8 и 5. Оставляем 9\n",
    "srednee = (num % 100) // 10   # Сначала в скобках убираем 8, остаётся 59. Вторым действием убираем 9. Остаётся 5.\n",
    "pervoe = num // 100           # Убираем 5 и 9. Оставляем 8"
   ]
  },
  {
   "cell_type": "code",
   "execution_count": null,
   "metadata": {
    "id": "9aTbHIZHxJCf"
   },
   "outputs": [],
   "source": [
    "# Алгоритм получение n-значного числа\n",
    "(num % 10**1) // 10**0  # Последняя цифра\n",
    "(num % 10**2) // 10**1  # Предпоследняя цифра\n",
    "(num % 10**3) // 10**2  # Предпредпоследняя цифра\n",
    "(num % 10**(n-1)) // 10**(n-2)  # Вторая цифра\n",
    "(num % 10**n) // 10**(n-1)      # Первая цифра"
   ]
  },
  {
   "cell_type": "code",
   "execution_count": null,
   "metadata": {
    "id": "zMkmp7UbzVli"
   },
   "outputs": [],
   "source": [
    "# Задача 0. Напишите программу, которая печатает число, образованное при перестановке цифр ДВУЗНАЧНОГО числа.\n",
    "num = int(input())\n",
    "last_digit = num % 10\n",
    "first_digit = num // 10\n",
    "print('Искомое число =', last_digit*10 + first_digit)"
   ]
  },
  {
   "cell_type": "code",
   "execution_count": null,
   "metadata": {
    "id": "qjLcxMHR5ISz"
   },
   "outputs": [],
   "source": [
    "# Задача 1. Геометрическая прогрессия\n",
    "# Геометрическая прогрессия - последовательность чисел b1,b2,...bn каждое из которых начиная с b2 получается из предыдущего умножением на одно и тоже постоянное число q.\n",
    "# bn = b(n-1) * q\n",
    "b1 = int(input())\n",
    "q = int(input())\n",
    "n = int(input())\n",
    "print(b1*(q**(n-1)))"
   ]
  },
  {
   "cell_type": "code",
   "execution_count": null,
   "metadata": {
    "id": "2-iTBAF37DrD"
   },
   "outputs": [],
   "source": [
    "# Задача 2. Расстояние в метрах\n",
    "santim = int(input())\n",
    "print(santim//100)      # находим сколько целых метров в заданном количестве сантиметров"
   ]
  },
  {
   "cell_type": "code",
   "execution_count": null,
   "metadata": {
    "id": "zhiZxwa872rU"
   },
   "outputs": [],
   "source": [
    "# Задача 3. Мандарины\n",
    "kol_scoolboy = int(input())\n",
    "kol_mandarin = int(input())\n",
    "print(kol_mandarin//kol_scoolboy)  # взяли полное количество мандарин на каждого школьника\n",
    "print(kol_mandarin%kol_scoolboy)   # взяли остаток мандарин после разделения мандарин на всех школьников"
   ]
  },
  {
   "cell_type": "code",
   "execution_count": null,
   "metadata": {
    "id": "BdnCGyF6cPtw"
   },
   "outputs": [],
   "source": [
    "# Задача 4. Сама неотвратимость. Необходимо найти половину от заданного числа с округлением в бОльшую сторону\n",
    "naselenie = int(input())\n",
    "polovina_plus_1 = naselenie//2 + naselenie%2  # сначала находим целое число после определения чётности. Затем - остаток от чётности. Сложение данных выражений и будет округлить в большую сторону.\n",
    "print(polovina_plus_1)"
   ]
  },
  {
   "cell_type": "code",
   "execution_count": null,
   "metadata": {
    "id": "OnAGkATFe0e1"
   },
   "outputs": [],
   "source": [
    "# Задача 5. Номер купе. Какое купе исходя из номера. Округлить в большую сторону.\n",
    "# ВАЖНО!\n",
    "nomer_mesta = int(input())\n",
    "nomer_kupe = -nomer_mesta//4  # Округляем по 4. При этом найдём меньшее значение. Применяем отрицательный знак чтобы найти меньшее\n",
    "print(-nomer_kupe)            # Переводим отрицательное меньшее значение в плюсовое значение"
   ]
  },
  {
   "cell_type": "code",
   "execution_count": null,
   "metadata": {
    "id": "ZWcvAg1ulVd5"
   },
   "outputs": [],
   "source": [
    "# Задача 5. Пересчёт временного интервала\n",
    "minutes_in = int(input())\n",
    "hours = minutes_in//60          # находим целое количество часов в заданном количестве минут\n",
    "minutes = minutes_in%60         # находим остаток минут после нахождение количества часов\n",
    "print(minutes_in, 'мин - это', hours, 'час', minutes, 'минут.')"
   ]
  },
  {
   "cell_type": "code",
   "execution_count": null,
   "metadata": {
    "id": "urNzOzxkzyel"
   },
   "outputs": [],
   "source": [
    "# Задача 6. Трёхзначное число. Найти сумму и произведение чисел\n",
    "digit_initial = int(input())\n",
    "digit_1 = digit_initial // 100          # первое число\n",
    "digit_3 = digit_initial % 10            # последнее\n",
    "digit_2 = (digit_initial % 100) // 10   # серднее\n",
    "print('Сумма цифр =', digit_1 + digit_2 + digit_3)\n",
    "print('Произведение цифр =', digit_1 * digit_2 * digit_3)"
   ]
  },
  {
   "cell_type": "code",
   "execution_count": null,
   "metadata": {
    "id": "edKUL0Vp2Cc-"
   },
   "outputs": [],
   "source": [
    "# Задача 7. Перестановка цифр. Двузначное число\n",
    "abc = int(input())\n",
    "a = abc // 100          # первое число\n",
    "b = (abc % 100) // 10   # серднее\n",
    "c = abc % 10            # последнее\n",
    "print(a, b, c, sep='')\n",
    "print(a, c, b, sep='')\n",
    "print(b, a, c, sep='')\n",
    "print(b, c, a, sep='')\n",
    "print(c, a, b, sep='')\n",
    "print(c, b, a, sep='')"
   ]
  },
  {
   "cell_type": "code",
   "execution_count": null,
   "metadata": {
    "id": "cnGSWDVE3_aD"
   },
   "outputs": [],
   "source": [
    "# Задача 8. Четырёхзначное число\n",
    "digit = int(input())\n",
    "d1 = digit // 1000\n",
    "d2 = (digit % 1000) // 100\n",
    "d3 = (digit % 100) // 10\n",
    "d4 = digit % 10\n",
    "print('Цифра в позиции тысяч равна', d1)\n",
    "print('Цифра в позиции сотен равна', d2)\n",
    "print('Цифра в позиции десятков равна', d3)\n",
    "print('Цифра в позиции единиц равна', d4)"
   ]
  },
  {
   "cell_type": "markdown",
   "metadata": {
    "id": "vmdmBw3ICqGc"
   },
   "source": [
    "## 2.6 Ввод / вывод даных. Итоговая работа на ввод-вывод данных"
   ]
  },
  {
   "cell_type": "code",
   "execution_count": null,
   "metadata": {
    "id": "Fxsu33EGCtGb"
   },
   "outputs": [],
   "source": [
    "# Звездный прямоугольник\n",
    "print('*****************')\n",
    "print('*               *')\n",
    "print('*               *')\n",
    "print('*****************')"
   ]
  },
  {
   "cell_type": "code",
   "execution_count": null,
   "metadata": {
    "id": "wzlGAJSRoL20"
   },
   "outputs": [],
   "source": [
    "# Сумма квадратов VS квадрат суммы\n",
    "a = int(input())\n",
    "b = int(input())\n",
    "print('Квадрат суммы', a, 'и', b, 'равен', (a+b)**2)\n",
    "print('Сумма квадратов', a, 'и', b, 'равна', a**2 + b**2)"
   ]
  },
  {
   "cell_type": "code",
   "execution_count": null,
   "metadata": {
    "id": "bAOEXUMApTe0"
   },
   "outputs": [],
   "source": [
    "# Большое число\n",
    "a = int(input())\n",
    "b = int(input())\n",
    "c = int(input())\n",
    "d = int(input())\n",
    "print(a**b + c**d)"
   ]
  },
  {
   "cell_type": "code",
   "execution_count": null,
   "metadata": {
    "id": "1IESMNozp9Jz"
   },
   "outputs": [],
   "source": [
    "# Размножжение n-ок\n",
    "n = int(input())\n",
    "print(n + n*11 + n*111)"
   ]
  },
  {
   "cell_type": "markdown",
   "metadata": {
    "id": "bLL3hfIBRusj"
   },
   "source": [
    "# 4. Условный оператор"
   ]
  },
  {
   "cell_type": "markdown",
   "metadata": {
    "id": "oJEBIldYxzy5"
   },
   "source": [
    "## 4.1 Условный оператор. Выбор из двух "
   ]
  },
  {
   "cell_type": "code",
   "execution_count": null,
   "metadata": {
    "id": "Y04DGsUpyAHR"
   },
   "outputs": [],
   "source": [
    "# В Python существует несколько способов проверки, и в каждом случае возможны два исхода: истина (True) или ложь (False).\n",
    "# Проверка условий и принятие решений по результатам этой проверки называется ветвлением (branching). Программа таким способом выбирает, по какой из возможных ветвей ей двигаться дальше.\n",
    "# Двоеточие (:) в конце строки с инструкцией if сообщает интерпретатору Python, что дальше находится блок команд.\n",
    "# В блок команд входят все строки с отступом под строкой с инструкцией if, вплоть до следующей строки без отступа.\n",
    "# Если условие истинно, выполняется весь расположенный ниже блок. В предыдущем примере блок инструкций составляет третья и четвёртая строки программы.\n",
    "# Блоком кода называют объединённые друг с другом строки. Они всегда связаны с определённой частью программы (например, с инструкцией if). В Python блоки кода формируются при помощи отступов.\n",
    "# Для того, чтобы обеспечить возможность выполнять что-либо, если условие оказалось ложным, мы используем ключевое слово else\n",
    "answer = input('Какой язык программирования мы изучаем?')\n",
    "if answer == 'Python':\n",
    "    print('Верно! Мы ботаем Python =)')\n",
    "else:\n",
    "    print('Не совсем так!')"
   ]
  },
  {
   "cell_type": "code",
   "execution_count": null,
   "metadata": {
    "id": "gv9fzXB86bPB"
   },
   "outputs": [],
   "source": [
    "# Отступы\n",
    "# В Python ОТСТУПЫ неотъемлемая часть кода. Именно отступ сообщает интерпретатору Python, где начинается и где заканчивается блок кода.\n",
    "# Отступ — небольшое смещение строки кода вправо. В начале такой строки находятся пробелы, и поэтому она на несколько символов отстоит от левого края.\n",
    "# По соглашению PEP 8, для отступа блоков кода используются 4 пробела."
   ]
  },
  {
   "cell_type": "code",
   "execution_count": null,
   "metadata": {
    "id": "5tDcvemL7LqP"
   },
   "outputs": [],
   "source": [
    "# Операторы сравнения\n",
    "# Не стоит путать оператор присваивания (=) с условным оператором (==).\n",
    "# Путаница с операторами == и = является одной из самых распространенных ошибок в программировании. Эти символы используются не только в Python, и каждый день множество программистов используют их неправильно.\n",
    "# В Python существует 6 основных операторов сравнения.\n",
    "# >, >=, <, <=, ==, !=\n",
    "num1 = int(input())\n",
    "num2 = int(input())\n",
    "if num1 < num2:\n",
    "    print(num1, 'меньше чем', num2)\n",
    "if num1 > num2:\n",
    "    print(num1, 'больше чем', num2)\n",
    "if num1 == num2:                    \n",
    "    print(num1, 'равно', num2)\n",
    "if num1 != num2:\n",
    "    print(num1, 'не равно', num2)"
   ]
  },
  {
   "cell_type": "code",
   "execution_count": null,
   "metadata": {
    "id": "4jnPbAnQ8Zo9"
   },
   "outputs": [],
   "source": [
    "# Цепочки сравнений\n",
    "# Операторы сравнения в Python можно объединять в цепочки\n",
    "age = int(input('Укажите Ваш возраст и нажмите Enter: '))\n",
    "if 0 <= age <= 2:\n",
    "    print('Вы - младенец')\n",
    "if 2 < age <= 10:\n",
    "  print('Вы - ребёнок')\n",
    "if 10 < age <= 18:\n",
    "  print('Вы - подросток')\n",
    "if 18 < age <= 49:\n",
    "  print('Вы - взрослый')\n",
    "if age > 49:\n",
    "  print('Вы - старик')"
   ]
  },
  {
   "cell_type": "code",
   "execution_count": null,
   "metadata": {
    "id": "9vmazgSI-NL5"
   },
   "outputs": [],
   "source": [
    "# Транзитивность\n",
    "# Операция равенства (==) является транзитивной.\n",
    "# Если a == b и b == c, то из этого следует, что a == c.\n",
    "# Операция неравенства (!=), в отличие от операции равенства (==), является нетранзитивной\n",
    "# Из того, что a != b и b != c,вовсе не следует, что a != c"
   ]
  },
  {
   "cell_type": "code",
   "execution_count": null,
   "metadata": {
    "id": "yHaNMJ0a_CPx"
   },
   "outputs": [],
   "source": [
    "# Задача 1. Проверить правильное ли слово вводится\n",
    "word = input()\n",
    "if word == 'Python':     # Python - это слово, которое является верным для ввода\n",
    "    print('ДА')\n",
    "else:\n",
    "    print('НЕТ')"
   ]
  },
  {
   "cell_type": "code",
   "execution_count": null,
   "metadata": {
    "id": "mq7Z5n1-_qln"
   },
   "outputs": [],
   "source": [
    "# Задача 2. Проверка равенства двух чисел в составе одного двузначного числа\n",
    "num = int(input())\n",
    "digit1 = num // 10              # первая цифра числа\n",
    "digit2 = num % 10               # вторая цифра числа\n",
    "if digit1 == digit2:\n",
    "    print('ДА')\n",
    "else:\n",
    "    print('НЕТ')"
   ]
  },
  {
   "cell_type": "code",
   "execution_count": null,
   "metadata": {
    "id": "fYEu6o97Am--"
   },
   "outputs": [],
   "source": [
    "# Задача 3. Напишите программу, которая считывает три числа и подсчитывает количество чётных чисел.\n",
    "num1, num2, num3 = int(input()), int(input()), int(input())\n",
    "counter = 0                # переменная счётчик\n",
    "if num1 % 2 == 0:\n",
    "    counter = counter + 1  # увеличиваем счётчик на 1 если условие выполнено\n",
    "if num2 % 2 == 0:\n",
    "    counter = counter + 1  # увеличиваем счётчик на 1 если условие выполнено\n",
    "if num3 % 2 == 0:\n",
    "    counter = counter + 1  # увеличиваем счётчик на 1 если условие выполнено\n",
    "print(\"Количество чётных чисел:\", counter)"
   ]
  },
  {
   "cell_type": "code",
   "execution_count": null,
   "metadata": {
    "id": "rUSIej3oE7GM"
   },
   "outputs": [],
   "source": [
    "# Задача 4. Пароль. Проверить корректность введения пароля 2 раза\n",
    "password_firts_time = input()\n",
    "password_second_time = input()\n",
    "if password_firts_time == password_second_time:\n",
    "  print('Пароль принят')\n",
    "else:\n",
    "  print('Пароль не принят. Программа закончена')"
   ]
  },
  {
   "cell_type": "code",
   "execution_count": null,
   "metadata": {
    "id": "Aal99a8IFrAU"
   },
   "outputs": [],
   "source": [
    "# Задача 5. Чётное или нечётное?\n",
    "num = int(input())\n",
    "if num % 2 == 0:\n",
    "  print('Четное')\n",
    "else:\n",
    "  print('Нечетное')"
   ]
  },
  {
   "cell_type": "code",
   "execution_count": null,
   "metadata": {
    "id": "sNahjnvnGGAr"
   },
   "outputs": [],
   "source": [
    "# Задача 6. Соотношение. Проверить, что для заданного четырехзначного числа выполняется следующее соотношение: сумма первой и последней цифр равна разности второй и третьей цифр.\n",
    "num = input()\n",
    "if (int(num[0]) + int(num[3])) == (int(num[1]) - int(num[2])):\n",
    "  print('ДА')\n",
    "else:\n",
    "  print('НЕТ')"
   ]
  },
  {
   "cell_type": "code",
   "execution_count": null,
   "metadata": {
    "id": "4KtsX5T6IFHO"
   },
   "outputs": [],
   "source": [
    "# Задача 7. Роскомнадзор. Напишите программу, которая определяет, разрешен пользователю доступ к интернет-ресурсу или нет.\n",
    "age = int(input())\n",
    "if age>= 18:\n",
    "  print('Доступ разрешен')\n",
    "else:\n",
    "  print('Доступ запрещен')"
   ]
  },
  {
   "cell_type": "code",
   "execution_count": null,
   "metadata": {
    "id": "Yy0Uh7PiI3mP"
   },
   "outputs": [],
   "source": [
    "# Задача 7. Арифметическая прогрессия. Напишите программу, которая определяет, являются ли три заданных числа (в указанном порядке) последовательными членами арифметической прогрессии.\n",
    "num1, num2, num3 = int(input()), int(input()), int(input())\n",
    "if (num3 - num2) == (num2 - num1):   # в арифметической прогресии каждое последующее число должно увеличиваться на постоянное число. Соответственно разница между третим-вторым должна быть равна разнице между вторым-первым \n",
    "  print('YES')\n",
    "else:\n",
    "  print('NO')"
   ]
  },
  {
   "cell_type": "code",
   "execution_count": null,
   "metadata": {
    "id": "uBE-T1-iK15r"
   },
   "outputs": [],
   "source": [
    "# Задача 8. Наименьшее из двух чисел\n",
    "num1, num2 = int(input()), int(input())\n",
    "if num1<num2:\n",
    "  print(num1)\n",
    "else:\n",
    "  print(num2)"
   ]
  },
  {
   "cell_type": "code",
   "execution_count": null,
   "metadata": {
    "id": "-2pwOSMiLsqy"
   },
   "outputs": [],
   "source": [
    "# Задача 9. Наименьшее из четырёх чисел\n",
    "num1, num2, num3, num4 = int(input()), int(input()), int(input()), int(input())\n",
    "if num1 > num2:\n",
    "  num1 = num2\n",
    "if num3 > num4:\n",
    "  num3 = num4\n",
    "if num1 > num3:\n",
    "  num1 = num3\n",
    "print(num1)"
   ]
  },
  {
   "cell_type": "code",
   "execution_count": null,
   "metadata": {
    "id": "e04rVWt1Qt-o"
   },
   "outputs": [],
   "source": [
    "# Задача 10. Возрастная группа\n",
    "age = int(input())\n",
    "if 0 <= age <= 13:\n",
    "  print('детство')\n",
    "if 14 <= age <= 24:\n",
    "  print('молодость')\n",
    "if 25 <= age <= 59:\n",
    "  print('зрелость')\n",
    "if 60 <= age:\n",
    "  print('старость')"
   ]
  },
  {
   "cell_type": "code",
   "execution_count": null,
   "metadata": {
    "id": "d5Sv9gF2SF7u"
   },
   "outputs": [],
   "source": [
    "# Задача 11. Только +. Напишите программу, которая считывает три числа и подсчитывает сумму только положительных чисел.\n",
    "num1, num2, num3 = int(input()), int(input()), int(input())\n",
    "if num1 > 0:  \n",
    "  a = num1       # создаём новую переменную если условие выполняется (она положительная)\n",
    "else:\n",
    "  a = 0          # новая переменная останется равно нулю, если первая цифра не удовлетворяет условию (меньше нуля / отрицательная цифра)\n",
    "if num2 > 0:\n",
    "  a = a + num2   # к новой переменной добавляем вторую цифру, если условие выполняется (она положительная)\n",
    "if num3 > 0:\n",
    "  a = a + num3   # к новой переменной добавляем третью цифру, если условие выполняется (она положительная)\n",
    "print(a)"
   ]
  },
  {
   "cell_type": "markdown",
   "metadata": {
    "id": "blUU1Vn64__7"
   },
   "source": [
    "## 4.2 Условный оператор. Логические операции"
   ]
  },
  {
   "cell_type": "code",
   "execution_count": null,
   "metadata": {
    "id": "iogz0j9q5HST"
   },
   "outputs": [],
   "source": [
    "# В Python есть три логических оператора, которые позволяют создавать сложные условия:\n",
    "# and - логическое умножение\n",
    "# or - логическое сложение\n",
    "# not - логическог отрицание"
   ]
  },
  {
   "cell_type": "code",
   "execution_count": null,
   "metadata": {
    "id": "AsLDm-9g5hOU"
   },
   "outputs": [],
   "source": [
    "# Логическое умножение and\n",
    "# Оно означает, что в ветвлении блок кода выполняется только при выполнении обоих условий одновременно!\n",
    "# Логическое выражение X and Y истинно, если оба значения X и Y истинны.\n",
    "# Оба оператора, and и or, вычисляются по укороченной схеме.\n",
    "age = int(input('Сколько вам лет?: '))\n",
    "grade = int(input('В каком классе вы учитесь?: '))\n",
    "city = input('В каком городе вы живете?: ')\n",
    "if age >= 12 and grade >= 7 and city == 'Москва':\n",
    "    print('Доступ разрешен.')\n",
    "else:\n",
    "    print('Доступ запрещен.')\n",
    "#   Таблица истинности:\n",
    "#   a       b     a and b\n",
    "#  False   False   False   \n",
    "#  True    False   False \n",
    "#  False   True    False\n",
    "#  True    True    True"
   ]
  },
  {
   "cell_type": "code",
   "execution_count": null,
   "metadata": {
    "id": "5f-aGtrb7OAc"
   },
   "outputs": [],
   "source": [
    "# Логическое сложение or\n",
    "# Для выполнения блока кода достаточно выполнения хотя бы одного из условий.\n",
    "# Логическое выражение X or Y истинно, если хотя бы одно из значений X и Y истинно.\n",
    "# Оба оператора, and и or, вычисляются по укороченной схеме.\n",
    "age = int(input('Сколько вам лет?: '))\n",
    "grade = int(input('В каком классе вы учитесь?: '))\n",
    "city = input('В каком городе вы живете?: ')\n",
    "if age >= 12 or grade >= 7 or city == 'Москва':\n",
    "    print('Доступ разрешен.')\n",
    "else:\n",
    "    print('Доступ запрещен.')\n",
    "#   Таблица истинности:\n",
    "#   a       b     a or b\n",
    "#  False   False   False   \n",
    "#  True    False   True \n",
    "#  False   True    True\n",
    "#  True    True    True"
   ]
  },
  {
   "cell_type": "code",
   "execution_count": null,
   "metadata": {
    "id": "fBoyceQW8LS0"
   },
   "outputs": [],
   "source": [
    "# Мы можем использовать оба логических оператора одновременно:\n",
    "age = int(input('Сколько вам лет?: '))\n",
    "grade = int(input('В каком классе вы учитесь?: '))\n",
    "city = input('В каком городе вы живете?: ')\n",
    "if age >= 12 and grade >= 7 and (city == 'Москва' or city == 'Санкт-Петербург'):\n",
    "    print('Доступ разрешен.')\n",
    "else:\n",
    "    print('Доступ запрещен.')"
   ]
  },
  {
   "cell_type": "code",
   "execution_count": null,
   "metadata": {
    "id": "SUGstFUd8VvD"
   },
   "outputs": [],
   "source": [
    "# Логическое отрицание not\n",
    "# Оператор not позволяет инвертировать (т.е. заменить на противоположный) результат логического выражения.\n",
    "age = int(input('Сколько вам лет?: '))\n",
    "if not (age < 12):\n",
    "    print('Доступ разрешен.')\n",
    "else:\n",
    "    print('Доступ запрещен.')\n",
    "#   Таблица истинности:\n",
    "#   a      not a\n",
    "#  False   True \n",
    "#  True    False"
   ]
  },
  {
   "cell_type": "code",
   "execution_count": null,
   "metadata": {
    "id": "Gjr1-BV687Ak"
   },
   "outputs": [],
   "source": [
    "# Приоритеты логических операторов\n",
    "# В первую очередь выполняется логическое отрицание - not\n",
    "# Далее выполняется логическое умножение            - and\n",
    "# Далее выполняется логическое сложение             - or\n",
    "# Для явного указания порядка выполнения условных операторов используют скобки."
   ]
  },
  {
   "cell_type": "code",
   "execution_count": null,
   "metadata": {
    "id": "9KzHdInSB2T1"
   },
   "outputs": [],
   "source": [
    "# Задача 1. Напишите программу, которая определяет, является ли заданное натуральное число трёхзначным.\n",
    "num = int(input())\n",
    "if 100 <= num <= 999:                           # num >= 100 and num <= 999\n",
    "    print('Число является трёхзначным')\n",
    "else:\n",
    "    print('Число не является трёхзначным')"
   ]
  },
  {
   "cell_type": "code",
   "execution_count": null,
   "metadata": {
    "id": "NBfeqacOCA50"
   },
   "outputs": [],
   "source": [
    "# Задача 2. Напишите программу, которая проверяет, что все три цифры натурального трёхзначного числа различны.\n",
    "num = int(input())\n",
    "num3 = num % 10                              # Находим последнее число\n",
    "num2 = (num % 100) // 10                     # Находим среднее число\n",
    "num1 = num // 100                            # Находим первое число\n",
    "if num3 != num2 and num3 != num1 and num2 != num1:\n",
    "    print('Цифры различны')\n",
    "else:\n",
    "    print('Цифры не различны')"
   ]
  },
  {
   "cell_type": "code",
   "execution_count": null,
   "metadata": {
    "id": "UFYtQJ0jJ6uH"
   },
   "outputs": [],
   "source": [
    "# Задача 3. Напишите программу, которая по координатам точки, не лежащей на осях координат, определяет номер координатной четверти, в которой она находится.\n",
    "x = int(input())\n",
    "y = int(input())\n",
    "if x > 0 and y > 0:\n",
    "    print('1 четверть')\n",
    "if x < 0 and y > 0:\n",
    "    print('2 четверть')\n",
    "if x < 0 and y < 0:\n",
    "    print('3 четверть')\n",
    "if x > 0 and y < 0:\n",
    "    print('4 четверть')"
   ]
  },
  {
   "cell_type": "code",
   "execution_count": null,
   "metadata": {
    "id": "LOszzylwKVh4"
   },
   "outputs": [],
   "source": [
    "# Задача 4. Принадлежность 1. Напишите программу, которая принимает целое число x и определяет, принадлежит ли данное число указанному промежутку.\n",
    "x = int(input())\n",
    "if x > -1 and x < 17:\n",
    "  print('Принадлежит')\n",
    "else:\n",
    "  print('Не принадлежит')"
   ]
  },
  {
   "cell_type": "code",
   "execution_count": null,
   "metadata": {
    "id": "PnabpYAl5IE2"
   },
   "outputs": [],
   "source": [
    "# Задача 5. Принадлежность 2.\n",
    "x = int(input())\n",
    "if x <= -3 or x >= 7:\n",
    "  print('Принадлежит')\n",
    "else:\n",
    "  print('Не принадлежит')"
   ]
  },
  {
   "cell_type": "code",
   "execution_count": null,
   "metadata": {
    "id": "ZF96iX8A6jWu"
   },
   "outputs": [],
   "source": [
    "# Задача 6. Принадлежность 3.\n",
    "x = int(input())\n",
    "if x > -30 and x <= -2 or x > 7 and x <= 25:\n",
    "  print('Принадлежит')\n",
    "else:\n",
    "  print('Не принадлежит')"
   ]
  },
  {
   "cell_type": "code",
   "execution_count": null,
   "metadata": {
    "id": "XFDuU-1X7XAe"
   },
   "outputs": [],
   "source": [
    "# Задача 7. Красивое число. Назовем число красивым, если оно является четырехзначным и делится нацело на 77 или на 1717. Напишите программу\n",
    "num = int(input())\n",
    "if (num % 7 == 0 or num % 17 == 0) and 1000 <= num <= 9999:\n",
    "  print('YES')\n",
    "else:\n",
    "  print('NO')"
   ]
  },
  {
   "cell_type": "code",
   "execution_count": null,
   "metadata": {
    "id": "fUg_6HPi9hYY"
   },
   "outputs": [],
   "source": [
    "# Задача 8. Неравенство треугольника. Напишите программу, которая принимает три положительных числа и определяет, существует ли невырожденный треугольник с такими сторонами.\n",
    "a, b, c = int(input()), int(input()), int(input())\n",
    "if a < (c + b) and b < (a + c) and c < (a + b):\n",
    "  print('YES')\n",
    "else:\n",
    "  print('NO')"
   ]
  },
  {
   "cell_type": "code",
   "execution_count": null,
   "metadata": {
    "id": "BaIUnvntAxr8"
   },
   "outputs": [],
   "source": [
    "# Задача 9. Високосный год\n",
    "year = int(input())\n",
    "if year % 400 == 0 or year % 4 == 0 and year % 100 !=0:\n",
    "  print('YES')\n",
    "else:\n",
    "  print('NO')"
   ]
  },
  {
   "cell_type": "code",
   "execution_count": null,
   "metadata": {
    "id": "HwUROSjRBdoQ"
   },
   "outputs": [],
   "source": [
    "# Задача 10. Ход ладьи. Напишите программу, которая определяет, может ли ладья попасть с первой клетки на вторую одним ходом.\n",
    "# Ладья ходит строго по вертикали или по горизонтали. Это значит, что одна из координат после хода останется прежней\n",
    "col1, row1, col2, row2 = int(input()), int(input()), int(input()), int(input())\n",
    "if col1 == col2 or row1 == row2:\n",
    "  print('YES')\n",
    "else:\n",
    "  print('NO')"
   ]
  },
  {
   "cell_type": "code",
   "execution_count": null,
   "metadata": {
    "id": "VSOtqhZdubFb"
   },
   "outputs": [],
   "source": [
    "# Задача 11. Ход короля.\n",
    "# Шахматный король ходит по горизонтали, вертикали и диагонали, но только на 1 клетку.\n",
    "col1, row1, col2, row2 = int(input()), int(input()), int(input()), int(input())\n",
    "if (col2 + row2 - 2) <= (col1 + row1) <= (col2 + row2 + 2) and (col1 - 1) <= col2 <= (col1 + 1) and (row1 - 1) <= row2 <= (row1 + 1):\n",
    "# Условия были подобраны исходя из возможных ходов. Все 3 условия обязательны!\n",
    "# Первое условие-сумма координат не больше чем на 2 и не меньше чем на 2 суммы исходных.Ограничивает диапазон 1 хода в любую из сторон.Данного условия недостаточно.Так как сумма может быть верной,но координаты совсем дальние.\n",
    "# Второе уловие - ограничение по движению максимум на 1 единицу по колонке вверх или вниз.\n",
    "# Третье условие - ограничение по движению максимум на 1 единицу по ряду вправо или влево.\n",
    "  print('YES')\n",
    "else:\n",
    "  print('NO')"
   ]
  },
  {
   "cell_type": "markdown",
   "metadata": {
    "id": "QLwJ8zed7-vf"
   },
   "source": [
    "## 4.3 Условный оператор. Вложенные и каскадные условия"
   ]
  },
  {
   "cell_type": "code",
   "execution_count": null,
   "metadata": {
    "id": "Zyxs6Ctq8HbG"
   },
   "outputs": [],
   "source": [
    "# Вложенный условный оператор\n",
    "# Внутри условного оператора можно использовать любые инструкции языка Python, в том числе и условный оператор.\n",
    "# Получаем вложенное ветвление: после одной развилки в ходе исполнения программы появляется другая развилка.\n",
    "# При этом вложенные блоки имеют больший размер отступа (+4 пробела для каждого следующего уровня).\n",
    "# Заключительный блок else в операторе if-elif-else является необязательным"
   ]
  },
  {
   "cell_type": "code",
   "execution_count": null,
   "metadata": {
    "id": "1dnVlrVw-iSE"
   },
   "outputs": [],
   "source": [
    "grade = int(input('Введите вашу отметку по 100-балльной системе: '))\n",
    "if grade >= 90:\n",
    "    print(5)\n",
    "else:\n",
    "    if grade >= 80:\n",
    "        print(4)\n",
    "    else:\n",
    "        if grade >= 70: \n",
    "            print(3)\n",
    "        else:\n",
    "            if grade >= 60:\n",
    "                print(2)\n",
    "            else:\n",
    "                print(1)"
   ]
  },
  {
   "cell_type": "code",
   "execution_count": null,
   "metadata": {
    "id": "MFx4mjFr-r8z"
   },
   "outputs": [],
   "source": [
    "# Каскадный условный оператор\n",
    "# Если требуется проверить несколько условий, в языке Python используется каскадный условный оператор.\n",
    "# if условие1:\n",
    "#    блок кода\n",
    "# elif условие2:\n",
    "#    блок кода\n",
    "# ...\n",
    "# else:\n",
    "#    блок кода\n",
    "# При исполнении такого условного оператора сначала проверяется условие 1. Если оно является истинным, то исполняется блок кода, который следует сразу после него, вплоть до выражения elif.\n",
    "# Остальная часть конструкции игнорируется.\n",
    "# Однако если условие 1 является ложным, то программа перескакивает непосредственно к следующему выражению elif и проверяет условие 2.\n",
    "# Если оно истинное, то исполняется блок кода, который следует сразу после него, вплоть до следующего выражения elif. И остальная часть условного оператора тогда игнорируется.\n",
    "# Этот процесс продолжается до тех пор, пока не будет найдено условие, которое является истинным, либо пока больше не останется выражений elif\n",
    "# Если ни одно условие не является истинным, то исполняется блок кода после выражения else."
   ]
  },
  {
   "cell_type": "code",
   "execution_count": null,
   "metadata": {
    "id": "WjtxZAytCDOY"
   },
   "outputs": [],
   "source": [
    "grade = int(input('Введите вашу отметку: '))\n",
    "if grade >= 90:\n",
    "    print(5)\n",
    "elif grade >= 80:\n",
    "    print(4)\n",
    "elif grade >= 70:\n",
    "    print(3)\n",
    "elif grade >= 60:\n",
    "    print(2)\n",
    "else:\n",
    "    print(1)"
   ]
  },
  {
   "cell_type": "code",
   "execution_count": null,
   "metadata": {
    "id": "ws4spyQyCb4n"
   },
   "outputs": [],
   "source": [
    "# Заключительный блок else в операторе if-elif-else является необязательным.\n",
    "# Последнее условие заменили с else на elif.\n",
    "grade = int(input('Введите вашу отметку: '))\n",
    "if grade >= 90:\n",
    "    print(5)\n",
    "elif grade >= 80:\n",
    "    print(4)\n",
    "elif grade >= 70:\n",
    "    print(3)\n",
    "elif grade >= 60:\n",
    "    print(2)\n",
    "elif grade < 60:\n",
    "    print(1)"
   ]
  },
  {
   "cell_type": "code",
   "execution_count": null,
   "metadata": {
    "id": "aVn6aIPjC-RH"
   },
   "outputs": [],
   "source": [
    "# Задаяа 1. Даны три целых числа. Определите, сколько среди них совпадающих. Программа должна вывести одно из чисел: 3 (если все совпадают), 2 (если два совпадает) или 0 (если все числа различны).\n",
    "# Решение через исползование ВЛОЖЕННОГО условного оператора.\n",
    "a, b, c = int(input()), int(input()), int(input())\n",
    "if a == b:\n",
    "    if b == c:\n",
    "        print(3)\n",
    "    else:\n",
    "        print(2)\n",
    "else:\n",
    "    if a == c:\n",
    "        print(2)\n",
    "    else:\n",
    "        if b == c:\n",
    "            print(2)\n",
    "        else:\n",
    "            print(0)"
   ]
  },
  {
   "cell_type": "code",
   "execution_count": null,
   "metadata": {
    "id": "Tu5Oip-PEAhd"
   },
   "outputs": [],
   "source": [
    "# Решение через исползование КАСКАДНОГО условного оператора.\n",
    "a, b, c = int(input()), int(input()), int(input())\n",
    "if a == b == c:\n",
    "    print(3)\n",
    "elif a == b != c:\n",
    "    print(2)\n",
    "elif a != b == c:\n",
    "    print(2)\n",
    "elif a == c != b:\n",
    "    print(2)\n",
    "else:\n",
    "    print(0)"
   ]
  },
  {
   "cell_type": "code",
   "execution_count": null,
   "metadata": {
    "id": "zdgIGu4REhxN"
   },
   "outputs": [],
   "source": [
    "# Решение через исползование КАСКАДНОГО условного оператора и оператора or.\n",
    "a, b, c = int(input()), int(input()), int(input())\n",
    "if a == b == c:\n",
    "    print(3)\n",
    "elif a == b != c or a != b == c or a == c != b:\n",
    "    print(2)\n",
    "else:\n",
    "    print(0)"
   ]
  },
  {
   "cell_type": "code",
   "execution_count": null,
   "metadata": {
    "id": "_6we4YhUEq3T"
   },
   "outputs": [],
   "source": [
    "# Задача 2. Гонка спидстеров.\n",
    "speed_zoom, speed_flash = int(input()), int(input())\n",
    "if speed_zoom > speed_flash:\n",
    "  print('NO')\n",
    "elif speed_zoom < speed_flash:\n",
    "  print('YES')\n",
    "elif speed_zoom == speed_flash:\n",
    "  print('Don\\'t know')"
   ]
  },
  {
   "cell_type": "code",
   "execution_count": null,
   "metadata": {
    "id": "lb0od8B5F1AT"
   },
   "outputs": [],
   "source": [
    "# Задача 3. Вид треугольника. Напишите программу, которая принимает три положительных числа и определяет вид треугольника, длины сторон которого равны введенным числам.\n",
    "l1, l2, l3 = int(input()), int(input()), int(input())\n",
    "if l1 == l2 == l3:                        # равносторонний - все строны равны\n",
    "  print('Равносторонний')\n",
    "elif l1 == l2 or l1 == l3 or l2 == l3:    # равнобедренный - две стороны равны между собой\n",
    "  print('Равнобедренный')\n",
    "else:\n",
    "  print('Разносторонний')"
   ]
  },
  {
   "cell_type": "code",
   "execution_count": null,
   "metadata": {
    "id": "M6ARGgERHaW4"
   },
   "outputs": [],
   "source": [
    "# Задача 4. Среднее число. Даны три различных целых числа. Напишите программу, которая находит среднее по величине число.\n",
    "# Средним называется число, которое будет вторым, если три числа отсортировать в порядке возрастания.\n",
    "num1, num2, num3 = int(input()), int(input()), int(input())\n",
    "if num2 <= num1 <= num3 or num3 <= num1 <= num2:\n",
    "  print(num1)\n",
    "elif num1 <= num2 <= num3 or num3 <= num2 < num1:\n",
    "  print(num2)\n",
    "elif num1 <= num3 <= num2 or num2 <= num3 < num1:\n",
    "  print(num3)"
   ]
  },
  {
   "cell_type": "code",
   "execution_count": null,
   "metadata": {
    "id": "_Swo42xtNDSA"
   },
   "outputs": [],
   "source": [
    "# Задача 5. Количество дней. Дан порядковый номер месяца. Напишите программу, которая выводит на экран количество дней в этом месяце.\n",
    "month = int(input())\n",
    "if month == 1 or month == 3 or month == 5 or month == 7 or month == 8 or month == 10 or month == 12:\n",
    "  print(31)\n",
    "elif month == 2:\n",
    "  print(28)\n",
    "else:\n",
    "  print(30)"
   ]
  },
  {
   "cell_type": "code",
   "execution_count": null,
   "metadata": {
    "id": "GKJvHrOiH6My"
   },
   "outputs": [],
   "source": [
    "# Задача 5. Церемония взвешивания. Известен вес боксера-любителя (целое число). Известно, что вес таков, что боксер может быть отнесён к одной из трех весовых категорий.\n",
    "weight = int(input())\n",
    "if weight < 60:\n",
    "  print('Легкий вес')\n",
    "elif weight < 64:\n",
    "  print('Первый полусредний вес')\n",
    "elif weight < 69:\n",
    "  print('Полусредний вес')"
   ]
  },
  {
   "cell_type": "code",
   "execution_count": null,
   "metadata": {
    "id": "gL1asbX1I8CC"
   },
   "outputs": [],
   "source": [
    "# Задача 6. Самописный калькулятор. Напишите программу, которая считывает с клавиатуры два целых числа и строку.\n",
    "# Если эта строка является обозначением одной из четырёх математических операций (+, -, *, /), то выведите результат применения этой операции к введённым ранее числам, в противном случае выведите «Неверная операция».\n",
    "num1 = int(input())\n",
    "sign = input()\n",
    "num2 = int(input())\n",
    "if sign == '+':\n",
    "  print(num1 + num2)\n",
    "elif sign == '*':\n",
    "  print(num1 * num2)\n",
    "elif sign == '-':\n",
    "  print(num1 - num2)\n",
    "elif num2 == 0 and sign == '/':\n",
    "  print('На ноль делить нельзя!')\n",
    "elif sign == '/':\n",
    "  print(num1 / num2)\n",
    "elif sign != '+' and sign != '*' and sign != '-' and sign != '/':\n",
    "  print('Неверная операция')"
   ]
  },
  {
   "cell_type": "code",
   "execution_count": null,
   "metadata": {
    "id": "M3ZDQ71eMMsd"
   },
   "outputs": [],
   "source": [
    "# Задача 7. Цветовой микшер.\n",
    "color1, color2 = input(), input()\n",
    "if color1 == 'красный' and color2 == 'красный':\n",
    "  print('красный')\n",
    "elif color1 == 'желтый' and color2 == 'желтый':\n",
    "  print('желтый')\n",
    "elif color1 == 'синий' and color2 == 'синий':\n",
    "  print('синий')\n",
    "elif (color1 == 'красный' or color1 == 'синий') and (color2 == 'красный' or color2 == 'синий'):\n",
    "  print('фиолетовый')\n",
    "elif (color1 == 'красный' or color1 == 'желтый') and (color2 == 'красный' or color2 == 'желтый'):\n",
    "  print('оранжевый')\n",
    "elif (color1 == 'синий' or color1 == 'желтый') and (color2 == 'синий' or color2 == 'желтый'):\n",
    "  print('зеленый')\n",
    "else:\n",
    "  print('ошибка цвета')"
   ]
  },
  {
   "cell_type": "code",
   "execution_count": null,
   "metadata": {
    "colab": {
     "base_uri": "https://localhost:8080/"
    },
    "executionInfo": {
     "elapsed": 3605,
     "status": "ok",
     "timestamp": 1668193720022,
     "user": {
      "displayName": "Сергей Кучер",
      "userId": "06348785934949478413"
     },
     "user_tz": -180
    },
    "id": "CT9q4MtjVVZ8",
    "outputId": "880d11d8-8dc1-4173-f8ba-1c077f5885e7"
   },
   "outputs": [
    {
     "name": "stdout",
     "output_type": "stream",
     "text": [
      "31\n",
      "черный\n"
     ]
    }
   ],
   "source": [
    "# Задача 8. Цвета колеса рулетки. Напишите программу, которая считывает номер кармана и показывает, является ли этот карман зеленым, красным или черным.\n",
    "num = int(input())\n",
    "if num == 0:\n",
    "  print('зеленый')\n",
    "if 1 <= num <=10:\n",
    "  if num % 2 != 0:\n",
    "    print('красный')\n",
    "  else:\n",
    "    print('черный')\n",
    "elif 11 <= num <= 18:\n",
    "  if num % 2 !=0:\n",
    "    print('черный')\n",
    "  else:\n",
    "    print('красный')\n",
    "elif 19 <= num <= 28:\n",
    "  if num % 2 != 0:\n",
    "    print('красный')\n",
    "  else:\n",
    "    print('черный')\n",
    "elif 29 <= num <= 36:\n",
    "  if num % 2 != 0:\n",
    "    print('черный')\n",
    "  else:\n",
    "    print('красный')\n",
    "elif num < 0 or num > 36:\n",
    "  print('ошибка ввода')"
   ]
  },
  {
   "cell_type": "code",
   "execution_count": null,
   "metadata": {
    "id": "DUX1hpg-Z9Gn"
   },
   "outputs": [],
   "source": [
    "# Задача 9. Пересечение отрезков.\n",
    "# Эту задачу просто списал\n",
    "a1, b1, a2, b2 = int(input()), int(input()), int(input()), int(input())\n",
    "if a2 < a1:\n",
    "  if b2 < a1:\n",
    "    print('пустое множество')\n",
    "  elif b2 == a1:\n",
    "    print(b2)\n",
    "  elif a1 < b2 <= b1:\n",
    "    print(a1, b2)\n",
    "  elif b2 > b1:\n",
    "    print(a1, b1)\n",
    "elif a2 == a1:\n",
    "  if b2 <= b1:\n",
    "    print(a2, b2)\n",
    "  else:\n",
    "    print(a2, b1)\n",
    "elif a2 < b1:\n",
    "  if b2 <= b1:\n",
    "    print(a2, b2)\n",
    "  else:\n",
    "    print(a2, b1)\n",
    "elif a2 == b1:\n",
    "  print(a2)\n",
    "else:\n",
    "  print('пустое множество')"
   ]
  },
  {
   "cell_type": "markdown",
   "metadata": {
    "id": "Xdr8ULTGq2gG"
   },
   "source": [
    "## 4.4 Условный оператор. Задачи на программирование"
   ]
  },
  {
   "cell_type": "code",
   "execution_count": null,
   "metadata": {
    "id": "efsKt9Rdq4gN"
   },
   "outputs": [],
   "source": [
    "# Задача 1. Начало столетия. Напишите программу, которая определяет, оканчивается ли год с данным номером на два нуля. Если год оканчивается, то выведите «YES», иначе выведите «NO».\n",
    "year = int(input())\n",
    "if year % 100 == 0:\n",
    "  print('YES')\n",
    "else:\n",
    "  print('NO')"
   ]
  },
  {
   "cell_type": "code",
   "execution_count": null,
   "metadata": {
    "id": "Qpajs_2wrdVu"
   },
   "outputs": [],
   "source": [
    "# Задача 2. Шахматная доска. Заданы две клетки шахматной доски. Напишите программу, которая определяет имеют ли указанные клетки один цвет или нет.\n",
    "# Если они покрашены в один цвет, то выведите слово «YES», а если в разные цвета — то «NO».\n",
    "col1, row1, col2, row2 = int(input()), int(input()), int(input()), int(input())\n",
    "if (col1 + row1 + col2 + row2) % 2 == 0:\n",
    "  print('YES')\n",
    "else:\n",
    "  print('NO')"
   ]
  },
  {
   "cell_type": "code",
   "execution_count": null,
   "metadata": {
    "id": "2gLVMPlhsnjV"
   },
   "outputs": [],
   "source": [
    "# Задача 3. Girls only\n",
    "age, sex = int(input()), input()\n",
    "if 10 <= age <= 15 and sex == 'f':\n",
    "  print('YES')\n",
    "else:\n",
    "  print('NO')"
   ]
  },
  {
   "cell_type": "code",
   "execution_count": null,
   "metadata": {
    "id": "kCzvgJlYtbnT"
   },
   "outputs": [],
   "source": [
    "# Задача 4. Римские цифры.\n",
    "num = int(input())\n",
    "if num < 1 or num > 10:\n",
    "  print('ошибка')\n",
    "elif num == 1:\n",
    "  print('I')\n",
    "elif num == 2:\n",
    "  print('II')\n",
    "elif num == 3:\n",
    "  print('III')\n",
    "elif num == 4:\n",
    "  print('IV')\n",
    "elif num == 5:\n",
    "  print('V')\n",
    "elif num == 6:\n",
    "  print('VI')\n",
    "elif num == 7:\n",
    "  print('VII')\n",
    "elif num == 8:\n",
    "  print('VIII')\n",
    "elif num == 9:\n",
    "  print('IX')\n",
    "elif num == 10:\n",
    "  print('X')"
   ]
  },
  {
   "cell_type": "code",
   "execution_count": null,
   "metadata": {
    "id": "5kY1Qx1bubXK"
   },
   "outputs": [],
   "source": [
    "# Задача 5. YES or NO вот в чем вопрос. Напишите программу, которая принимает на вход число и в зависимости от условий выводит текст «YES», либо «NO».\n",
    "num = int(input())\n",
    "if num % 2 != 0:\n",
    "  print('YES')\n",
    "else: \n",
    "  if 2 <= num <= 5 and num % 2 == 0:\n",
    "    print('NO')\n",
    "  elif 6 <= num <= 20 and num % 2 == 0:\n",
    "    print('YES')\n",
    "  elif num % 2 == 0 and num > 20:\n",
    "    print('NO1')"
   ]
  },
  {
   "cell_type": "code",
   "execution_count": null,
   "metadata": {
    "id": "RiFW1p4UvoXp"
   },
   "outputs": [],
   "source": [
    "# Задача 6. Ход слона.\n",
    "# Слон ходит по диаганали.\n",
    "# Списал задачу\n",
    "x1, y1, x2, y2 = int(input()), int(input()), int(input()), int(input())\n",
    "dx = abs(x1 - x2)   # разница между координатами по х, взятая по модулю\n",
    "dy = abs(y1 - y2)   # разница между координатами по у, взятая по модулю\n",
    "if dx == dy:        # разница координат по модулю должна быть равна\n",
    "  print('YES')\n",
    "else:\n",
    "  print('NO')"
   ]
  },
  {
   "cell_type": "code",
   "execution_count": null,
   "metadata": {
    "id": "FTpfFNypzfxf"
   },
   "outputs": [],
   "source": [
    "# Задача 7. Ход коня.\n",
    "# Списал задачу\n",
    "x1, y1, x2, y2 = int(input()), int(input()), int(input()), int(input())\n",
    "dx = abs(x1 - x2)    # разница по координате x по модулю\n",
    "dy = abs(y1 - y2)    # разница по координате y по модулю\n",
    "if dx == 1 and dy == 2 or dx == 2 and dy == 1:  # исходя из возможных ходов коня выводится данное требование\n",
    "  print('YES')\n",
    "else:\n",
    "  print('NO')"
   ]
  },
  {
   "cell_type": "code",
   "execution_count": null,
   "metadata": {
    "id": "b2vWERCc24tZ"
   },
   "outputs": [],
   "source": [
    "# Задача 8. Ход ферзя.\n",
    "# Ферзь ходит по диаганали (как слон) + по вертикали и горизонтали (как ладья)\n",
    "x1, y1, x2, y2 = int(input()), int(input()), int(input()), int(input())\n",
    "dx = abs(x1 - x2)\n",
    "dy = abs(y1 - y2)\n",
    "if dx == dy or x1 == x2 or y1 == y2:\n",
    "  print('YES')\n",
    "else:\n",
    "  print('NO')"
   ]
  },
  {
   "cell_type": "markdown",
   "metadata": {
    "id": "TRAMDxvqRbXk"
   },
   "source": [
    "# 6. Типы данных"
   ]
  },
  {
   "cell_type": "markdown",
   "metadata": {
    "id": "1naY4ERklSyA"
   },
   "source": [
    "## 6.1 Типы данных. Числовые типы данных: int, float"
   ]
  },
  {
   "cell_type": "code",
   "execution_count": null,
   "metadata": {
    "id": "70g__9uMlajG"
   },
   "outputs": [],
   "source": [
    "# Целочисленный тип данных - int\n",
    "# Целые числа в Python представлены типом данных int (сокращение int происходит от слова integer). \n",
    "# Для определения целого числа типа int используется последовательность цифр от 0 до 9.\n",
    "# Явно указанное численное значение в коде программы называется целочисленным литералом.\n",
    "# Когда Python встречает целочисленный литерал, он создает объект типа int, хранящий указанное значение.\n",
    "n = 15"
   ]
  },
  {
   "cell_type": "code",
   "execution_count": null,
   "metadata": {
    "id": "HCU3lPSamrHt"
   },
   "outputs": [],
   "source": [
    "# Преобразование строки в целое число\n",
    "# Для преобразования строки в целое число мы используем команду int()\n",
    "n = int(input())      # Преобразование введённых даных через клавиатуру\n",
    "m = int('12345')      # Пробразование введённой строки в целое число\n",
    "p = int('rer43')      # Если строка не является числом, то при преобразовании возникнет ошибка"
   ]
  },
  {
   "cell_type": "code",
   "execution_count": null,
   "metadata": {
    "id": "YO4fbVaxog4h"
   },
   "outputs": [],
   "source": [
    "# Символ разделитель\n",
    "# Для удобного чтения чисел можно использовать символ подчеркивания:\n",
    "n = 25_000_000\n",
    "print(n)"
   ]
  },
  {
   "cell_type": "code",
   "execution_count": null,
   "metadata": {
    "id": "GSIXWnAqqMSt"
   },
   "outputs": [],
   "source": [
    "# Числа с плавающей точкой - float. Дробные (вещественные числа)\n",
    "# Разделитель - точка, а не запятая\n",
    "number = 3.131143\n",
    "type(number)\n",
    "# float"
   ]
  },
  {
   "cell_type": "code",
   "execution_count": null,
   "metadata": {
    "id": "oi8pnloTxV9G"
   },
   "outputs": [],
   "source": [
    "# Преобразование строки к числу с плавающей точкой\n",
    "# Для преобразования строки к числу с плавающей точкой мы используем команду float()\n",
    "num = float(input())     # Преобразование введённых даных через клавиатуру в вещественное число\n",
    "n = float('1.2345')      # Пробразование введённой строки в вещественное число\n",
    "p = int('rer43')         # Если строка не является числом, то при преобразовании возникнет ошибка"
   ]
  },
  {
   "cell_type": "code",
   "execution_count": null,
   "metadata": {
    "id": "i3Z7b3Dz2EHh"
   },
   "outputs": [],
   "source": [
    "# Преобразование между int и float\n",
    "# Любое целое число (int) можно использовать там, где ожидается число с плавающей точкой (float), поскольку при необходимости Python автоматически преобразует целые числа в числа с плавающей точкой.\n",
    "# Число с плавающей точкой нельзя неявно преобразовать в целое число. Для такого преобразования необходимо использовать явное преобразование с помощью команды int().\n",
    "num1 = 17.89\n",
    "num2 = -13.56\n",
    "num3 = int(num1)\n",
    "num4 = int(num2)\n",
    "print(num3)       # 17\n",
    "print(num4)       # -13\n",
    "# ВАЖНО! Преобразование чисел с плавающей точкой в целое производится с округлением в сторону нуля!"
   ]
  },
  {
   "cell_type": "code",
   "execution_count": null,
   "metadata": {
    "id": "devVXjyG3qm_"
   },
   "outputs": [],
   "source": [
    "# Задача 1. Площадь прямоугольного треугольника\n",
    "num1, num2 = float(input('Первая сторона, см: ')), float(input('Вторая сторона, см: '))\n",
    "print('Площадь прямоугольного треугольника составляет:', 0.5*num1*num2, 'см2')"
   ]
  },
  {
   "cell_type": "code",
   "execution_count": null,
   "metadata": {
    "id": "JxNGtwA44e6P"
   },
   "outputs": [],
   "source": [
    "# Задача 2. Две старушки\n",
    "S, V1, V2 = float(input()), float(input()), float(input())\n",
    "print(S / (V1 + V2))"
   ]
  },
  {
   "cell_type": "code",
   "execution_count": null,
   "metadata": {
    "id": "ICjk_IyQ5oQV"
   },
   "outputs": [],
   "source": [
    "# Задача 3. Обратное число. 1/n\n",
    "num = float(input())\n",
    "if num == 0:\n",
    "  print('Обратного числа не существует')\n",
    "else:\n",
    "  print(1 / num)"
   ]
  },
  {
   "cell_type": "code",
   "execution_count": null,
   "metadata": {
    "id": "ukaw17kN6bhM"
   },
   "outputs": [],
   "source": [
    "# Задача 4. 451 гардус по Фаренгейту. Перевести в Цельсии из Фаренгейта\n",
    "temp = float(input())\n",
    "print(5/9*(temp-32))"
   ]
  },
  {
   "cell_type": "code",
   "execution_count": null,
   "metadata": {
    "id": "26Iuw4Be7AqE"
   },
   "outputs": [],
   "source": [
    "# Задача 5. Dog age. Напишите программу, которая вычисляет возраст собаки в человеческих годах.\n",
    "# В течение первых двух лет собачий год равен 10.5 человеческим годам. После этого каждый год собаки равен 4 человеческим годам.\n",
    "dog_age = float(input())\n",
    "if 0 <= dog_age <= 2:\n",
    "  human_age = dog_age * 10.5\n",
    "else:\n",
    "  human_age = 21.0 + (dog_age - 2) * 4\n",
    "print(human_age)"
   ]
  },
  {
   "cell_type": "code",
   "execution_count": null,
   "metadata": {
    "id": "x92tHVBpOc5f"
   },
   "outputs": [],
   "source": [
    "# Задача 6.  Первая цифра после точки\n",
    "print(int((float(input())*10) % 10))   # Первое решение в одну строку!\n",
    "# Вводим данные через клавиатуру и преобрразуем их сразу в float - float(input())\n",
    "# Умножаем заданное число на 10 для того, чтобы сдвинуть цифру после запятой на 1 знак налево (переместить её до запятой)\n",
    "# Полученное выше число делим с остатком (%) на 10, чтобы оставить только последнюю цифру.\n",
    "# Переводим полученное вещественное число в целочисленное. При этом округление происходит в меньшую сторону."
   ]
  },
  {
   "cell_type": "code",
   "execution_count": null,
   "metadata": {
    "id": "gVvZJK9vXMCu"
   },
   "outputs": [],
   "source": [
    "# Задача 7. Дробная часть. Дано положительное действительное число. Выведите его дробную часть.\n",
    "num = float(input())\n",
    "print(num - int(num))"
   ]
  },
  {
   "cell_type": "code",
   "execution_count": null,
   "metadata": {
    "id": "hlZoFFAxZqpY"
   },
   "outputs": [],
   "source": [
    "# Функции min() и max()\n",
    "# Для определения соответственно минимального или максимального значения используются функции min() и max()\n",
    "a = max(3, 8, -3, 12, 9)\n",
    "b = min(3, 8, -3, 12, 9)\n",
    "c = max(3.14, 2.17, 9.8)\n",
    "print(a)\n",
    "print(b)\n",
    "print(c)"
   ]
  },
  {
   "cell_type": "code",
   "execution_count": null,
   "metadata": {
    "id": "kcIq1KnR4XAQ"
   },
   "outputs": [],
   "source": [
    "# Функция abs()\n",
    "# Модулем (абсолютной величиной) положительного числа называется само число, модулем отрицательного числа называется противоположное ему число, модуль нуля – нуль."
   ]
  },
  {
   "cell_type": "code",
   "execution_count": null,
   "metadata": {
    "id": "6iVoKO-b4oGY"
   },
   "outputs": [],
   "source": [
    "# Задача 8. Наибольшее и наименьшее. Напишите программу, которая находит наименьшее и наибольшее из пяти чисел.\n",
    "a, b, c, d, e = int(input()), int(input()), int(input()), int(input()), int(input())\n",
    "print('Наименьшее число =', min(a,b,c,d,e))\n",
    "print('Наибольшее число =', max(a,b,c,d,e))"
   ]
  },
  {
   "cell_type": "code",
   "execution_count": null,
   "metadata": {
    "id": "eIro7aYj5kaw"
   },
   "outputs": [],
   "source": [
    "# Задача 9. Сортировка трёх. Напишите программу, которая упорядочивает три числа от большего к меньшему.\n",
    "a, b, c = int(input()), int(input()), int(input())\n",
    "sum = a+b+c      # введём промежуточное значение суммы для дальнейших операций\n",
    "print(max(a,b,c))\n",
    "print(sum - max(a,b,c) - min(a,b,c))\n",
    "print(min(a,b,c))"
   ]
  },
  {
   "cell_type": "code",
   "execution_count": null,
   "metadata": {
    "id": "M_ov4zNI9pqp"
   },
   "outputs": [],
   "source": [
    "# Задача 10. Интересное число. Назовем число интересным, если в нем разность максимальной и минимальной цифры равняется средней по величине цифре.\n",
    "# На вход программе подается целое трехзначное число.\n",
    "num = int(input())\n",
    "n1 = num // 100\n",
    "n2 = (num % 100) // 10\n",
    "n3 = num % 10\n",
    "sum = n1 + n2 +n3\n",
    "if (max(n1,n2,n3) - min(n1,n2,n3)) == (sum - max(n1,n2,n3) - min(n1,n2,n3)):\n",
    "  print('Число интересное')\n",
    "else:\n",
    "  print('Число неинтересное')"
   ]
  },
  {
   "cell_type": "code",
   "execution_count": null,
   "metadata": {
    "id": "EjNum38otyFC"
   },
   "outputs": [],
   "source": [
    "# Задача 11. Абсолютная сумма.\n",
    "a1, a2, a3, a4, a5 = abs(float(input())), abs(float(input())), abs(float(input())), abs(float(input())), abs(float(input()))\n",
    "print(a1+a2+a3+a4+a5)"
   ]
  },
  {
   "cell_type": "code",
   "execution_count": null,
   "metadata": {
    "id": "POYmLugAy-82"
   },
   "outputs": [],
   "source": [
    "# Задача 12. Манхэттенское расстояние.\n",
    "p1, p2, q1, q2 = int(input()), int(input()), int(input()), int(input())\n",
    "print(abs(p1-q1) + abs(p2-q2))"
   ]
  },
  {
   "cell_type": "markdown",
   "metadata": {
    "id": "k-OAwa1cUd3X"
   },
   "source": [
    "## 6.2 Типы данных. Модуль math"
   ]
  },
  {
   "cell_type": "code",
   "execution_count": null,
   "metadata": {
    "id": "jas8POh2UkW_"
   },
   "outputs": [],
   "source": [
    "# В Python модулем называется библиотека функций, которую можно подключать к своим программам.\n",
    "# Модуль math – один из наиважнейших в Python. Этот модуль предоставляет обширный функционал для проведения вычислений с вещественными числами (числами с плавающей точкой).\n",
    "# Подключение модуля:\n",
    "import math\n",
    "num1 = math.sqrt(2)     # вычисление корня квадратного из двух\n",
    "num2 = math.ceil(3.8)   # округление числа вверх\n",
    "num3 = math.floor(3.8)  # округление числа вниз"
   ]
  },
  {
   "cell_type": "code",
   "execution_count": null,
   "metadata": {
    "id": "tlzvITPoVitu"
   },
   "outputs": [],
   "source": [
    "# Для того, чтобы не указывать название модуля и символ точки при вызове функций, мы пишем следующий код:\n",
    "from math import *\n",
    "num1 = sqrt(2)     # вычисление корня квадратного из двух\n",
    "num2 = ceil(3.8)   # округление числа вверх\n",
    "num3 = floor(3.8)  # округление числа вниз\n",
    "# При таком способе подключения, импортируются абсолютно все функции модуля math.\n",
    "# Если нужно использовать только некоторые функции модуля, то мы можем импортировать только их следующим образом:\n",
    "from math import sqrt, ceil"
   ]
  },
  {
   "cell_type": "code",
   "execution_count": null,
   "metadata": {
    "id": "A8hSXHbnZQTG"
   },
   "outputs": [],
   "source": [
    "# Задача 1. Евклидово расстояние.\n",
    "x1, y1, x2, y2 = float(input()), float(input()), float(input()), float(input())\n",
    "print(((x1 - x2)**2 + (y1 - y2)**2)**0.5)"
   ]
  },
  {
   "cell_type": "code",
   "execution_count": null,
   "metadata": {
    "id": "GJ0mCrwVZ4gv"
   },
   "outputs": [],
   "source": [
    "# Задача 2. Площадь и длина круга и окружности\n",
    "R = float(input())\n",
    "import math\n",
    "S = math.pi * R**2   # площадь круга\n",
    "P = 2 * math.pi * R  # длина окрежности\n",
    "print(S)\n",
    "print(P)"
   ]
  },
  {
   "cell_type": "code",
   "execution_count": null,
   "metadata": {
    "id": "2qcPu-TEbNIj"
   },
   "outputs": [],
   "source": [
    "# Задача 3. Средние значения. Программа должна вывести 4 числа – среднее арифметическое, геометрическое, гармоническое и квадратичное.\n",
    "a, b = float(input()), float(input())\n",
    "sr_a = (a + b) / 2                 # среднее арифметическое\n",
    "sr_g = (a*b) ** 0.5                # среднее геометрическое\n",
    "sr_gar = (2*a*b) / (a + b)         # среднее гармоническое\n",
    "sr_kv = ((a**2 + b**2)/ 2) ** 0.5  # среднее квадратичное\n",
    "print(sr_a)\n",
    "print(sr_g)\n",
    "print(sr_gar)\n",
    "print(sr_kv)"
   ]
  },
  {
   "cell_type": "code",
   "execution_count": null,
   "metadata": {
    "id": "_gbF_nu-dpxY"
   },
   "outputs": [],
   "source": [
    "# Задача 4. Тригонометрическое выражение\n",
    "from math import *\n",
    "x = radians(float(input()))\n",
    "print(sin(x) + cos(x) + tan(x)**2)"
   ]
  },
  {
   "cell_type": "code",
   "execution_count": null,
   "metadata": {
    "id": "WOvuVia4hZjD"
   },
   "outputs": [],
   "source": [
    "# Задача 5. Пол и потолок\n",
    "x = float(input())\n",
    "from math import *\n",
    "pol_x = floor(x)\n",
    "potolok_x = ceil(x)\n",
    "print(pol_x + potolok_x)"
   ]
  },
  {
   "cell_type": "code",
   "execution_count": null,
   "metadata": {
    "id": "fAxQ3Kn9i04C"
   },
   "outputs": [],
   "source": [
    "# Задача 6. Квадратное уравнение. Напишите программу, которая находит вещественные корни квадратного уравнения ax**2 + bx + c = 0.\n",
    "a, b, c = float(input()), float(input()), float(input())\n",
    "D = b**2 - 4 * a * c   # находим дискриминант\n",
    "if D < 0:\n",
    "  print('Нет корней')\n",
    "elif D == 0:\n",
    "  print(-b / (2*a))\n",
    "elif D > 0:\n",
    "  x1 = (-b-D**0.5)/(2*a)\n",
    "  x2 = (-b+D**0.5)/(2*a)\n",
    "  print(min(x1, x2))\n",
    "  print(max(x1, x2))"
   ]
  },
  {
   "cell_type": "code",
   "execution_count": null,
   "metadata": {
    "id": "hCj6Yg0TCL5r"
   },
   "outputs": [],
   "source": [
    "# Задача 7. Правильный многоугольник\n",
    "import math\n",
    "n, a = int(input()), float(input())\n",
    "S = (n*a**2) / (4*math.tan(math.pi/n))\n",
    "print(S)"
   ]
  },
  {
   "cell_type": "markdown",
   "metadata": {
    "id": "rj-kVGVqDbrB"
   },
   "source": [
    "## 6.3 Типы данных. Строковый тип данных"
   ]
  },
  {
   "cell_type": "code",
   "execution_count": null,
   "metadata": {
    "id": "r6mtnhqnDgEY"
   },
   "outputs": [],
   "source": [
    "# Строковый тип данных\n",
    "# В Python строковый тип данных имеет название str (сокращение от string — струна, ряд).\n",
    "# Для создания строковой переменной (литерала), мы должны заключить необходимый текст в кавычки. В Python можно использовать как одинарные кавычки, так и двойные:\n",
    "s1 = 'Python rocks!'\n",
    "s2 = \"Python rocks!\"\n",
    "# Напомним, что по умолчанию, команда input() считывает именно строку текста.\n",
    "# Для задания пустой строки, мы используем две кавычки одинакового типа:\n",
    "s1 = ''   # пустая строка\n",
    "s2 = ' '  # строка состоящая из одного символа пробела\n",
    "# Не стоит путать пустую строку и строку состоящую из одного символа пробела. Это абсолютно разные строки."
   ]
  },
  {
   "cell_type": "code",
   "execution_count": null,
   "metadata": {
    "id": "XXS9r8i1IvFf"
   },
   "outputs": [],
   "source": [
    "# Длина строки\n",
    "# Длиной строки называется количество символов из которых она состоит. Чтобы посчитать длину строки используем встроенную функцию len() (от слова length – длина).\n",
    "s1 = 'abcdef'\n",
    "length1 = len(s1)               # считаем длину строки из переменной s1\n",
    "length2 = len('Python rocks!')  # считаем длину строкового литерала\n",
    "print(length1)\n",
    "print(length2)\n",
    "# При подсчете длины строки считаются все символы, включая пробелы!"
   ]
  },
  {
   "cell_type": "code",
   "execution_count": null,
   "metadata": {
    "id": "YP2EzZzlJEjf"
   },
   "outputs": [],
   "source": [
    "# Преобразование чисел в строку\n",
    "# Для преобразования строки к числу мы использовали функции int() и float().\n",
    "# Для обратного преобразования, то есть из числа в строку мы используем функцию str()\n",
    "num1 = 1777     # целое число\n",
    "num2 = 17.77    # число с плавающей точкой\n",
    "s1 = str(num1)  # преобразовали целое число в строку '1777'\n",
    "s2 = str(num2)  # преобразовали число с плавающей точкой в строку '17.77'\n",
    "# Иногда работать со строками намного проще, чем с числами. Даже если в условии задачи сказано, что дается число, нам ничто не мешает работать с ним как со строкой."
   ]
  },
  {
   "cell_type": "code",
   "execution_count": null,
   "metadata": {
    "id": "cz6L1CgKNZa5"
   },
   "outputs": [],
   "source": [
    "# Конкатенация строк\n",
    "# Строки, как и числа, можно складывать. Операция сложения строк называется конкатенацией или сцеплением.\n",
    "s1 = 'ab' + 'bc'\n",
    "s2 = 'bc' + 'ab'\n",
    "s3 = s1 + s2 + '!!'\n",
    "print(s1)\n",
    "print(s2)\n",
    "print(s3)\n",
    "# Операция сложения строк в отличие от операции сложения чисел не является коммутативной, то есть, от перестановки мест слагаемых-строк результат меняется!"
   ]
  },
  {
   "cell_type": "code",
   "execution_count": null,
   "metadata": {
    "id": "WTgels6nUIVp"
   },
   "outputs": [],
   "source": [
    "# Умножение строки на число\n",
    "s = 'Hi' * 4\n",
    "print(s)"
   ]
  },
  {
   "cell_type": "code",
   "execution_count": null,
   "metadata": {
    "id": "f5jPAM6wUY9Y"
   },
   "outputs": [],
   "source": [
    "# Тройные кавычки в Python используются для многострочного (multiline) текста."
   ]
  },
  {
   "cell_type": "code",
   "execution_count": null,
   "metadata": {
    "id": "O5RscdKvXmp8"
   },
   "outputs": [],
   "source": [
    "# Задача 1. Три города. Даны названия трех городов. Напишите программу, которая определяет самое короткое и самое длинное название города.\n",
    "c1, c2, c3 = str(input()), str(input()), str(input())\n",
    "l_c1 = len(c1)  # определяем длину первого слова\n",
    "l_c2 = len(c2)  # определяем длину второго слова\n",
    "l_c3 = len(c3)  # определяем длину третьего слова\n",
    "p = min(l_c1, l_c2, l_c3)  # находим наименьшее значение из длин слов\n",
    "m = max(l_c1, l_c2, l_c3)  # находим наибольшее значение из длин слов\n",
    "if l_c1 == p:\n",
    "  print(c1)\n",
    "elif l_c2 == p:\n",
    "  print(c2)\n",
    "elif l_c3 == p:\n",
    "  print(c3)\n",
    "if l_c1 == m:\n",
    "  print(c1)\n",
    "elif l_c2 == m:\n",
    "  print(c2)\n",
    "elif l_c3 == m:\n",
    "  print(c3)"
   ]
  },
  {
   "cell_type": "code",
   "execution_count": null,
   "metadata": {
    "id": "aVcohAfczUyJ"
   },
   "outputs": [],
   "source": [
    "# Задача 2. Арифметические строки\n",
    "# Вводятся 3 строки в случайном порядке. Напишите программу, которая выясняет можно ли из длин этих строк построить возрастающую арифметическую прогрессию.\n",
    "a, b, c = input(), input(), input()\n",
    "la = len(a)\n",
    "lb = len(b)\n",
    "lc = len(c)\n",
    "lmax = max(la, lb, lc)\n",
    "lmin = min(la, lb, lc)\n",
    "lsred = la + lb + lc - lmax - lmin    # найти среднее значение - сумма всех трёх минус минимальное и максимальное\n",
    "if (lmax - lsred) == (lsred - lmin):\n",
    "  print('YES')\n",
    "else:\n",
    "  print('NO')"
   ]
  },
  {
   "cell_type": "code",
   "execution_count": null,
   "metadata": {
    "id": "oldirCVdXSHI"
   },
   "outputs": [],
   "source": [
    "# Оператор in\n",
    "# В Python есть специальный оператор in, который позволяет проверить, что одна строка находится внутри другой.\n",
    "# Если строка s1 содержится в строке s2, то говорят, что строка s1 является подстрокой для строки s2. Другими словами, оператор in определяет является ли одна строка подстрокой другой.\n",
    "s = input()\n",
    "if 'a' in s:\n",
    "    print('Введенная строка содержит символ а')\n",
    "else:\n",
    "    print('Введенная строка не содержит символ а')\n",
    "# Мы можем использовать оператор in вместе с логическим оператором not.\n",
    "if '.' not in s:\n",
    "    print('Введенная строка не содержит символа точки')"
   ]
  },
  {
   "cell_type": "code",
   "execution_count": null,
   "metadata": {
    "id": "Kx_fXE5jauZZ"
   },
   "outputs": [],
   "source": [
    "# Задача 3. Цвет настроения синий\n",
    "# Напишите программу, которая считывает одну строку, после чего выводит «YES», если в введенной строке есть подстрока «синий» и «NO» в противном случае.\n",
    "s = input()\n",
    "if 'синий' in s:\n",
    "  print('YES')\n",
    "else:\n",
    "  print('NO')"
   ]
  },
  {
   "cell_type": "code",
   "execution_count": null,
   "metadata": {
    "id": "9NcRBpL0bROx"
   },
   "outputs": [],
   "source": [
    "# Задача 4. Отдыхаем ли?\n",
    "# Напишите программу, которая считывает одну строку, после чего выводит «YES», если в введённой строке есть подстрока «суббота» или «воскресенье», и «NO» в противном случае.\n",
    "s = input('Укажите какой сегодня день недели:')\n",
    "if 'суббота' in s or 'воскресенье' in s:\n",
    "  print('Отдыхаем!')\n",
    "else:\n",
    "  print('Пашим!')"
   ]
  },
  {
   "cell_type": "code",
   "execution_count": null,
   "metadata": {
    "id": "6HLMqYOfbzvy"
   },
   "outputs": [],
   "source": [
    "# Задача 5. Корректный e-mail\n",
    "# Будем считать email адрес корректным, если в нем есть символ собачки (@) и точки. Напишите программу проверяющую корректность email адреса.\n",
    "s = input('Введите e-mail:')\n",
    "if '@' in s and '.' in s:\n",
    "  print('Адрес корректный. Вы - молодец!')\n",
    "else:\n",
    "  print('Адрес некорректный. Запустите программу заново!')"
   ]
  },
  {
   "cell_type": "markdown",
   "metadata": {
    "id": "sFWKOwV6RDFk"
   },
   "source": [
    "# 7. Циклы for и while"
   ]
  },
  {
   "cell_type": "markdown",
   "metadata": {
    "id": "jdHO9KnjPsIH"
   },
   "source": [
    "## 7.1 Циклы for и while. Цикл for"
   ]
  },
  {
   "cell_type": "code",
   "execution_count": null,
   "metadata": {
    "id": "PCwVj6z4P4Wv"
   },
   "outputs": [],
   "source": [
    "# В Python существует две основных разновидности циклов:\n",
    "# циклы, повторяющиеся определенное количество раз (for, счетные циклы, counting loops);\n",
    "# циклы, повторяющиеся до наступления определенного события (while, условные циклы, conditional loops).\n",
    "# Цикл for замечательно работает, если мы заранее знаем, сколько повторений (итераций) нам требуется сделать.\n",
    "# Итерация цикла - однократное выполнение тела цикла"
   ]
  },
  {
   "cell_type": "code",
   "execution_count": null,
   "metadata": {
    "id": "UMPAW66Uba4I"
   },
   "outputs": [],
   "source": [
    "# Рассмотрим код, который распечатает 10 раз слово \"Привет\":\n",
    "for i in range(10):  # 10 - количество повторений\n",
    "    print('Привет')  # Текст того, что будет выведено на экран"
   ]
  },
  {
   "cell_type": "code",
   "execution_count": null,
   "metadata": {
    "id": "o7MfTKtCJGgp"
   },
   "outputs": [],
   "source": [
    "print('Hello! You will have 3 cycles.')\n",
    "for i in range(3):\n",
    "  a = int(input('How old are you?'))\n",
    "  print(\"In 10 years you will be\", a+10, \"years old.\")\n",
    "print('End of cycle. You are lucky man!')"
   ]
  },
  {
   "cell_type": "code",
   "execution_count": null,
   "metadata": {
    "id": "Cumm1pHWbxbY"
   },
   "outputs": [],
   "source": [
    "# Структура цикла for в Python выглядит так:\n",
    "for название_переменной_цикла in range(количество повторений):\n",
    "    блок кода\n",
    "# Двоеточие (:) в конце строки с инструкцией for сообщает интерпретатору Python, что дальше находится блок команд. \n",
    "# В блок команд входят все строки, расположенные с отступом от строки с инструкцией for, вплоть до следующей строки без отступа.\n",
    "# Блок команд, который выполняется в цикле for называется телом цикла."
   ]
  },
  {
   "cell_type": "code",
   "execution_count": null,
   "metadata": {
    "id": "UDwDCMm0cL9O"
   },
   "outputs": [],
   "source": [
    "# Такая программа считывает 5 чисел и выводит на экран их квадраты вместе с поясняющей надписью.\n",
    "# Поскольку вторая и третья строки выделены отступом, Python считает, что это тело цикла, которое выполняется 5 раз.\n",
    "# Четвертая строка не содержит отступа, поэтому не является частью цикла и будет выполнена всего один раз, после того как цикл завершится.\n",
    "for i in range(5):\n",
    "    num = int(input('Введите число: '))\n",
    "    print('Квадрат вашего числа равен:', num * num)\n",
    "print('Цикл завершен')"
   ]
  },
  {
   "cell_type": "code",
   "execution_count": null,
   "metadata": {
    "id": "a7AlqcJodLaE"
   },
   "outputs": [],
   "source": [
    "print('A')\n",
    "print('B')\n",
    "for i in range(2): \n",
    "    print('C')\n",
    "    print('D') \n",
    "print('E')\n",
    "# Программа выведет на печать сначала буквы A, B, затем 2 раза С, D, и в конце Е."
   ]
  },
  {
   "cell_type": "code",
   "execution_count": null,
   "metadata": {
    "id": "3O4SS11adrnE"
   },
   "outputs": [],
   "source": [
    "# Несколько \n",
    "print('A')\n",
    "print('B')\n",
    "for i in range(3):\n",
    "    print('C')\n",
    "for i in range(3):\n",
    "    print('D')\n",
    "print('E')"
   ]
  },
  {
   "cell_type": "code",
   "execution_count": null,
   "metadata": {
    "id": "Aqv0KkjmhBS-"
   },
   "outputs": [],
   "source": [
    "# Задача 1. Python is awesome. Напишите программу, которая выводит слова «Python is awesome!» (без кавычек) 10 раз.\n",
    "for i in range(10):\n",
    "  print('Python is awesome!')"
   ]
  },
  {
   "cell_type": "code",
   "execution_count": null,
   "metadata": {
    "id": "5Htka134hRG8"
   },
   "outputs": [],
   "source": [
    "# Задача 2. Повторяй за мной 1. Дано предложение и количество раз которое его надо повторить.\n",
    "# Напишите программу, которая повторяет данное предложение нужное количество раз.\n",
    "phrase, n = input('Введите фразу, которую необходимо вывести на экран:'), int(input('Сколько раз повторить фразу:'))\n",
    "for i in range(n):\n",
    "  print(phrase)"
   ]
  },
  {
   "cell_type": "code",
   "execution_count": null,
   "metadata": {
    "id": "eh9ulTasixXa"
   },
   "outputs": [],
   "source": [
    "# Задача 3. Звездный прямоугольник.\n",
    "# Напишите программу, которая печатает звездный прямоугольник размерами n×19.\n",
    "n = int(input())\n",
    "for i in range(n):\n",
    "  print('*'*19)"
   ]
  },
  {
   "cell_type": "code",
   "execution_count": null,
   "metadata": {
    "id": "DStf07cvlxwe"
   },
   "outputs": [],
   "source": [
    "# Переменная цикла\n",
    "# Когда цикл впервые начинает работу Python устанавливает значение переменной цикла i = 0.\n",
    "# Каждый раз когда мы повторяем тело цикла Python увеличивает значение переменной на 1.\n",
    "for i in range(3):\n",
    "    print(i)"
   ]
  },
  {
   "cell_type": "code",
   "execution_count": null,
   "metadata": {
    "id": "fDrAMzE3mSWN"
   },
   "outputs": [],
   "source": [
    "for i in range(3):\n",
    "    print(i, '-- Привет')\n",
    "# Выводим на печать начиная с 0"
   ]
  },
  {
   "cell_type": "code",
   "execution_count": null,
   "metadata": {
    "id": "VFaxGacKmiAk"
   },
   "outputs": [],
   "source": [
    "for i in range(3):\n",
    "    print(i+1, '-- Привет')\n",
    "# Выводим на печать начиная с 1"
   ]
  },
  {
   "cell_type": "code",
   "execution_count": null,
   "metadata": {
    "id": "hd8XBghImvMM"
   },
   "outputs": [],
   "source": [
    "# Имена переменных цикла\n",
    "# Ранее говорилось, что имена переменных должны носить осмысленный характер и описывать их назначение. \n",
    "# Однако для переменных цикла иногда делается исключения.\n",
    "# В программировании для переменных цикла обычно используют буквы i, j, k. - Общеприянатая практика\n",
    "# Если переменная цикла не используется в теле цикла, то указывайте вместо нее символ нижнего подчеркивания _"
   ]
  },
  {
   "cell_type": "code",
   "execution_count": null,
   "metadata": {
    "id": "-gGPj9e2nwqR"
   },
   "outputs": [],
   "source": [
    "# Задача 4. Повторяй за мной 2.\n",
    "# Напишите программу, которая считывает одну строку текста и выводит 10 строк, пронумерованных от 0 до 9, каждая с указанной строкой текста.\n",
    "text = input()\n",
    "for i in range(10):\n",
    "  print(i, text)      # для нумерации с 0 - печатаем просто имя переменной"
   ]
  },
  {
   "cell_type": "code",
   "execution_count": null,
   "metadata": {
    "id": "dKJLLcqzp45X"
   },
   "outputs": [],
   "source": [
    "# Задача 5. Квадрат числа\n",
    "# Напишите программу, которая для каждого из чисел от 00 до nn (включительно) выводит фразу: «Квадрат числа [число] равен [число]» (без кавычек).\n",
    "n = int(input())\n",
    "for i in range(n+1):\n",
    "  print('Квадрат числа', i, 'равен', i*i)"
   ]
  },
  {
   "cell_type": "code",
   "execution_count": null,
   "metadata": {
    "id": "1qyoC1aWrVTV"
   },
   "outputs": [],
   "source": [
    "# Задача 6. Звёздный треугольник\n",
    "n = int(input())\n",
    "for i in range(n):    # n циклов\n",
    "  print('*'*(n - i))  # каждая последующая итерация уменьщает количество выводимых символов на число i"
   ]
  },
  {
   "cell_type": "code",
   "execution_count": null,
   "metadata": {
    "id": "ZG0G9N-js35T"
   },
   "outputs": [],
   "source": [
    "# Задача 7. Популяция.\n",
    "# m: стартовое количество организмов;\n",
    "# p: среднесуточное увеличение в %;\n",
    "# n: количество дней для размножения. \n",
    "# Напишите программу, которая предсказывает размер популяции организмов. Программа должна выводить размер популяции в каждый день, начиная с 11 и заканчивая nn-м днем.\n",
    "m, p, n = float(input()), int(input()), int(input())\n",
    "print(1, m)               # первый день. Количество организмов равно изначальному количеству. Просто выводим на печать\n",
    "for i in range(n-1):      # n дней - количество циклов и выводов данных на экран. Один день уже отобразили, поэтому минусуем его\n",
    "  m = m + m*p/100         # в блок алгоритма заводим систему подчёта увеличенного числа m. К предыдущему числу m делаем добавку с учётом процентов p.\n",
    "  print(i+2, m)           # выводим на экран день и текущее значение m уже изменённое. ВАЖНО! i+2 - нумерация на выводе уже со втрого дня!"
   ]
  },
  {
   "cell_type": "markdown",
   "metadata": {
    "id": "2VELyLCm31av"
   },
   "source": [
    "## 7.2 Циклы for и while. Цикл for: функция range"
   ]
  },
  {
   "cell_type": "code",
   "execution_count": null,
   "metadata": {
    "id": "mt1Hx8hL35XB"
   },
   "outputs": [],
   "source": [
    "# Функция range() с одним параметром\n",
    "# Позволяет генерировать последовательность чисел.\n",
    "for i in range(10):\n",
    "    print('Привет', i)\n",
    "# Значение, которое мы указываем в скобках у функции range() обозначает количество итераций цикла, при этом переменная i принимает последовательно значения: 0, 1, 2, 3, 4, 5, 6, 7, 8, 9.\n",
    "# Если быть более точным, то мы говорим, что функция range(n) генерирует последовательность чисел от 0 до n-1, а цикл for последовательно перебирает эту последовательность."
   ]
  },
  {
   "cell_type": "code",
   "execution_count": null,
   "metadata": {
    "id": "sM0QV22-FuH0"
   },
   "outputs": [],
   "source": [
    "# Перегрузка range() с двумя параметрами\n",
    "# Если мы хотим начинать последовательность не с 0, а с какого-то другого числа, то мы можем использовать перегрузку функции range() принимающую два параметра.\n",
    "# range(n): создает последовательность чисел 0, 1, 2, 3, ..., n - 1;\n",
    "# range(n, m): создает последовательность чисел n, n + 1, n + 2, ..., m - 2, m - 1.\n",
    "# Если первый параметр больше второго, то функция range() генерирует пустую последовательность.\n",
    "for i in range(1, 100):    # перебираем числа от 1 до 99\n",
    "    if i % 10 == 5:        # используем остаток от деления на 10, для получения последней цифры. Находим цифры в заданном диапазоне, которые оканчиваются на 5\n",
    "        print(i)"
   ]
  },
  {
   "cell_type": "code",
   "execution_count": null,
   "metadata": {
    "id": "NN32LxWrM9Pc"
   },
   "outputs": [],
   "source": [
    "# Перегрузка range() с 3 параметрами\n",
    "# В этом случае существует еще одна перегрузка функции range(), принимающая три параметра: range(n, m, k)\n",
    "# n - это старт последовательности (включительно)\n",
    "# m - это стоп последовательности (не включительно)\n",
    "# k - это величина шага\n",
    "# Величина шага не может равняться нулю.\n",
    "for i in range(1, 10, 2):  # от 1 до 9 с шагом 2 \n",
    "    print(i)"
   ]
  },
  {
   "cell_type": "code",
   "execution_count": null,
   "metadata": {
    "id": "9MZ7G8bbPuXZ"
   },
   "outputs": [],
   "source": [
    "# Отрцательный шаг генерации\n",
    "# Если шаг генерации является положительным числом, то генерируемая последовательность будет возрастать.\n",
    "# Если шаг генерации является отрицательным числом, то генерируемая последовательность будет убывать.\n",
    "# В случае отрицательного шага, мы должны гарантировать, что старт последовательности (первый параметр) больше чем конец последовательности (второй параметр).\n",
    "for i in range(5, 0, -1):\n",
    "    print(i, end = ' ')       # ВАЖНО! При такой команде вывод на печать в строку, без переноcа строки!\n",
    "print('Взлетаем!!!')"
   ]
  },
  {
   "cell_type": "code",
   "execution_count": null,
   "metadata": {
    "id": "SB1HRrm_SmzO"
   },
   "outputs": [],
   "source": [
    "# Задача 1. Последовательность чисел 1\n",
    "# Напишите программу, которая выводит все числа от mm до nn включительно.\n",
    "m, n = int(input()), int(input())\n",
    "for i in range(m, n+1):\n",
    "  print(i)"
   ]
  },
  {
   "cell_type": "code",
   "execution_count": null,
   "metadata": {
    "id": "NNDRzNnFTF-F"
   },
   "outputs": [],
   "source": [
    "# Задача 2. Последовательность чисел 2\n",
    "# Напишите программу, которая выводит все числа от m до n включительно в порядке возрастания, если m < n, или в порядке убывания в противном случае.\n",
    "m, n = int(input()), int(input())\n",
    "if m < n:                           # цикл в случае m < n\n",
    "  for i in range(m, n+1):           # задаём рамки. n+1, так как число n тоже надо вывести на экран\n",
    "    print(i)\n",
    "elif m > n:\n",
    "  for i in range(m, n-1, -1):       # ВАЖНО! Быть внимательным при утановке начала и конца лимита. -1 значит в обратном порядке.\n",
    "    print(i)\n",
    "else:\n",
    "  print(m)"
   ]
  },
  {
   "cell_type": "code",
   "execution_count": null,
   "metadata": {
    "id": "BTt10qyiYMXr"
   },
   "outputs": [],
   "source": [
    "# Задача 3. Последовательность чисел 3\n",
    "# Напишите программу, которая выводит все нечетные числа от m до n включительно в порядке убывания.\n",
    "# Изначально из условия принимаем, что m > n.\n",
    "m, n = int(input()), int(input())\n",
    "for i in range(m, n-1, -1):\n",
    "  if i % 2 != 0:\n",
    "    print(i)"
   ]
  },
  {
   "cell_type": "code",
   "execution_count": null,
   "metadata": {
    "id": "wTOMlTSbZIZR"
   },
   "outputs": [],
   "source": [
    "# Задача 4. Последовательность чисел 4\n",
    "# m <= n\n",
    "# Напишите программу, которая выводит все числа от m до n включительно удовлетворяющие хотя бы одному из условий:\n",
    "# число кратно 17\n",
    "# число оканчивается на 9\n",
    "# число кратно 3 и 5 одновременно\n",
    "m, n = int(input()), int(input())\n",
    "for i in range(m, n+1):\n",
    "  if i%17==0 or i%10==9 or (i%3==0 and i%5==0):\n",
    "    print(i)"
   ]
  },
  {
   "cell_type": "code",
   "execution_count": null,
   "metadata": {
    "id": "3xPeANOla8Cl"
   },
   "outputs": [],
   "source": [
    "# Задача 5. Таблица умножения.\n",
    "# Дано натуральное число n. Напишите программу, которая выводит таблицу умножения на n.\n",
    "n = int(input())\n",
    "for i in range(1, 11):         # до 10 включительно\n",
    "  print(n, 'x', i, '=', n*i)   # собираем нужный принт. Число умножения, далее переменную i по порчдку, резултат их умножения"
   ]
  },
  {
   "cell_type": "markdown",
   "metadata": {
    "id": "ue525fWmc3jK"
   },
   "source": [
    "## 7.3 Циклы for и while. Частые сценарии"
   ]
  },
  {
   "cell_type": "code",
   "execution_count": null,
   "metadata": {
    "id": "_gT4ZVNfdAJJ"
   },
   "outputs": [],
   "source": [
    "# Подсчёт количества. Счётчик counter\n",
    "# Ключ к подсчету - использование переменной счетчика.\n",
    "# Для переменной счетчика удобно использовать имя counter\n",
    "counter = 0               # заводим счётчик\n",
    "for i in range(5):        # будет 5 попыток для введения числа\n",
    "    num = int(input())    # вводим число\n",
    "    if num > 10:\n",
    "        counter = counter + 1  # cчётчик добавляется при выполнении условия\n",
    "print('Было введено', counter, 'чисел, больших 10.')"
   ]
  },
  {
   "cell_type": "code",
   "execution_count": null,
   "metadata": {
    "id": "besVqfNPkLSI"
   },
   "outputs": [],
   "source": [
    "# Посчитаем количество чисел более 10 + количество нулей среди чисел:\n",
    "counter1 = 0     # счётчик для чисел более 10\n",
    "counter2 = 0     # счётчие для нулей\n",
    "for i in range(5):\n",
    "    num = int(input())\n",
    "    if num > 10:\n",
    "        counter1 = counter1 + 1\n",
    "    if num == 0:\n",
    "        counter2 = counter2 + 1\n",
    "print('Было введено', counter1, 'чисел, больших 10.')\n",
    "print('Было введено', counter2, 'нулей.' )"
   ]
  },
  {
   "cell_type": "code",
   "execution_count": null,
   "metadata": {
    "id": "0jCUMeBmyX5O"
   },
   "outputs": [],
   "source": [
    "# Вычисление суммы и произведения\n",
    "# Напишем программу, которая считывает 5 чисел и определяет сумму тех из них, которые больше 10.\n",
    "total = 0                 # переменная сумматора\n",
    "for i in range(5):\n",
    "    num = int(input())\n",
    "    if num > 10:\n",
    "        total = total + num\n",
    "print('Сумма чисел больших 10 равна',  total)"
   ]
  },
  {
   "cell_type": "code",
   "execution_count": null,
   "metadata": {
    "id": "PSOiYZtqzUNK"
   },
   "outputs": [],
   "source": [
    "# Напишем программу, которая вычисляет сумму чисел в указанном диапазоне\n",
    "total = 0\n",
    "for i in range(1, 101):   # с числа 1 по число 100\n",
    "  total = total + i       # суммируем с total\n",
    "print(total)"
   ]
  },
  {
   "cell_type": "code",
   "execution_count": null,
   "metadata": {
    "id": "vF3dWE6T0LNy"
   },
   "outputs": [],
   "source": [
    "# Напишем программу, которая запрашвает 3 числа и в конце выводит среднее значение\n",
    "total = 0\n",
    "for i in range(3):\n",
    "  print('Попытка №', i+1, 'из 3х')\n",
    "  total = total + int(input('Введите значение: '))\n",
    "print('Среднее значение из введеных чисел:', total/3)"
   ]
  },
  {
   "cell_type": "code",
   "execution_count": null,
   "metadata": {
    "id": "gbmYD15IHoR7"
   },
   "outputs": [],
   "source": [
    "# Обмен значений переменных\n",
    "# x, y = y, x\n",
    "x = 10\n",
    "y = 1\n",
    "x, y = y, x\n",
    "print(x, y)\n",
    "# Так не работает: x = y; y = x"
   ]
  },
  {
   "cell_type": "code",
   "execution_count": null,
   "metadata": {
    "id": "z_vlvLcwIyvZ"
   },
   "outputs": [],
   "source": [
    "# Найти максимумальное значение в введённых числах\n",
    "largest = -1           # В качестве начального значения взято число -1, поскольку мы знаем, что все числа положительны, таким образом уже первое сравнение приведет к переприсваиванию.\n",
    "print('Будет найдено наибольшее из чисел после 5 вводов.')\n",
    "for i in range(5):     # 5 раз перебираем цикл\n",
    "   print('Попытка №', i+1, 'из 5-ти.')\n",
    "   num = int(input('Введите число: '))\n",
    "   if num > largest:\n",
    "        largest = num\n",
    "print('Наибольшее число из введённых Вами:', largest)"
   ]
  },
  {
   "cell_type": "code",
   "execution_count": null,
   "metadata": {
    "id": "gYMxRYsUMMzb"
   },
   "outputs": [],
   "source": [
    "# Найти минимальное значение в введённых числах\n",
    "print(\"Будеь найдено наименьшее из пяти чисел.\")\n",
    "smallest = 99999999    # В качестве начального значения взял большое положительное число\n",
    "for i in range(5):     # 5 раз перебираем цикл\n",
    "  num = int(input('Введите число: '))\n",
    "  if num < smallest:\n",
    "    smallest = num\n",
    "print('Наименьшее число из введённых Вами:', smallest)"
   ]
  },
  {
   "cell_type": "code",
   "execution_count": null,
   "metadata": {
    "id": "1ihG7ZMBhGdy"
   },
   "outputs": [],
   "source": [
    "# Задача 1. Количество чисел. На вход программе подаются два целых числа a и b. a<=b. \n",
    "# Напишите программу, которая подсчитывает количество чисел в диапазоне от a до b включительно, куб которых оканчивается на 4 или 9.\n",
    "a, b = int(input()), int(input())\n",
    "counter = 0\n",
    "for i in range(a, b+1):                    # b+1 не забывай! Включительно.\n",
    "    if i**3 % 10 == 4 or i**3 % 10 == 9:   # Возведенное в куб число оканчивается на 4 или на 9. Ищем остаток от деления на 10. Забираем последнюю цифру.\n",
    "        counter += 1\n",
    "print(counter)"
   ]
  },
  {
   "cell_type": "code",
   "execution_count": null,
   "metadata": {
    "id": "9PJbakMTRbeP"
   },
   "outputs": [],
   "source": [
    "n = str(input('ff')).split(' ')\n",
    "for i in n:\n",
    "    print(i.lower())"
   ]
  },
  {
   "cell_type": "code",
   "execution_count": null,
   "metadata": {
    "id": "vN3ibaQklVpJ"
   },
   "outputs": [],
   "source": [
    "# Задача 2. Сумма чисел. На вход программе подается натуральное число n, а затем n целых чисел, каждое на отдельной строке. \n",
    "# Напишите программу, которая подсчитывает сумму введенных чисел.\n",
    "n = int(input())\n",
    "total = 0\n",
    "for i in range(n):\n",
    "  total += int(input())\n",
    "print(total)"
   ]
  },
  {
   "cell_type": "code",
   "execution_count": null,
   "metadata": {
    "id": "IbAqJBUenBy2"
   },
   "outputs": [],
   "source": [
    "# Задача 3. Асимптотическое приближение. Списал данную задачу. Слишком много математики.\n",
    "n = int(input())\n",
    "import math\n",
    "lnn = math.log(n)\n",
    "num = 0\n",
    "for i in range(1, n+1):\n",
    "  num += 1/i\n",
    "  num2 = num - lnn\n",
    "print(num2)"
   ]
  },
  {
   "cell_type": "code",
   "execution_count": null,
   "metadata": {
    "id": "SvAmmas3spqN"
   },
   "outputs": [],
   "source": [
    "# Задача 4. Сумма чисел 2. \n",
    "# На вход программе подается натуральное число n. Напишите программу, которая подсчитывает сумму тех чисел от 1 до n (включительно) квадрат которых оканчивается на 2, 5, или 8.\n",
    "n = int(input())\n",
    "total = 0\n",
    "for i in range(1, n+1):\n",
    "  if i**2%10==2 or i**2%10==5 or i**2%10==8:\n",
    "    total += i\n",
    "print(total)"
   ]
  },
  {
   "cell_type": "code",
   "execution_count": null,
   "metadata": {
    "id": "_maq_xr82bDo"
   },
   "outputs": [],
   "source": [
    "# Задача 5. Факториал.\n",
    "# На вход программе подается натуральное число nn. Напишите программу, которая вычисляет n!\n",
    "n = int(input())\n",
    "number = 1\n",
    "for i in range (1, n+1):\n",
    "  number *= i\n",
    "print(number)"
   ]
  },
  {
   "cell_type": "code",
   "execution_count": null,
   "metadata": {
    "id": "GtvZTVoX4FKA"
   },
   "outputs": [],
   "source": [
    "# Задача 6. Без нулей.\n",
    "# Напишите программу, которая считывает 10 чисел и выводит произведение отличных от нуля чисел.\n",
    "number = 1\n",
    "for i in range(10):\n",
    "  a = int(input())\n",
    "  if a != 0:\n",
    "    number *= a\n",
    "print(number)"
   ]
  },
  {
   "cell_type": "code",
   "execution_count": null,
   "metadata": {
    "id": "1XZnPwP85gUp"
   },
   "outputs": [],
   "source": [
    "# Задача 7. Сумма делителей\n",
    "# На вход программе подается натуральное число n. Напишите программу, которая вычисляет сумму всех его делителей.\n",
    "n = int(input())\n",
    "total = 0\n",
    "for i in range(1, n+1):\n",
    "  if n%i==0:\n",
    "    total += i\n",
    "print(total)"
   ]
  },
  {
   "cell_type": "code",
   "execution_count": null,
   "metadata": {
    "id": "Zkl-tR9qACj7"
   },
   "outputs": [],
   "source": [
    "# Задача 8. Знакочередующаяся сумма.\n",
    "# На вход программе подается натуральное число n. Напишите программу вычисления знакочередующей суммы.\n",
    "n = int(input())\n",
    "total = 0\n",
    "for i in range(1, n+1):\n",
    "  total += ((-1)**(i+1))*i  # Запомнить эту формулу!\n",
    "print(total)"
   ]
  },
  {
   "cell_type": "code",
   "execution_count": null,
   "metadata": {
    "id": "iwaBEavoENf9"
   },
   "outputs": [],
   "source": [
    "# Задача 9. Наибольшие числа.\n",
    "# На вход программе подается натуральное число n, а затем n различных натуральных чисел, каждое на отдельной строке. Напишите программу, которая выводит наибольшее и второе наибольшее число последовательности.\n",
    "# Списал эту задачу\n",
    "n = int(input())\n",
    "max1, max2 = -1, -1\n",
    "for i in range(n):\n",
    "  x = int(input())\n",
    "  if x > max1:\n",
    "    max1, max2 = x, max1\n",
    "  elif x > max2:\n",
    "    max2 = x\n",
    "print(max1)\n",
    "print(max2)"
   ]
  },
  {
   "cell_type": "code",
   "execution_count": null,
   "metadata": {
    "id": "K-yMCNqLKoQ_"
   },
   "outputs": [],
   "source": [
    "# Задача 10. Only even numbers\n",
    "# Напишите программу, которая считывает последовательность из 10 целых чисел и определяет является ли каждое из них четным или нет.\n",
    "counter = 0\n",
    "for i in range(10):\n",
    "  number = int(input())\n",
    "  if number%2==0:\n",
    "    counter += 1\n",
    "if counter==10:\n",
    "  print(\"YES\")\n",
    "else:\n",
    "  print(\"NO\")"
   ]
  },
  {
   "cell_type": "code",
   "execution_count": null,
   "metadata": {
    "id": "zt8TPjpbU-rj"
   },
   "outputs": [],
   "source": [
    "# Задача 11. Последовательность Фибоначчи.\n",
    "# Напишите программу, которая считывает натуральное число n и выводит первые n чисел последовательности Фибоначчи.\n",
    "n = int(input())\n",
    "f1 = 0\n",
    "f2 = 1\n",
    "for i in range(0, n):\n",
    "    f1,f2 = f2,f1+f2\n",
    "    print(f1, end=' ')"
   ]
  },
  {
   "cell_type": "markdown",
   "metadata": {
    "id": "oFIwG2OvYofs"
   },
   "source": [
    "## 7.4 Цикл while"
   ]
  },
  {
   "cell_type": "code",
   "execution_count": null,
   "metadata": {
    "id": "GNiWcFQfY4rs"
   },
   "outputs": [],
   "source": [
    "# Иногда нужно, чтобы цикл выполнялся до наступления некоторого события, и количество итераций в этом случае заранее оценить просто невозможно.\n",
    "# Структура выглядит так:\n",
    "while условие:\n",
    "  блок кода\n",
    "# Блок команд, который выполняется в цикле называется телом цикла"
   ]
  },
  {
   "cell_type": "code",
   "execution_count": null,
   "metadata": {
    "id": "bHHiA2ijY5jk"
   },
   "outputs": [],
   "source": [
    "# Цикл for VS цикл while\n",
    "# Мы всегда можем заменить цикл for с помощью цикла while. Следующие две программы выводят числа от 0 до 100:\n",
    "# используем for\n",
    "for i in range(101):\n",
    "    print(i)\n",
    "# используем while\n",
    "i = 0\n",
    "while i < 101:\n",
    "    print(i)\n",
    "    i += 1"
   ]
  },
  {
   "cell_type": "code",
   "execution_count": null,
   "metadata": {
    "id": "Hd3a5r5ezZEz"
   },
   "outputs": [],
   "source": [
    "# Напишем программу, выводящую все числа, кратные 3, используя цикл for и while:\n",
    "# используем for\n",
    "for i in range(0, 100, 3):\n",
    "    print(i)\n",
    "# используем while\n",
    "i = 0\n",
    "while i < 100:\n",
    "    print(i)\n",
    "    i += 3"
   ]
  },
  {
   "cell_type": "code",
   "execution_count": null,
   "metadata": {
    "id": "zZfa3UfMzc7U"
   },
   "outputs": [],
   "source": [
    "# Не всегда, однако удается заменить цикл while с помощью цикла for. Если заранее не известно количество итераций, то необходимо использовать цикл while и только его."
   ]
  },
  {
   "cell_type": "code",
   "execution_count": null,
   "metadata": {
    "id": "Pd4OIunVzg4r"
   },
   "outputs": [],
   "source": [
    "# Считывание данных до стоп значения\n",
    "# Часто при решении задач на цикл while, мы считываем данные, до тех пор пока пользователь не введет некоторое значение, которое называют стоп значением. \n",
    "# Напишем программу, которая считывает числа и находит их сумму, до тех пор пока пользователь не введет слово stop.\n",
    "text = input()\n",
    "total = 0\n",
    "while text != 'stop':\n",
    "    num = int(text)\n",
    "    total += num\n",
    "    text = input()\n",
    "print('Сумма чисел равна', total)"
   ]
  },
  {
   "cell_type": "code",
   "execution_count": null,
   "metadata": {
    "id": "akb4OmVB4T7M"
   },
   "outputs": [],
   "source": [
    "# Всегда, кроме редких случаев, цикл while должен содержать возможность завершиться. То есть в цикле что-то должно сделать проверяемое условие ложным. \n",
    "# Если цикл не имеет возможности завершиться, то он называется бесконечным циклом. Бесконечный цикл продолжает повторяться до тех пор, пока программа не будет прервана. \n",
    "# Бесконечные циклы обычно появляются, когда программист забывает написать программный код внутри цикла, который делает проверяемое условие ложным. \n",
    "# В большинстве случаев следует избегать применения бесконечных циклов.\n",
    "i = 0\n",
    "total = 0\n",
    "while i < 10:\n",
    "    total += i\n",
    "# Бесконечные циклы можно использовать в связке с оператором прерывания break"
   ]
  },
  {
   "cell_type": "code",
   "execution_count": null,
   "metadata": {
    "id": "D_z0idD65til"
   },
   "outputs": [],
   "source": [
    "# Задача 1. До КОНЦА 1.\n",
    "# На вход программе подается последовательность слов, каждое слово на отдельной строке. Концом последовательности является слово «КОНЕЦ» (без кавычек). Напишите программу, которая выводит члены данной последовательности.\n",
    "word = input()\n",
    "while word != 'КОНЕЦ':\n",
    "    print(word)\n",
    "    word = input()"
   ]
  },
  {
   "cell_type": "code",
   "execution_count": null,
   "metadata": {
    "id": "sw_dQuqjAsYn"
   },
   "outputs": [],
   "source": [
    "# Задача 2. До КОНЦА 2.\n",
    "# На вход программе подается последовательность слов, каждое слово на отдельной строке. \n",
    "# Концом последовательности является слово «КОНЕЦ» или «конец» (большими или маленькими буквами, без кавычек). Напишите программу, которая выводит члены данной последовательности.\n",
    "word = input()\n",
    "while word != 'КОНЕЦ' and word != 'конец':\n",
    "    print(word)\n",
    "    word = input()"
   ]
  },
  {
   "cell_type": "code",
   "execution_count": null,
   "metadata": {
    "id": "VTcIz9fjHgrq"
   },
   "outputs": [],
   "source": [
    "# Задача 3. Количество членов.\n",
    "# На вход программе подается последовательность слов, каждое слово на отдельной строке. Концом последовательности является одно из трех слов: «стоп», «хватит», «достаточно» (маленькими буквами, без кавычек). \n",
    "# Напишите программу, которая выводит общее количество членов данной последовательности.\n",
    "word = input()\\\n",
    "counter = 0\n",
    "while word!='стоп' and word!='хватит' and word!='достаточно':\n",
    "    counter += 1\n",
    "    word = input()\n",
    "print(counter)"
   ]
  },
  {
   "cell_type": "code",
   "execution_count": null,
   "metadata": {
    "id": "BkqKvgDUlYwS"
   },
   "outputs": [],
   "source": [
    "# Задача 4. Пока делимся.\n",
    "# На вход программе подается последовательность целых чисел делящихся на 7, каждое число на отдельной строке. \n",
    "# Концом последовательности является любое число не делящееся на 7. Напишите программу, которая выводит члены данной последовательности.\n",
    "number = int(input())\n",
    "while number%7==0:\n",
    "    print(number)\n",
    "    number = int(input())"
   ]
  },
  {
   "cell_type": "code",
   "execution_count": null,
   "metadata": {
    "id": "MwkguaNYmPKq"
   },
   "outputs": [],
   "source": [
    "# Задача 5. Сумма чисел.\n",
    "# На вход программе подается последовательность целых чисел, каждое число на отдельной строке. \n",
    "# Концом последовательности является любое отрицательное число. Напишите программу, которая выводит сумму всех членов данной последовательности.\n",
    "number = int(input())\n",
    "total = 0\n",
    "while number >= 0:\n",
    "    total += number\n",
    "    number = int(input())\n",
    "print(total)"
   ]
  },
  {
   "cell_type": "code",
   "execution_count": null,
   "metadata": {
    "id": "qgSDANMhnBLb"
   },
   "outputs": [],
   "source": [
    "# Задача 6. Количество пятёрок.\n",
    "# На вход программе подается последовательность целых чисел от 1 до 5, характеризующее оценку ученика, каждое число на отдельной строке. \n",
    "# Концом последовательности является любое отрицательное число, либо число большее 5. Напишите программу, которая выводит количество пятерок.\n",
    "number = int(input())\n",
    "counter5 = 0\n",
    "while number>0 and number<=5:\n",
    "    if number == 5:\n",
    "        counter5 += 1\n",
    "    number = int(input())\n",
    "print(counter5)"
   ]
  },
  {
   "cell_type": "code",
   "execution_count": null,
   "metadata": {
    "id": "ZM-eiDAPoX1b"
   },
   "outputs": [],
   "source": [
    "# Задача 7. Ведьмаку заплатите чеканной монетой.\n",
    "# Напишите программу, которая определяет какое минимальное количество чеканных монет нужно заплатить ведьмаку. На вход программе подается одно натуральное число, цена за услугу ведьмака.\n",
    "# В мире ведьмака существуют монеты с номиналами 1, 5, 10, 25.\n",
    "# Программа должна вывести минимально возможное количество чеканных монет для оплаты.\n",
    "n = int(input())\n",
    "counter = 0\n",
    "while n>=25:\n",
    "    counter += 1\n",
    "    n = n-25\n",
    "while n>=10:\n",
    "    counter += 1\n",
    "    n = n-10\n",
    "while n>=5:\n",
    "    counter += 1\n",
    "    n = n-5\n",
    "while n>=1:\n",
    "    counter += 1\n",
    "    n = n-1\n",
    "print(counter)"
   ]
  },
  {
   "cell_type": "markdown",
   "metadata": {
    "id": "GVtMnwUYGK4V"
   },
   "source": [
    "## 7.5 Цикл while: обработка цифр числа"
   ]
  },
  {
   "cell_type": "code",
   "execution_count": null,
   "metadata": {
    "id": "Z8T1egT2GUVN"
   },
   "outputs": [],
   "source": [
    "# Пусть дано натуральное число n. Тогда:\n",
    "# результатом операции n % 10 – является последняя цифра числа;\n",
    "# результатом операции n // 10 – является число с удаленной последней цифрой."
   ]
  },
  {
   "cell_type": "code",
   "execution_count": null,
   "metadata": {
    "id": "V4eNoHr6kNaV"
   },
   "outputs": [],
   "source": [
    "# Напишем программу, которая считывает натуральное число (целое положительное) и обрабатывает его цифры.\n",
    "n = int(input())\n",
    "while n != 0:              # пока в числе есть цифры\n",
    "    last_digit = n % 10    # получить последнюю цифру\n",
    "    # код обработки последней цифры\n",
    "    n = n // 10            # удалить последнюю цифру из числа\n",
    "# В качестве процедуры обработки может быть все, что угодно: вывод цифр, нахождение суммы, произведения цифр, нахождение наибольшей или наименьшей цифры, подсчет цифр удовлетворяющих некоторому условию и т.д."
   ]
  },
  {
   "cell_type": "code",
   "execution_count": null,
   "metadata": {
    "id": "OXdN1rHYkjRk"
   },
   "outputs": [],
   "source": [
    "# Напишем программу, которая определяет есть ли в числе цифра 7.\n",
    "num = int(input())\n",
    "has_seven = False  # сигнальная метка\n",
    "while num != 0:\n",
    "    last_digit = num % 10\n",
    "    if last_digit == 7:\n",
    "        has_seven = True\n",
    "    num = num // 10\n",
    "if has_seven == True:\n",
    "    print('YES')\n",
    "else:\n",
    "    print('NO')"
   ]
  },
  {
   "cell_type": "code",
   "execution_count": null,
   "metadata": {
    "id": "nTSQnnK_hoGL"
   },
   "outputs": [],
   "source": [
    "# Задача 1. Обратный порядок 1.\n",
    "# Дано натуральное число. Напишите программу, которая выводит его цифры в столбик в обратном порядке.\n",
    "n = int(input())\n",
    "while n != 0:\n",
    "    last_digit = n%10\n",
    "    print(last_digit)  # выводим каждое число на отдельной строке\n",
    "    n = n // 10"
   ]
  },
  {
   "cell_type": "code",
   "execution_count": null,
   "metadata": {
    "id": "qGdbpikjm0Ik"
   },
   "outputs": [],
   "source": [
    "# Задача 2. Обратный порядок 2.\n",
    "# Дано натуральное число. Напишите программу, которая меняет порядок цифр числа на обратный. Программа должна вывести число, записанное в обратном порядке.\n",
    "n = int(input())\n",
    "while n != 0:\n",
    "    last_digit = n%10\n",
    "    n = n // 10\n",
    "    print(last_digit, end='')  # Очень важный момент! Выводим числа в одну строку с помощью функции end."
   ]
  },
  {
   "cell_type": "code",
   "execution_count": null,
   "metadata": {
    "id": "D52dsQ72o-SX"
   },
   "outputs": [],
   "source": [
    "# Задача 3. Max и Min.\n",
    "# Дано натуральное число n (n>=10). Напишите программу, которая определяет его максимальную и минимальную цифры. Программа должна вывести максимальную и минимальную цифры введенного числа (с поясняющей надписью).\n",
    "n = int(input())\n",
    "min_d, max_d = 9, 0\n",
    "while n !=0:\n",
    "    last_digit = n%10\n",
    "    n = n//10\n",
    "    if last_digit<min_d:\n",
    "        min_d = last_digit\n",
    "    if last_digit>max_d:\n",
    "        max_d = last_digit\n",
    "print('Максимальная цифра равна', max_d)\n",
    "print('Минимальная цифра равна', min_d)"
   ]
  },
  {
   "cell_type": "code",
   "execution_count": null,
   "metadata": {
    "id": "I5bEn05JryGd"
   },
   "outputs": [],
   "source": [
    "# Задача 4. Все вместе.\n",
    "# Дано натуральное число. Напишите программу, которая вычисляет: 1.сумму его цифр; 2.количество цифр в нем; 3.произведение его цифр; 4.среднее арифметическое его цифр; 5.его первую цифру; 6.сумму его первой и последней цифры.\n",
    "n = int(input())\n",
    "total = 0                    # для подсчёта суммы цифр\n",
    "counter = 0                  # для подсчёта количества цифр\n",
    "proizv = 1                   # для подсчёта произведения\n",
    "m = n                        # ВАЖНО! делаем копию числа\n",
    "last_digit = m%10            # последняя цифра для будущих действий\n",
    "while n != 0:\n",
    "    ld = n % 10              # последняя цифра\n",
    "    total += ld              # сумму цифр считаем\n",
    "    counter += 1             # количество цифр считаем\n",
    "    proizv *= ld             # произведение чисел\n",
    "    n = n // 10              # выкидываем последнюю цифру\n",
    "print(total)\n",
    "print(counter)\n",
    "print(proizv)\n",
    "print(total/counter)         # среднее арифметическое чисел\n",
    "while m > 0:                 # ВАЖНО! в этом блоке находим первую цифру. ВАЖНО! на входе даётся натуральное число - больше 0!\n",
    "    last_digit_m = m%10      # отбрасываем все последние цифры, пока m больше нуля, то-есть пока не останется первая слева цифра.\n",
    "    m = m // 10\n",
    "print(last_digit_m)          # по факту это первая цифра в числе, так как все остальные уже выкинули.\n",
    "print(last_digit+last_digit_m)"
   ]
  },
  {
   "cell_type": "code",
   "execution_count": null,
   "metadata": {
    "id": "1lmzf2-k39tq"
   },
   "outputs": [],
   "source": [
    "# Задача 5. Вторая цифра.\n",
    "# Дано натуральное число n (n>9). Напишите программу, которая определяет его вторую (с начала) цифру.\n",
    "n = int(input())\n",
    "while n>99:\n",
    "    last_digit = n%10\n",
    "    n = n // 10\n",
    "print(n%10)"
   ]
  },
  {
   "cell_type": "code",
   "execution_count": null,
   "metadata": {
    "id": "vb4_iSGaUwRI"
   },
   "outputs": [],
   "source": [
    "# Задача 6. Одинаковые цифры\n",
    "# Дано натуральное число. Напишите программу, которая определяет, состоит ли указанное число из одинаковых цифр.\n",
    "# На вход программе подается одно натуральное число. Программа должна вывести «YES» если число состоит из одинаковых цифр и «NO» в противном случае.\n",
    "n = int(input())\n",
    "last_number_n = n%10                   # определяем последнюю цифру числа, с которой будем сравнивать все остальные\n",
    "counter = 0                            # заводим счётчик. Отличные от заданного числа будем суммировать\n",
    "while n!=0:\n",
    "    last_number = n%10\n",
    "    if last_number != last_number_n:   # если последняя цифра не равна последней - добавляем счётчик\n",
    "        counter +=1\n",
    "    n = n//10\n",
    "if counter == 0:                       # счётчик больше 1 - есть отличные числа\n",
    "    print('YES')\n",
    "elif counter != 0:\n",
    "    print('NO')          "
   ]
  },
  {
   "cell_type": "code",
   "execution_count": null,
   "metadata": {
    "id": "eAhhkHGlZnKP"
   },
   "outputs": [],
   "source": [
    "# Задача 7. Упорядоченные цифры\n",
    "# Дано натуральное число. Напишите программу, которая определяет, является ли последовательность его цифр при просмотре справа налево упорядоченной по неубыванию.\n",
    "n = int(input())\n",
    "flag = true                        # устанавливаем флаг\n",
    "last_d = n%10                      # переманная с последним числом\n",
    "while n!=0:\n",
    "    last_n = n%10                      # задаём ещё одну переменную с последней цифрой"
   ]
  },
  {
   "cell_type": "markdown",
   "metadata": {
    "id": "LJvdo8nzOeHR"
   },
   "source": []
  },
  {
   "cell_type": "markdown",
   "metadata": {
    "id": "RJBNHk89Ofxa"
   },
   "source": [
    "## 7.6 break, continue, else"
   ]
  },
  {
   "cell_type": "code",
   "execution_count": null,
   "metadata": {
    "id": "CrBFnG5COkiy"
   },
   "outputs": [],
   "source": [
    "# Оператор прерывания цикла break\n",
    "# Иногда бывает нужно прервать выполнение цикла преждевременно. Оператор break прерывает ближайший цикл for или while."
   ]
  },
  {
   "cell_type": "code",
   "execution_count": null,
   "metadata": {
    "id": "8VLr7QzgPM7J"
   },
   "outputs": [],
   "source": [
    "# Напишем программу, использующую цикл for, которая считывает 10 чисел и суммирует их до тех пор, пока не обнаружит отрицательное число. В этом случае выполнение цикла прерывается командой break:\n",
    "result = 0               # задаём счётчик суммы\n",
    "for i in range(10):      # 10 раз прогоняем цикл\n",
    "    num = int(input())   # вводим число, которое будем суммировать\n",
    "    if num < 0:          # в том случае, если введённое число отрицательное цикл примет в работу даную ветвь\n",
    "        break            # оператор прерывания цикла\n",
    "    result += num        # обновляем счётчик2\n",
    "print(result)"
   ]
  },
  {
   "cell_type": "code",
   "execution_count": null,
   "metadata": {
    "id": "HNjDoouWQRJR"
   },
   "outputs": [],
   "source": [
    "# Напишем, программу, которая определяет, содержит ли введенное пользователем число, цифру 7.\n",
    "num = int(input())\n",
    "number = num         # копируем исходную цифру для вывода на печать\n",
    "flag = False         # заводим флаг\n",
    "while num != 0:\n",
    "    last_digit = num % 10\n",
    "    if last_digit == 7:\n",
    "        flag = True\n",
    "        break        # прерываем цикл, так как число гарантированно содержит цифру 7\n",
    "    num //= 10\n",
    "if flag == True:\n",
    "    print('Число', number, 'содержит цифру 7')\n",
    "else:\n",
    "    print('Число', number, 'не содержит цифру 7')"
   ]
  },
  {
   "cell_type": "markdown",
   "metadata": {
    "id": "SN8z1SQmQ5EE"
   },
   "source": [
    "# 13. Функции"
   ]
  },
  {
   "cell_type": "markdown",
   "metadata": {
    "id": "_e-YL-nZGCyv"
   },
   "source": [
    "## 13.1 Функции без параметров"
   ]
  },
  {
   "cell_type": "code",
   "execution_count": null,
   "metadata": {
    "id": "tuMkQeyeGI_v"
   },
   "outputs": [],
   "source": [
    "# Функция – отдельная, функционально независимая часть программы, выполняющая определенную задачу.\n",
    "# Функции часто называют подпрограммами."
   ]
  },
  {
   "cell_type": "code",
   "execution_count": null,
   "metadata": {
    "id": "6l5Kj4MyKeP2"
   },
   "outputs": [],
   "source": [
    "#Python и тут требует соблюдения тех же правил, что при именовании переменных:\n",
    "# - в имени функции используются только латинские буквы a-z, A-Z, цифры и символ нижнего подчеркивания (_);\n",
    "# - имя функции не может начинаться с цифры;\n",
    "# - имя функции по возможности должно отражать ее назначение;\n",
    "# - символы верхнего и нижнего регистра различаются.\n",
    "\n",
    "# Поскольку функции выполняют действия, большинство программистов предпочитает в именах функций использовать глаголы.\n",
    "\n",
    "# Первая строка объявления функции называется заголовком функции."
   ]
  },
  {
   "cell_type": "code",
   "execution_count": null,
   "metadata": {
    "id": "hU6IpND5GIpH"
   },
   "outputs": [],
   "source": [
    "# Простейший пример\n",
    "def draw_box():\n",
    "    for _ in range(5):\n",
    "        print('*' * 7)\n",
    "draw_box()"
   ]
  },
  {
   "cell_type": "code",
   "execution_count": null,
   "metadata": {
    "id": "2lZi4Bj-GIgP"
   },
   "outputs": [],
   "source": [
    "# Функции объявляются с помощью ключевого слова def (от слова define – определять).\n",
    "# За ключевым словом def следуют название функции, круглые скобки (), и двоеточие :\n",
    "def название_функции():\n",
    "    блок кода"
   ]
  },
  {
   "cell_type": "code",
   "execution_count": null,
   "metadata": {
    "id": "1cF01zz7GIXP"
   },
   "outputs": [],
   "source": [
    "# Не забывай вызывать функцию после её объявления\n",
    "\n",
    "# объявление функции\n",
    "def print_message():\n",
    "    print('Я - Артур,')\n",
    "# вызов функции\n",
    "print_message()"
   ]
  },
  {
   "cell_type": "code",
   "execution_count": null,
   "metadata": {
    "id": "VQmu69w1GIO_"
   },
   "outputs": [],
   "source": [
    "# Иногда, при объявлении функции требуется сделать своего рода заглушку, чтобы функция ничего не выполняла.\n",
    "# Тогда мы используем ключевое слово pass:\n",
    "def do_nothing():\n",
    "    pass\n",
    "do_nothing()"
   ]
  },
  {
   "cell_type": "code",
   "execution_count": null,
   "metadata": {
    "id": "BzsujXKdGIGH"
   },
   "outputs": [],
   "source": [
    "# Задача 1. Звездный прямоугольник 1\n",
    "# Напишите функцию draw_box(), которая выводит звездный прямоугольник с размерами 14x10\n",
    "\n",
    "def draw_box():\n",
    "    print('*' * 10)\n",
    "    for _ in range(12):\n",
    "      print('*        *')\n",
    "    print('*' * 10)\n",
    "draw_box()"
   ]
  },
  {
   "cell_type": "code",
   "execution_count": null,
   "metadata": {
    "id": "puoWnh3wGH8v"
   },
   "outputs": [],
   "source": [
    "# Задача 1. Звездный прямоугольник 1\n",
    "# Напишите функцию draw_triangle(), которая выводит звездный прямоугольный треугольник с катетами, равными 10\n",
    "# Для вывода треугольника используйте цикл for.  \n",
    "# объявление функции\n",
    "\n",
    "def draw_triangle():\n",
    "    for _ in range(1,11):\n",
    "      print('*' * _)\n",
    "draw_triangle()"
   ]
  },
  {
   "cell_type": "markdown",
   "metadata": {
    "id": "lbho_-4-WGFD"
   },
   "source": [
    "## 13.2 Функции с параметрами"
   ]
  },
  {
   "cell_type": "code",
   "execution_count": null,
   "metadata": {
    "id": "WuI_qLqCGHzP"
   },
   "outputs": [],
   "source": [
    "# Функции с параметрами объявляются так же как функции без параметров, только с указанием в скобках:\n",
    "def название_функции(параметры):\n",
    "    блок кода\n",
    "\n",
    "# Функции в Python могут принимать сколько угодно параметров."
   ]
  },
  {
   "cell_type": "code",
   "execution_count": null,
   "metadata": {
    "id": "f5U4Vj0pGHqf"
   },
   "outputs": [],
   "source": [
    "# Перепишем функцию:\n",
    "def draw_box(height, width):    # функция принимает два параметра\n",
    "    for i in range(height):\n",
    "        print('*' * width)\n",
    "draw_box(10, 70)"
   ]
  },
  {
   "cell_type": "code",
   "execution_count": null,
   "metadata": {
    "id": "BcuBBJA6GHh_"
   },
   "outputs": [],
   "source": [
    "# Параметры и аргументы функции\n",
    "def draw_box(height, width):  # height, width - параметры - параметрические переменные - формальные параметры\n",
    "    for i in range(height):\n",
    "        print('*' * width)\n",
    "draw_box(10, 70)              # 10, 70 - аргументы - фактические параметры"
   ]
  },
  {
   "cell_type": "code",
   "execution_count": null,
   "metadata": {
    "id": "B-l5UEQ0GHY_"
   },
   "outputs": [],
   "source": [
    "# Внесение изменений в параметры\n",
    "# Когда аргумент передается в функцию, параметрическая переменная функции будет ссылаться на значение этого аргумента.\n",
    "# Однако любые изменения, которые вносятся в параметрическую переменную, не будут влиять на аргумент.\n",
    "# В теле функции вносятся изменения в значения параметрических переменных height и width, однако это никак не \n",
    "# повлияло на значение переменных n и m из основной программы, которые передавались в качестве аргументов в функцию draw_box().\n",
    "\n",
    "def draw_box(height, width):\n",
    "    height = 2\n",
    "    width = 10\n",
    "    for i in range(height):\n",
    "        print('*' * width)\n",
    "n = 5\n",
    "m = 7\n",
    "draw_box(n, m)\n",
    "print(n, m)"
   ]
  },
  {
   "cell_type": "code",
   "execution_count": null,
   "metadata": {
    "id": "t_Q3VtXrhqHg"
   },
   "outputs": [],
   "source": [
    "# Задача 1. Звездный треугольник\n",
    "# Напишите функцию draw_triangle(fill, base), которая принимает два параметра:\n",
    "# fill – символ заполнитель;\n",
    "# base – величина основания равнобедренного треугольника;\n",
    "\n",
    "# объявление функции\n",
    "def draw_triangle(fill, base):\n",
    "    mean = base // 2 + 1  # находим центр треугольника - максимальное количество знаков. Нацело от 2 + 1\n",
    "    for i in range(1, mean + 1):  # диапазон от 1 до mean\n",
    "        print(fill * i)\n",
    "    while mean > 0:  # запускаем цикл на убывание\n",
    "        print(fill * (mean - 1))\n",
    "        mean -= 1\n",
    "# считываем данные\n",
    "fill = input()\n",
    "base = int(input())\n",
    "# вызываем функцию\n",
    "draw_triangle(fill, base)"
   ]
  },
  {
   "cell_type": "code",
   "execution_count": null,
   "metadata": {
    "id": "xdbNMNQIhp9g"
   },
   "outputs": [],
   "source": [
    "# Задача 2. ФИО\n",
    "# Вывести 3 первых буквы фио в верхнем регистре\n",
    "\n",
    "# объявление функции\n",
    "def print_fio(name, surname, patronymic):\n",
    "    print((surname[0] + name[0] + patronymic[0]).upper())\n",
    "# считываем данные\n",
    "name, surname, patronymic = input(), input(), input()\n",
    "# вызываем функцию\n",
    "print_fio(name, surname, patronymic)\n",
    "# print(f\"{surname[0]}{name[0]}{patronymic[0]}\".upper())"
   ]
  },
  {
   "cell_type": "code",
   "execution_count": null,
   "metadata": {
    "id": "G9vLVsnihpsQ"
   },
   "outputs": [],
   "source": [
    "# Задача 3. Сумма цифр\n",
    "# принимает одно целое число num и выводит на печать сумму его цифр.\n",
    "\n",
    "# объявление функции\n",
    "def print_digit_sum(num):\n",
    "    sp = []\n",
    "    while num>0:\n",
    "      sp.append(num%10)\n",
    "      num = num//10\n",
    "    print(sum(sp))\n",
    "# считываем данные\n",
    "n = int(input())\n",
    "# вызываем функцию\n",
    "print_digit_sum(n)\n",
    "# print(sum(int(i) for i in str(num)))"
   ]
  },
  {
   "cell_type": "markdown",
   "metadata": {
    "id": "NKt9MaKIEIT1"
   },
   "source": [
    "## 13.3 Локальные и глобальные переменные"
   ]
  },
  {
   "cell_type": "code",
   "execution_count": null,
   "metadata": {
    "id": "nRIyw0NFEKvk"
   },
   "outputs": [],
   "source": [
    "# Локальными называются переменные, объявленные внутри функции и доступные только ей самой.\n",
    "# Программный код за пределами функции к ним доступа не имеет.\n",
    "# Термин “локальная” указывает на то, что переменная может использоваться лишь в этом месте — внутри функции, в которой создается.\n",
    "\n",
    "def print_texas():\n",
    "    birds = 5000\n",
    "    print('В Техасе обитает', birds, 'птиц.')\n",
    "\n",
    "# Локальные переменные скрыты от других функций, поэтому другие функции могут иметь собственные локальные переменные с тем же именем.\n",
    "# Разные функции могут иметь локальные переменные с одинаковыми именами, потому что они не видят локальных переменных друг друга."
   ]
  },
  {
   "cell_type": "code",
   "execution_count": null,
   "metadata": {
    "id": "wJFwkbTgEMeN"
   },
   "outputs": [],
   "source": [
    "# К локальной переменной не может обращаться программный код, который появляется внутри функции до того, как переменная была создана.\n",
    "\n",
    "def print_texas():\n",
    "    print('В Техасе обитает', birds, 'птиц.')\n",
    "    birds = 5000\n",
    "# Так не работает"
   ]
  },
  {
   "cell_type": "code",
   "execution_count": null,
   "metadata": {
    "id": "0iKwnNn0EMTE"
   },
   "outputs": [],
   "source": [
    "# Область действия параметрической переменной — функция, в которой этот параметр используется.\n",
    "# К параметрической переменной имеет доступ весь программный код этой функции.\n",
    "def draw_box(height, width):\n",
    "    for i in range(height):\n",
    "        print('*' * width)"
   ]
  },
  {
   "cell_type": "code",
   "execution_count": null,
   "metadata": {
    "id": "BgAgWHR1EMIs"
   },
   "outputs": [],
   "source": [
    "# Параметрическая переменная тоже локальная"
   ]
  },
  {
   "cell_type": "code",
   "execution_count": null,
   "metadata": {
    "id": "73JnjLHxEL7k"
   },
   "outputs": [],
   "source": [
    "# Память для локальных переменных выделяется на время исполнения данной функции в специальной области, называемой стеком.\n",
    "# При завершении работы функции память освобождается, внутренние результаты работы функции не сохраняются от одного обращения к другому."
   ]
  },
  {
   "cell_type": "code",
   "execution_count": null,
   "metadata": {
    "id": "8zS_J39VELv8"
   },
   "outputs": [],
   "source": [
    "# Глобальными называются переменные, объявленные в основной программе и доступные как программе, так и всем ее функциям.\n",
    "\n",
    "birds = 5000    # глобальная переменная\n",
    "def print_texas():\n",
    "    print('В Техасе обитает', birds, 'птиц.')\n",
    "def print_california():\n",
    "    print('В Калифорнии обитает', birds, 'птиц.')\n",
    "print_texas()"
   ]
  },
  {
   "cell_type": "code",
   "execution_count": null,
   "metadata": {
    "id": "zMY0VhLeELks"
   },
   "outputs": [],
   "source": [
    "# Обмен информацией между основной программой и функциями осуществляется только с помощью параметров функций и глобальных переменных.\n",
    "# Функция может использовать любые глобальные переменные кроме имеющих те же имена, что и ее локальные переменные.\n",
    "\n",
    "# Если в функции объявлена локальная переменная с тем же именем, что у одной из глобальных, то данная глобальная переменная становится недоступной в этой функции, \n",
    "# и при указании идентификатора переменной произойдет обращение к локальной переменной функции, а не одноименной глобальной.\n",
    "\n",
    "birds = 5000   # глобальная переменная\n",
    "def print_texas():\n",
    "    birds = 1000  # локальная переменная\n",
    "    print('В Техасе обитает', birds, 'птиц.')\n",
    "def print_california():\n",
    "    birds = 7000  # локальная переменная\n",
    "    print('В Калифорнии обитает', birds, 'птиц.')"
   ]
  },
  {
   "cell_type": "code",
   "execution_count": null,
   "metadata": {
    "id": "EExrQ0YpELac"
   },
   "outputs": [],
   "source": [
    "# Глобальные переменные – зло\n",
    "# Большинство программистов согласны, что следует ограничить использование глобальных переменных либо не использовать их вообще. Причины следующие.\n",
    "\n",
    "# Глобальные переменные затрудняют отладку программы.\n",
    "# Функции, использующие глобальные переменные, обычно зависят от этих переменных.\n",
    "# Глобальные переменные затрудняют понимание программы.\n",
    "\n",
    "# В большинстве случаев следует создавать переменные локально и передавать их в качестве аргументов в функции, которым нужно к ним обратиться."
   ]
  },
  {
   "cell_type": "code",
   "execution_count": null,
   "metadata": {
    "id": "xUjAJWGLNtTm"
   },
   "outputs": [],
   "source": [
    "# Глобальные константы -  глобальное имя, ссылающееся на неизменное значение."
   ]
  },
  {
   "cell_type": "code",
   "execution_count": null,
   "metadata": {
    "id": "w6XF5eHRNuI-"
   },
   "outputs": [],
   "source": [
    "# Ключевое слово global\n",
    "# Если нужно, чтобы инструкция внутри функции присваивала значение глобальной переменной, то требуется дополнительный шаг.\n",
    "# В этом случае, глобальная переменная должна быть объявлена внутри функции.\n",
    "\n",
    "def print_texas():\n",
    "    global birds\n",
    "    birds = 5000\n",
    "    print('В Техасе обитает', birds, 'птиц.')\n",
    "def print_california():\n",
    "    print('В Калифорнии обитает', birds, 'птиц.')\n",
    "print_texas()\n",
    "print_california()"
   ]
  },
  {
   "cell_type": "code",
   "execution_count": null,
   "metadata": {
    "id": "0dRG7S_XNt-2"
   },
   "outputs": [],
   "source": [
    "# Глобальная переменная, объявленная внутри функции, изменяет значение переменной с таким же именем, независимо от того, объявлена эта переменная в основной программе ДО или ПОСЛЕ объявления функции.\n",
    "\n",
    "def print_texas():\n",
    "    global birds\n",
    "    birds = 5001\n",
    "    print('В Техасе обитает', birds, 'птиц.')\n",
    "def print_california():\n",
    "    print('В Калифорнии обитает', birds, 'птиц.')\n",
    "birds = 100\n",
    "print_texas()  # если запустить эту функцию, то переменная birds везде уже будет 5001. Если не запускать - будет 100\n",
    "print_california()\n",
    "print(birds)"
   ]
  }
 ],
 "metadata": {
  "colab": {
   "authorship_tag": "ABX9TyPzPJq6q4m55+qd7KAkr2LK",
   "collapsed_sections": [
    "qeAAQDNWSffs",
    "s1PaUeQEzGsi",
    "5S2bMPQb6Ipe",
    "Pss5hTvsWnHP",
    "bcneUqgR3HOk",
    "bLL3hfIBRusj",
    "oJEBIldYxzy5",
    "blUU1Vn64__7",
    "QLwJ8zed7-vf",
    "Xdr8ULTGq2gG",
    "TRAMDxvqRbXk",
    "1naY4ERklSyA",
    "k-OAwa1cUd3X",
    "rj-kVGVqDbrB",
    "sFWKOwV6RDFk",
    "jdHO9KnjPsIH",
    "2VELyLCm31av",
    "ue525fWmc3jK",
    "oFIwG2OvYofs",
    "GVtMnwUYGK4V",
    "RJBNHk89Ofxa",
    "SN8z1SQmQ5EE",
    "_e-YL-nZGCyv",
    "lbho_-4-WGFD",
    "NKt9MaKIEIT1"
   ],
   "provenance": []
  },
  "kernelspec": {
   "display_name": "Python 3 (ipykernel)",
   "language": "python",
   "name": "python3"
  },
  "language_info": {
   "codemirror_mode": {
    "name": "ipython",
    "version": 3
   },
   "file_extension": ".py",
   "mimetype": "text/x-python",
   "name": "python",
   "nbconvert_exporter": "python",
   "pygments_lexer": "ipython3",
   "version": "3.9.13"
  }
 },
 "nbformat": 4,
 "nbformat_minor": 1
}
