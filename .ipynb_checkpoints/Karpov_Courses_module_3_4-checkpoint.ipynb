{
 "cells": [
  {
   "cell_type": "markdown",
   "metadata": {
    "id": "wTgD5EnqFeQa"
   },
   "source": [
    "# Модуль 3 - Python"
   ]
  },
  {
   "cell_type": "markdown",
   "metadata": {
    "id": "I7HOwpZavWwR"
   },
   "source": [
    "## Lesson 001"
   ]
  },
  {
   "cell_type": "code",
   "execution_count": null,
   "metadata": {
    "id": "9xzKuUxKdEW8"
   },
   "outputs": [],
   "source": [
    "# Форматирование строки с элементами цикла\n",
    "job_years = 5\n",
    "salary = 100000\n",
    "message = 'Addition is equal {coef}. New salary is {new_salary}!'\n",
    "if job_years < 1:\n",
    "    coefficient = 0\n",
    "elif job_years >= 1 and job_years <=2:\n",
    "    coefficient = 0.2\n",
    "else:\n",
    "    coefficient = 0.4\n",
    "new_salary = salary + salary * coefficient\n",
    "print(message.format(coef=coefficient, new_salary=new_salary))"
   ]
  },
  {
   "cell_type": "code",
   "execution_count": null,
   "metadata": {
    "id": "auXyEjBRmxS1"
   },
   "outputs": [],
   "source": [
    "# Создать список из дат\n",
    "from datetime import datetime\n",
    "import pandas as pd\n",
    "dates = [date.strftime('%Y-%m-%d') for date in pd.date_range(start='2021-11-01', end='2021-11-06')]"
   ]
  },
  {
   "cell_type": "code",
   "execution_count": null,
   "metadata": {
    "id": "U_Lx0Gl_yU2N"
   },
   "outputs": [],
   "source": [
    "# Убрать мультииндексы\n",
    "df.columns = ['_'.join(col).strip() for col in df.columns.values]"
   ]
  },
  {
   "cell_type": "markdown",
   "metadata": {
    "id": "uPVTWJXCyge4"
   },
   "source": [
    "## Lesson 002"
   ]
  },
  {
   "cell_type": "code",
   "execution_count": null,
   "metadata": {
    "id": "YyLCxcrOlKZm"
   },
   "outputs": [],
   "source": [
    "# ошибку utf-8 устранить\n",
    "encoding = 'windows-1251'"
   ]
  },
  {
   "cell_type": "code",
   "execution_count": null,
   "metadata": {
    "id": "_6Xd1etDlKXD"
   },
   "outputs": [],
   "source": [
    "# Expected 1 fields in line 15, saw 2\n",
    "sep = ';'\n",
    "# это значит, что разделитель не \",\" а другой знак. Чаще всего ;"
   ]
  },
  {
   "cell_type": "code",
   "execution_count": null,
   "metadata": {
    "id": "z9EGE8wSlKN0"
   },
   "outputs": [],
   "source": [
    "# Посмотреть последние 5 записей\n",
    "df.tall()"
   ]
  },
  {
   "cell_type": "code",
   "execution_count": null,
   "metadata": {
    "id": "Iebz8TfBlKLZ"
   },
   "outputs": [],
   "source": [
    "# Посмотреть колическтво строк и колонок\n",
    "df.shape"
   ]
  },
  {
   "cell_type": "code",
   "execution_count": null,
   "metadata": {
    "id": "OlH5o96MlKJD"
   },
   "outputs": [],
   "source": [
    "# Получить список колонок\n",
    "df.columns"
   ]
  },
  {
   "cell_type": "code",
   "execution_count": null,
   "metadata": {
    "id": "FVnvSAFvlKG4"
   },
   "outputs": [],
   "source": [
    "# Выполнить группировку через groupby и сразу добавить индекс\n",
    "df.groupby('title', as_index = False).agg({'money' : 'sum'})  # , as_index = False не забывать!"
   ]
  },
  {
   "cell_type": "code",
   "execution_count": null,
   "metadata": {
    "id": "WmOoJgvZlKEl"
   },
   "outputs": [],
   "source": [
    "# Сортировать дф по колонке\n",
    "df.groupby('title', as_index = False).agg({'money' : 'sum'}).sort_values('money')  # сортируем по значениям в колонке money. По умолчанию от меньшего к большему\n",
    "sort_values('money', ascending = False)  # от большего к меньшему"
   ]
  },
  {
   "cell_type": "code",
   "execution_count": null,
   "metadata": {
    "id": "NyEYfYkDlKCI"
   },
   "outputs": [],
   "source": [
    "# Сделать код более читабельным\n",
    "df.groupby('title', as_index = False)  \\\n",
    "    .agg({'money' : 'sum'})  \\\n",
    "    .sort_values('money')"
   ]
  },
  {
   "cell_type": "code",
   "execution_count": null,
   "metadata": {
    "id": "d7YaaHJdlJ_6"
   },
   "outputs": [],
   "source": [
    "# Группировка по двум колонкам\n",
    "money_by_city = df  \\\n",
    "    .query(\"status == 'Завершен'\")                    # фильтруем по колонке статус со значением Завершен\n",
    "    .by(['title', 'city'], as_index = False)  \\  # группируем по двум колонкам\n",
    "    .agg({group'money' : 'sum'})  \\                        # аггрегируем по колонке деньги значение сумма\n",
    "    .sort_values('money')  \\                          # сортировка по значению в колонке мани от меньшего к большему\n",
    "    .rename(columns = {'numbers' : 'success_order'})  # переименовали колонку"
   ]
  },
  {
   "cell_type": "code",
   "execution_count": null,
   "metadata": {
    "id": "VLN78obqyZj4"
   },
   "outputs": [],
   "source": [
    "# Переименовать колонки\n",
    "taxi = taxi.rename(columns = {'pcp 01' : 'pcp_01', 'pcp 06' : 'pcp_06', 'pcp 24' : 'pcp_24'})"
   ]
  },
  {
   "cell_type": "code",
   "execution_count": null,
   "metadata": {
    "id": "9QHqbNZJ4YIa"
   },
   "outputs": [],
   "source": [
    "# Найти количество строк с районом Manhattan\n",
    "df2[df2['borough']=='Manhattan']"
   ]
  },
  {
   "cell_type": "code",
   "execution_count": null,
   "metadata": {
    "id": "9qiFC0zF5_gf"
   },
   "outputs": [],
   "source": [
    "# Найти количество записей через query\n",
    "taxi.query(\"borough == 'Manhattan'\").shape[0]"
   ]
  },
  {
   "cell_type": "code",
   "execution_count": null,
   "metadata": {
    "id": "pOxJxpyp9Xyf"
   },
   "outputs": [],
   "source": [
    "# А теперь сгруппируйте данные по району (borough) и укажите, из какого пункта было совершено больше всего поездок.\n",
    "df2.groupby('borough').agg({'pickups': ['sum', 'median', 'mean']})  # для каждого района показываем сумму взятия заказов\n",
    "# медиану и среднее арифметическое взял просто для интереса"
   ]
  },
  {
   "cell_type": "code",
   "execution_count": null,
   "metadata": {
    "id": "DCsr4z6q7kwi"
   },
   "outputs": [],
   "source": [
    "#https://docs.google.com/spreadsheets/d/1BJ0FBnXDBv8hG9ldDsX1W0Ztnt3ow3y1/edit?usp=sharing&ouid=112578139344017122682&rtpof=true&sd=true\n",
    "#! gdown --id 1BJ0FBnXDBv8hG9ldDsX1W0Ztnt3ow3y1\n",
    "#import pandas as pd\n",
    "#import numpy as np\n",
    "df = pd.read_excel('/content/Data.xlsx')"
   ]
  },
  {
   "cell_type": "code",
   "execution_count": null,
   "metadata": {
    "id": "F_o7W-QZ7krS"
   },
   "outputs": [],
   "source": [
    "# Группировка по двум колонкам\n",
    "PO_days_mean = df  \\\n",
    "    .query(\"Статус == 'Закрыт'\") \\\n",
    "    .groupby('Проектный офис', as_index = False)  \\\n",
    "    .agg({'срок отработки' : 'mean'})  \\\n",
    "    .sort_values('срок отработки', ascending = False)  \\\n",
    "    .rename(columns = {'срок отработки' : 'средний срок'})"
   ]
  },
  {
   "cell_type": "code",
   "execution_count": null,
   "metadata": {
    "id": "PCfneOo2BTah"
   },
   "outputs": [],
   "source": [
    "# Напишем скрипт, который будет задавать имя файла сам с датой и сохранять файл\n",
    "from datetime import datetime                       # подгрузили модуль с датой\n",
    "today_day = datetime.utcnow().strftime('%Y-%m-%d')  # создали переменную с датой текущей\n",
    "file_name = 'PO_days_mean_{}.csv'                   # создали переменную с именем файла\n",
    "file_name = file_name.format(today_day)             # форматируем строку - добавляем дату текущую\n",
    "PO_days_mean.to_csv(file_name, index = False)       # сохранили файл без индексов"
   ]
  },
  {
   "cell_type": "code",
   "execution_count": null,
   "metadata": {
    "id": "xcYnRTNs05Tu"
   },
   "outputs": [],
   "source": [
    "# parse_dates\n",
    "# Указывает, стоит ли воспринимать даты как даты? (по умолчанию они воспринимаются пандасом как строки)\n",
    "True — пытается перевести в дату первую колонку\n",
    "список колонок — пытается перевести в дату указанные в списке колонки\n",
    "pd.read_csv('path_to_your.csv', encoding='Windows-1251', sep=';', parse_dates=['create_data', 'payment_data'])\n",
    "# Указанные колонки 'create_data', 'payment_data' попытается перевести с дату"
   ]
  },
  {
   "cell_type": "code",
   "execution_count": null,
   "metadata": {
    "id": "MdK6uxYC07Vo"
   },
   "outputs": [],
   "source": [
    "# Методы vs Атрибуты\n",
    "# После названия метода идут скобки, в которых могут быть аргументы\n",
    "# После названия атрибутов скобок нет\n",
    "# Методы являются функциями, связанными с объектом. Они что-то вычисляют/сохраняют/загружают.\n",
    "# Атрибуты — сохранённые признаки, связанные с объектом. Их значение сохранено и не вычисляется при вызове.\n",
    "head() - метод\n",
    "shape  - атрибут"
   ]
  },
  {
   "cell_type": "code",
   "execution_count": null,
   "metadata": {
    "id": "BnUGW8DV07Pt"
   },
   "outputs": [],
   "source": [
    "# Размер серии / дф\n",
    "df.shape"
   ]
  },
  {
   "cell_type": "code",
   "execution_count": null,
   "metadata": {
    "id": "vYXnREpu07Nj"
   },
   "outputs": [],
   "source": [
    "# Узнать типы колонок\n",
    "df.dtypes  # он возвращает серию с описанием типа каждой колонки\n",
    "df.info()"
   ]
  },
  {
   "cell_type": "code",
   "execution_count": null,
   "metadata": {
    "id": "OzO130mN07LM"
   },
   "outputs": [],
   "source": [
    "# Переименовать колонку / строку\n",
    "# Rename columns\n",
    "df = df.rename(columns={'x': 'name', 'y': 'salary'})\n",
    "# Rename index (row names)\n",
    "df = df.rename(index={0: 'Ivanov', 1: 'Vasilev'})"
   ]
  },
  {
   "cell_type": "code",
   "execution_count": null,
   "metadata": {
    "id": "dZG5ayuM07JA"
   },
   "outputs": [],
   "source": [
    "# Разные методы для колонок дф\n",
    "product – перемножение\n",
    "std – среднеквадратичное отклонение\n",
    "var – дисперсия\n",
    "count - количество НЕ NaN\n",
    "# Больше методов тут:\n",
    "https://pandas.pydata.org/pandas-docs/stable/reference/series.html#computations-descriptive-stats"
   ]
  },
  {
   "cell_type": "code",
   "execution_count": null,
   "metadata": {
    "id": "zEz6vWlZBkv8"
   },
   "outputs": [],
   "source": [
    "# value_counts\n",
    "# Метод, который считает, сколько раз встречается каждое уникальное значение переменной.\n",
    "df['name'].value_counts()\n",
    "# Результат возвращается в формате pd.Series (серии)\n",
    "\n",
    "# ВАЖНО! dropna по умолчанию указано True. Это значит, что значения NaN не будут отображены в результате!"
   ]
  },
  {
   "cell_type": "code",
   "execution_count": null,
   "metadata": {
    "id": "yswkqVB0BkrQ"
   },
   "outputs": [],
   "source": [
    "# value_counts. Возможные параметры\n",
    "normalize – показать относительные частоты уникальных значений (по умолчанию равен False). \n",
    "dropna – не включать количество NaN (по умолчанию равен True)\n",
    "bins – сгруппировать количественную переменную (например, разбить возраст на возрастные группы); для использования данного параметра нужно указать, на сколько групп разбить переменную"
   ]
  },
  {
   "cell_type": "code",
   "execution_count": null,
   "metadata": {
    "id": "2KwCStyABko4"
   },
   "outputs": [],
   "source": [
    "df['name'].value_counts(normalize=True, dropna=False)  # показать проценты взамен количества / учесть NaN в результате\n",
    "Persik    0.4\n",
    "Tolya     0.2\n",
    "Barsik    0.2\n",
    "NaN       0.2\n",
    "Name: name, dtype: float64"
   ]
  },
  {
   "cell_type": "code",
   "execution_count": null,
   "metadata": {
    "id": "uVZl7ytLBkmM"
   },
   "outputs": [],
   "source": [
    "df['year'].value_counts(bins=2)  # Разбиваем year на 2 промежутка:\n",
    "(2017.5, 2020.0]      3\n",
    "(2014.994, 2017.5]    2\n",
    "Name: year, dtype: int64"
   ]
  },
  {
   "cell_type": "code",
   "execution_count": null,
   "metadata": {
    "id": "8ixmTiUX07Gl"
   },
   "outputs": [],
   "source": [
    "# SQL-like синтаксис\n",
    "# Метод query\n",
    "\n",
    "# одно условие\n",
    "product_data.query(\"title == 'Курс обучения «Эксперт»'\")\n",
    "\n",
    "# несколько условий\n",
    "product_data.query(\"title == 'Курс обучения «Эксперт»' and status == 'Завершен'\")  # и\n",
    "product_data.query(\"title == 'Курс обучения «Эксперт»' or status == 'Завершен'\")   # или"
   ]
  },
  {
   "cell_type": "code",
   "execution_count": null,
   "metadata": {
    "id": "4vgqwr9RV4Ew"
   },
   "outputs": [],
   "source": [
    "# STRING.REPLACE\n",
    "# Возвращает копию строки, в которой заменены все вхождения указанной строки указанным значением.\n",
    "string.replace(old, new, [maxcount])  # количество замен\n",
    "my_str = 'barbarian'\n",
    "my_str.replace('bar', 'mur')  # 'murmurian'\n",
    "my_str.replace('mur', 'bur', 1)  # 'burmurian'"
   ]
  },
  {
   "cell_type": "code",
   "execution_count": null,
   "metadata": {
    "id": "0B3VY59wV4Ce"
   },
   "outputs": [],
   "source": [
    "# Python String strip()\n",
    "# Применяется к строкам, по умолчанию убирает пробелы слева и справа"
   ]
  },
  {
   "cell_type": "code",
   "execution_count": null,
   "metadata": {
    "id": "Qyw3maRVV4Ae"
   },
   "outputs": [],
   "source": [
    "# round \n",
    "# применяется к дробным числам, округляет их, можно передать дополнительный аргумент, который означает число знаков после запятой\n",
    "round(4.4875454, 2)  # округлит до 2 знаков после запятой\n",
    "number.round(0)  # округлит до 0 знаков после запятой"
   ]
  },
  {
   "cell_type": "code",
   "execution_count": null,
   "metadata": {
    "id": "nhekE7zKV3-B"
   },
   "outputs": [],
   "source": [
    "# Векторизация\n",
    "# это специальная техника, позволяющая в пандасе быстро выполнять в одну строчку операции, \n",
    "# которые в чистом питоне требуют как минимум одного цикла."
   ]
  },
  {
   "cell_type": "code",
   "execution_count": null,
   "metadata": {
    "id": "fHNHJvTEV37p"
   },
   "outputs": [],
   "source": [
    "# Время\n",
    "# Для работы с датой и временем можно использовать модуль datetime\n",
    "# Для получения данных о времени в момент вызова функции используйте функцию today в одноимённом подмодуле:"
   ]
  },
  {
   "cell_type": "code",
   "execution_count": null,
   "metadata": {
    "id": "MlPDk4xypMh1"
   },
   "outputs": [],
   "source": [
    "import datetime  # by convention imports are placed in the head of file and separated with 2 blank lines from other code\n",
    "date = datetime.datetime.today()  # Само по себе это даст вам специальный тип даты. Чтобы перевести его в строку сделайте следующее:\n",
    "datetime.datetime.today().strftime(\"%Y-%m-%d %H:%M:%S\")\n",
    "# % – обозначает что дальше будет часть даты\n",
    "# Y – год 4-мя знаками\n",
    "# m – месяц 2-мя знаками\n",
    "# d – день\n",
    "# H – час\n",
    "# M – минуты\n",
    "# S – секунды"
   ]
  },
  {
   "cell_type": "code",
   "execution_count": null,
   "metadata": {
    "id": "WJV5dISopMdM"
   },
   "outputs": [],
   "source": [
    "from datetime import datetime\n",
    "# current date and time\n",
    "now = datetime.now()\n",
    "print(f'Full time format of now is {now}')"
   ]
  },
  {
   "cell_type": "code",
   "execution_count": null,
   "metadata": {
    "id": "VbcyElRbpMaw"
   },
   "outputs": [],
   "source": [
    "# Year\n",
    "year = now.strftime(\"%Y\")\n",
    "print(\"year:\", year)"
   ]
  },
  {
   "cell_type": "code",
   "execution_count": null,
   "metadata": {
    "id": "xLHQJ3dR2JBC"
   },
   "outputs": [],
   "source": [
    "# Month\n",
    "month = now.strftime(\"%m\")\n",
    "print(\"month:\", month)"
   ]
  },
  {
   "cell_type": "code",
   "execution_count": null,
   "metadata": {
    "id": "woQ_YvIz2I-p"
   },
   "outputs": [],
   "source": [
    "# Day\n",
    "day = now.strftime(\"%d\")\n",
    "print(\"day:\", day)"
   ]
  },
  {
   "cell_type": "code",
   "execution_count": null,
   "metadata": {
    "id": "7uwbnxBh2I8F"
   },
   "outputs": [],
   "source": [
    "# Time\n",
    "time = now.strftime(\"%H:%M:%S\")\n",
    "print(\"time:\", time)"
   ]
  },
  {
   "cell_type": "code",
   "execution_count": null,
   "metadata": {
    "id": "q3A8wWKz2I37"
   },
   "outputs": [],
   "source": [
    "# Date and time\n",
    "date_time = now.strftime(\"%m/%d/%Y, %H:%M:%S\")\n",
    "print(\"date and time:\", date_time)"
   ]
  },
  {
   "cell_type": "code",
   "execution_count": null,
   "metadata": {
    "id": "vmHM4BUr98Ma"
   },
   "outputs": [],
   "source": [
    "# idxmin – индекс минимального значения\n",
    "# idxmax – индекс максимального значения"
   ]
  },
  {
   "cell_type": "code",
   "execution_count": null,
   "metadata": {
    "id": "JS8ZQpmd_YUq"
   },
   "outputs": [],
   "source": [
    "# Churn rate (отток, коэффициент оттока) – это отношение количества ушедших пользователей к общему количеству пользователей, выраженное в процентах"
   ]
  },
  {
   "cell_type": "markdown",
   "metadata": {
    "id": "Yd39NBbnovkG"
   },
   "source": [
    "## Lesson 003"
   ]
  },
  {
   "cell_type": "code",
   "execution_count": null,
   "metadata": {
    "id": "dmR5qb0FAp60"
   },
   "outputs": [],
   "source": [
    "import pandas as pd\n",
    "import numpy as np"
   ]
  },
  {
   "cell_type": "code",
   "execution_count": null,
   "metadata": {
    "id": "kKqdt37-Ap4C"
   },
   "outputs": [],
   "source": [
    "#https://docs.google.com/spreadsheets/d/1BJ0FBnXDBv8hG9ldDsX1W0Ztnt3ow3y1/edit?usp=sharing&ouid=112578139344017122682&rtpof=true&sd=true\n",
    "#! gdown --id 1BJ0FBnXDBv8hG9ldDsX1W0Ztnt3ow3y1\n",
    "df = pd.read_excel('/content/Data.xlsx')"
   ]
  },
  {
   "cell_type": "code",
   "execution_count": null,
   "metadata": {
    "id": "HSPM6i9JA71E"
   },
   "outputs": [],
   "source": [
    "df.head()"
   ]
  },
  {
   "cell_type": "code",
   "execution_count": null,
   "metadata": {
    "id": "wdaiRcJ3o6SQ"
   },
   "outputs": [],
   "source": [
    "# Уникальные значения - показать\n",
    "# Функция unique()\n",
    "df['Проектный офис'].unique()"
   ]
  },
  {
   "cell_type": "code",
   "execution_count": null,
   "metadata": {
    "id": "la51mSYWo6Pp"
   },
   "outputs": [],
   "source": [
    "# Количество уникальных значений - показать\n",
    "# Функция nunique()\n",
    "df['Проектный офис'].nunique()"
   ]
  },
  {
   "cell_type": "code",
   "execution_count": null,
   "metadata": {
    "id": "2BHcAERmo6Nk"
   },
   "outputs": [],
   "source": [
    "# Разбить строчку на куски\n",
    "# Функция split()\n",
    "df['Проектный офис'][0].split()"
   ]
  },
  {
   "cell_type": "code",
   "execution_count": null,
   "metadata": {
    "id": "qQeAs6tzo6LN"
   },
   "outputs": [],
   "source": [
    "# Анонимные функции labda\n",
    "lambda x: do something\n",
    "lambda — ключевое слово, задающее анонимную функцию (не имеющую имени)\n",
    "x — то, как мы назвали аргумент, принимаемый функцией\n",
    ": — разделяет заголовок и тело безымянной функции\n",
    "do something — тело функции, должно помещаться в одну строчку и будет автоматически возвращаться без return"
   ]
  },
  {
   "cell_type": "code",
   "execution_count": null,
   "metadata": {
    "id": "J8t9LhOco6Ix"
   },
   "outputs": [],
   "source": [
    "# Take 1 argument and add 3 to it\n",
    "lambda x: x + 3"
   ]
  },
  {
   "cell_type": "code",
   "execution_count": null,
   "metadata": {
    "id": "GSL5Oj33C_zs"
   },
   "outputs": [],
   "source": [
    "# Переименование колонок в датафрэйме\n",
    "# df is a dataframe as usual\n",
    "df = df.rename(columns = lambda c: c.upper().replace('-', '_'))  # делаем их заглавными и заменяем дефисы на нижние подчёркивания"
   ]
  },
  {
   "cell_type": "code",
   "execution_count": null,
   "metadata": {
    "id": "LRGmJRBaC_wt"
   },
   "outputs": [],
   "source": [
    "# Применение функций к датафрейму\n",
    "# Функция apply\n",
    "df.ПРОЕКТНЫЙ_ОФИС.apply(lambda c: c.split()[-1])  \n",
    "# Через лямбду для значений заданной колонки разбили аргументы по пробелу и взяли последнее значение"
   ]
  },
  {
   "cell_type": "code",
   "execution_count": null,
   "metadata": {
    "id": "GMQJMLp_C_uR"
   },
   "outputs": [],
   "source": [
    "# Объединение датафреймов\n",
    "# Зачастую называется джойном. Одна из них — merge\n",
    "# Обязательным аргументом является другой датафрейм, с которым планируется объединение.\n",
    "# Объединение идёт по общей колонке, у которой имеется одинаковый смысл и общие значения в обоих датафреймах.\n",
    "# Здесь мы объединяем датафрейм users_data с датафреймом users_lovely_brand_data по колонке tc с помощью inner джойна\n",
    "\n",
    "users_data.merge(users_lovely_brand_data, how = 'inner', on = 'tc')\n",
    "\n",
    "Дополнительные аргументы функции merge\n",
    "how — как объединять датафрэймы, одно из inner, outer, left, right\n",
    "on — общая колонка, по которой будет идти объединение."
   ]
  },
  {
   "cell_type": "code",
   "execution_count": null,
   "metadata": {
    "id": "bk_7gGYHC_sQ"
   },
   "outputs": [],
   "source": [
    "# Индекс и имена колонок\n",
    "# У датафрейма есть 2 атрибута index и columns\n",
    "\n",
    "df.index\n",
    "df.columns"
   ]
  },
  {
   "cell_type": "code",
   "execution_count": null,
   "metadata": {
    "id": "LEbwM2BsdIKn"
   },
   "outputs": [],
   "source": [
    "# Сброс индекса\n",
    "# Иногда вам может захотеться перевести индекс датафрэйма в колонку.\n",
    "# Для этого существует метод reset_index\n",
    "# Индексом становится дефолтная последовательность чисел от 0 до числа строк - 1.\n",
    "\n",
    "df.reset_index()"
   ]
  },
  {
   "cell_type": "code",
   "execution_count": null,
   "metadata": {
    "id": "5bb-y9KRdIIT"
   },
   "outputs": [],
   "source": [
    "# Удаление индекса\n",
    "# Аргумент drop отвечает за то, нужно ли переводить индекс в колонку, или убрать его из таблицы:\n",
    "df.reset_index(drop = True)"
   ]
  },
  {
   "cell_type": "code",
   "execution_count": null,
   "metadata": {
    "id": "OfI6qANodIF-"
   },
   "outputs": [],
   "source": [
    "# Поиск пустых значений\n",
    "# isna — это чудо-метод, с помощью которого можно быстро найти пропущенные значения в датафрейме:\n",
    "# В связке с ним можно использовать, например, sum, чтобы посмотреть на число NA в разных колонках:\n",
    "# Применив его, на выходе мы получаем датафрэйм той же размерности, где в каждой ячейке True или False\n",
    "\n",
    "df.isna().sum()\n",
    "\n",
    "# ВАЖНО!"
   ]
  },
  {
   "cell_type": "code",
   "execution_count": null,
   "metadata": {
    "id": "cAGrVfDF58u6"
   },
   "outputs": [],
   "source": [
    "# Графики — важная часть анализа данных, так как они наглядно — если тип графика хорошо подобран — \n",
    "# представляют данные и позволяют быстро разобраться в сути.\n",
    "\n",
    "# Чтобы в юпитер ноутбуке отображались графики, выполните строчку:\n",
    "%matplotlib inline\n",
    "\n",
    "# Существуют разные способы создания графиков в python, несколько популярных библиотек:\n",
    "# pandas\n",
    "# seaborn\n",
    "# matplotlib"
   ]
  },
  {
   "cell_type": "code",
   "execution_count": null,
   "metadata": {
    "id": "sRWEtLOF58ss"
   },
   "outputs": [],
   "source": [
    "# Самый простой способ визуализировать данные — вызвать метод plot у датафрейма (или его колонки).\n",
    "# bins здесь — число диапазонов (корзин/бакетов), на которые мы разделяем значения.\n",
    "\n",
    "df['срок отработки'].plot('hist', bins = 10)\n",
    "df['срок отработки'].plot.hist(bins = 10)\n",
    "\n",
    "# Вот так работает в Гугле\n",
    "#import matplotlib.pyplot as plt\n",
    "df['срок отработки'].hist(bins = 10)"
   ]
  },
  {
   "cell_type": "code",
   "execution_count": null,
   "metadata": {
    "id": "0U8IYsq158qa"
   },
   "outputs": [],
   "source": [
    "# seaborn - Продвинутая библиотека, позволяющая сделать очень красивые графики.\n",
    "# Конвенционально загружается как:\n",
    "import seaborn as sns"
   ]
  },
  {
   "cell_type": "code",
   "execution_count": null,
   "metadata": {
    "id": "FMhGpexw58oa"
   },
   "outputs": [],
   "source": [
    "# Гистограмма\n",
    "sns.displot(df['срок отработки'])"
   ]
  },
  {
   "cell_type": "code",
   "execution_count": null,
   "metadata": {
    "id": "An049xRx58mM"
   },
   "outputs": [],
   "source": [
    "# Боксплот\n",
    "sns.boxplot(data = df, x = 'срок отработки', y = 'Проектный офис')"
   ]
  },
  {
   "cell_type": "code",
   "execution_count": null,
   "metadata": {
    "id": "73uerKax58j4"
   },
   "outputs": [],
   "source": [
    "# Барплот\n",
    "sns.barplot(x = 'срок отработки', y = 'Дисциплина', data = df)"
   ]
  },
  {
   "cell_type": "code",
   "execution_count": null,
   "metadata": {
    "id": "LlNKvIZqdIDq"
   },
   "outputs": [],
   "source": [
    "# matplotlib - Базовая библиотека для рисования в питоне.\n",
    "# На ней построены более продвинутые и простые в использовании типа seaborn\n",
    "# Через matplotlib можно нарисовать что угодно, но часто на это уходит слишком много строк кода.\n",
    "# Eё в основном используют для тонкой настройки графиков и их сохранения.\n",
    "# Традиционно matplotlib импортируется следующим образом:\n",
    "import matplotlib.pyplot as plt"
   ]
  },
  {
   "cell_type": "code",
   "execution_count": null,
   "metadata": {
    "id": "ZvU2MXIj-x7T"
   },
   "outputs": [],
   "source": [
    "# Настройка графиков\n",
    "# Важный момент: большинство настроек должны быть написаны к каждому графику отдельно.\n",
    "# Иными словами, настройки, написанные в ячейке с одним графиком, не будут применены к другому. "
   ]
  },
  {
   "cell_type": "code",
   "execution_count": null,
   "metadata": {
    "id": "4tXXgir0DSqC"
   },
   "outputs": [],
   "source": [
    "# Изменить размер\n",
    "# В figure в figsize подаётся кортеж (как список, только в круглых скобках) с масштабом графика формата (ширина, высота)\n",
    "plt.figure(figsize=(10, 20))\n",
    "sns.displot(df['срок отработки'])"
   ]
  },
  {
   "cell_type": "code",
   "execution_count": null,
   "metadata": {
    "id": "PcThg3kODSnl"
   },
   "outputs": [],
   "source": [
    "# Сохранение картинки\n",
    "# Сохранить график можно с помощью savefig , где аргумент — путь к сохраняемой картинке (желаемое название и формат):\n",
    "plt.figure(figsize=(300, 400))\n",
    "sns.displot(df['срок отработки'])\n",
    "plt.savefig('1.jpg')"
   ]
  },
  {
   "cell_type": "code",
   "execution_count": null,
   "metadata": {
    "id": "jEkXI3h991nJ"
   },
   "outputs": [],
   "source": [
    "# Альтернативный вариант построения распределения категориальной переменной\n",
    "import seaborn as sns\n",
    "import matplotlib.pyplot as plt\n",
    "sns.countplot(df['Дисциплина'])"
   ]
  },
  {
   "cell_type": "markdown",
   "metadata": {
    "id": "X0XFxtu3sziD"
   },
   "source": [
    "## Lesson 004"
   ]
  },
  {
   "cell_type": "code",
   "execution_count": null,
   "metadata": {
    "id": "oIIVJCX0s379"
   },
   "outputs": [],
   "source": [
    "# Проверка на начало строки\n",
    "# startswith — строковый метод, принимающий другую строку и возвращающий True или False\n",
    "'Abyss'.startswith('Ab')"
   ]
  },
  {
   "cell_type": "code",
   "execution_count": null,
   "metadata": {
    "id": "QH5tPLOMs349"
   },
   "outputs": [],
   "source": [
    "# Альтернативный способ создания списка\n",
    "# List comprehension — способ, который часто используется как лаконичная (и более быстрая) замена циклов\n",
    "\n",
    "xs = [i + 3 for i in range(10)]\n",
    "xs\n",
    "\n",
    "# Взамен вот такого кода:\n",
    "xs = []\n",
    "for i in range(10):\n",
    "    xs.append(i + 3)"
   ]
  },
  {
   "cell_type": "code",
   "execution_count": null,
   "metadata": {
    "id": "lGJFoPlqtSqh"
   },
   "outputs": [],
   "source": [
    "evens = [i for i in range(10) if i % 2 == 0]\n",
    "\n",
    "# Взамен вот такого кода:\n",
    "\n",
    "even = []\n",
    "for i in range(10):\n",
    "    if i % 2 == 0:\n",
    "        even.append(i)"
   ]
  },
  {
   "cell_type": "code",
   "execution_count": null,
   "metadata": {
    "id": "29KUFKGktSnz"
   },
   "outputs": [],
   "source": [
    "# Конвертация типов в датафрэйме\n",
    "# Чтобы это исправить, есть метод astype\n",
    "df = df.astype({'money': 'float'})  # df.money will be rational number after this line\n",
    "# Вот так проще:\n",
    "df.height = df.height.astype('float')  # df.height will be rational number"
   ]
  },
  {
   "cell_type": "code",
   "execution_count": null,
   "metadata": {
    "id": "B3dazw2AtSlK"
   },
   "outputs": [],
   "source": [
    "# Удаление колонок\n",
    "# Чтобы убрать часть колонок из датафрэйма, воспользуйтесь методом drop\n",
    "# используется аргумент axis (0 — строки, 1 — колонки).\n",
    "# Лучше использовать более понятные columns/index\n",
    "df = df.drop(columns='Date')  # drop Date column\n",
    "df = df.drop(index=350)  # drop row with 350 index"
   ]
  },
  {
   "cell_type": "code",
   "execution_count": null,
   "metadata": {
    "id": "b2646bX1tSiY"
   },
   "outputs": [],
   "source": [
    "# Фильтрация дубликатов\n",
    "# Быстро их убрать позволяет метод drop_duplicates\n",
    "df = df.drop_duplicates()  # df will contain <= rows than before after this operation\n",
    "\n",
    "# Вывести все дубликаты:\n",
    "df.loc[df.duplicated()]\n",
    "\n",
    "# Дополнительные аргументы\n",
    "# subset — принимает список колонок, по которым нужно смотреть дупликацию.\n",
    "\n",
    "# Drop only if duplicates are in 'Date' or 'Last' columns or both of them\n",
    "df.drop_duplicates(subset=['Date', 'Last'])"
   ]
  },
  {
   "cell_type": "code",
   "execution_count": null,
   "metadata": {
    "id": "9UHYWXd8tSgD"
   },
   "outputs": [],
   "source": [
    "# Сравнение строк\n",
    "# Строки сравниваются в лексикографическом порядке (по алфавиту, как в языковых словарях)\n",
    "'1' < '2'"
   ]
  },
  {
   "cell_type": "code",
   "execution_count": null,
   "metadata": {
    "id": "qsGMwNL7tSdx"
   },
   "outputs": [],
   "source": [
    "# Соединение сравнений (comparison chaining)\n",
    "# Эти 2 записи тождественны:\n",
    "1 < 2 and 2 < 3\n",
    "1 < 2 < 3"
   ]
  },
  {
   "cell_type": "code",
   "execution_count": null,
   "metadata": {
    "id": "Q8Jev8jctSbY"
   },
   "outputs": [],
   "source": [
    "# Парсинг дат\n",
    "# заранее распарсить дату при загрузке датасета, передав в parse_dates\n",
    "pd.read_csv('some.csv', parse_dates=[1])  # order of columns starting from 0"
   ]
  },
  {
   "cell_type": "code",
   "execution_count": null,
   "metadata": {
    "id": "m6_zKuBvtSZE"
   },
   "outputs": [],
   "source": [
    "# Конвертация во время\n",
    "# pd.to_datetime() — метод, позволяющий превратить строки во время.\n",
    "meal_data['Date'] = pd.to_datetime(meal_data['Date'])\n",
    "\n",
    "# по умолчанию .to_datetime() парсит по схеме \"месяц-день-год\".\n",
    "# Чтобы исправить эту ошибку, укажите в методе аргумент dayfirst=True\n",
    "# В таком случае схема будет \"день-месяц-год\"."
   ]
  },
  {
   "cell_type": "code",
   "execution_count": null,
   "metadata": {
    "id": "n7Gd_F9BtSU2"
   },
   "outputs": [],
   "source": [
    "# Атрибут dt позволяет извлекать временные характеристики из колонки с датой:\n",
    "meal_data['Date'].dt.year\n",
    "meal_data['Date'].dt.month"
   ]
  },
  {
   "cell_type": "code",
   "execution_count": null,
   "metadata": {
    "id": "lcEWs-HbtSSW"
   },
   "outputs": [],
   "source": [
    "# Открывание файлов\n",
    "# Традиционно любой файл открывается с помощью функции open, принимающий путь к файлу.\n",
    "# Это менее удобно, так как это базовый способ, который далее усложняется в том же pd.read_csv\n",
    "\n",
    "file = open('path_to_file')\n",
    "\n",
    "# У file есть различные методы на чтение содержимого, например readlines:\n",
    "lines = file.readlines()  # lines is a list with lines from the file\n",
    "\n",
    "# В конце работы с файлом — то есть, когда он вам больше не понадобится — его нужно закрыть\n",
    "file.close()"
   ]
  },
  {
   "cell_type": "code",
   "execution_count": null,
   "metadata": {
    "id": "TW_BYiFltSQa"
   },
   "outputs": [],
   "source": [
    "# Просмотр содержимого папок\n",
    "# Просмотр папок и многие другие операции, связанные с файлами и папками, выполняются с помощью библиотеки os\n",
    "# Для получения списка файлов используется listdir\n",
    "# Метод os.listdir принимает путь к папке и возвращает её содержимое в виде списка:\n",
    "import os\n",
    "os.listdir('/etc')\n",
    "# "
   ]
  },
  {
   "cell_type": "code",
   "execution_count": null,
   "metadata": {
    "id": "lhSIR8aGtSN4"
   },
   "outputs": [],
   "source": [
    "# Прерывание цикла\n",
    "# При необходимости можно выйти из цикла с помощью слова break\n",
    "numbers = [1, 3, 2, 4, 5, 7, 10]\n",
    "for i in numbers\n",
    "    if i > 5:\n",
    "        break\n",
    "    print(i)"
   ]
  },
  {
   "cell_type": "code",
   "execution_count": null,
   "metadata": {
    "id": "D_XdDizntSLu"
   },
   "outputs": [],
   "source": [
    "# Пропуск итераций цикла\n",
    "# Другой частый случай — пропуск каких-то итераций, для этого используется слово continue\n",
    "numbers = [1, 3, 2, 4, 5, 7, 10]\n",
    "for i in numbers:\n",
    "    if i % 2 != 0:\n",
    "        continue\n",
    "    print(i)"
   ]
  },
  {
   "cell_type": "code",
   "execution_count": null,
   "metadata": {
    "id": "vbjnWLXTtSJQ"
   },
   "outputs": [],
   "source": [
    "# Удаление пропущенных значений\n",
    "# dropna — метод, позволяющий выкинуть из датафрэйма все строки, содержащие пропущенные значения.\n",
    "# Так мы выкинем все строки, где было хотя бы одно пропущенное значение:\n",
    "df.dropna()"
   ]
  },
  {
   "cell_type": "code",
   "execution_count": null,
   "metadata": {
    "id": "na0capsutSG0"
   },
   "outputs": [],
   "source": [
    "# Проверка на вхождение\n",
    "# Чтобы узнать, есть ли элемент в списке, используется оператор in\n",
    "# В pandas есть более эффективный метод isin, принимающий коллекцию, в которой содержатся искомые значения.\n",
    "wanted = ['12', '31']\n",
    "ads_data.query('client_union in @wanted')"
   ]
  },
  {
   "cell_type": "code",
   "execution_count": null,
   "metadata": {
    "id": "Y4uY6TRKtSCW"
   },
   "outputs": [],
   "source": [
    "# Соединение датафрэймов\n",
    "# Для объединения двух или более датафрэймов существует метод pd.concat()\n",
    "# Он принимает кортеж из нескольких датафрэймов и возвращает один большой из них.\n",
    "# Соединять можно вертикально (увеличиваем число строк) или горизонтально (увеличиваем число столбцов)."
   ]
  },
  {
   "cell_type": "code",
   "execution_count": null,
   "metadata": {
    "id": "xkEEWDmbtSAT"
   },
   "outputs": [],
   "source": [
    "# Добавление строк\n",
    "# Есть менее общий вариант — метод append() принимает другой датафрэйм и прибавляет его вертикально.\n",
    "# Для записывания в датафрэйм новых строк из другого датафрэйма можно использовать метод append"
   ]
  },
  {
   "cell_type": "code",
   "execution_count": null,
   "metadata": {
    "id": "DPCmWRyDTxzF"
   },
   "outputs": [],
   "source": [
    "# Создайте колонку wait_time, в которой будет храниться разница между временем подачи машины\n",
    "# (arrived_at) и временем заказа (start_at) в минутах.\n",
    "df_peru['wait_time'] = (df_peru['arrived_at'] - df_peru['start_at']).astype('timedelta64[m]')"
   ]
  },
  {
   "cell_type": "code",
   "execution_count": null,
   "metadata": {
    "id": "Y1fSUIaB6bME"
   },
   "outputs": [],
   "source": [
    "# Выполним разделение по-новому\n",
    "# Границы, по которым резать время также должны быть временными\n",
    "# Разбить временные данные на категории и назвать их сразу\n",
    "delays = delays.assign(delay_categorical = pd.cut(delays.delay,  \\\n",
    "                                                  pd.to_timedelta(['0d', '1d', '2d', '3d', delays.delay.max()]),  \\\n",
    "                                                  labels = ['less than 1 day', '1-2 days', '2-3 days', 'more than 3 days']))"
   ]
  },
  {
   "cell_type": "code",
   "execution_count": null,
   "metadata": {
    "id": "dCE_EGfhfHoA"
   },
   "outputs": [],
   "source": [
    "# Добавьте столбец month, где будет храниться номер месяца, в котором был сделан заказ (start_at)\n",
    "# и столбец weekday – название дня недели.\n",
    "df_peru['month'] = df_peru['start_at'].dt.month\n",
    "df_peru['weekday'] = df_peru['start_at'].dt.strftime('%A')"
   ]
  },
  {
   "cell_type": "code",
   "execution_count": null,
   "metadata": {
    "id": "DzgzPCnpOakm"
   },
   "outputs": [],
   "source": [
    "# А теперь – график по дням недели (weekday).\n",
    "# Задать порядок столбиков на графике можно с помощью аргумента order\n",
    "# которому нужно передать список названий в нужном порядке.\n",
    "\n",
    "plt.figure(figsize=(12, 8))\n",
    "sns.countplot(df_peru.weekday, order=['Monday', 'Tuesday', 'Wednesday', 'Thursday', 'Friday', 'Saturday', 'Sunday'])"
   ]
  },
  {
   "cell_type": "code",
   "execution_count": null,
   "metadata": {
    "id": "cAMIuEuETgU2"
   },
   "outputs": [],
   "source": [
    "DAU (daily active users) – число уникальных пользователей за день\n",
    "WAU (weekly active users) – число уникальных пользователей за неделю\n",
    "MAU (monthly active users) – число уникальных пользователей за месяц"
   ]
  },
  {
   "cell_type": "code",
   "execution_count": null,
   "metadata": {
    "id": "RiKt5w_heRMU"
   },
   "outputs": [],
   "source": [
    "# Сгруппируйте данные по месяцу, затем посчитайте число уникальных пользователей на каждый месяц.\n",
    "# Потом нарисуйте график зависимости MAU от месяца\n",
    "df_peru.groupby('month', as_index = False).agg({'user_id' : 'nunique'})"
   ]
  },
  {
   "cell_type": "code",
   "execution_count": null,
   "metadata": {
    "id": "k4gMRyYTgDKu"
   },
   "outputs": [],
   "source": [
    "# Построить линейный график\n",
    "sns.lineplot(df_month_unique.month, df_month_unique.user_id)\n",
    "# "
   ]
  },
  {
   "cell_type": "code",
   "execution_count": null,
   "metadata": {
    "id": "Sb1DE94D5LN9"
   },
   "outputs": [],
   "source": [
    "# Сконвертировать нужную колонку датафрейма в список через метод .tolist()\n",
    "df_inn.inn_need.tolist()"
   ]
  },
  {
   "cell_type": "code",
   "execution_count": null,
   "metadata": {
    "id": "xPPnSO3U5pIO"
   },
   "outputs": [],
   "source": [
    "# Проверить принадлежность значений к списку / отфильтровать сразу по этой принадлежности\n",
    "selected_inn = df.query('head_inn in @list_inn')  # list_inn - список с необходимыми значениями"
   ]
  },
  {
   "cell_type": "code",
   "execution_count": null,
   "metadata": {
    "id": "RvPxMZjGLQPP"
   },
   "outputs": [],
   "source": [
    "# Открыть txt файл\n",
    "\n",
    "#import pandas as pd\n",
    "#https://drive.google.com/file/d/15Qx2_MusSF3BRjHyu_gXJyjrlA6qKDi3/view?usp=sharing\n",
    "#! gdown --id 15Qx2_MusSF3BRjHyu_gXJyjrlA6qKDi3\n",
    "txt_file = open('/content/meals_list_2.txt').readlines()\n",
    "txt_file"
   ]
  },
  {
   "cell_type": "code",
   "execution_count": null,
   "metadata": {
    "id": "U8lDROJhrcAH"
   },
   "outputs": [],
   "source": [
    "# Открыть txt файл другой способ\n",
    "with open('C:/Users/Test/Documents/DS/docs/important/tg_token.txt') as f:\n",
    "    token = f.read().strip()"
   ]
  },
  {
   "cell_type": "code",
   "execution_count": null,
   "metadata": {
    "id": "billjOYULs3H"
   },
   "outputs": [],
   "source": [
    "# Взять из файла txt нужные строки\n",
    "# Простой пример для начала\n",
    "\n",
    "x = ['1', '2', 'start', '33', '44', '55', 'stop', '44', '90']\n",
    "scaning = False  # Отвечать за то считывать данные или нет. По умолчанию указано False, так как считывать не надо\n",
    "for i in x:\n",
    "  if i == 'stop':\n",
    "    scaning = False\n",
    "    continue\n",
    "  if scaning == True:\n",
    "    print(i)\n",
    "  if i == 'start':\n",
    "    scaning = True\n",
    "    continue"
   ]
  },
  {
   "cell_type": "code",
   "execution_count": null,
   "metadata": {
    "id": "3g1XvN85Mhjh"
   },
   "outputs": [],
   "source": [
    "# Взять из файла txt нужные строки\n",
    "# К нашему файлу решение\n",
    "scaning = False  # Отвечать за то считывать данные или нет. По умолчанию указано False, так как считывать не надо\n",
    "for i in txt_file:\n",
    "  if i.startswith('-----------------------'):  # При нахождении данной строки отключит режим печати\n",
    "    scaning = False\n",
    "    continue\n",
    "  if scaning == True:  #  всё, что тут будет печатать\n",
    "    print(i)\n",
    "  if i.startswith('--- Non-deleted saved meals --------------------'):  # при нахождении данной строки включит режим считывания\n",
    "    scaning = True\n",
    "    continue"
   ]
  },
  {
   "cell_type": "code",
   "execution_count": null,
   "metadata": {
    "colab": {
     "base_uri": "https://localhost:8080/",
     "height": 35
    },
    "executionInfo": {
     "elapsed": 257,
     "status": "ok",
     "timestamp": 1674198408791,
     "user": {
      "displayName": "Сергей Кучер",
      "userId": "06348785934949478413"
     },
     "user_tz": -180
    },
    "id": "iBhMLQHOMhgs",
    "outputId": "8855707d-e5c6-4f47-e2a8-03e30a4e07d4"
   },
   "outputs": [
    {
     "data": {
      "application/vnd.google.colaboratory.intrinsic+json": {
       "type": "string"
      },
      "text/plain": [
       "'/content'"
      ]
     },
     "execution_count": 2,
     "metadata": {},
     "output_type": "execute_result"
    }
   ],
   "source": [
    "# Пути к файлам в Jupyter\n",
    "import os\n",
    "os.getcwd()  # нынешняя рабочая папка"
   ]
  },
  {
   "cell_type": "code",
   "execution_count": null,
   "metadata": {
    "id": "zam80KM0Mhbk"
   },
   "outputs": [],
   "source": [
    "txt_file2 = open('/content/meals_list_2.txt').readlines()\n",
    "txt_file2"
   ]
  },
  {
   "cell_type": "code",
   "execution_count": null,
   "metadata": {
    "id": "q4An3ZxDMhYz"
   },
   "outputs": [],
   "source": []
  },
  {
   "cell_type": "code",
   "execution_count": null,
   "metadata": {
    "id": "FISQzdJVMhWZ"
   },
   "outputs": [],
   "source": []
  },
  {
   "cell_type": "markdown",
   "metadata": {
    "id": "EcH1k6f_MfJc"
   },
   "source": [
    "## Lesson 005"
   ]
  },
  {
   "cell_type": "code",
   "execution_count": null,
   "metadata": {
    "id": "Pzx3ra4GMigG"
   },
   "outputs": [],
   "source": [
    "# Открывание сжатых файлов\n",
    "# У функции pd.read_csv есть аргумент compression,\n",
    "# который принимает строчку типа компрессии и открывает заархивированный файл:\n",
    "\n",
    "# Here type of compression is zip\n",
    "ads_data = pd.read_csv('ads_data.csv.zip', compression='zip')"
   ]
  },
  {
   "cell_type": "code",
   "execution_count": null,
   "metadata": {
    "id": "5S_M8lmeMiiv"
   },
   "outputs": [],
   "source": [
    "# Формат UNIX time\n",
    "# Время может быть указано в разном формате, один из них — число секунд, прошедших с 1970 года\n",
    "\n",
    "# сконвертировать в human-readable формат\n",
    "pd.to_datetime(1554076848, unit='s')"
   ]
  },
  {
   "cell_type": "code",
   "execution_count": null,
   "metadata": {
    "id": "VpUcAPV7MnCN"
   },
   "outputs": [],
   "source": [
    "# Формат UNIX time\n",
    "# Временные серии обладают атрибутом dt, в котором находится множество атрибутов и методов для доступа ко времени.\n",
    "# Давайте посмотрим на часть из них:"
   ]
  },
  {
   "cell_type": "code",
   "execution_count": null,
   "metadata": {
    "id": "KcxLA3f8Mm_O"
   },
   "outputs": [],
   "source": [
    "# Микросекунды — сколько микросекунд в указанном времени (то есть, если время 5 минут, 0 секунд и 3 микросекунды, то он вернёт 3, а не 5 * 60 * 106)\n",
    "df.column1.dt.microsecond\n",
    "# Секунды\n",
    "df.column1.dt.second\n",
    "# Минуты\n",
    "df.column1.dt.minute\n",
    "# Час\n",
    "df.column1.dt.hour\n",
    "# День месяца - цифры\n",
    "df.column1.dt.day\n",
    "# Номер дня в недели - цифра\n",
    "df.column1.dt.weekday\n",
    "# Имя дня в недели\n",
    "df.column1.dt.day_name()\n",
    "# Имя дня в недели\n",
    "df.column1.dt.week\n",
    "# Номер месяца\n",
    "df.column1.dt.month\n",
    "# Название месяца\n",
    "df.column1.dt.month_name()\n",
    "# Год\n",
    "df.column1.dt.year\n",
    "# Число дней в текущем месяце\n",
    "df.column1.dt.daysinmonth"
   ]
  },
  {
   "cell_type": "code",
   "execution_count": null,
   "metadata": {
    "id": "ZnQpRTB7Mm8o"
   },
   "outputs": [],
   "source": [
    "# Разность времени\n",
    "# Timedelta — это тип данных, соответствующий разнице двух времён, то есть, какая-то продолжительность времени."
   ]
  },
  {
   "cell_type": "code",
   "execution_count": null,
   "metadata": {
    "id": "wlnFORsD0f3T"
   },
   "outputs": [],
   "source": [
    "# Создадим переменную, с которой будем сравнивать\n",
    "delta = pd.Timedelta(365, unit='day')"
   ]
  },
  {
   "cell_type": "code",
   "execution_count": null,
   "metadata": {
    "id": "rnN6xcen2L6Q"
   },
   "outputs": [],
   "source": [
    "# Прогоним список через дельту:\n",
    "delta = pd.Timedelta(365, unit='day')\n",
    "number = len(df_common_group.query('days < @delta'))\n",
    "number"
   ]
  },
  {
   "cell_type": "code",
   "execution_count": null,
   "metadata": {
    "id": "7-pXZa7CMm6J"
   },
   "outputs": [],
   "source": [
    "# Компоненты\n",
    "# Все единицы измерения времени можно извлечь сразу с помощью атрибута components\n",
    "df.column1.dt.components"
   ]
  },
  {
   "cell_type": "code",
   "execution_count": null,
   "metadata": {
    "id": "JxAmrMDTMm3s"
   },
   "outputs": [],
   "source": [
    "# quantile\n",
    "# Метод для поиска определённых перцентилей\n",
    "# Принимает число от 0 до 1, обозначающее перцентиль в виде доли:\n",
    "0 — нулевой перцентиль\n",
    "0.1 — десятый перцентиль\n",
    "0.75 — 75-й перцентиль (также третий квартиль)\n",
    "\n",
    "df.quantile(q = 0.9)\n",
    "\n",
    "# Также в  q можно передать список всех желаемых перцентилей:\n",
    "df.quantile(q = [0.2, 0.9])\n",
    "\n",
    "# Что делать со значениями, не попадающими в перцентиль?\n",
    "# Если ровно по заданному перцентилю в датафрейме нет значения, то по умолчанию метод линейно выведет его.\n",
    "# оменять это поведение можно с помощью параметра interpolation. Вариант 'higher' берёт большую точку из смежных:\n",
    "df.quantile(q = [0.2, 0.9], interpolation = 'higher')"
   ]
  },
  {
   "cell_type": "code",
   "execution_count": null,
   "metadata": {
    "id": "_vijtH0EMm1B"
   },
   "outputs": [],
   "source": [
    "# Сводные таблицы\n",
    "# Сводные таблицы — удобный способ преобразовать данные, с возможностью применения к ним агрегирующей функции.\n",
    "# В pandas есть 2 функции, различающиеся только тем, проводится ли агрегация.\n",
    "\n",
    "# Обе принимают 3 аргумента:\n",
    "\n",
    "index — название колонки, значения из которой станут индексами.\n",
    "columns — название колонки, значения из которой станут колонками.\n",
    "values — название колонки, значения из которой распределятся по сформированным группам.\n",
    "\n",
    "df.pivot(index = 'column1', columns = 'column2', values = 'column3')\n",
    "\n",
    "# Добавить аггригацию\n",
    "\n",
    "df.pivot(index = 'column1', columns = 'column2', values = 'column3', aggfunc = 'max')"
   ]
  },
  {
   "cell_type": "code",
   "execution_count": null,
   "metadata": {
    "id": "75KxdtqQMmxg"
   },
   "outputs": [],
   "source": [
    "# Альтернативный способ создания колонок\n",
    "# Колонки в датафрейме можно также создать с помощью метода assign\n",
    "# Он возвращает исходный датафрейм с добавленными колонками — нужно перезадать переменную, чтобы изменить датафрейм.\n",
    "# В метод передаются аргументы формата название колонки = её содержимое — как название параметра и его значение при вызове функции.\n",
    "# Здесь название колонок нужно писать без кавычек.\n",
    "# Мы задаём новую колонку loyality, значения в которой являются отношением значений в колонке max_orders к значениям в колонке orders:\n",
    "\n",
    "df = df.assign(loyality = df.max_orders / df.orders)"
   ]
  },
  {
   "cell_type": "code",
   "execution_count": null,
   "metadata": {
    "id": "CvVGXn6kMmu7"
   },
   "outputs": [],
   "source": [
    "# Замена пропущенных значений\n",
    "# Замена пропущенных значений — часто возникающая задача в некоторых сферах.\n",
    "# Одно из простых решений — заменить все на одно значение (например, 0).\n",
    "# Это можно сделать с помощью метода fillna, принимающего значение, на которое будут заменены пропущенные значения:\n",
    "df.fillna(0)"
   ]
  },
  {
   "cell_type": "code",
   "execution_count": null,
   "metadata": {
    "id": "icalzXWEMmsx"
   },
   "outputs": [],
   "source": [
    "# loc\n",
    "# До этого при отборе определённых строк мы пользовались методом query или использовали []\n",
    "# Также существует метод loc (и его собрат iloc), позволяющий выбрать поднабор строк и колонок из датафрейма.\n",
    "# В некоторых случаях loc удобнее, но обычно запись с ним более громоздкая и он работает медленнее query\n",
    "\n",
    "# Эта запись отберёт все строки из датафрейма, где значения в колонке '6' равны 1, и колонки от '1' до '6'\n",
    "df.loc[df['6'] == 1, '1' : '6']\n",
    "# Кусок df['6'] == 1 возвращает логическую серию, где напротив нужных значений стоит True.\n",
    "# Вместо df['6'] == 1 может быть любое выражение, которое даст коллекцию True/False"
   ]
  },
  {
   "cell_type": "code",
   "execution_count": null,
   "metadata": {
    "id": "xxiRulf-MmqL"
   },
   "outputs": [],
   "source": [
    "# Lineplot\n",
    "# Line chart – линейная диаграмма.\n",
    "\n",
    "# По оси x и y откладываются значения точек, эти точки соединяются.\n",
    "# Аргумент hue принимает имя колонки, по значениям которой идёт разделение на цвета:\n",
    "sns.lineplot(x = 'column1', y = 'column2', hue = 'column3', data = df)"
   ]
  },
  {
   "cell_type": "code",
   "execution_count": null,
   "metadata": {
    "id": "KjZAsrMPMmnz"
   },
   "outputs": [],
   "source": [
    "# Heatmap\n",
    "# Удобный тип графика, когда есть множество значений с двумя категориальными признаками (обычно это индекс и колонки в датафрейме).\n",
    "# По осям откладываются значения этих категориальных переменных, каждая ячейка — значение, которое мы визуализируем.\n",
    "# Интенсивность ячейки пропорциональна значению."
   ]
  },
  {
   "cell_type": "code",
   "execution_count": null,
   "metadata": {
    "id": "FztTVYs9MmlV"
   },
   "outputs": [],
   "source": [
    "# Регулярные выражения\n",
    "# Их также называют регэкспы или РЕ.\n",
    "# При работе с текстовыми данными часто возникает необходимость их парсить (то есть извлекать нужные данные из всего текста).\n",
    "\n",
    "# Регулярные выражения — это специальный язык для описания низкого уровня языковой грамматики.\n",
    "# Не углубляясь в определения, РЕ позволяют вычленить из регулярного текста (его структура одинакова/почти одинакова на протяжении всего текста) нужные нам части.\n",
    "\n",
    "# Пример ниже!"
   ]
  },
  {
   "cell_type": "code",
   "execution_count": null,
   "metadata": {
    "id": "MKZA_X83MmSO"
   },
   "outputs": [],
   "source": [
    "# Задача с РЕ\n",
    "# у нас есть данные о почтовых адресах пользователях, и мы хотим узнать, с каких доменов (всё, что после @) у нас пользователей больше:\n",
    "\n",
    "# vasya@yandex.ru\n",
    "# katya_ivanova@gmail.com\n",
    "# sasha@karpov.courses.com\n",
    "# masha@gmail.com\n",
    "\n",
    "import re\n",
    "mail = 'vasya@yandex.ru'\n",
    "pattern = re.compile('@([\\w.]+)')\n",
    "pattern.findall(mail)\n",
    "\n",
    "# Объяснение ниже!"
   ]
  },
  {
   "cell_type": "code",
   "execution_count": null,
   "metadata": {
    "id": "oJV60u7oMmPU"
   },
   "outputs": [],
   "source": [
    "# Объяснение\n",
    "import re — импотиртируем библиотеку для работы с регулярными выражениями, в чистом питоне их нет.\n",
    "pattern = re.compile('@([\\w.]+)') — с помощью функции compile из модуля re создаём паттерн (образец), который будем искать в тексте, и помещаем его в переменную pattern. Паттерн создаётся при помощи строки — о том, с чем совпадает (что матчит) этот паттерн мы поговорим дальше.\n",
    "Паттерн обладает набором методов (также, как у датафрэйма есть методы), один из которых мы и используем.\n",
    "pattern.findall(mail) — применяем метод findall на строке с почтой. Метод findall возвращает список со всеми встречаниями паттерна (pattern) в строке, где мы ищем (mail)"
   ]
  },
  {
   "cell_type": "code",
   "execution_count": null,
   "metadata": {
    "id": "P84vc6IyMmNA"
   },
   "outputs": [],
   "source": [
    "# Азбука регулярных выражений\n",
    "# Как уже говорилось, РЕ это язык о регулярном языке. Для его описания используется набор символов.\n",
    "# Рассмотрим наиболее частые из них:"
   ]
  },
  {
   "cell_type": "code",
   "execution_count": null,
   "metadata": {
    "id": "7EtdXxT1MmK3"
   },
   "outputs": [],
   "source": [
    "# Буквы и цифры\n",
    "# Все буквы и цифры в паттерне обозначают буквы.\n",
    "import re\n",
    "text = 'the gray fox jumps over the lazy dog'\n",
    "pattern = re.compile('ox')\n",
    "pattern.findall(text)\n",
    "# То мы найдём все 'ox' в тексте. С числами такая же история. Да и со многими знаками типа @"
   ]
  },
  {
   "cell_type": "code",
   "execution_count": null,
   "metadata": {
    "id": "meTk2QlOMmIm"
   },
   "outputs": [],
   "source": [
    "# Метасимволы\n",
    "# Специальные символы для ре, обозначающие группу значений\n",
    "\\d — любая цифра (digits)\n",
    "\\D — всё, что угодно, кроме цифры\n",
    "\\s — любой пробельный символ (spaces)\n",
    "\\S — всё, что угодно, кроме пробельного символа\n",
    "\\w — любая буква, цифра или _ (words)\n",
    "\\W — всё, что угодно, кроме буквы, цифр или _\n",
    ". — любой символ"
   ]
  },
  {
   "cell_type": "code",
   "execution_count": null,
   "metadata": {
    "id": "C2By1VeQMmGC"
   },
   "outputs": [],
   "source": [
    "# Тройки цифр\n",
    "text = '+7-921-000-00-00 +7-981-555-55-55'\n",
    "pattern = re.compile('\\d\\d\\d')\n",
    "pattern.findall(text)"
   ]
  },
  {
   "cell_type": "code",
   "execution_count": null,
   "metadata": {
    "id": "o_wcbtg7MmDy"
   },
   "outputs": [],
   "source": [
    "# Фрагменты из 4-х знаков, начинающиеся с 'в'\n",
    "asimov = '''Робот не может причинить вред человеку или своим бездействием допустить, чтобы человеку был причинён вред.\n",
    "Робот должен повиноваться всем приказам, которые даёт человек, кроме тех случаев, когда эти приказы противоречат Первому Закону.\n",
    "Робот должен заботиться о своей безопасности в той мере, в которой это не противоречит Первому или Второму Законам.'''\n",
    "pattern = re.compile('в...')\n",
    "pattern.findall(asimov)"
   ]
  },
  {
   "cell_type": "code",
   "execution_count": null,
   "metadata": {
    "id": "HmE8-5DnMmBl"
   },
   "outputs": [],
   "source": [
    "# Группы\n",
    "# Скобочки (()) имеют особое значение — они обозначают группы символов в паттерне.\n",
    "# Благодаря этому мы можем извлечь кусочки из заматчившегося паттерна.\n",
    "# Например, достанем только код из телефонного номера:\n",
    "text = '+7-921-000-00-00 +7-981-555-55-55'\n",
    "pattern = re.compile('(\\d\\d\\d)-(\\d\\d\\d)')\n",
    "pattern.findall(text)"
   ]
  },
  {
   "cell_type": "code",
   "execution_count": null,
   "metadata": {
    "id": "5lxESQr9Ml_F"
   },
   "outputs": [],
   "source": [
    "# Квантификаторы\n",
    "# Квантификаторы — это символы, позволяющие специфицировать, сколько раз нужно повторить то, что идёт до них.\n",
    "# Вот их виды:\n",
    "* — сколько угодно раз (0 — бесконечность)\n",
    "+ — 1 или больше раз\n",
    "? — 0 или 1 раз (то есть или предыдущий символ будет, или нет)\n",
    "{} — в скобочках можно указать точное количество или диапазон, читайте подробнее о них и других символах в документации."
   ]
  },
  {
   "cell_type": "code",
   "execution_count": null,
   "metadata": {
    "id": "Vnz0gYMcMl8m"
   },
   "outputs": [],
   "source": [
    "# К примеру, отберём весь текст, начинающийся со слов человек:\n",
    "asimov = '''Робот не может причинить вред человеку или своим бездействием допустить, чтобы человеку был причинён вред.\n",
    "Робот должен повиноваться всем приказам, которые даёт человек, кроме тех случаев, когда эти приказы противоречат Первому Закону.\n",
    "Робот должен заботиться о своей безопасности в той мере, в которой это не противоречит Первому или Второму Законам.'''\n",
    "pattern = re.compile('человек.*')\n",
    "pattern.findall(asimov)\n",
    "# * и + стараются сожрать как можно больше символов в паттерн (почти как Уроборос)"
   ]
  },
  {
   "cell_type": "code",
   "execution_count": null,
   "metadata": {
    "id": "KWsHax_rFgHr"
   },
   "outputs": [],
   "source": [
    "# Эскапирование (экранирование)\n",
    "# Чтобы этого не происходило, используйте raw строки, то есть ставьте букву r перед строкой с паттерном."
   ]
  },
  {
   "cell_type": "code",
   "execution_count": null,
   "metadata": {
    "id": "maRJCwwyFgE0"
   },
   "outputs": [],
   "source": [
    "# Строковые методы пандаса\n",
    "# Для строковых колонок датафрейма есть специальный атрибут str, содержащий множество методов работы со строками\n",
    "# Вызов самого по себе str ничего особо не даёт"
   ]
  },
  {
   "cell_type": "code",
   "execution_count": null,
   "metadata": {
    "id": "wIWRxUWXFgCn"
   },
   "outputs": [],
   "source": [
    "# Применение\n",
    "# Строковые методы из str применяются к каждой ячейке колонки.\n",
    "\n",
    "# Например, проверим, начинаются ли значения колонки name на 'A':\n",
    "df.name.str.startswith('A')\n",
    "# Это аналогично вызову типа:\n",
    "'Aristotle'.startswith('A')\n",
    "\n",
    "# Перевод всех значений к верхнему регистру:\n",
    "df.name.str.upper()"
   ]
  },
  {
   "cell_type": "code",
   "execution_count": null,
   "metadata": {
    "id": "ZvXGd-Y1FgAm"
   },
   "outputs": [],
   "source": [
    "# Слайсинг\n",
    "# Когда мы пишем str, то получаем доступ к строкам в колонке, и как бы вызываем от них строковый метод.\n",
    "\n",
    "# Также мы можем делать срезы, например, возьмём первые 5 букв:\n",
    "df.name.str[:5]"
   ]
  },
  {
   "cell_type": "code",
   "execution_count": null,
   "metadata": {
    "id": "q5FNOvtSFf-L"
   },
   "outputs": [],
   "source": [
    "# Сплит строк\n",
    "# По аналогии со сплитом обычной строки, мы можем засплиттить строки в серии, и получить на каждую ячейку по списку.\n",
    "df.name.str.split(',')"
   ]
  },
  {
   "cell_type": "code",
   "execution_count": null,
   "metadata": {
    "id": "tq9t7NHvFf78"
   },
   "outputs": [],
   "source": [
    "# Парсинг строковых колонок в пандас\n",
    "# Чтобы извлечь данные из строк в пандас есть специальный метод — extract\n",
    "# Он принимает паттерн РЕ, позволяющий вытащить нужные куски из текста в отдельные колонки.\n",
    "\n",
    "df.name.str.extract('(?P<name>\\W+), \\((?P<data>.+)\\)')\n",
    "\n",
    "df['info'].str — обращаемся к атрибуту со строковыми методами\n",
    "extract — вызываем метод, достающий части текста\n",
    "(?P<name>\\w+) — это именованная группа, она как группа, только к ней можно обращаться по имени.\n",
    "                                  (?P...) — говорит питону, что это именованная группа\n",
    "                                  <name> — имя группы, в данном случае name\n",
    "                                  \\w+ — матчит буквы/цифры/подчёркивания, которые встречаются один или больше раз подряд\n",
    ", \\( — запятая, пробел и скобочка, которые идут после первой группы.\\, потому что символ скобки имеет специальное значение в РЕ.\n",
    "(?P<data>.+) — другая именованная группа\n",
    "               ?P — опять же, это идентификатор группы\n",
    "                                 <data> — имя группы data\n",
    "                                 .+ — берёт любой символ один или больше раз подряд\n",
    "\\) — скобочка после 2-й группы\n",
    "\n",
    "# Найдя в ячейке текст, подходящий под такое описание, extract вытащит его, разобьёт на указанные группы, и поместит в новые колонки с именами как в указанных группах\n",
    "# extract возвращает новый датафрэйм с экстрагированным текстом."
   ]
  },
  {
   "cell_type": "code",
   "execution_count": null,
   "metadata": {
    "id": "nuGo1n38Ff54"
   },
   "outputs": [],
   "source": [
    "# Отбор колонок по названию\n",
    "# В пандасе есть удобный метод отбора колонок или строк по их названию — filter\n",
    "# роме строк он также может работать с регэкспами, что позволяет гибко отбирать колонки.\n",
    "\n",
    "pd.DataFrame.filter(items/like/regex, axis)\n",
    "\n",
    "items — принимает список с названиями колонок или строк, особой разницы по сравнению с loc нет\n",
    "like — принимает строку и возвращает все колонки, где в названии содержится строка, переданная в like\n",
    "regex — принимает строку, означающую паттерн РЕ возвращает все колонки с названиями, матчимящимися на паттерн\n",
    "axis — параметр для обозначения того, отбираем мы колонки или строки, принимает 'columns' или 'index', по умолчанию фильтрует колонки\n",
    "\n",
    "# Отберём все колонки с 'id' в названии:\n",
    "df.filter(like = 'id')\n",
    "\n",
    "# А теперь возьмём по паттерну только колонки с идентификаторами:\n",
    "df.filter(regex = '_id')"
   ]
  },
  {
   "cell_type": "code",
   "execution_count": null,
   "metadata": {
    "id": "O0VW5p5CFf3Q"
   },
   "outputs": [],
   "source": [
    "# Вытащить из одной колонки и значения и их количество. Далее - колонку с индексом вытаскиваем в колонку\n",
    "\n",
    "df_graf = df.groupby('transaction')  \\\n",
    "        .agg({'transaction' : 'count'})  \\\n",
    "        .rename(columns = {'transaction' : 'count'})  \\\n",
    "        .reset_index()\n",
    "df_graf"
   ]
  },
  {
   "cell_type": "code",
   "execution_count": null,
   "metadata": {
    "id": "DWPJiWtQFf0o"
   },
   "outputs": [],
   "source": [
    "# Собрать все файлы в один дф\n",
    "df = pd.concat([tm_sales_1, tm_sales_2, tm_sales_3])"
   ]
  },
  {
   "cell_type": "code",
   "execution_count": null,
   "metadata": {
    "id": "5F_Y3va8Ffv_"
   },
   "outputs": [],
   "source": [
    "# Добавим \"id\" в строки, где их нет\n",
    "# Через apply и lambda\n",
    "df.SUBS_ID = df.SUBS_ID.apply(lambda x: 'id' + x if not x.startswith('id') else x)"
   ]
  },
  {
   "cell_type": "code",
   "execution_count": null,
   "metadata": {
    "id": "cvAHUjTslgU9"
   },
   "outputs": [],
   "source": [
    "# Объединим файл prod_activations_logs с нашим фд\n",
    "# Через inner\n",
    "# По данным из колонок SUBS_ID и PROD_ID\n",
    "df_new = df.merge(prod_activations_logs, how = 'inner', on = ['SUBS_ID', 'PROD_ID'])"
   ]
  },
  {
   "cell_type": "code",
   "execution_count": null,
   "metadata": {
    "id": "Pp16MlAOlgTG"
   },
   "outputs": [],
   "source": [
    "# Перевести колонки во временной тип данных\n",
    "df_new.START_DTTM = pd.to_datetime(df_new['START_DTTM'])\n",
    "df_new.END_DTTM = pd.to_datetime(df_new['END_DTTM'])"
   ]
  },
  {
   "cell_type": "code",
   "execution_count": null,
   "metadata": {
    "id": "TpWGC_VzlgRD"
   },
   "outputs": [],
   "source": [
    "# Перевести колонки во временной тип данных\n",
    "df_new.START_DTTM = pd.to_datetime(df_new['START_DTTM'], format='%d-%m-%Y %H:%M')\n",
    "df_new.END_DTTM = pd.to_datetime(df_new['END_DTTM'], format='%d-%m-%Y %H:%M')"
   ]
  },
  {
   "cell_type": "code",
   "execution_count": null,
   "metadata": {
    "id": "-GjFevRKlgO8"
   },
   "outputs": [],
   "source": [
    "# Отформатируем колонку с разничей во времени в минуты\n",
    "df_new.time_difference = df_new.time_difference.astype('timedelta64[m]')"
   ]
  },
  {
   "cell_type": "code",
   "execution_count": null,
   "metadata": {
    "id": "jp-VtFk_lgMa"
   },
   "outputs": [],
   "source": [
    "# Перевести значения в строке в цифры\n",
    ".astype({'InvoiceNo': 'int'})"
   ]
  },
  {
   "cell_type": "code",
   "execution_count": null,
   "metadata": {
    "id": "TkRwQqi69RzT"
   },
   "outputs": [],
   "source": [
    "# Типичные задачи для аналитика\n",
    "\n",
    "# Получить статистику по дням. \n",
    "# Просто посчитать число всех событий по дням, число показов, число кликов, число уникальных объявлений и уникальных кампаний.\n",
    "# Разобраться, почему случился такой скачок 2019-04-05? Каких событий стало больше? У всех объявлений или только у некоторых?\n",
    "\n",
    "# Найти топ 10 объявлений по CTR за все время. CTR — это отношение всех просмотров объявления к кликам. Например, если у объявления было 100 показов и 2 клика, CTR = 0.02. Различается ли средний и медианный CTR объявлений в наших данных?\n",
    "\n",
    "# Похоже, в наших логах есть баг, объявления приходят с кликами, но без показов! \n",
    "# Сколько таких объявлений, есть ли какие-то закономерности? Эта проблема наблюдается на всех платформах?\n",
    "\n",
    "# Есть ли различия в CTR у объявлений с видео и без? А чему равняется 95 процентиль CTR по всем объявлениям за 2019-04-04?\n",
    "\n",
    "# Для финансового отчета нужно рассчитать наш заработок по дням. В какой день мы заработали больше всего? В какой меньше? Мы списываем с клиентов деньги, если произошел клик по CPC объявлению, и мы списываем деньги за каждый показ CPM объявления, если у CPM объявления цена - 200 рублей, то за один показ мы зарабатываем 200 / 1000.\n",
    "# Какая платформа самая популярная для размещения рекламных объявлений? Сколько процентов показов приходится на каждую из платформ (колонка platform)?\n",
    "\n",
    "# А есть ли такие объявления, по которым сначала произошел клик, а только потом показ?"
   ]
  },
  {
   "cell_type": "code",
   "execution_count": null,
   "metadata": {
    "id": "nQrVim-wDmXm"
   },
   "outputs": [],
   "source": [
    "# CPC (cost-per-click) – стоимость за клик пользователя по объявлению. Рассчитывается путём деления суммы потраченных денег на общее число кликов:\n"
   ]
  },
  {
   "cell_type": "code",
   "execution_count": null,
   "metadata": {
    "id": "04yn7h539RwL"
   },
   "outputs": [],
   "source": [
    "# Перевести количество секунд с 1970 года в обычную дату\n",
    "ads_data['full_date'] = pd.to_datetime(ads_data.time, unit='s')"
   ]
  },
  {
   "cell_type": "code",
   "execution_count": null,
   "metadata": {
    "id": "m-qf74wy9Rtu"
   },
   "outputs": [],
   "source": []
  },
  {
   "cell_type": "code",
   "execution_count": null,
   "metadata": {
    "id": "JIEAh2ia9RrE"
   },
   "outputs": [],
   "source": [
    "# В колонке с типом datetime64[ns] можно посмотреть разные данные\n",
    "ads_data.full_date.dt.month  # Месяц\n",
    "ads_data.full_date.dt.year\n",
    "ads_data.full_date.dt.day\n",
    "ads_data.full_date.dt.date  # перевести только в дату без времени"
   ]
  },
  {
   "cell_type": "code",
   "execution_count": null,
   "metadata": {
    "id": "lBNhv0559RmA"
   },
   "outputs": [],
   "source": [
    "# Быстро вывести графику\n",
    "ads_data.groupby('date') \\\n",
    "    .agg({'ad_id': 'count'}).plot()"
   ]
  },
  {
   "cell_type": "code",
   "execution_count": null,
   "metadata": {
    "id": "1-S2sfHW9Rjb"
   },
   "outputs": [],
   "source": [
    "# Сразу group by и pivot - пример\n",
    "ads_data.groupby(['date', 'event'], as_index=False) \\\n",
    "    .agg({'ad_id': 'count'}) \\\n",
    "    .pivot(index='date', columns='event', values='ad_id').reset_index()"
   ]
  },
  {
   "cell_type": "code",
   "execution_count": null,
   "metadata": {
    "id": "KdIUAOg49Rg9"
   },
   "outputs": [],
   "source": [
    "# Фильтр дф по списку\n",
    "df[df.id.isin(bug)]  # где bug - серия с номерами"
   ]
  },
  {
   "cell_type": "code",
   "execution_count": null,
   "metadata": {
    "id": "TzPBnyT59Ref"
   },
   "outputs": [],
   "source": [
    "# \n",
    "# "
   ]
  },
  {
   "cell_type": "code",
   "execution_count": null,
   "metadata": {
    "id": "aDQ3IQgx9RcB"
   },
   "outputs": [],
   "source": []
  },
  {
   "cell_type": "code",
   "execution_count": null,
   "metadata": {
    "id": "VgsnVVpg9RZd"
   },
   "outputs": [],
   "source": [
    "# \n",
    "# "
   ]
  },
  {
   "cell_type": "code",
   "execution_count": null,
   "metadata": {
    "id": "6FPho3y_9RW7"
   },
   "outputs": [],
   "source": []
  },
  {
   "cell_type": "code",
   "execution_count": null,
   "metadata": {
    "id": "SmfVHkWy9RUU"
   },
   "outputs": [],
   "source": [
    "# \n",
    "# "
   ]
  },
  {
   "cell_type": "code",
   "execution_count": null,
   "metadata": {
    "id": "GdDFW71C9RRs"
   },
   "outputs": [],
   "source": []
  },
  {
   "cell_type": "code",
   "execution_count": null,
   "metadata": {
    "id": "fUCQkZyZ9RPF"
   },
   "outputs": [],
   "source": [
    "# \n",
    "# "
   ]
  },
  {
   "cell_type": "code",
   "execution_count": null,
   "metadata": {
    "id": "yvGHhPFQ9RMc"
   },
   "outputs": [],
   "source": []
  },
  {
   "cell_type": "markdown",
   "metadata": {
    "id": "b_Bzz7fiKIvr"
   },
   "source": [
    "## Lesson 006"
   ]
  },
  {
   "cell_type": "code",
   "execution_count": null,
   "metadata": {
    "id": "nb24h5kifiWW"
   },
   "outputs": [],
   "source": [
    "import pandas as pd"
   ]
  },
  {
   "cell_type": "code",
   "execution_count": null,
   "metadata": {
    "id": "2RgX4TKaKLq_"
   },
   "outputs": [],
   "source": [
    "# NumPy\n",
    "# Модуль для работы с данными (преимущественно численными), на котором основан pandas."
   ]
  },
  {
   "cell_type": "code",
   "execution_count": null,
   "metadata": {
    "id": "7UfBXoZ8KMV-"
   },
   "outputs": [],
   "source": [
    "# Оконные функции\n",
    "# Иногда (например, при работе с временными данными) нужно произвести агрегирующие вычисления, захватывающие определённый промежуток данных (не всю колонку).\n",
    "df.head(10)"
   ]
  },
  {
   "cell_type": "code",
   "execution_count": null,
   "metadata": {
    "id": "LCf8i4TNKMT8"
   },
   "outputs": [],
   "source": [
    "# Скользящее окно призывается с помощью метода rolling, принимающего период окна.\n",
    "# Эта функция похожа на группировку тем, что результат не просматривается, и необходимо применить агрегирующую функцию\n",
    "# 4 первых значения не были вычислены, так как для них нет 5 значений, по которым они бы вычислялись.\n",
    "# Скользящее среднее часто используется для поиска аномалий в данных.\n",
    "df.numbers.rolling(5).mean()"
   ]
  },
  {
   "cell_type": "code",
   "execution_count": null,
   "metadata": {
    "id": "UO7MowW7KMR4"
   },
   "outputs": [],
   "source": [
    "# Избавление от NaN'ов\n",
    "# Если расчёт каждого нового значения ровно по периоду не важен, можно использовать параметр min_periods\n",
    "# Он принимает число, которое указывает, сколько как минимум должно быть значений, чтобы посчитать результат.\n",
    "df.numbers.rolling(5, min_periods = 1).mean()"
   ]
  },
  {
   "cell_type": "code",
   "execution_count": null,
   "metadata": {
    "id": "AwJ1nXqqKMPo"
   },
   "outputs": [],
   "source": [
    "# Скользящее среднее\n",
    "# Периодически требуется не только преобразовать данные, но и сгладить сам ряд.\n",
    "# Сглаживание временных рядов позволяет избавиться от шума в данных и более точно увидеть линию общего тренда.\n",
    "# Один из способов — использование скользящего среднего.\n",
    "# window — размер окна, также называемый шириной окна.\n",
    "# Данный параметр отвечает за число наблюдений, которые используются для подсчета скользящего среднего.\n",
    "# \n",
    "df = pd.DataFrame({'value': [0, 1, 2, 3, 4, 19, 131, 10, 5, 100]})\n",
    "df.rolling(window=2).mean()  # 2 соседних"
   ]
  },
  {
   "cell_type": "code",
   "execution_count": null,
   "metadata": {
    "id": "nl7XUy-YKMNS"
   },
   "outputs": [],
   "source": [
    "# Еще один вариант использования pd.rolling() — центрированное скользящее среднее.\n",
    "# В таком случае используются наблюдения до, после и во время tt\n",
    "# В pandas за это отвечает параметр center, который по умолчанию равен False.\n",
    "df.rolling(window=3, center=True).mean()  # Окно - 3, центрированное скользящее среднее - включено."
   ]
  },
  {
   "cell_type": "code",
   "execution_count": null,
   "metadata": {
    "id": "y7HQ2COYKMLH"
   },
   "outputs": [],
   "source": [
    "# Экспоненциальное сглаживание\n",
    "# Следующий шаг — экспоненциальное сглаживание.\n",
    "# В данном случае веса экспоненциально уменьшаются, т.е. более \"старые\" события имеют меньший вес\n",
    "# а для подсчета используются все имеющиеся наблюдения.\n",
    "df.ewm(span=2).mean()"
   ]
  },
  {
   "cell_type": "code",
   "execution_count": null,
   "metadata": {
    "id": "1wln1iZ3KMIV"
   },
   "outputs": [],
   "source": [
    "# Итерация по нескольким спискам одновременно\n",
    "# Время от времени вам будет нужно пройтись по нескольким спискам одновременно — то есть получать элементы с одним индексом из каждого из них.\n",
    "nums = [3, 5, 7]\n",
    "letters = ['all', 'for', 'exoplanets colonization']\n",
    "for i in range(len(nums)):\n",
    "    num = nums[i]\n",
    "    letter = letters[i]\n",
    "    print(num)\n",
    "    print(letter)"
   ]
  },
  {
   "cell_type": "code",
   "execution_count": null,
   "metadata": {
    "id": "UH8_ylPIKMFr"
   },
   "outputs": [],
   "source": [
    "# Но есть более удобный способ — функция zip()\n",
    "# По сути она позволяет перебирать элементы списков одновременно, возвращая на каждой итерации кортеж с элементами из одинаковой позиции соответствующих списков.\n",
    "nums = [3, 5, 7]\n",
    "letters ['all', 'for', 'exoplanets colonization']\n",
    "for i in zip(nums, letters):\n",
    "    num = i[0]\n",
    "    letter = i[1]"
   ]
  },
  {
   "cell_type": "code",
   "execution_count": null,
   "metadata": {
    "id": "AJg7a8ujKRgI"
   },
   "outputs": [],
   "source": [
    "# Но мы можем сразу извлечь num и letter из кортежа с помощью записи:\n",
    "nums = [3, 5, 7]\n",
    "letters ['all', 'for', 'exoplanets colonization']\n",
    "for num, letter in zip(nums, letters):\n",
    "    print(num, letter)"
   ]
  },
  {
   "cell_type": "code",
   "execution_count": null,
   "metadata": {
    "id": "dSjO-byDKRdo"
   },
   "outputs": [],
   "source": [
    "# Связано это с тем, что в питоне можно распаковывать кортежи и списки в переменные, например:\n",
    "# Здесь мы присваиваем элементы из кортежа (3, 'all') в соответствующие переменные.\n",
    "num, letter = (3, 'all')  # num == 3 and letter == 'all'"
   ]
  },
  {
   "cell_type": "code",
   "execution_count": null,
   "metadata": {
    "id": "LC-3KiVbKRbn"
   },
   "outputs": [],
   "source": [
    "# Общая настройка графика\n",
    "# Многие настройки рисования можно установить 1 раз для скрипта (обычно в его начале), избавившись таким образом от повторов:\n",
    "\n",
    "# Font size will be increased, background of figures will be white, grid will be present and size of plots will be increased\n",
    "sns.set(\n",
    "    font_scale=2,\n",
    "    style=\"whitegrid\",\n",
    "    rc={'figure.figsize':(20,7)}\n",
    "        )"
   ]
  },
  {
   "cell_type": "code",
   "execution_count": null,
   "metadata": {
    "id": "2mFRP540KRZW"
   },
   "outputs": [],
   "source": [
    "# Кастомизация графика\n",
    "# Хорошие графики обладают подписанными осями, заголовком и начинаются от 0 при сравнении между собой нескольких значений (например, на барплоте).\n",
    "# Есть несколько способов провести кастомизацию графика:"
   ]
  },
  {
   "cell_type": "code",
   "execution_count": null,
   "metadata": {
    "id": "dlxziK92KRXC"
   },
   "outputs": [],
   "source": [
    "# Через объект графика\n",
    "# При создании графика возвращается объект, который хранит о нём информацию. Через него можно задать параметры кастомизации:\n",
    "ax = conversion_df.plot()  # create plot\n",
    "\n",
    "ax.set_xlabel('Date of orders')  # Label of x axis\n",
    "ax.set_ylabel('Conversion rate')  # Label of y axis\n",
    "ax.set_title('Conversion rate by date')  # Title of the plot\n",
    "\n",
    "y_labels = [str(int(i * 100)) + '%' for i in ax.get_yticks()]  # Prepare custom labels of axis values\n",
    "\n",
    "ax.set_yticklabels(y_labels)  # Set new labels\n",
    "ax.set_xticklabels(labels=conversion_df.index, rotation=90)  # Same just for x axis and totate labels to perpendicular configuration\n",
    "\n",
    "sns.despine()  # Get rid of axis on the plot"
   ]
  },
  {
   "cell_type": "code",
   "execution_count": null,
   "metadata": {
    "id": "56QSDGGHKRU0"
   },
   "outputs": [],
   "source": [
    "# Через методы matplotlib\n",
    "ax = conversion_df.plot()\n",
    "\n",
    "plt.xlabel('Date of orders')\n",
    "plt.ylabel('Conversion rate')\n",
    "plt.title('Conversion rate by date')\n",
    "\n",
    "y_labels = [str(int(i * 100)) + '%' for i in ax.get_yticks()]\n",
    "\n",
    "ax.set_yticklabels(y_labels)\n",
    "ax.set_xticklabels(labels=conversion_df.index, rotation=90)\n",
    "\n",
    "sns.despine()"
   ]
  },
  {
   "cell_type": "code",
   "execution_count": null,
   "metadata": {
    "id": "aZv-818HKRSc"
   },
   "outputs": [],
   "source": [
    "# Рецепт для построения графика\n",
    "# В лекции материал огромный, не копировал сюда. Необходимо очень подробно разбираться"
   ]
  },
  {
   "cell_type": "code",
   "execution_count": null,
   "metadata": {
    "id": "KLKE4aRdKRQf"
   },
   "outputs": [],
   "source": [
    "# Дефолтные аргументы функций\n",
    "# Если какой-то из аргументов вашей функции часто имеет одно значение, имеет смысл прописать его по умолчанию.\n",
    "# Для этого поставьте после имени аргумента = и укажите значение, которое будет принимать аргумент, если он не получит его при вызове функции.\n",
    "# Аргументы по умолчанию должны идти после обычных.\n",
    "def greetings(name='Ra'):\n",
    "    print('Hi,', name)\n",
    "print(greetings())\n",
    "print(greetings('Nalim'))"
   ]
  },
  {
   "cell_type": "code",
   "execution_count": null,
   "metadata": {
    "id": "nvOlF6qGKROR"
   },
   "outputs": [],
   "source": [
    "# Объединение таблиц по нескольким полям\n",
    "# Если указать в параметре on функции pd.merge список из колонок, то произойдёт объединение по их комбинации.\n",
    "# То-есть будут объединены строки, где совпадают значения во всех указанных в on колонках:\n",
    "\n",
    "# Merge by combination of Company Id and Company Name\n",
    "orders_with_sales_team = pd.merge(order_leads, sales_team, on=['Company Id','Company Name'])"
   ]
  },
  {
   "cell_type": "code",
   "execution_count": null,
   "metadata": {
    "id": "NDDv42JoFKRl"
   },
   "outputs": [],
   "source": [
    "# resample - аггрегация другого типа\n",
    "# Этот метод позволяет преобразовать данные и применить к какому-либо столбцу другой метод (напр. sum)\n",
    "# Так можно рассчитать показатели, например, за весь день или месяц, имея данные с точностью до минут.\n",
    "# Например, посчитать сумму показателя по дням, имея данные по часам, можно следующим образом:\n",
    "data.resample(rule='D').column_name.sum() #способ 1\n",
    "data.resample(rule='D').agg({'column_name':'sum'}) #способ 2, эквивалентный предыдущему\n",
    "\n",
    "# Он работает на индексах датафрейма, имеющих формат datetime64\n",
    "# Соответственно, надо поставить столбец timestamp в качестве индекса через метод .set_index()\n",
    "# Желательно также перед этим отсортировать данные по timestamp  методом .sort_values() .\n",
    "\n",
    "# Сортировка по колонке / колонку в индекс / применение функции resample - схлопнуть по ДНЯМ / для колонки \"cnt\" суммировать значения / вытаскиваем дату в колонку обратно\n",
    "df.sort_values('timestamp').set_index('timestamp').resample(rule='D').cnt.sum().reset_index()\n",
    "\n",
    "# Сортировка по колонке / колонку в индекс / применение функции resample - схлопнуть по ГОДАМ / для колонки \"cnt\" суммировать значения / вытаскиваем дату в колонку обратно\n",
    "df.sort_values('timestamp').set_index('timestamp').resample(rule='Y').cnt.sum().reset_index()\n",
    "\n",
    "# Сортировка по колонке / колонку в индекс / применение функции resample - схлопнуть по ДНЯМ / для колонки \"cnt\" выбрать среднее\n",
    "df.sort_values('timestamp').set_index('timestamp').resample(rule='D').cnt.sum()"
   ]
  },
  {
   "cell_type": "code",
   "execution_count": null,
   "metadata": {
    "id": "vK-7F1IlH8Zh"
   },
   "outputs": [],
   "source": [
    "# метод .set_index()\n",
    "# Указывает колонку выбранную в месте индекса"
   ]
  },
  {
   "cell_type": "code",
   "execution_count": null,
   "metadata": {
    "id": "4snGw-O6KRLj"
   },
   "outputs": [],
   "source": [
    "# Преобразование континуальной переменной в категориальную\n",
    "# Если вам нужно перейти от чисел к категориям, воспользуйтесь функцией pd.cut\n",
    "# Она принимает массив значений и число интервалов/список из границ интервалов:\n",
    "# \n",
    "# \n",
    "import pandas as pd\n",
    "df_1 = pd.DataFrame({'numbers' : [1, 2, 4, 56, 23, 0, 32, 100]})\n",
    "pd.cut(df_1.numbers, 5)  # На 5 отрезков CАМОСТОЯТЕЛЬНО разрежет весь имеющийся интервал.\n",
    "# На выходе укажет один из интервалов для каждого значения\n",
    "\n",
    "# Указать интервалы, на которые необходимо разрезать\n",
    "pd.cut(df_1.numbers, [3, 15, 50, 101])  # задал 3 интервала от 3 невключительно! и до 101 включительно\n",
    "\n",
    "# Указать интервалы, на которые необходимо разрезать и дать им имя\n",
    "pd.cut(df_1.numbers, [3, 15, 50, 101], labels = ['min', 'evagadge', 'max'])  # дополнительно задал имена"
   ]
  },
  {
   "cell_type": "code",
   "execution_count": null,
   "metadata": {
    "id": "KbEgfx6RKRJJ"
   },
   "outputs": [],
   "source": [
    "# distplot\n",
    "# Kernel Density Estimation — аргумент добавляет аппроксимацию распределения, по умолчанию True\n",
    "import seaborn as sns\n",
    "import matplotlib.pyplot as plt\n",
    "plt.figure(figsize=(20, 10))\n",
    "sns.displot(df['срок отработки'], kde = True)"
   ]
  },
  {
   "cell_type": "code",
   "execution_count": null,
   "metadata": {
    "id": "T7zc9XTK3zNO"
   },
   "outputs": [],
   "source": [
    "# Конверсия (conversion rate) – отношение числа пользователей, совершивших целевое действие на определенном этапе, к общему числу тех, кто дошел до данного этапа."
   ]
  },
  {
   "cell_type": "code",
   "execution_count": null,
   "metadata": {
    "id": "73fZ-6-6LF1-"
   },
   "outputs": [],
   "source": [
    "# countplot\n",
    "import seaborn as sns\n",
    "import matplotlib.pyplot as plt\n",
    "plt.figure(figsize=(20, 10))\n",
    "sns.countplot(df['срок отработки'])"
   ]
  },
  {
   "cell_type": "code",
   "execution_count": null,
   "metadata": {
    "id": "x8_nYhG8LFzr"
   },
   "outputs": [],
   "source": [
    "# plotly\n",
    "# Библиотека для создания интерактивных графиков. Например:\n",
    "import plotly.express as px\n",
    "px.line(conversion_df, conversion_df.index, conversion_df['Conversion_rate'])"
   ]
  },
  {
   "cell_type": "code",
   "execution_count": null,
   "metadata": {
    "id": "rMOB1k0sLFxh"
   },
   "outputs": [],
   "source": [
    "# Создать свою фундкцию можно и подгузить её, как модуль\n",
    "from my_module import my_function — импортировать функцию my_function, содержащуюся в my_module.py\n",
    "# После этого её можно использовать в коде как my_function"
   ]
  },
  {
   "cell_type": "code",
   "execution_count": null,
   "metadata": {
    "id": "pPDytC5VLFvZ"
   },
   "outputs": [],
   "source": [
    "# pandas.DataFrame.rolling\n",
    "# Описание аргументов\n",
    "on - Колонка, на основе которой считать скользящее окно, если не на основе индексов\n",
    "axis - Ось (столбцы или строки)\n",
    "win_type - Тип окна. Если None, то все наблюдения имеют равный вес.\n",
    "closed - Сделать интервал закрытым справа, слева, на обеих или ни на одной точке. По умолчанию используется значение \"справа\". Для фиксированных - \"оба\".\n",
    "window - Размер окна. Число наблюдений используемых для подсчета какой-либо статистики\n",
    "center - Позволяет использовать центрированное скользящее среднее\n",
    "min_periods - Минимальное число наблюдений находящихся в окне необходимых для подсчета значения (если меньше - возвращается NA). Значение по умолчанию равно размеру окна."
   ]
  },
  {
   "cell_type": "code",
   "execution_count": null,
   "metadata": {
    "id": "Fm6htzyFLFrI"
   },
   "outputs": [],
   "source": [
    "# использовать первую колонку как индекс\n",
    "# index_col=0\n",
    "avocado_full = pd.read_csv('/mnt/HC_Volume_18315164/home-jupyter/jupyter-s-kucher/Kucher/Lesson 006/avocado_full.csv', parse_dates=['Date'], index_col=0)"
   ]
  },
  {
   "cell_type": "code",
   "execution_count": null,
   "metadata": {
    "id": "Vyc-OJqhLFov"
   },
   "outputs": [],
   "source": [
    "# window 2\n",
    "plt.figure(figsize=(15, 8))\n",
    "sns.lineplot(avocado_mean.Date, avocado_mean.AveragePrice.rolling(2, min_periods = 1).mean())"
   ]
  },
  {
   "cell_type": "code",
   "execution_count": null,
   "metadata": {
    "id": "RREH64xmLFmj"
   },
   "outputs": [],
   "source": [
    "# экспоненциальное скользящее среднее с параметром span=4\n",
    "plt.figure(figsize=(15, 8))\n",
    "sns.lineplot(avocado_full.index, avocado_full.AveragePrice.ewm(span=4).mean())"
   ]
  },
  {
   "cell_type": "code",
   "execution_count": null,
   "metadata": {
    "id": "7aTWsRhcLFkC"
   },
   "outputs": [],
   "source": [
    "#  19 февраля 2017 среднее rolling\n",
    "avocado_full.AveragePrice.rolling(4, min_periods = 1).mean()['2017-02-19']"
   ]
  },
  {
   "cell_type": "code",
   "execution_count": null,
   "metadata": {
    "id": "vz1uXOA_k6oS"
   },
   "outputs": [],
   "source": [
    "# Конвертируем во время колонку\n",
    "pd.to_timedelta(delays.delay)"
   ]
  },
  {
   "cell_type": "code",
   "execution_count": null,
   "metadata": {
    "id": "qHaLWlstk6mA"
   },
   "outputs": [],
   "source": [
    "# Как найти максимальное значение в колонке со временем\n",
    "delays.delay.max()\n",
    "#Timedelta('4 days 23:51:14')"
   ]
  },
  {
   "cell_type": "code",
   "execution_count": null,
   "metadata": {
    "id": "m96SNRfvk6kI"
   },
   "outputs": [],
   "source": [
    "# Прологарифмируйте число показов.\n",
    "# Логарифмы нужны, чтобы удобнее было сравнивать величины, которые отличаются в несколько раз.\n",
    "\n",
    "np.log(pivot_table_ad_event.view)"
   ]
  },
  {
   "cell_type": "code",
   "execution_count": null,
   "metadata": {
    "id": "BjjZZgdDk6h9"
   },
   "outputs": [],
   "source": [
    "# Настройки для красивой таблицы\n",
    "\n",
    "sns.set(\n",
    "    font_scale=2,\n",
    "    style=\"whitegrid\",\n",
    "    rc={'figure.figsize':(20,7)}\n",
    "        )"
   ]
  },
  {
   "cell_type": "code",
   "execution_count": null,
   "metadata": {
    "id": "Rubsb8gzk6fJ"
   },
   "outputs": [],
   "source": [
    "# Пивот таблица на основе ранее полученной сводной таблицы / заполнили пропуски\n",
    "pivot_table_ad_event = table_ad_event.pivot_table(index='ad_id', columns='event', values='quantity').fillna(0)\n",
    "pivot_table_ad_event.head(3)"
   ]
  },
  {
   "cell_type": "code",
   "execution_count": null,
   "metadata": {
    "id": "wVBoPBuQxNvt"
   },
   "outputs": [],
   "source": [
    "# Из простого текстового документа достать строки и записать их в список\n",
    "spisok = []  # сюда положим все строки по отдельности\n",
    "scaning = False\n",
    "for i in gff_file:\n",
    "  if i.startswith('chr17\\tRefSeq\\texon\\t6806513\\t6806553\\t.\\t+\\t.\\tParent=XM_001475631.1'):\n",
    "    scaning = False\n",
    "    continue\n",
    "  if scaning == True:\n",
    "    #print(i)\n",
    "    spisok.append(i)\n",
    "  if i.startswith('chr17\\tRefSeq\\texon\\t6811330\\t6811453\\t.\\t+\\t.\\tParent=XM_001475631.1'):\n",
    "    scaning = True\n",
    "    continue"
   ]
  },
  {
   "cell_type": "code",
   "execution_count": null,
   "metadata": {
    "id": "g5bAlBTMk6c1"
   },
   "outputs": [],
   "source": [
    "# Создать дф из списка + сразу объединить дф\n",
    "seq_id_df = pd.Series([i.split()[0] for i in spisok]).to_frame(name='seq_id')\n",
    "source_df = pd.Series([i.split()[1] for i in spisok]).to_frame(name='source')\n",
    "type_df = pd.Series([i.split()[2] for i in spisok]).to_frame(name='type')\n",
    "\n",
    "df = pd.concat([seq_id_df, source_df, type_df, start_df, end_df, score_df, strand_df, phase_df, attributes_df] , axis = 1)"
   ]
  },
  {
   "cell_type": "code",
   "execution_count": null,
   "metadata": {
    "id": "JKiv-ckuk6at"
   },
   "outputs": [],
   "source": []
  },
  {
   "cell_type": "code",
   "execution_count": null,
   "metadata": {
    "id": "G8gL8NLhk6YM"
   },
   "outputs": [],
   "source": []
  },
  {
   "cell_type": "code",
   "execution_count": null,
   "metadata": {
    "id": "1yY_01LIk6V-"
   },
   "outputs": [],
   "source": []
  },
  {
   "cell_type": "code",
   "execution_count": null,
   "metadata": {
    "id": "a644PVk2k6Ts"
   },
   "outputs": [],
   "source": []
  },
  {
   "cell_type": "code",
   "execution_count": null,
   "metadata": {
    "id": "ZzNnNDDZk6Rb"
   },
   "outputs": [],
   "source": []
  },
  {
   "cell_type": "code",
   "execution_count": null,
   "metadata": {
    "id": "P3lCutF1k6PX"
   },
   "outputs": [],
   "source": []
  },
  {
   "cell_type": "code",
   "execution_count": null,
   "metadata": {
    "id": "66J-ql3_k6Mx"
   },
   "outputs": [],
   "source": []
  },
  {
   "cell_type": "code",
   "execution_count": null,
   "metadata": {
    "id": "4AuGdhtwk6Km"
   },
   "outputs": [],
   "source": []
  },
  {
   "cell_type": "code",
   "execution_count": null,
   "metadata": {
    "id": "26OA4xBFk6IU"
   },
   "outputs": [],
   "source": []
  },
  {
   "cell_type": "code",
   "execution_count": null,
   "metadata": {
    "id": "wZiy0Pofk6GG"
   },
   "outputs": [],
   "source": []
  },
  {
   "cell_type": "code",
   "execution_count": null,
   "metadata": {
    "id": "1nM1blr5k6Dp"
   },
   "outputs": [],
   "source": []
  },
  {
   "cell_type": "code",
   "execution_count": null,
   "metadata": {
    "id": "B7Bw1AVok6BM"
   },
   "outputs": [],
   "source": []
  },
  {
   "cell_type": "code",
   "execution_count": null,
   "metadata": {
    "id": "eD8a2lWFk5-1"
   },
   "outputs": [],
   "source": []
  },
  {
   "cell_type": "markdown",
   "metadata": {
    "id": "TjNA6Qk3IoxD"
   },
   "source": [
    "## Lesson 007"
   ]
  },
  {
   "cell_type": "code",
   "execution_count": null,
   "metadata": {
    "id": "b0kG7z5UItM9"
   },
   "outputs": [],
   "source": [
    "# API (GOOGLE SPREADSHEETS, ЯНДЕКС.МЕТРИКА)"
   ]
  },
  {
   "cell_type": "code",
   "execution_count": null,
   "metadata": {
    "id": "Uo11aYVlItJb"
   },
   "outputs": [],
   "source": [
    "CTR (Click-Through Rate) — показатель кликабельности. Чтобы рассчитать показатель, нужно знать количество показов и кликов.\n",
    "Например, если баннер на поиске показали 100 000 раз, а кликнули по нему 250 раз, CTR = 250 / 100 000 × 100% = 0,25%"
   ]
  },
  {
   "cell_type": "code",
   "execution_count": null,
   "metadata": {
    "id": "vPakYIeomEsg"
   },
   "outputs": [],
   "source": [
    "# Замена элементов в зависимости от их значений\n",
    "# Функция np.where() позволяет задать новые значения, основываясь на старых. Она принимает 3 аргумента:\n",
    "# condition — условие, то есть серия со списком True и False. \n",
    "# x — на что заменить True. \n",
    "# y — на что заменить False\n",
    "# Пример\n",
    "import numpy as np\n",
    "a = pd.Series([0, 45, 12, 5, 78, 48, -1, 48])\n",
    "np.where(a>20, 'Good!', 'Bad!')"
   ]
  },
  {
   "cell_type": "code",
   "execution_count": null,
   "metadata": {
    "id": "umeYu7vHmEpI"
   },
   "outputs": [],
   "source": [
    "# Проверка на непропущенные значения\n",
    "# otna — это метод-антоним isna, возвращает True, если значение не NA. \n",
    "# Альтернативный способ получить такой результат — инвертировать результат применения isna с помощью ~ (так во многих языках обозначают not, в логических сериях pandas также).\n",
    "\n",
    "df.notna()\n",
    "# Same as previous\n",
    "~df.isna()"
   ]
  },
  {
   "cell_type": "code",
   "execution_count": null,
   "metadata": {
    "id": "JWlPhh6MmEmK"
   },
   "outputs": [],
   "source": [
    "# Работа с ошибками\n",
    "# Мы можем сделать так, чтобы программа продолжила работать дальше после ошибки. Это делается с помощью конструкции try-except:\n",
    "expenditures = 0\n",
    "income = 100\n",
    "try:\n",
    "    ratio = income / expenditures\n",
    "except:\n",
    "    print('Something went wrong, mb expenditures are 0?')\n",
    "# try и except должны быть вместе вплотную. Как это работает: после try ставится : и идёт блок кода, который пытается выполниться. \n",
    "# Если ему это удаётся, то блок except (тоже с :) пропускается. Если же в блоке try произошла ошибка, то вместо прекращения ошибки идёт переход в блок except и выполняется код, содержащийся там. \n",
    "# Далее следует выход из except и программа работает с кодом в скрипте дальше.\n",
    "\n",
    "# Теперь о том, зачем это нужно. Не нужно вставлять try, чтобы ваш код не падал с ошибками, и радоваться. \n",
    "# Это специальный инструмент для работы с чувствительными местами, где может произойти ошибка, и где вам нужно действовать разными способами в случаях успешной работы блока или ошибки.\n",
    "# Во многих случаях try-except можно заменить полотном предварительных проверок, то есть проверками выполнимости перед выполнением рискованной операции (в примере выше — проверкой на равенство expenditures 0)."
   ]
  },
  {
   "cell_type": "code",
   "execution_count": null,
   "metadata": {
    "id": "O8f-rq5ZmEkA"
   },
   "outputs": [],
   "source": [
    "# random\n",
    "# Служит для генерации случайных чисел. Есть аналог в numpy:\n",
    "\n",
    "# returns number from [a, b]\n",
    "random.randint(100, 200)\n",
    "randrange(10) # Integer from 0 to 9 inclusive"
   ]
  },
  {
   "cell_type": "code",
   "execution_count": null,
   "metadata": {
    "id": "h7KpKCsdmEhK"
   },
   "outputs": [],
   "source": [
    "# API VK\n",
    "# В файле на Юпитер Хабе"
   ]
  },
  {
   "cell_type": "code",
   "execution_count": null,
   "metadata": {
    "id": "hi37bLjVmEex"
   },
   "outputs": [],
   "source": [
    "# json\n",
    "# Библиотека для работы с json'ом — одним из самых распространённых форматов данных в вэбе. \n",
    "# Он используется для пересылки данных между веб-сервисами, и очень похож на словари в python. \n",
    "# Одноимённая библиотека json используется для его преобразования в действительно питоновский словарь.\n",
    "\n",
    "import json\n",
    "\n",
    "# Convert json to python dict\n",
    "json_data = json.loads(some_json)"
   ]
  },
  {
   "cell_type": "code",
   "execution_count": null,
   "metadata": {
    "id": "WMrMdgGXmEcC"
   },
   "outputs": [],
   "source": [
    "# Интернет-запросы\n",
    "# Библиотека requests позволяет взаимодействовать с сайтами. \n",
    "# Метод get() принимает ссылку на сайт в виде строки, и возвращает объект, содержащий ответ с сайта в виде строки:\n",
    "import requests\n",
    "\n",
    "query = requests.get(url)"
   ]
  },
  {
   "cell_type": "code",
   "execution_count": null,
   "metadata": {
    "id": "TW3wJ_ZPmEZw"
   },
   "outputs": [],
   "source": [
    "# Яндекс метрика\n",
    "# \n",
    "# "
   ]
  },
  {
   "cell_type": "code",
   "execution_count": null,
   "metadata": {
    "id": "LscqKASwmEXP"
   },
   "outputs": [],
   "source": [
    "# \n",
    "# \n",
    "# "
   ]
  },
  {
   "cell_type": "code",
   "execution_count": null,
   "metadata": {
    "id": "x--F2ZW8mEUn"
   },
   "outputs": [],
   "source": [
    "# \n",
    "# \n",
    "# "
   ]
  },
  {
   "cell_type": "code",
   "execution_count": null,
   "metadata": {
    "id": "Os93quWhmESS"
   },
   "outputs": [],
   "source": [
    "# \n",
    "# \n",
    "# "
   ]
  },
  {
   "cell_type": "code",
   "execution_count": null,
   "metadata": {
    "id": "IOjneS7omEPb"
   },
   "outputs": [],
   "source": [
    "# \n",
    "# \n",
    "# "
   ]
  },
  {
   "cell_type": "code",
   "execution_count": null,
   "metadata": {
    "id": "cUhnlHu3ItGY"
   },
   "outputs": [],
   "source": [
    "# \n",
    "# \n",
    "# "
   ]
  },
  {
   "cell_type": "code",
   "execution_count": null,
   "metadata": {
    "id": "Q9_9liEKItDn"
   },
   "outputs": [],
   "source": [
    "# \n",
    "# \n",
    "# "
   ]
  },
  {
   "cell_type": "code",
   "execution_count": null,
   "metadata": {
    "id": "GlldM0LgItAz"
   },
   "outputs": [],
   "source": [
    "# \n",
    "# \n",
    "# "
   ]
  },
  {
   "cell_type": "code",
   "execution_count": null,
   "metadata": {
    "id": "ucfygABgIs9t"
   },
   "outputs": [],
   "source": [
    "# \n",
    "# \n",
    "# "
   ]
  },
  {
   "cell_type": "markdown",
   "metadata": {
    "id": "DTg_UKNXFvvk"
   },
   "source": [
    "# Модуль 4 - GIT"
   ]
  },
  {
   "cell_type": "markdown",
   "metadata": {
    "id": "OeXmrPUVF1dv"
   },
   "source": [
    "## Lesson 001"
   ]
  },
  {
   "cell_type": "code",
   "execution_count": null,
   "metadata": {
    "id": "6Hg8SuUwF0wG"
   },
   "outputs": [],
   "source": [
    "# Сделать краткий конспект тут"
   ]
  },
  {
   "cell_type": "code",
   "execution_count": null,
   "metadata": {
    "id": "s3WjTKT2I-Kx"
   },
   "outputs": [],
   "source": [
    "# Пропустил подготовку конспекта, так как не успевал"
   ]
  },
  {
   "cell_type": "code",
   "execution_count": null,
   "metadata": {
    "id": "Nj-XBknnI-G2"
   },
   "outputs": [],
   "source": [
    "# Почитать конспект лекции"
   ]
  },
  {
   "cell_type": "code",
   "execution_count": null,
   "metadata": {
    "id": "-uIXCGGHI-Dp"
   },
   "outputs": [],
   "source": [
    "# Генерировать ключ SSH в терминале:\n",
    "\n",
    "# Пересмотреть в лекции и подробно описать последовательность!\n",
    "\n",
    "ssh-keygen -t rsa -b 4096\n",
    "\n",
    "Enter file in which to save the key (/mnt/HC_Volume_18315164/home-jupyter/jupyter-s-kucher/.ssh/id_rsa):  # Enter\n",
    "\n",
    "Enter passphrase (empty for no passphrase):  # Ввести пароль 6 знаков\n",
    "\n",
    "# Создаст 2 файла в системной папке\n",
    "id_rsa - хранить у себя\n",
    "id_rsa.pub - положить на Гитлаб\n",
    "\n",
    "# Откроем чать ключа для Гитлаба\n",
    "jupyter-s-kucher@lab:~$ cat /mnt/HC_Volume_18315164/home-jupyter/jupyter-s-kucher/.ssh/id_rsa.pub"
   ]
  },
  {
   "cell_type": "markdown",
   "metadata": {
    "id": "Eq85gYCoI_DM"
   },
   "source": [
    "## Lesson 002"
   ]
  },
  {
   "cell_type": "code",
   "execution_count": null,
   "metadata": {
    "id": "68TBUk3yJEhk"
   },
   "outputs": [],
   "source": []
  },
  {
   "cell_type": "code",
   "execution_count": null,
   "metadata": {
    "id": "tkEF-nfOJEOy"
   },
   "outputs": [],
   "source": []
  },
  {
   "cell_type": "code",
   "execution_count": null,
   "metadata": {
    "id": "d6M3mnv7JELO"
   },
   "outputs": [],
   "source": [
    "# Авторизоваться в гите - указать кто я такой. Имя взял из Гита\n",
    "git config --global user.name @s-kucher"
   ]
  },
  {
   "cell_type": "code",
   "execution_count": null,
   "metadata": {
    "id": "Ii2C2I9WJEH0"
   },
   "outputs": [],
   "source": []
  },
  {
   "cell_type": "code",
   "execution_count": null,
   "metadata": {
    "id": "ULWsh7LHJEFM"
   },
   "outputs": [],
   "source": []
  },
  {
   "cell_type": "code",
   "execution_count": null,
   "metadata": {
    "id": "afAA_Ge0JECW"
   },
   "outputs": [],
   "source": []
  }
 ],
 "metadata": {
  "colab": {
   "collapsed_sections": [
    "DTg_UKNXFvvk",
    "OeXmrPUVF1dv",
    "Eq85gYCoI_DM"
   ],
   "provenance": []
  },
  "kernelspec": {
   "display_name": "Python 3 (ipykernel)",
   "language": "python",
   "name": "python3"
  },
  "language_info": {
   "codemirror_mode": {
    "name": "ipython",
    "version": 3
   },
   "file_extension": ".py",
   "mimetype": "text/x-python",
   "name": "python",
   "nbconvert_exporter": "python",
   "pygments_lexer": "ipython3",
   "version": "3.9.13"
  }
 },
 "nbformat": 4,
 "nbformat_minor": 1
}
