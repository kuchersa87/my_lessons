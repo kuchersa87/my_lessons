{
 "cells": [
  {
   "cell_type": "markdown",
   "metadata": {
    "id": "3feGa2Plcl-g"
   },
   "source": [
    "# Модуль 5 - SQL"
   ]
  },
  {
   "cell_type": "markdown",
   "metadata": {
    "id": "8Ue7EJR1cq93"
   },
   "source": [
    "## Lesson 001"
   ]
  },
  {
   "cell_type": "markdown",
   "metadata": {
    "id": "3iyWt_uB-3jJ"
   },
   "source": [
    "### GENERAL DATA"
   ]
  },
  {
   "cell_type": "code",
   "execution_count": null,
   "metadata": {
    "id": "d2gFom3rcqX3"
   },
   "outputs": [],
   "source": [
    "# Узнаем, что такое базы данных и какими они бывают, откуда берутся данные и зачем их хранить в виде базы данных.\n",
    "# Познакомимся с СУБД ClickHouse и научимся подключаться к ней.\n",
    "# Научимся  делать базовые запросы SQL: выбор колонок, фильтрацию и сортировку данных."
   ]
  },
  {
   "cell_type": "code",
   "execution_count": null,
   "metadata": {
    "id": "JRomLhMfctn9"
   },
   "outputs": [],
   "source": [
    "# Данные нужны для принятия решений\n",
    "# Аналитики необходимы для того, чтобы принимать правильные решения для бизнеса"
   ]
  },
  {
   "cell_type": "code",
   "execution_count": null,
   "metadata": {
    "id": "MZezOUvdcuSX"
   },
   "outputs": [],
   "source": [
    "# СППР - Система поддержки принятия решений - DSS - decision support system. Задачи:\n",
    "# Ввод данных\n",
    "# Хранение данных\n",
    "# Анализ данных"
   ]
  },
  {
   "cell_type": "code",
   "execution_count": null,
   "metadata": {
    "id": "SQho9JyacuP6"
   },
   "outputs": [],
   "source": [
    "# Два разных подхода к СУБД\n",
    "# OLTP - обработка транзакций\n",
    "# OLAP - онлайн аналитическая обработка"
   ]
  },
  {
   "cell_type": "code",
   "execution_count": null,
   "metadata": {
    "id": "0n_VPsykcuNl"
   },
   "outputs": [],
   "source": [
    "# NoSQL - не только SQL\n",
    "# CAP принцип\n",
    "# С - consistency - согласованность\n",
    "# A - availibility - доступность \n",
    "# P - partition tolerance - устойчивость к разделению\n",
    "# Для одной системы можно выбрать только 2 из 3х принципов!"
   ]
  },
  {
   "cell_type": "code",
   "execution_count": null,
   "metadata": {
    "id": "54_LzVKscuLZ"
   },
   "outputs": [],
   "source": [
    "# NewSQL"
   ]
  },
  {
   "cell_type": "code",
   "execution_count": null,
   "metadata": {
    "id": "VmYhzlXzcuJI"
   },
   "outputs": [],
   "source": [
    "# Clickhouse\n",
    "# OLAP база даных для аналитического использования\n",
    "# Позволяет быстро читать большие данные\n",
    "# Транзакции отсутствуют\n",
    "# Данные добавляются, но не изменяются"
   ]
  },
  {
   "cell_type": "code",
   "execution_count": null,
   "metadata": {
    "id": "0GDJM4JecuGb"
   },
   "outputs": [],
   "source": [
    "# SQL - Strucrured Query Language - Структурированный язык запросов\n",
    "# Язык программирования, используемый в большинстве реляционных баз данных для запроса, обработки и определения данных, а также контроля доступа.\n",
    "\n",
    "# CRUD - Create, Read, Update, Delete"
   ]
  },
  {
   "cell_type": "code",
   "execution_count": null,
   "metadata": {
    "id": "kyhiUo9fA4jp"
   },
   "outputs": [],
   "source": [
    "# Комментарий строки\n",
    "--LIMIT 100\n",
    "LIMIT 100    -- Указал ограничение по строкам"
   ]
  },
  {
   "cell_type": "code",
   "execution_count": null,
   "metadata": {
    "id": "16NJrq2pPNN0"
   },
   "outputs": [],
   "source": [
    "#Что такое СУБД?\n",
    "\n",
    "- СУБД (или RDBMS) означает систему управления базами данных (Relational Database Management System)\n",
    "- Данные в СУБД хранятся в виде таблиц (объекты СУБД)\n",
    "- Управления объектами происходит с помощью языка SQL\n",
    "- Существует множество разных СУБД. Они могут настолько различаться, что не будут понимать SQL друг друга (PostgreSQL, MySQL, ClickHouse и.т.д.)"
   ]
  },
  {
   "cell_type": "code",
   "execution_count": null,
   "metadata": {
    "id": "D05n8E3jPNHf"
   },
   "outputs": [],
   "source": [
    "#Что такое ClickHouse?\n",
    "- столбцовая система управления базами данных (СУБД) для онлайн обработки аналитических запросов (OLAP)"
   ]
  },
  {
   "cell_type": "code",
   "execution_count": null,
   "metadata": {
    "id": "KKxm5kWLPNEq"
   },
   "outputs": [],
   "source": [
    "#Что такое Tabix?**\n",
    "\n",
    "- Это веб-интерфейс для ClickHouse\n",
    "- Работает с ClickHouse напрямую из браузера, без необходимости установки дополнительного ПО"
   ]
  },
  {
   "cell_type": "markdown",
   "metadata": {
    "id": "mDMerqHw-tGI"
   },
   "source": [
    "### SELECT"
   ]
  },
  {
   "cell_type": "code",
   "execution_count": null,
   "metadata": {
    "id": "xPjv9dC-cuCS"
   },
   "outputs": [],
   "source": [
    "# SELECT - какие поля и в какой последовательности мы хотим отобразить колонки в результирующей таблице\n",
    "# Разнообразные манипуляции с исходными данными / порядком колонок"
   ]
  },
  {
   "cell_type": "code",
   "execution_count": null,
   "metadata": {
    "id": "a0uptUfm7sNz"
   },
   "outputs": [],
   "source": [
    "# Первый пример\n",
    "SELECT *  # отобразить все поля\n",
    "FROM default.installs\n",
    "LIMIT 100"
   ]
  },
  {
   "cell_type": "code",
   "execution_count": null,
   "metadata": {
    "id": "VGapw9e-7sK3"
   },
   "outputs": [],
   "source": [
    "# Явно указать поля для вывода\n",
    "SELECT\n",
    "    InstallationDate,\n",
    "    InstallCost\n",
    "# Порядок столбцов можно менять!"
   ]
  },
  {
   "cell_type": "code",
   "execution_count": null,
   "metadata": {
    "id": "Yh03iFlm73rp"
   },
   "outputs": [],
   "source": [
    "# Сразу задать свою колонку со значением - константу\n",
    "SELECT\n",
    "    777 as my_column"
   ]
  },
  {
   "cell_type": "code",
   "execution_count": null,
   "metadata": {
    "id": "PGrJpyDk73o-"
   },
   "outputs": [],
   "source": [
    "# Сразу переименовать колонки\n",
    "SELECT\n",
    "    InstallationDate as Data,\n",
    "    InstallCost"
   ]
  },
  {
   "cell_type": "code",
   "execution_count": null,
   "metadata": {
    "id": "c-u22Md39dRC"
   },
   "outputs": [],
   "source": [
    "# Сразу подправить данные в таблице\n",
    "SELECT\n",
    "    InstallationDate,\n",
    "    InstallCost * 0.82 as cost_with_tax"
   ]
  },
  {
   "cell_type": "code",
   "execution_count": null,
   "metadata": {
    "id": "cuvQXibvMUH_"
   },
   "outputs": [],
   "source": [
    "# DISTINCT\n",
    "# Посмотреть только уникальные значения в заданной колонке\n",
    "SELECT\n",
    "    DISTINCT InstallationDate\n",
    "FROM default.installs\n",
    "LIMIT 100\n",
    "# Вернёт таблицу с уникальными данными из колонки InstallationDate"
   ]
  },
  {
   "cell_type": "code",
   "execution_count": null,
   "metadata": {
    "id": "O_An6B7SMUEu"
   },
   "outputs": [],
   "source": [
    "# Несколько колонок\n",
    "# Получим список уникальных комбинаций по значениям из заданных колонок\n",
    "SELECT\n",
    "    DISTINCT\n",
    "        Source,\n",
    "        Platform\n",
    "FROM default.installs"
   ]
  },
  {
   "cell_type": "markdown",
   "metadata": {
    "id": "jUTGRcj--zkS"
   },
   "source": [
    "### FROM"
   ]
  },
  {
   "cell_type": "code",
   "execution_count": null,
   "metadata": {
    "id": "2J1iLdhz9dOZ"
   },
   "outputs": [],
   "source": [
    "# FROM - указывваем место, откуда загружаем данные\n",
    "# "
   ]
  },
  {
   "cell_type": "code",
   "execution_count": null,
   "metadata": {
    "id": "V9Em1hV29dKt"
   },
   "outputs": [],
   "source": [
    "# Первый пример\n",
    "SELECT *\n",
    "FROM default.installs  # База данных.имя таблицы\n",
    "LIMIT 100\n",
    "# Если не указать имя базы - база принимается по умолчанию из меню ниже окна ввода"
   ]
  },
  {
   "cell_type": "markdown",
   "metadata": {
    "id": "X_lzjzoUATAn"
   },
   "source": [
    "### LIMIT"
   ]
  },
  {
   "cell_type": "code",
   "execution_count": null,
   "metadata": {
    "id": "m-8UfMr79dF7"
   },
   "outputs": [],
   "source": [
    "# LIMIT - указывает ограничение результирующей таблицы\n",
    "# Без указания лимита будет пытаться вывести все строки"
   ]
  },
  {
   "cell_type": "markdown",
   "metadata": {
    "id": "T6l5o19wBQKd"
   },
   "source": [
    "### WHERE"
   ]
  },
  {
   "cell_type": "code",
   "execution_count": null,
   "metadata": {
    "id": "JgJDBxjE73mb"
   },
   "outputs": [],
   "source": [
    "# WHERE\n",
    "# Когда нам необходимо отфильтровать данные, которые мы вытаскиваем\n",
    "# Указываем после FROM\n",
    "# Условия указываются"
   ]
  },
  {
   "cell_type": "code",
   "execution_count": null,
   "metadata": {
    "id": "C1w2V4w0Bepp"
   },
   "outputs": [],
   "source": [
    "# Пример\n",
    "SELECT\n",
    "    InstallationDate,\n",
    "    InstallCost\n",
    "FROM default.installs\n",
    "WHERE\n",
    "    InstallCost > 0  # Те строки, в которых цена установки больше 0\n",
    "LIMIT 100"
   ]
  },
  {
   "cell_type": "code",
   "execution_count": null,
   "metadata": {
    "id": "BUXbKvpkqwEI"
   },
   "outputs": [],
   "source": [
    "# Несколько условий\n",
    "SELECT *\n",
    "FROM default.retail\n",
    "WHERE\n",
    "    Country = 'United Kingdom'\n",
    "    OR Country = 'Australia'\n",
    "    OR Country = 'Netherlands'\n",
    "LIMIT 1000"
   ]
  },
  {
   "cell_type": "code",
   "execution_count": null,
   "metadata": {
    "id": "ZayNpzDRHD2a"
   },
   "outputs": [],
   "source": [
    "# Несколько условий перечисляются через and / or\n",
    "SELECT\n",
    "    InstallationDate\n",
    "FROM default.installs\n",
    "WHERE\n",
    "        InstallCost > 0        # Те строки, в которых цена установки больше 0\n",
    "    AND Platform = 'android'   # строки, где платформа андроид"
   ]
  },
  {
   "cell_type": "code",
   "execution_count": null,
   "metadata": {
    "id": "kL0RbUYBHDy-"
   },
   "outputs": [],
   "source": [
    "# Пример сложного условия\n",
    "SELECT\n",
    "    InstallationDate\n",
    "FROM default.installs\n",
    "WHERE\n",
    "    (\n",
    "        InstallCost > 0\n",
    "    AND Platform = 'android'\n",
    "    )\n",
    "    OR\n",
    "    (\n",
    "        InstallCost = 0\n",
    "    AND Platform = 'iOS'\n",
    "    )"
   ]
  },
  {
   "cell_type": "markdown",
   "metadata": {
    "id": "3ZA_2aUCJ31o"
   },
   "source": [
    "### ORDER BY"
   ]
  },
  {
   "cell_type": "code",
   "execution_count": null,
   "metadata": {
    "id": "e8u3z2Znct_j"
   },
   "outputs": [],
   "source": [
    "# ORDER BY\n",
    "# Сортировка по полю и направлению - возрастание / убывание\n",
    "# ASC / DESC  - тип сортировки"
   ]
  },
  {
   "cell_type": "code",
   "execution_count": null,
   "metadata": {
    "id": "jAQMd_uzKNvH"
   },
   "outputs": [],
   "source": [
    "# Пример команды на сортировку\n",
    "SELECT\n",
    "    InstallationDate\n",
    "FROM default.installs\n",
    "ORDER BY\n",
    "    Platform DESC"
   ]
  },
  {
   "cell_type": "code",
   "execution_count": null,
   "metadata": {
    "id": "VftSShOlKNs6"
   },
   "outputs": [],
   "source": [
    "# Сортировка по двум колонкам\n",
    "SELECT\n",
    "    InstallationDate\n",
    "FROM default.installs\n",
    "ORDER BY\n",
    "    Date ASC,\n",
    "    Platform DESC"
   ]
  },
  {
   "cell_type": "markdown",
   "metadata": {
    "id": "J6XyqtS85UpG"
   },
   "source": [
    "### TASKS"
   ]
  },
  {
   "cell_type": "code",
   "execution_count": null,
   "metadata": {
    "id": "8olB3OQg5Ymi"
   },
   "outputs": [],
   "source": [
    "# Чтобы взглянуть на колонки этой таблицы и получить первое представление о ее данных, выведите первые 10 строк таблицы checks\n",
    "select *\n",
    "from checks\n",
    "limit 10"
   ]
  },
  {
   "cell_type": "code",
   "execution_count": null,
   "metadata": {
    "id": "fycJPX0G5Y4F"
   },
   "outputs": [],
   "source": [
    "# Давайте посмотрим на топ-10 платежей по сумме в рублях. Выведите первые 10 строк таблицы checks, но теперь отсортировав значения Rub по убыванию (DESC).\n",
    "select *\n",
    "from checks\n",
    "order by\n",
    "    rub DESC\n",
    "limit 10"
   ]
  },
  {
   "cell_type": "code",
   "execution_count": null,
   "metadata": {
    "id": "q2JN5fND5Y1T"
   },
   "outputs": [],
   "source": [
    "# Для работы бывает удобно переименовать колонки таблицы. \n",
    "# Выведите первые 15 строк таблицы checks, переименовав поле Rub в Revenue и используя сортировку по возрастанию столбца UserID. \n",
    "# Разместите столбцы в запросе в следующем порядке revenue, buydate, userid.\n",
    "select\n",
    "    rub as Revenue,\n",
    "    buydate,\n",
    "    userid\n",
    "from checks\n",
    "order by\n",
    "    UserID ASC\n",
    "limit 15"
   ]
  },
  {
   "cell_type": "code",
   "execution_count": null,
   "metadata": {
    "id": "Qm7_kXps5Yy5"
   },
   "outputs": [],
   "source": [
    "# Проверьте, данные за какой период имеются в таблице. \n",
    "# Для этого используйте MIN и MAX по колонке BuyDate. \n",
    "# Колонки с минимальным и максимальным значением назовите MinDate и MaxDate соответственно.\n",
    "select\n",
    "    MIN(BuyDate) as MinDate,\n",
    "    MAX(BuyDate) as MaxDate\n",
    "from checks\n",
    "# вернёт дф с индексом 0 и 2-мя колонками MinDate / MaxDate с указанием минимального и максимального значения из колонки BuyDate"
   ]
  },
  {
   "cell_type": "code",
   "execution_count": null,
   "metadata": {
    "id": "BPGPDcCN5Ywi"
   },
   "outputs": [],
   "source": [
    "# Выведите UserID 10 уникальных покупателей, используя оператор DISTINCT. \n",
    "# Таблицу отсортируйте по UserID в порядке возрастания.\n",
    "select\n",
    "    DISTINCT\n",
    "        UserID\n",
    "from checks\n",
    "order by \n",
    "    UserID ASC\n",
    "limit 10"
   ]
  },
  {
   "cell_type": "code",
   "execution_count": null,
   "metadata": {
    "id": "xMVipblt5YuJ"
   },
   "outputs": [],
   "source": [
    "# Выведите информацию о продажах, которые были совершены 8 марта 2019 года, используя блок WHERE применительно к полю BuyDate\n",
    "# Значения отсортируйте по убыванию Rub\n",
    "# Количество строк для извлечения – 10.\n",
    "# Дата хранится в таблице в текстовом виде и имеет формат год-месяц-день (‘YYYY-MM-DD’).\n",
    "# Например: 1 декабря 2018 года записывается как '2018-12-01'\n",
    "select *\n",
    "from checks\n",
    "where\n",
    "    BuyDate = '2019-03-08'\n",
    "order by\n",
    "    Rub DESC\n",
    "limit 10"
   ]
  },
  {
   "cell_type": "code",
   "execution_count": null,
   "metadata": {
    "id": "T46-kxHk5Yrj"
   },
   "outputs": [],
   "source": [
    "# Давайте применим WHERE к полям BuyDate и Rub, и посмотрим на уникальные id покупателей из checks, которые совершили покупку 1 сентября 2019 года на сумму более 2 000 рублей.\n",
    "# Значения отсортируйте по убыванию UserID.\n",
    "select\n",
    "    DISTINCT\n",
    "        UserID\n",
    "from checks\n",
    "where\n",
    "        BuyDate = '2019-09-01'\n",
    "    and Rub > 2000\n",
    "order by\n",
    "    UserID DESC"
   ]
  },
  {
   "cell_type": "markdown",
   "metadata": {
    "id": "BG0ciOwg-eHk"
   },
   "source": [
    "## Lesson 002"
   ]
  },
  {
   "cell_type": "markdown",
   "metadata": {
    "id": "z-ePHuzzFBpk"
   },
   "source": [
    "### General"
   ]
  },
  {
   "cell_type": "code",
   "execution_count": null,
   "metadata": {
    "id": "4FTSq-gQ-hMN"
   },
   "outputs": [],
   "source": [
    "# 4 основныъ таблицы в Табиксе - база default\n",
    "# installs - сводная информация по установке приложений\n",
    "# events - события\n",
    "# checks - покупки\n",
    "# devices - сводная таблица номер устройства / номер аккаунта - данные о склейке устройств с логинами"
   ]
  },
  {
   "cell_type": "code",
   "execution_count": null,
   "metadata": {
    "id": "LbODEm0WQhWT"
   },
   "outputs": [],
   "source": [
    "# Понять на какой платформе больше установок\n",
    "# Привязываемся к уникальным значениям\n",
    "select\n",
    "    Platform,\n",
    "    count(DISTINCT DeviceID) as classic_uniqs,      # - классический\n",
    "    uniq(DeviceID) as click_house_uniqs,            # - примерный\n",
    "    uniqExact(DeviceID) as click_house_exact_uniqs  # - точный расчёт\n",
    "from installs\n",
    "group by\n",
    "    Platform"
   ]
  },
  {
   "cell_type": "code",
   "execution_count": null,
   "metadata": {
    "id": "HXjTbCRCaCHq"
   },
   "outputs": [],
   "source": [
    "# Разбивка по двум источникам\n",
    "# Добавили источник установки - Source\n",
    "select\n",
    "    Source,\n",
    "    Platform,\n",
    "    count(DISTINCT DeviceID) as classic_uniqs,\n",
    "    uniq(DeviceID) as click_house_uniqs,\n",
    "    uniqExact(DeviceID) as click_house_exact_uniqs\n",
    "from installs\n",
    "group by\n",
    "    Source,\n",
    "    Platform\n",
    "ORDER BY\n",
    "    Source DESC,\n",
    "    Platform DESC"
   ]
  },
  {
   "cell_type": "code",
   "execution_count": null,
   "metadata": {
    "id": "2DhlJsjF-AuQ"
   },
   "outputs": [],
   "source": [
    "# Посмотрим функцию count\n",
    "# Считает количество строк\n",
    "select\n",
    "    Source,\n",
    "    count() as count_rows\n",
    "from installs\n",
    "group by\n",
    "    Source\n",
    "ORDER BY\n",
    "    Source DESC"
   ]
  },
  {
   "cell_type": "code",
   "execution_count": null,
   "metadata": {
    "id": "4BmCEEjX-Apa"
   },
   "outputs": [],
   "source": [
    "# Функци min max\n",
    "# Функция summ\n",
    "# Функция AVG\n",
    "select\n",
    "    Source,\n",
    "    MIN(InstallCost) as min_InstallCost,\n",
    "    MAX(InstallCost) as max_InstallCost,\n",
    "    SUM(InstallCost) as total_cost,\n",
    "    AVG(InstallCost) as avg_install_cost\n",
    "from installs\n",
    "GROUP BY\n",
    "    Source\n",
    "ORDER BY \n",
    "    Source DESC"
   ]
  },
  {
   "cell_type": "code",
   "execution_count": null,
   "metadata": {
    "id": "HosgqJaZ-Amj"
   },
   "outputs": [],
   "source": [
    "# Функция any - любое значение из обозначенной колонки\n",
    "select\n",
    "    Source,\n",
    "    MIN(InstallCost) as min_InstallCost,\n",
    "    any(DeviceID) as DeviceID_any\n",
    "from installs\n",
    "GROUP BY\n",
    "    Source\n",
    "ORDER BY\n",
    "    Source DESC"
   ]
  },
  {
   "cell_type": "code",
   "execution_count": null,
   "metadata": {
    "id": "qsqFHZNv-Aj7"
   },
   "outputs": [],
   "source": [
    "# Функция median\n",
    "select\n",
    "    Source,\n",
    "    median(InstallCost) as InstallCost_median,\n",
    "    quantile(0.50)(InstallCost) as InstallCost_median2,  # тоже самое, что и медиана\n",
    "    AVG(InstallCost) as InstallCost_AVG\n",
    "from installs\n",
    "GROUP BY\n",
    "    Source\n",
    "ORDER BY\n",
    "    Source DESC"
   ]
  },
  {
   "cell_type": "code",
   "execution_count": null,
   "metadata": {
    "id": "KjLk7asPaCFC"
   },
   "outputs": [],
   "source": [
    "# Получить массивы по каждому варианту из таблицы\n",
    "# Функция groupArray\n",
    "select\n",
    "    UserID,\n",
    "    any(BuyDate) as sample_buy_dates,\n",
    "    groupArray(BuyDate) as all_buy_dates\n",
    "from checks\n",
    "GROUP BY\n",
    "    UserID\n",
    "limit 100"
   ]
  },
  {
   "cell_type": "code",
   "execution_count": null,
   "metadata": {
    "id": "6anRCyYCIIVo"
   },
   "outputs": [],
   "source": [
    "# Функция Having\n",
    "# Фильтрация результирующих таблиц\n",
    "# Аналог Where для результата\n",
    "select\n",
    "    Source,\n",
    "    AVG(InstallCost) as avg_install_cost,\n",
    "    SUM(InstallCost) as total_cost\n",
    "from installs\n",
    "group by\n",
    "    Source\n",
    "having\n",
    "    total_cost > 0\n",
    "ORDER BY\n",
    "    total_cost DESC"
   ]
  },
  {
   "cell_type": "code",
   "execution_count": null,
   "metadata": {
    "id": "26SAZVlVQhTj"
   },
   "outputs": [],
   "source": [
    "# uniq - приближённый результат - сохраняет ресурсы\n",
    "# uniqExact - точный результат"
   ]
  },
  {
   "cell_type": "markdown",
   "metadata": {
    "id": "R6n8rCH_q2W-"
   },
   "source": [
    "### Tasks"
   ]
  },
  {
   "cell_type": "code",
   "execution_count": null,
   "metadata": {
    "id": "hLYYVikSq44e"
   },
   "outputs": [],
   "source": [
    "работает\n",
    "SELECT manager, SUM(revenue) as revenue FROM tickets GROUP BY manager;\n",
    "SELECT COUNT(DISTINCT manager) FROM tickets;\n",
    "не работает\n",
    "SELECT manager, SUM(revenue) as SumRev FROM tickets GROUP BY revenue;\n",
    "SELECT manager, id, MAX(revenue) as MaxRev FROM tickets GROUP BY manager HAVING MAX(revenue)>5000;"
   ]
  },
  {
   "cell_type": "code",
   "execution_count": null,
   "metadata": {
    "id": "5bafvBS5tOCm"
   },
   "outputs": [],
   "source": [
    "# Посчитайте, сколько покупок приходится на каждого клиента, указав имя столбца как NumChecks. \n",
    "# Результирующую таблицу с UserID, NumChecks отсортируйте по убыванию (DESC) нового столбца. \n",
    "# Ограничение вывода – 10\n",
    "SELECT\n",
    "    UserID,\n",
    "    COUNT(BuyDate) as NumChecks\n",
    "FROM checks\n",
    "GROUP BY\n",
    "    UserID\n",
    "ORDER BY\n",
    "    NumChecks DESC\n",
    "LIMIT 10"
   ]
  },
  {
   "cell_type": "code",
   "execution_count": null,
   "metadata": {
    "id": "QTzmzfvBtOAT"
   },
   "outputs": [],
   "source": [
    "# Давайте немного усложним задачу, и посчитаем ещё и сумму сделанных покупок в рублях (Rub).\n",
    "# Выведите в результирующую таблицу UserID клиентов, количество сделанных покупок (NumChecks) и сумму потраченных денег (Revenue). \n",
    "# Результат отсортируйте по убыванию Revenue, оставив 10 записей.\n",
    "SELECT\n",
    "    UserID,\n",
    "    COUNT(BuyDate) as NumChecks,\n",
    "    SUM(Rub) as Revenue\n",
    "FROM checks\n",
    "GROUP BY\n",
    "    UserID\n",
    "ORDER BY\n",
    "    Revenue DESC\n",
    "LIMIT 10"
   ]
  },
  {
   "cell_type": "code",
   "execution_count": null,
   "metadata": {
    "id": "Up5t_jQntN9q"
   },
   "outputs": [],
   "source": [
    "# Теперь давайте попробуем с помощью группировки и агрегатных функций посмотреть динамику трат клиентов. \n",
    "# Для этого нужно посчитать по дням минимальный, средний, и максимальный чек. Иными словами, необходимо сгруппироваться по датам, и использовать агрегатные функции MIN, AVG, MAX.\n",
    "# Выведите минимальный (MinCheck), максимальный (MaxCheck) и средний (AvgCheck) чек по дням. \n",
    "# В результирующей таблице используйте сортировку по убыванию (DESC) столбца BuyDate. Как и на предыдущем шаге, ограничение на вывод равно 10.\n",
    "SELECT\n",
    "    BuyDate,\n",
    "    MIN(Rub) as MinCheck,\n",
    "    MAX(Rub) as MaxCheck,\n",
    "    AVG(Rub) as AvgCheck\n",
    "FROM checks\n",
    "GROUP BY\n",
    "    BuyDate\n",
    "ORDER BY\n",
    "    BuyDate DESC\n",
    "LIMIT 10"
   ]
  },
  {
   "cell_type": "code",
   "execution_count": null,
   "metadata": {
    "id": "0llIPSRJuma7"
   },
   "outputs": [],
   "source": [
    "# Представим, что для проведения новой акции нам потребовалось выгрузить сегмент пользователей, которые приносят наибольшую выручку.\n",
    "# Найдите покупателей, сумма покупок которых превышает 10 000 рублей (Rub).\n",
    "# Для этого сгруппируйте пользователей по UserID, затем примените нужную агрегатную функцию и назовите новую колонку Revenue. \n",
    "# Отфильтруйте нужные значения, результат отсортируйте по убыванию UserID и выведите 10 строк.\n",
    "# Note: В данном задании под капотом используется другая проверяющая система, поэтому запрос чувствителен к регистру.\n",
    "SELECT\n",
    "    UserID,\n",
    "    SUM(Rub) as Revenue\n",
    "FROM checks\n",
    "GROUP BY\n",
    "    UserID\n",
    "HAVING\n",
    "    Revenue > 10000\n",
    "ORDER BY\n",
    "    UserID DESC\n",
    "LIMIT 10"
   ]
  },
  {
   "cell_type": "code",
   "execution_count": null,
   "metadata": {
    "id": "ipTl5kGlumYM"
   },
   "outputs": [],
   "source": [
    "# Посчитайте выручку (Revenue) по странам и отсортируйте таблицу в порядке убывания выручки. \n",
    "# В качестве ответа скопируйте название страны с самой высокой выручкой.  \n",
    "# Обратите внимание, что в изначальной таблице указана цена одной единицы товара (UnitPrice) и количество купленного товара (Quantity), а не выручка, и для получения \n",
    "# Revenue нужно будет использовать агрегирующую функцию Sum и оператор умножения *\n",
    "SELECT\n",
    "    Country,\n",
    "    SUM(UnitPrice * Quantity) as Revenue\n",
    "FROM retail\n",
    "GROUP BY\n",
    "    Country\n",
    "ORDER BY\n",
    "    Revenue DESC\n",
    "LIMIT 10"
   ]
  },
  {
   "cell_type": "code",
   "execution_count": null,
   "metadata": {
    "id": "PKrAGEhTumVx"
   },
   "outputs": [],
   "source": [
    "# Посчитайте среднее число купленных товаров по стране и среднюю цену товара, сгруппировав данные по странам и используя агрегирующую функцию Avg, и отсортируйте по убыванию средней цены товара (DESC).\n",
    "# Обратите внимание, что в данных встречаются строки с Description 'Manual', которые включают данные об удаленных из чека позициях. \n",
    "# Для получения правильного ответа такие строки необходимо отфильтровать с использованием операторов WHERE и неравенства !=.\n",
    "SELECT\n",
    "    Country,\n",
    "    AVG(Quantity),\n",
    "    AVG(UnitPrice)\n",
    "FROM retail\n",
    "WHERE\n",
    "    Description != 'Manual'\n",
    "GROUP BY\n",
    "    Country\n",
    "ORDER BY\n",
    "    avg(UnitPrice) DESC"
   ]
  },
  {
   "cell_type": "code",
   "execution_count": null,
   "metadata": {
    "id": "U_68QlJ5umTk"
   },
   "outputs": [],
   "source": [
    "# Теперь посмотрим на динамику общей суммы выручки по месяцам.\n",
    "# Посчитайте выручку (Revenue) по месяцам (обратите внимание, что в таблице указана цена одной единицы товара и количество купленного товара), округлив InvoiceDate к началу месяца с помощью toStartOfMonth().\n",
    "# В качестве ответа укажите сумму выручки (Revenue) из первой строки результирующей таблицы, используя сортировку по убыванию (DESC) по столбцу Revenue. \n",
    "# Не забывайте отфильтровать строки по условию Description != 'Manual'\n",
    "SELECT\n",
    "    toStartOfMonth(InvoiceDate) as month_,\n",
    "    SUM(UnitPrice * Quantity) as Revenue\n",
    "FROM retail\n",
    "WHERE\n",
    "    Description != 'Manual'\n",
    "GROUP BY\n",
    "    toStartOfMonth(InvoiceDate)\n",
    "ORDER BY\n",
    "    Revenue DESC"
   ]
  },
  {
   "cell_type": "code",
   "execution_count": null,
   "metadata": {
    "id": "vQWMLFkwumQ_"
   },
   "outputs": [],
   "source": [
    "# Посчитайте среднюю цену товара клиента (UnitPrice) с группировкой по id покупателя, используя агрегирующую функцию Avg, затем выведите строки с покупками тех покупателей, \n",
    "# у которых самая высокая средняя цена купленного товара в марте. \n",
    "# Не забывайте отфильтровать строки по условию Description != 'Manual'. \n",
    "# В качестве ответа впишите CustomerID покупателя с самой высокой средней ценой купленного товара.\n",
    "SELECT\n",
    "    CustomerID,\n",
    "    AVG(UnitPrice),\n",
    "    toStartOfMonth(InvoiceDate) as month_\n",
    "FROM retail\n",
    "WHERE\n",
    "    Description != 'Manual'\n",
    "GROUP BY\n",
    "    CustomerID,\n",
    "    toStartOfMonth(InvoiceDate)\n",
    "HAVING\n",
    "    toStartOfMonth(InvoiceDate) = '2011-03-01'\n",
    "ORDER BY\n",
    "    AVG(UnitPrice) DESC\n",
    "LIMIT 10"
   ]
  },
  {
   "cell_type": "code",
   "execution_count": null,
   "metadata": {
    "id": "8tRJIRgLumNy"
   },
   "outputs": [],
   "source": [
    "# Давайте попробуем ответить на следующий вопрос: \"Как изменилось среднее, минимальное и максимальное количество купленного товара в стране с наибольшей выручкой в течение последних месяцев?\"\n",
    "# Для этого нужно сгруппировать данные по странам и месяцам, посчитать среднее (Avg), минимальное (Min) и максимальное (Max) количество купленных товаров (Quantity), и отсортировать данные по месяцу, \n",
    "# применить фильтр по стране (нам нужны данные из страны с наибольшей выручкой из задания 8 (step 8)). \n",
    "# Если обратить внимание на полученное значение минимального количества товаров, то станет понятно, что там есть отрицательные значения, которые следует отфильтровать \n",
    "# (также не забывайте отфильтровывать значения с Description != 'Manual').\n",
    "SELECT\n",
    "    toStartOfMonth(InvoiceDate) as month_,\n",
    "    AVG(Quantity),\n",
    "    MIN(Quantity),\n",
    "    MAX(Quantity)\n",
    "FROM retail\n",
    "WHERE\n",
    "        Country = 'United Kingdom'\n",
    "    AND Description != 'Manual'\n",
    "    AND Quantity > 0\n",
    "GROUP BY\n",
    "    toStartOfMonth(InvoiceDate) as month_\n",
    "ORDER BY\n",
    "    avg(Quantity) DESC\n",
    "LIMIT 100"
   ]
  },
  {
   "cell_type": "markdown",
   "metadata": {
    "id": "MHS-vep3B3b7"
   },
   "source": [
    "## Lesson 003"
   ]
  },
  {
   "cell_type": "markdown",
   "metadata": {
    "id": "FgobEAlFpitE"
   },
   "source": [
    "### Lection"
   ]
  },
  {
   "cell_type": "code",
   "execution_count": null,
   "metadata": {
    "id": "048hZTKHB6Jr"
   },
   "outputs": [],
   "source": [
    "# Первая таблица, которую указываем - левая, вторая - правая"
   ]
  },
  {
   "cell_type": "code",
   "execution_count": null,
   "metadata": {
    "id": "ev-1z3zuB6Rc"
   },
   "outputs": [],
   "source": [
    "# Декартово произведение -  одна из отправных операций над отношениями в реляционной модели.\n",
    "# Декартово произведение двух отношений, большое отношение из всевозможных сочетаний строк в A и B\n",
    "# Встречается, если ключ в таблице встречается несколько раз при соединении таблиц"
   ]
  },
  {
   "cell_type": "code",
   "execution_count": null,
   "metadata": {
    "id": "XetMNXTTb5jr"
   },
   "outputs": [],
   "source": [
    "# По умолчанию используется тип inner"
   ]
  },
  {
   "cell_type": "code",
   "execution_count": null,
   "metadata": {
    "id": "Z7jbrFPjB6Od"
   },
   "outputs": [],
   "source": [
    "# К данным из установок приклеить данные о активности пользователей\n",
    "# Inner\n",
    "SELECT\n",
    "    l.InstallationDate as InstallationDate,\n",
    "    l.InstallCost as InstallCost,\n",
    "    l.Platform as Platform,\n",
    "    l.DeviceID as DeviceID,\n",
    "    l.Source as Source,\n",
    "    r.UserID as UserID\n",
    "FROM installs AS l\n",
    "JOIN devices AS r\n",
    "    ON l.DeviceID = r.DeviceID\n",
    "LIMIT 100\n",
    "# Длина - 5 730 940"
   ]
  },
  {
   "cell_type": "code",
   "execution_count": null,
   "metadata": {
    "id": "rnWpyghEB6MH"
   },
   "outputs": [],
   "source": [
    "# Проверка длины списка\n",
    "SELECT count(*) FROM installs - 11 232 852\n",
    "SELECT count(*) FROM devices  - 9 406 636\n",
    "--SELECT count(*) FROM checks\n",
    "--SELECT count(*) FROM events"
   ]
  },
  {
   "cell_type": "code",
   "execution_count": null,
   "metadata": {
    "id": "A8vZN2IAQWqG"
   },
   "outputs": [],
   "source": [
    "# Найти длину таблицы, которую мы запросили\n",
    "SELECT count(*)\n",
    "FROM\n",
    "(\n",
    "SELECT\n",
    "    l.InstallationDate as InstallationDate,\n",
    "    l.InstallCost as InstallCost,\n",
    "    l.Platform as Platform,\n",
    "    l.DeviceID as DeviceID,\n",
    "    l.Source as Source,\n",
    "    r.UserID as UserID\n",
    "FROM installs AS l\n",
    "JOIN devices AS r\n",
    "    ON l.DeviceID = r.DeviceID\n",
    ")"
   ]
  },
  {
   "cell_type": "code",
   "execution_count": null,
   "metadata": {
    "id": "YzkA-4iXQWoC"
   },
   "outputs": [],
   "source": [
    "# Left\n",
    "SELECT\n",
    "    l.InstallationDate as InstallationDate,\n",
    "    l.InstallCost as InstallCost,\n",
    "    l.Platform as Platform,\n",
    "    l.DeviceID as DeviceID,\n",
    "    l.Source as Source,\n",
    "    r.UserID as UserID\n",
    "FROM installs AS l\n",
    "LEFT JOIN devices AS r\n",
    "    ON l.DeviceID = r.DeviceID\n",
    "LIMIT 100\n",
    "# Там, где нет значений - указал \"0\""
   ]
  },
  {
   "cell_type": "code",
   "execution_count": null,
   "metadata": {
    "id": "Qv5DXx9re5lG"
   },
   "outputs": [],
   "source": [
    "# Right\n",
    "SELECT\n",
    "    l.InstallationDate as InstallationDate,\n",
    "    l.InstallCost as InstallCost,\n",
    "    l.Platform as Platform,\n",
    "    l.DeviceID as DeviceID,\n",
    "    l.Source as Source,\n",
    "    r.UserID as UserID\n",
    "FROM installs AS l\n",
    "RIGHT JOIN devices AS r\n",
    "    ON l.DeviceID = r.DeviceID\n",
    "LIMIT 100"
   ]
  },
  {
   "cell_type": "code",
   "execution_count": null,
   "metadata": {
    "id": "TM66gNtegC3N"
   },
   "outputs": [],
   "source": [
    "# По нескольким условиям\n",
    "# Предварительно группировали 2 таблицы и после этого уже по двум колонкам склеили\n",
    "SELECT\n",
    "    l.InstallationDate as InstallationDate,\n",
    "    r.Source as Source,\n",
    "    l.installs_android as installs_android,\n",
    "    r.installs_iOS as installs_iOS\n",
    "FROM\n",
    "    (\n",
    "    SELECT\n",
    "        InstallationDate,\n",
    "        Source,\n",
    "        uniqExact(DeviceID) AS installs_android\n",
    "    FROM\n",
    "        installs\n",
    "    WHERE\n",
    "        Platform = 'android'\n",
    "    GROUP BY\n",
    "        InstallationDate,\n",
    "        Source\n",
    "    ) AS l\n",
    "JOIN\n",
    "    (\n",
    "    SELECT\n",
    "        InstallationDate,\n",
    "        Source,\n",
    "        uniqExact(DeviceID) AS installs_iOS\n",
    "    FROM\n",
    "        installs\n",
    "    WHERE\n",
    "        Platform = 'iOS'\n",
    "    GROUP BY\n",
    "        InstallationDate,\n",
    "        Source\n",
    "    ) AS r\n",
    "        ON\n",
    "            l.InstallationDate = r.InstallationDate\n",
    "        AND l.Source = r.Source\n",
    "LIMIT 100"
   ]
  },
  {
   "cell_type": "code",
   "execution_count": null,
   "metadata": {
    "id": "Oi00scSBQWmO"
   },
   "outputs": [],
   "source": [
    "# USING and ON\n",
    "# В случае, когда колонки имеют одинаковое название.\n",
    "ON\n",
    "  l.InstallationDate = r.InstallationDate\n",
    "# Тоже самое:\n",
    "USING(InstallationDate)\n",
    "\n",
    "# Во множественном джоине нельзя его использовать!"
   ]
  },
  {
   "cell_type": "code",
   "execution_count": null,
   "metadata": {
    "id": "vcwhXZg2QWkD"
   },
   "outputs": [],
   "source": [
    "# Объединить 3 таблицы\n",
    "# Таблицу 3 пришлось предварительно группировать / аггрегировать\n",
    "SELECT\n",
    "    a.DeviceID AS DeviceID,\n",
    "    a.InstallCost AS InstallCost,\n",
    "    b.UserID AS UserID,\n",
    "    c.sum_rub AS sum_rub\n",
    "FROM installs AS a\n",
    "JOIN devices AS b\n",
    "    ON a.DeviceID = b.DeviceID\n",
    "JOIN\n",
    "    (\n",
    "    SELECT\n",
    "        UserID,\n",
    "        SUM(Rub) AS sum_rub\n",
    "    FROM checks\n",
    "    GROUP BY\n",
    "        UserID\n",
    "    ) AS c\n",
    "    ON b.UserID = c.UserID\n",
    "LIMIT 10"
   ]
  },
  {
   "cell_type": "code",
   "execution_count": null,
   "metadata": {
    "id": "FtuRO0XzQWg-"
   },
   "outputs": [],
   "source": [
    "# Приклеить третью таблицу к уже полученной таблице\n",
    "# Этап 1 - собрать таблицу, к которой будем клеить\n",
    "SELECT\n",
    "    l.DeviceID AS DeviceID,\n",
    "    l.InstallCost AS InstallCost,\n",
    "    r.UserID AS UserID\n",
    "FROM installs AS l\n",
    "JOIN devices AS r\n",
    "    USING(DeviceID)\n",
    "LIMIT 10"
   ]
  },
  {
   "cell_type": "code",
   "execution_count": null,
   "metadata": {
    "id": "d0CxqRoLQWdr"
   },
   "outputs": [],
   "source": [
    "# Этап 2 - откорректировать запрос - создать подзапрос\n",
    "SELECT\n",
    "    l.DeviceID AS DeviceID,\n",
    "    l.InstallCost AS InstallCost,\n",
    "    l.UserID AS UserID,\n",
    "    r.sum_rub AS sum_rub\n",
    "# Вот эта была. К ней клеим\n",
    "FROM\n",
    "    (\n",
    "    SELECT\n",
    "        l.DeviceID AS DeviceID,\n",
    "        l.InstallCost AS InstallCost,\n",
    "        r.UserID AS UserID\n",
    "    FROM installs AS l\n",
    "    JOIN devices AS r\n",
    "        USING(DeviceID)\n",
    "    ) AS l\n",
    "JOIN\n",
    "# Вот эту клеим\n",
    "    (\n",
    "    SELECT\n",
    "        UserID,\n",
    "        SUM(Rub) AS sum_rub\n",
    "    FROM checks\n",
    "    GROUP BY\n",
    "        UserID\n",
    "    ) AS r\n",
    "        USING(UserID)\n",
    "LIMIT 10"
   ]
  },
  {
   "cell_type": "code",
   "execution_count": null,
   "metadata": {
    "id": "v7J-Ko1Sb_9k"
   },
   "outputs": [],
   "source": [
    "# Склейка из нескольких таблиц\n",
    "# Сначала собираем все уникальные значения из столбца, по которому будем склеивать\n",
    "# После этого к какждому уникальному значению подберём его соответствующую пару из всех таблиц\n",
    "\n",
    "SELECT DISTINCT DeviceID # Поверх полученного списка ещё раз проверили уникальность значений\n",
    "FROM\n",
    "    (\n",
    "    SELECT DISTINCT DeviceID FROM events # Из 3х таблиц вытащили уникальные значения по столбцу DeviceID\n",
    "    UNION ALL                            # Через UNION объединили их в один список\n",
    "    SELECT DISTINCT DeviceID FROM devices\n",
    "    UNION ALL\n",
    "    SELECT DISTINCT DeviceID FROM installs\n",
    "    )\n",
    "LIMIT 10\n",
    "# Каркас получили"
   ]
  },
  {
   "cell_type": "code",
   "execution_count": null,
   "metadata": {
    "id": "vKPHRy0PQWa8"
   },
   "outputs": [],
   "source": [
    "# Прилепить к каркасу что-нибудь, что необходимо\n",
    "# Приклеили цену установки к каркасу\n",
    "SELECT\n",
    "    l.DeviceID AS DeviceID,\n",
    "    r.InstallCost AS InstallCost\n",
    "FROM\n",
    "    (\n",
    "    SELECT DISTINCT DeviceID\n",
    "    FROM\n",
    "        (\n",
    "        SELECT DISTINCT DeviceID FROM events\n",
    "        UNION ALL\n",
    "        SELECT DISTINCT DeviceID FROM devices\n",
    "        UNION ALL\n",
    "        SELECT DISTINCT DeviceID FROM installs\n",
    "        )\n",
    "    ) AS l\n",
    "LEFT JOIN installs AS r\n",
    "    USING(DeviceID)\n",
    "LIMIT 100"
   ]
  },
  {
   "cell_type": "code",
   "execution_count": null,
   "metadata": {
    "id": "-7cXwqmPQWYx"
   },
   "outputs": [],
   "source": [
    "# На каркас накинудт 2 таблицы - InstallCost из одной и UserID из второй\n",
    "SELECT\n",
    "    a.DeviceID AS DeviceID,\n",
    "    b.InstallCost AS InstallCost,\n",
    "    c.UserID AS UserID\n",
    "FROM\n",
    "    (\n",
    "    SELECT DISTINCT DeviceID\n",
    "    FROM\n",
    "        (\n",
    "        SELECT DISTINCT DeviceID FROM events\n",
    "        UNION ALL\n",
    "        SELECT DISTINCT DeviceID FROM devices\n",
    "        UNION ALL\n",
    "        SELECT DISTINCT DeviceID FROM installs\n",
    "        )\n",
    "    ) AS a\n",
    "LEFT JOIN installs AS b\n",
    "    ON\n",
    "        a.DeviceID = b.DeviceID\n",
    "LEFT JOIN devices AS c\n",
    "    ON\n",
    "        a.DeviceID = c.DeviceID\n",
    "LIMIT 10"
   ]
  },
  {
   "cell_type": "code",
   "execution_count": null,
   "metadata": {
    "id": "sEUdAt1mQWWB"
   },
   "outputs": [],
   "source": [
    "# CROSS join\n",
    "# Каждая строка из одной таблицы умножается на каждую строку из второй таблицы\n",
    "SELECT\n",
    "    l.Source AS Source,\n",
    "    r.Platform AS Platform\n",
    "FROM\n",
    "    (\n",
    "    SELECT DISTINCT Source\n",
    "    FROM installs\n",
    "    ) AS l\n",
    "CROSS JOIN\n",
    "    (\n",
    "    SELECT DISTINCT Platform\n",
    "    FROM installs\n",
    "    ) AS r\n",
    "LIMIT 100"
   ]
  },
  {
   "cell_type": "code",
   "execution_count": null,
   "metadata": {
    "id": "4dZuaOH0ju48"
   },
   "outputs": [],
   "source": [
    "# Проверить количество строк и количество уникальных значений из этой же таблицы\n",
    "SELECT\n",
    "    count(*) AS rows,\n",
    "    uniqExact(UserID) AS users\n",
    "FROM devices"
   ]
  },
  {
   "cell_type": "code",
   "execution_count": null,
   "metadata": {
    "id": "sA5u2gSFju2k"
   },
   "outputs": [],
   "source": [
    "# Управление Декартовым произведением\n",
    "ALL JOIN  # Включено\n",
    "ANY JOIN  # Выключено"
   ]
  },
  {
   "cell_type": "code",
   "execution_count": null,
   "metadata": {
    "id": "bFLAcELNQWOY"
   },
   "outputs": [],
   "source": [
    "SELECT\n",
    "    InstallationDate,\n",
    "    Source,\n",
    "    uniqExact(DeviceID) AS installs_android\n",
    "FROM installs\n",
    "WHERE Platform = 'android'\n",
    "GROUP BY\n",
    "    InstallationDate,\n",
    "    Source"
   ]
  },
  {
   "cell_type": "markdown",
   "metadata": {
    "id": "z4Eq0Fkhpl5V"
   },
   "source": [
    "### Tasks"
   ]
  },
  {
   "cell_type": "code",
   "execution_count": null,
   "metadata": {
    "id": "TV16kSyApopL"
   },
   "outputs": [],
   "source": [
    "# У пользователя может быть два идентификатора – UserID и DeviceID. \n",
    "# В таблице checks есть только UserID, в остальных – только DeviceID. \n",
    "# Во вспомогательной таблице devices есть и UserID, и DeviceID. \n",
    "\n",
    "# Давайте с помощью JOIN дополним таблицу events (left) данными о UserID пользователей из таблицы devices (right). \n",
    "# Для некоторых DeviceID не будет пары UserID из таблицы devices – подумайте, какой вид JOIN подойдет, чтобы не потерять те строки, где DeviceID есть в events, но нет в devices.\n",
    "\n",
    "#Укажите UserID из первой строки результирующей таблицы, используя сортировку по убыванию по полю DeviceID.\n",
    "\n",
    "SELECT *\n",
    "FROM events AS l\n",
    "LEFT JOIN devices AS r\n",
    "    USING(DeviceID)\n",
    "ORDER BY\n",
    "    DeviceID DESC\n",
    "LIMIT 1"
   ]
  },
  {
   "cell_type": "code",
   "execution_count": null,
   "metadata": {
    "id": "7U-O7ZPspomM"
   },
   "outputs": [],
   "source": [
    "# Давайте проверим, пользователи пришедшие из какого источника совершили наибольшее число покупок. \n",
    "# В качестве ответа выберите название Source, юзеры которого совершили больше всего покупок.\n",
    "# Hint: Для этого используйте UserID, DeviceID и Source из соответствующих таблиц. \n",
    "# Считать уникальные значения здесь не нужно. Также заметьте, что покупки со стоимостью 0 рублей всё ещё считаются покупками.\n",
    "SELECT\n",
    "    count(Rub) AS quantity_of_buy,  # Количество строк считать\n",
    "    c.Source AS source\n",
    "FROM checks AS a\n",
    "LEFT JOIN devices AS b\n",
    "    ON\n",
    "        a.UserID = b.UserID\n",
    "RIGHT JOIN installs as c\n",
    "    ON\n",
    "        b.DeviceID = c.DeviceID\n",
    "GROUP BY\n",
    "    source\n",
    "ORDER BY\n",
    "    quantity_of_buy DESC\n",
    "# К таблице checks добавил devices LEFT чтобы получить только с покупками - Rub\n",
    "# К полученной таблице добавил installs RIGHT чтобы получить только данные с источниками утановок - Source\n",
    "# Сгруппировал по source\n",
    "# Отфильтровал\n",
    "# На экран вывел только 2 колонки\n",
    "# Source_27 - 22551273 покупок, с учётом нулевых"
   ]
  },
  {
   "cell_type": "code",
   "execution_count": null,
   "metadata": {
    "id": "gtp9UxxFpojD"
   },
   "outputs": [],
   "source": [
    "# Теперь выясним, сколько всего уникальных юзеров совершили покупки в нашем приложении.\n",
    "# Объедините нужные таблицы, посчитайте число уникальных UserID для каждого источника (Source), и в качестве ответа укажите число пользователей, пришедших из Source_7.\n",
    "SELECT\n",
    "    uniqExact(a.UserID) AS UserID_uniq,\n",
    "    c.Source AS Source\n",
    "FROM checks AS a\n",
    "LEFT JOIN devices AS b\n",
    "    ON\n",
    "        a.UserID = b.UserID\n",
    "LEFT JOIN installs AS c\n",
    "    ON\n",
    "        b.DeviceID = c.DeviceID\n",
    "GROUP BY\n",
    "    Source\n",
    "HAVING\n",
    "    Source = 'Source_7'\n",
    "# Начинаем с базы checks, потому что нам нужны именно те клиенты, которые сделали покупки какие-то\n",
    "# К checks клеим devices LEFT, чтобы оставить только те, что есть в базе checks\n",
    "# К полученной таблице клеим installs LEFT, чтобы получить только те значения, что у нас уже есть в полученной таблице.\n",
    "# Группируем по источнику / количеству уникальных значений\n",
    "# Фильтруем на нужный нам источник"
   ]
  },
  {
   "cell_type": "code",
   "execution_count": null,
   "metadata": {
    "id": "vhpJeP64pogc"
   },
   "outputs": [],
   "source": [
    "# Самое время посмотреть на общую выручку, а также минимальный, максимальный и средний чек. \n",
    "# Рассчитайте нужные показатели и соотнесите полученные значения:\n",
    "\n",
    "Максимальный чек пользователей из Source_14\n",
    "MAX(a.Rub) AS max_check - 38189\n",
    "\n",
    "Общая сумма денег, полученная от пользователей Source_1\n",
    "SUM(a.Rub) - 74\n",
    "\n",
    "Средний чек пользователей Source_21\n",
    "AVG(a.Rub) - 5.5555\n",
    "\n",
    "Общая выручка для Source_13\n",
    "SUM(a.Rub) - 2752\n",
    "\n",
    "Максимальная сумма заказа среди пользователей из Source_10\n",
    "MAX(a.Rub) - 10\n",
    "\n",
    "# Заготовка\n",
    "SELECT\n",
    "    c.Source AS Source,\n",
    "    MAX(a.Rub) AS max_check\n",
    "FROM checks AS a\n",
    "LEFT JOIN devices AS b\n",
    "    ON\n",
    "        a.UserID = b.UserID\n",
    "LEFT JOIN installs AS c\n",
    "    ON\n",
    "        b.DeviceID = c.DeviceID\n",
    "GROUP BY\n",
    "    Source\n",
    "HAVING\n",
    "    Source = 'Source_14'"
   ]
  },
  {
   "cell_type": "code",
   "execution_count": null,
   "metadata": {
    "id": "zW_-qgeVIpOj"
   },
   "outputs": [],
   "source": [
    "# Как привести данные к типу date?\n",
    "CAST(l.BuyDate as date)\n",
    "# Сразу преобразовать и сгруппировать по месяцам\n",
    "toStartOfMonth(CAST(l.BuyDate as date))"
   ]
  },
  {
   "cell_type": "code",
   "execution_count": null,
   "metadata": {
    "id": "IyhkWg2HamzP"
   },
   "outputs": [],
   "source": [
    "# Выведите идентификаторы устройств пользователей, которые совершили как минимум одну покупку за последний месяц (октябрь 2019). \n",
    "# Используйте сортировку по возрастанию DeviceID и укажите минимальное значение.\n",
    "# Hint: для извлечения месяца из даты можно использовать toMonth() или  toStartOfMonth(), предварительно приведя BuyDate к типу date.\n",
    "SELECT\n",
    "    toStartOfMonth(CAST(l.BuyDate as date)) AS buy_month,\n",
    "    r.DeviceID AS DeviceID\n",
    "FROM checks AS l\n",
    "LEFT JOIN devices AS r\n",
    "    USING(UserID)\n",
    "GROUP BY\n",
    "    toStartOfMonth(CAST(l.BuyDate as date)),\n",
    "    DeviceID\n",
    "HAVING\n",
    "    toStartOfMonth(CAST(l.BuyDate as date)) = '2019-10-01'\n",
    "ORDER BY\n",
    "    DeviceID ASC\n",
    "LIMIT 10"
   ]
  },
  {
   "cell_type": "code",
   "execution_count": null,
   "metadata": {
    "id": "nNtdwv5camwZ"
   },
   "outputs": [],
   "source": [
    "# Проверим, сколько товаров (events) в среднем просматривают пользователи с разных платформ (Platform), и пришедшие из разных источников  (Source). \n",
    "# Для этого объедините таблицы events и installs, и посчитайте, сколько просмотров в среднем приходится на каждую пару платформа-канал привлечения.\n",
    "# Отсортируйте полученную табличку по убыванию среднего числа просмотров. В качестве ответа укажите платформу и источник, пользователи которого в среднем просматривали товары бóльшее число раз.\n",
    "SELECT\n",
    "    l.AppPlatform AS AppPlatform,\n",
    "    r.Source AS Source,\n",
    "    AVG(l.events) AS avg_events\n",
    "FROM events AS l\n",
    "JOIN installs AS r\n",
    "    USING(DeviceID)\n",
    "GROUP BY\n",
    "    AppPlatform,\n",
    "    Source\n",
    "ORDER BY\n",
    "    avg_events DESC\n",
    "LIMIT 10\n",
    "# К таблице events приклеили installs чтобы видеть источник по колонке DeviceID\n",
    "# Взяли среднее значение events\n",
    "# Сгруппировали по AppPlatform + Source\n",
    "# Сортировка по убыванию"
   ]
  },
  {
   "cell_type": "code",
   "execution_count": null,
   "metadata": {
    "id": "ndU_ogMPamto"
   },
   "outputs": [],
   "source": [
    "# Давайте посчитаем число уникальных DeviceID в инсталлах, для которых присутствуют просмотры в таблице events с разбивкой по платформам (поле Platform). \n",
    "# Для этого можно отобрать все строки только из таблицы installs, для которых нашлось соответствие в таблице events. \n",
    "# В качестве ответа введите число инсталлов, для которых нашлись просмотры, на платформе android.\n",
    "# Внимание! \"Нашлось 0 просмотров\" тоже считается как \"нашлись просмотры\". Главное, чтобы не было именно пропуска.\n",
    "SELECT\n",
    "    r.Platform AS Platform,\n",
    "    uniqExact(DeviceID) AS DeviceID_uniq\n",
    "FROM events AS l\n",
    "LEFT JOIN installs AS r\n",
    "    USING(DeviceID)\n",
    "GROUP BY\n",
    "    Platform\n",
    "HAVING\n",
    "    Platform = 'android'\n",
    "# Прилипили к таблице events таблицу installs LEFT по колонке DeviceID, чтобы остались значения только из таблицы events\n",
    "# Из колонки DeviceID взяли только уникальные значения\n",
    "# Сгруппировали по Platform / уникальные значения DeviceID\n",
    "# Отфильтровали по android"
   ]
  },
  {
   "cell_type": "code",
   "execution_count": null,
   "metadata": {
    "id": "_1DmySItamrd"
   },
   "outputs": [],
   "source": [
    "# Давайте теперь посчитаем конверсию из инсталла в просмотр с разбивкой по платформе инсталла – в данном случае это доля DeviceID, для которых есть просмотры, от всех DeviceID в инсталлах. \n",
    "# Для этого нужно объединить таблицы installs и events так, чтобы получить все DeviceID инсталлов и соответствующие им DeviceID из events, \n",
    "# посчитать число уникальных DeviceID инсталлов (1) и соответствующих DeviceID из events (2) и вычислить долю (2) от (1). В качестве ответа укажите значение конверсии из инсталла в просмотр на платформе ios. \n",
    "# Внимание: ответ указать не в процентах, а именно в виде доли (т.е. не нужно домножать полученный ответ на 100).\n",
    " "
   ]
  },
  {
   "cell_type": "code",
   "execution_count": null,
   "metadata": {
    "id": "a1jN5OCvampP"
   },
   "outputs": [],
   "source": [
    "# Посчитать число уникальных ID с просмотром более 0 для iOS\n",
    "SELECT\n",
    "    r.Platform AS Platform,\n",
    "    l.events > 0 AS events_more_0,\n",
    "    uniqExact(DeviceID) AS DeviceID_uniq\n",
    "FROM events AS l\n",
    "RIGHT JOIN installs AS r\n",
    "    USING(DeviceID)\n",
    "GROUP BY\n",
    "    Platform,\n",
    "    events_more_0\n",
    "HAVING\n",
    "        Platform = 'iOS'\n",
    "    AND events_more_0 = 1\n",
    "# Общее число уникальных ID для iOS\n",
    "SELECT\n",
    "    r.Platform AS Platform,\n",
    "    uniqExact(DeviceID) AS DeviceID_uniq\n",
    "FROM events AS l\n",
    "RIGHT JOIN installs AS r\n",
    "    USING(DeviceID)\n",
    "GROUP BY\n",
    "    Platform\n",
    "HAVING\n",
    "    Platform = 'iOS'"
   ]
  },
  {
   "cell_type": "code",
   "execution_count": null,
   "metadata": {
    "id": "u7haXqopamms"
   },
   "outputs": [],
   "source": [
    "97969150 r\n",
    "270729207 l"
   ]
  },
  {
   "cell_type": "code",
   "execution_count": null,
   "metadata": {
    "id": "hdJuSlQIamkN"
   },
   "outputs": [],
   "source": [
    "1973763 - IOS  и событий более 1 шт количество уникальных ИД\n",
    "2066381"
   ]
  },
  {
   "cell_type": "code",
   "execution_count": null,
   "metadata": {
    "colab": {
     "base_uri": "https://localhost:8080/"
    },
    "executionInfo": {
     "elapsed": 301,
     "status": "ok",
     "timestamp": 1674402436079,
     "user": {
      "displayName": "Сергей Кучер",
      "userId": "06348785934949478413"
     },
     "user_tz": -180
    },
    "id": "oelXQpVbKLZG",
    "outputId": "7573909a-ea76-40e2-de42-a7879c9c9681"
   },
   "outputs": [
    {
     "data": {
      "text/plain": [
       "0.9715179156814141"
      ]
     },
     "execution_count": 3,
     "metadata": {},
     "output_type": "execute_result"
    }
   ],
   "source": [
    "1973763 / 2031628"
   ]
  },
  {
   "cell_type": "code",
   "execution_count": null,
   "metadata": {
    "id": "w0LTkEVquecI"
   },
   "outputs": [],
   "source": [
    "SELECT\n",
    "    l.Platform AS Platform,\n",
    "    l.DeviceID AS DeviceID,\n",
    "    r.events AS events\n",
    "FROM installs AS l\n",
    "LEFT JOIN events AS r\n",
    "    USING(DeviceID)\n",
    "LIMIT 10"
   ]
  },
  {
   "cell_type": "code",
   "execution_count": null,
   "metadata": {
    "id": "LtyYaUEFueZU"
   },
   "outputs": [],
   "source": [
    "# Всего уникальных ID в нашей таблице\n",
    "SELECT\n",
    "    uniqExact(DeviceID)\n",
    "FROM installs AS l\n",
    "LEFT JOIN events AS r\n",
    "    USING(DeviceID)\n",
    "# 11 232 852\n",
    "\n",
    "# Всего уникальных ID в нашей таблице с фильтром iOS\n",
    "# Запрос для таблицы 1\n",
    "SELECT\n",
    "    l.Platform AS Platform,\n",
    "    uniqExact(DeviceID) AS DeviceID_without_event\n",
    "FROM installs AS l\n",
    "LEFT JOIN events AS r\n",
    "    USING(DeviceID)\n",
    "GROUP BY\n",
    "    Platform\n",
    "HAVING\n",
    "    Platform = 'iOS'\n",
    "# 2 066 381\n",
    "\n",
    "# Таблица iOS / мин event >0 / ID - длина списка\n",
    "SELECT count(*)\n",
    "FROM\n",
    "    (\n",
    "    SELECT\n",
    "        l.Platform AS Platform,\n",
    "        MIN(r.events) AS events_min,\n",
    "        l.DeviceID AS DeviceID\n",
    "    FROM installs AS l\n",
    "    LEFT JOIN events AS r\n",
    "        USING(DeviceID)\n",
    "    GROUP BY\n",
    "        Platform,\n",
    "        DeviceID\n",
    "    HAVING\n",
    "            Platform = 'iOS'\n",
    "        AND events_min > 0\n",
    "    )\n",
    "# 1 277 257\n",
    "\n",
    "# Запрос для таблицы 2 - работает!\n",
    "SELECT\n",
    "    Platform,\n",
    "    uniqExact(DeviceID) AS DeviceID_with_event\n",
    "FROM\n",
    "    (\n",
    "    SELECT\n",
    "        l.Platform AS Platform,\n",
    "        MIN(r.events) AS events,\n",
    "        l.DeviceID AS DeviceID\n",
    "    FROM installs AS l\n",
    "    LEFT JOIN events AS r\n",
    "        USING(DeviceID)\n",
    "    GROUP BY\n",
    "        Platform,\n",
    "        DeviceID\n",
    "    HAVING\n",
    "            Platform = 'iOS'\n",
    "        AND events > 0\n",
    "    )\n",
    "WHERE\n",
    "    events > 0\n",
    "GROUP BY\n",
    "    Platform"
   ]
  },
  {
   "cell_type": "code",
   "execution_count": null,
   "metadata": {
    "id": "yVfqJN35sVPI"
   },
   "outputs": [],
   "source": [
    "# Чтобы перечислить несколько стран, нужно пользоваться такой конструкцией как\n",
    "WHERE Country IN ('A', 'B', 'C')"
   ]
  },
  {
   "cell_type": "code",
   "execution_count": null,
   "metadata": {
    "id": "w95f4S46GqWU"
   },
   "outputs": [],
   "source": [
    "SELECT\n",
    "    uniqExact(l.DeviceID) / uniqExact(r.DeviceID) AS KONVERSION\n",
    "FROM events AS l\n",
    "RIGHT JOIN installs AS r\n",
    "    USING(DeviceID)"
   ]
  },
  {
   "cell_type": "code",
   "execution_count": null,
   "metadata": {
    "id": "2dlrq7KVueTw"
   },
   "outputs": [],
   "source": [
    "# Результирующий запрос\n",
    "SELECT\n",
    "    Platform,\n",
    "    DeviceID_iOS_with_event,\n",
    "    DeviceID_iOS_without_event,\n",
    "    DeviceID_iOS_with_event / DeviceID_iOS_without_event AS KONVERSION\n",
    "FROM\n",
    "    (\n",
    "    SELECT\n",
    "        Platform,\n",
    "        uniqExact(DeviceID) AS DeviceID_iOS_with_event\n",
    "    FROM\n",
    "        (\n",
    "        SELECT\n",
    "            r.Platform AS Platform,\n",
    "            MIN(l.events) AS events,\n",
    "            l.DeviceID AS DeviceID\n",
    "        FROM events AS l\n",
    "        RIGHT JOIN installs AS r\n",
    "            USING(DeviceID)\n",
    "        GROUP BY\n",
    "            Platform,\n",
    "            DeviceID\n",
    "        HAVING\n",
    "                Platform = 'iOS'\n",
    "            AND events > 0\n",
    "        )\n",
    "    WHERE\n",
    "        events > 0\n",
    "    GROUP BY\n",
    "        Platform\n",
    "    ) AS l\n",
    "JOIN\n",
    "    (\n",
    "    SELECT\n",
    "        r.Platform AS Platform,\n",
    "        uniqExact(DeviceID) AS DeviceID_iOS_without_event\n",
    "    FROM events AS l\n",
    "    RIGHT JOIN installs AS r\n",
    "        USING(DeviceID)\n",
    "    GROUP BY\n",
    "        Platform\n",
    "    HAVING\n",
    "        Platform = 'iOS'\n",
    "    ) AS r\n",
    "        USING(Platform)"
   ]
  },
  {
   "cell_type": "code",
   "execution_count": null,
   "metadata": {
    "id": "YWrx2QusueN5"
   },
   "outputs": [],
   "source": [
    "# Итоговое решение, которое приняла программа:\n",
    "SELECT\n",
    "    uniqExact(l.DeviceID) / uniqExact(r.DeviceID) AS KONVERSION\n",
    "FROM events AS l\n",
    "RIGHT JOIN installs AS r\n",
    "    USING(DeviceID)"
   ]
  },
  {
   "cell_type": "code",
   "execution_count": null,
   "metadata": {
    "id": "zv8Ot4tkETTN"
   },
   "outputs": [],
   "source": [
    "# Задача 12\n",
    "# Представим, что в логирование DeviceID в событиях закралась ошибка - часть ID была записана в базу некорректно. \n",
    "# Это привело к тому, что в таблице с событиями появились DeviceID, для которых нет инсталлов. \n",
    "# Нам надо отобрать примеры DeviceID из таблицы event, которых нет в таблице installs, чтобы отправить их команде разработчиков на исправление. \n",
    "# Выведите 10 уникальных DeviceID, которые присутствуют в таблице events, но отсутствуют в installs, отсортировав их в порядке убывания. \n",
    "# В качестве ответа введите первый DeviceID из списка.\n",
    "SELECT\n",
    "    r.InstallationDate,\n",
    "    DeviceID\n",
    "FROM events AS l\n",
    "LEFT JOIN installs AS r\n",
    "    USING(DeviceID)\n",
    "ORDER BY\n",
    "    InstallationDate ASC,\n",
    "    DeviceID DESC\n",
    "LIMIT 50\n",
    "# Первая строка"
   ]
  },
  {
   "cell_type": "markdown",
   "metadata": {
    "id": "E9cUEtjjuc9z"
   },
   "source": [
    "## Lesson 004"
   ]
  },
  {
   "cell_type": "markdown",
   "metadata": {
    "id": "aoKDXOQ8uk0j"
   },
   "source": [
    "### Lection"
   ]
  },
  {
   "cell_type": "code",
   "execution_count": null,
   "metadata": {
    "id": "nme6MmSrumrj"
   },
   "outputs": [],
   "source": [
    "# Познакомимся с различными типами данных: булевы, числовые, строковые, временные, Nullable, массивы и геокоординаты.\n",
    "#  Узнаем, как менять тип данных и что такое переполнение типов."
   ]
  },
  {
   "cell_type": "code",
   "execution_count": null,
   "metadata": {
    "id": "otjDlVa5uj48"
   },
   "outputs": [],
   "source": [
    "# Int[8/16/32/64] / UInt[8/16/32/64]\n",
    "# Типы данных Int и UInt предназначены для хранения целых чисел фиксированной длины.\n",
    "# 8/16/32/64 обозначают разрядность, чем она больше, тем больший диапазон значений может хранить.\n",
    "# Главное отличие между Int и Unit заключается в том, что первый может хранить как положительные, так и отрицательные значения."
   ]
  },
  {
   "cell_type": "code",
   "execution_count": null,
   "metadata": {
    "id": "W6RVlp91uo4g"
   },
   "outputs": [],
   "source": [
    "# Булевы значения\n",
    "# Хранение булевых значений в ClickHouse реализовано через UInt8 , отдельный тип данныхдля них не выделен. \n",
    "# Сами значения такого формата принимают значение либо 1, либо 0.\n",
    "# 1 - True\n",
    "# 2- False"
   ]
  },
  {
   "cell_type": "code",
   "execution_count": null,
   "metadata": {
    "id": "Vl4EB-gQuo1-"
   },
   "outputs": [],
   "source": [
    "# Проверить тип данных\n",
    "SELECT\n",
    "    toTypeName(123)"
   ]
  },
  {
   "cell_type": "code",
   "execution_count": null,
   "metadata": {
    "id": "nRu7aPaZuozj"
   },
   "outputs": [],
   "source": [
    "# Переполнение типов\n",
    "# Что же произойдет, если наши данные хранились с типом Int8 , но максимальное значение увеличилось на единичку и превысило 127?\n",
    "# Тип данных автоматически увеличит битность (с 8 на 16)"
   ]
  },
  {
   "cell_type": "code",
   "execution_count": null,
   "metadata": {
    "id": "KAp0tXJhuoxH"
   },
   "outputs": [],
   "source": [
    "# Явное преобразование типов\n",
    "SELECT\n",
    "    CAST(127 AS UInt64) AS cast_data_type\n",
    "# Неявное преобразование типов - когда значение числа уже не попадает в диапазон - тип меняется автоматически"
   ]
  },
  {
   "cell_type": "code",
   "execution_count": null,
   "metadata": {
    "id": "hjg1j5YFuouu"
   },
   "outputs": [],
   "source": [
    "# Если лимит вышел - расчёт начинается снова с 0"
   ]
  },
  {
   "cell_type": "code",
   "execution_count": null,
   "metadata": {
    "id": "EXM0jfEQuoqA"
   },
   "outputs": [],
   "source": [
    "# > Nullable(TypeName)\n",
    "# Nullable(TypeName) – позволяет вместе хранить значения как определенного типа (где TypeName – название нужного типа), так и NULL.\n",
    "# Позволяет работать как со значением типа TypeName так и с отсутствием этого значения (NULL) в одной и той же переменной, в том числе хранить NULL в таблицах вместе со значения типа TypeName\n",
    "# NULL — значение по умолчанию для типа Nullable, если в конфигурации сервера ClickHouse не указано иное."
   ]
  },
  {
   "cell_type": "code",
   "execution_count": null,
   "metadata": {
    "id": "pT5mvgc9uonf"
   },
   "outputs": [],
   "source": [
    "# Date / DateTime / Interval\n",
    "# Перевести строку в дату\n",
    "SELECT\n",
    "    toTypeName(CAST('2019-10-12' AS Date)) AS cast_data_type,\n",
    "    CAST('2019-10-12' AS Date) AS date\n",
    "    toUInt64(2) as test  # В Кликхаусе есть свои функции по переводу типов данных"
   ]
  },
  {
   "cell_type": "code",
   "execution_count": null,
   "metadata": {
    "id": "AhInItBMuolL"
   },
   "outputs": [],
   "source": [
    "# Отобразить текущую дату и время\n",
    "SELECT\n",
    "    now() AS date_now,\n",
    "    yesterday( ) AS yesterday  # Вчера\n",
    "# Тип данныъ будет DateTime"
   ]
  },
  {
   "cell_type": "code",
   "execution_count": null,
   "metadata": {
    "id": "99H-DViCuoiw"
   },
   "outputs": [],
   "source": [
    "# Посчитать разницу между датой в днях\n",
    "SELECT\n",
    "    CAST('2019-10-12' AS Date) - CAST('2019-10-02' AS Date) AS date_diff\n",
    "# Ответ в днях будет"
   ]
  },
  {
   "cell_type": "code",
   "execution_count": null,
   "metadata": {
    "id": "b0WbJg7buogS"
   },
   "outputs": [],
   "source": [
    "# date_diff\n",
    "# Вычисляет разницу указанных границ unit пересекаемых между startdate и enddate.\n",
    "date_diff('unit', startdate, enddate, [timezone])\n",
    "unit — единица измерения времени, в которой будет выражено возвращаемое значение функции. String. Возможные значения:\n",
    "\n",
    "second (возможные сокращения: ss, s)\n",
    "minute (возможные сокращения: mi, n)\n",
    "hour (возможные сокращения: hh, h)\n",
    "day (возможные сокращения: dd, d)\n",
    "week (возможные сокращения: wk, ww)\n",
    "month (возможные сокращения: mm, m)\n",
    "quarter (возможные сокращения: qq, q)\n",
    "year (возможные сокращения: yyyy, yy)\n",
    "\n",
    "startdate — первая дата или дата со временем, которая вычитается из enddate. Date, Date32, DateTime или DateTime64.\n",
    "enddate — вторая дата или дата со временем, из которой вычитается startdate. Date, Date32, DateTime или DateTime64.\n",
    "timezone — часовой пояс (необязательно)."
   ]
  },
  {
   "cell_type": "code",
   "execution_count": null,
   "metadata": {
    "id": "xCjseLyduobT"
   },
   "outputs": [],
   "source": [
    "# Пример:\n",
    "SELECT\n",
    "    dateDiff(week, CAST('2018-03-12' AS Date), CAST('2019-10-12' AS Date))"
   ]
  },
  {
   "cell_type": "code",
   "execution_count": null,
   "metadata": {
    "id": "uLbYkYMwuoYs"
   },
   "outputs": [],
   "source": [
    "# Извлечь номер месяца из даты:\n",
    "SELECT\n",
    "    toMonth(now()) AS current_month"
   ]
  },
  {
   "cell_type": "code",
   "execution_count": null,
   "metadata": {
    "id": "LJyxAbt2uoWj"
   },
   "outputs": [],
   "source": [
    "# Лучше пользоваться округлением\n",
    "toStartOfYear - Округляет дату или дату-с-временем вниз до первого дня года.\n",
    "toStartOfMonth - Округляет дату или дату-с-временем до последнего числа месяца\n",
    "toStartOfDay - Округляет дату-с-временем вниз до начала дня.\n",
    "\n",
    "SELECT\n",
    "    toStartOfMonth(now()) AS start_current_month\n",
    "# 2023-01-01 - окргулил до первого дня текущего месяца"
   ]
  },
  {
   "cell_type": "code",
   "execution_count": null,
   "metadata": {
    "id": "pEp8It-NuoT2"
   },
   "outputs": [],
   "source": [
    "# Float32, Float64\n",
    "# Проблемы с округлением!\n",
    "# Числа с плавающей запятой.\n",
    "# Рекомендуется хранить данные в целочисленном виде всегда, когда это возможно."
   ]
  },
  {
   "cell_type": "code",
   "execution_count": null,
   "metadata": {
    "id": "bHg5MKa3uoRT"
   },
   "outputs": [],
   "source": [
    "# Decimal(P, S), Decimal32(S), Decimal64(S), Decimal128(S), Decimal256(S)\n",
    "# Знаковые дробные числа с сохранением точности операций сложения, умножения и вычитания. \n",
    "# Для деления осуществляется отбрасывание (не округление) знаков, не попадающих в младший десятичный разряд."
   ]
  },
  {
   "cell_type": "code",
   "execution_count": null,
   "metadata": {
    "id": "jRvoLoMTuoPD"
   },
   "outputs": [],
   "source": [
    "# Array(T)\n",
    "# Массив из элементов типа T. T может любым, в том числе массивом. \n",
    "# Таким образом поддерживаются многомерные массивы. \n",
    "# Первый элемент массива имеет индекс 1.\n",
    "SELECT\n",
    "    array('a', '2', '8484', 'Hello!') AS array_test\n",
    "    array('a', '2', '8484', 'Hello!')[4] AS array_4_test\n",
    "# Создали массив и обратились к 4-му элементу"
   ]
  },
  {
   "cell_type": "code",
   "execution_count": null,
   "metadata": {
    "id": "udcxJ8GVuoNF"
   },
   "outputs": [],
   "source": [
    "# Tuple(T1, T2, …)\n",
    "# Кортеж из элементов любого типа. Элементы кортежа могут быть одного или разных типов.\n",
    "# Кортежи используются для временной группировки столбцов.\n",
    "SELECT\n",
    "    tuple('c', 3, '34', 84, 'Hello!') AS tuple_test,\n",
    "    tuple('c', 3, '34', 84, 'Hello!').3 AS tuple_3_test\n",
    "# Создали кортеж и обратились к 3-му элементу"
   ]
  },
  {
   "cell_type": "code",
   "execution_count": null,
   "metadata": {
    "id": "-cvnZpD5uoKZ"
   },
   "outputs": [],
   "source": [
    "# groupArray()\n",
    "# Создаёт массив данных из необходимой колонки\n",
    "# Составляет массив из значений аргумента. Значения в массив могут быть добавлены в любом (недетерминированном) порядке.\n",
    "# \n",
    "SELECT\n",
    "    BuyDate,\n",
    "    groupArray(UserID) AS all_users\n",
    "FROM checks\n",
    "WHERE\n",
    "    Rub > 1000\n",
    "GROUP BY\n",
    "    BuyDate\n",
    "LIMIT 10\n",
    "# В графу all_users запишет массив из всех данных, которые проходят по условиям\n",
    "# В колонке all_users приведены все юзеры, которые покупали что-то в этот день"
   ]
  },
  {
   "cell_type": "code",
   "execution_count": null,
   "metadata": {
    "id": "mY3uhD3duoHg"
   },
   "outputs": [],
   "source": [
    "# orNull / orZero\n",
    "# Добавка / Модификатор / Заглушка к функции, если не получается транформировать тип данных\n",
    "SELECT\n",
    "    toUInt64OrZero('text') as test  # Вернёт цифру 0, если невозможно выполнить конвертацию типа\n",
    "    toUInt64OrNull('text') as test  # Вернёт Null - отсутствие значения вообще, если невозможно выполнить конвертацию типа"
   ]
  },
  {
   "cell_type": "code",
   "execution_count": null,
   "metadata": {
    "id": "qVN17Xa2uoDS"
   },
   "outputs": [],
   "source": [
    "# Функция coalesce\n",
    "# Перебирает значения слева направа пока не найдёт первый не Null\n",
    "SELECT\n",
    "    coalesce(toUInt64OrNull('text'), null, null, 5, 10)\n",
    "# Вернёт 5"
   ]
  },
  {
   "cell_type": "code",
   "execution_count": null,
   "metadata": {
    "id": "hutoq8qZuoAs"
   },
   "outputs": [],
   "source": [
    "# geoDistance\n",
    "# geoDistance – функция для работы с координатами, рассчитывающая расстояние между двумя точками в метрах.\n",
    "Параметры:\n",
    "lon1Deg — долгота первой точки в градусах\n",
    "lat1Deg — широта первой точки в градусах \n",
    "lon2Deg — долгота второй точки в градусах\n",
    "lat2Deg — широта второй точки в градусах\n",
    "Все значения долготы должны быть в диапазоне [-180°, 180°], широты – [90°, 90°]."
   ]
  },
  {
   "cell_type": "code",
   "execution_count": null,
   "metadata": {
    "id": "lbjhAMZs_fJT"
   },
   "outputs": [],
   "source": [
    "# Пример\n",
    "SELECT\n",
    "    geoDistance(0.1278, 51.5074, 30.3609, 59.9311) AS dist_m,\n",
    "    dist_m / 1000 AS dist_km"
   ]
  },
  {
   "cell_type": "code",
   "execution_count": null,
   "metadata": {
    "id": "-770b8PtuNKD"
   },
   "outputs": [],
   "source": [
    "# Функция replaceAll\n",
    "# Заменить значения в колонке\n",
    "# replaceAll(столбец, что_заменить, на_что_заменить) – замена значений в колонке\n",
    "SELECT\n",
    "--    host_response_rate\n",
    "    replaceAll(host_response_rate, '%', '') AS host_response_rate\n",
    "FROM listings\n",
    "LIMIT 50"
   ]
  },
  {
   "cell_type": "code",
   "execution_count": null,
   "metadata": {
    "id": "BqOMMHTnw8e7"
   },
   "outputs": [],
   "source": [
    "# Преобразовать данные в инт32 либо указать Null - toInt32OrNull\n",
    "SELECT\n",
    "    toInt32OrNull(replaceAll(host_response_rate, '%', '')) AS host_response_rate\n",
    "FROM listings\n",
    "LIMIT 5"
   ]
  },
  {
   "cell_type": "code",
   "execution_count": null,
   "metadata": {
    "id": "e6pW30SlaST9"
   },
   "outputs": [],
   "source": [
    "# Изменить текст в колонке. Функция replaceRegexpAll\n",
    "SELECT\n",
    "    replaceRegexpAll(price, '[$,]', '') AS price\n",
    "FROM listings"
   ]
  },
  {
   "cell_type": "markdown",
   "metadata": {
    "id": "2BlZ5FFQAjwC"
   },
   "source": [
    "### Tasks"
   ]
  },
  {
   "cell_type": "code",
   "execution_count": null,
   "metadata": {
    "id": "C5TsH61cAmcK"
   },
   "outputs": [],
   "source": [
    "# Пользователи, сдающие квартиры на Airbnb, зарегистрировались в разное время. \n",
    "# Кто-то – очень давно, а кто-то совсем недавно. Давайте проверим, в какой месяц и год зарегистрировалось наибольшее количество новых хостов. \n",
    "# В качестве ответа введите дату следующего формата: 2010-12\n",
    "# host_id – идентификатор хозяина\n",
    "# host_since – дата регистрации как хост\n",
    "SELECT\n",
    "    uniqExact(host_id) AS host_id_uniq,\n",
    "    toStartOfMonth(toDateOrNull(host_since)) AS year_month\n",
    "FROM listings\n",
    "GROUP BY\n",
    "    toStartOfMonth(toDateOrNull(host_since))\n",
    "ORDER BY\n",
    "    host_id_uniq DESC\n",
    "LIMIT 5\n",
    "# Для начала проверили корректность обработки пропусков в колонке host_since - toDateOrNull() + перевели в дату\n",
    "# Вернули дату к месяцу / году - toStartOfMonth\n",
    "# По колонке host_id взяли уникальные значения\n",
    "# Сгруппировали по году/месяцу"
   ]
  },
  {
   "cell_type": "code",
   "execution_count": null,
   "metadata": {
    "id": "KtMoPZw9L50f"
   },
   "outputs": [],
   "source": [
    "# Проверить количество пропусков по каждой колонке из дф\n",
    "df.isnull().sum()"
   ]
  },
  {
   "cell_type": "code",
   "execution_count": null,
   "metadata": {
    "id": "hTvCgWO0AncU"
   },
   "outputs": [],
   "source": [
    "# Проверка количества Null в колонке host_id / host_since\n",
    "SELECT count(*)\n",
    "FROM\n",
    "    (\n",
    "    SELECT\n",
    "        isNull(host_id)\n",
    "    FROM listings\n",
    "    )\n",
    "# 22 552 - отсутствует значение - NaN"
   ]
  },
  {
   "cell_type": "code",
   "execution_count": null,
   "metadata": {
    "id": "Ej55YPJWAnZy"
   },
   "outputs": [],
   "source": [
    "# Посмотрим на среднюю частоту ответа среди хозяев (f) и суперхозяев (t).\n",
    "# Значения частоты ответа хранятся как строки и включают значок %, который необходимо заменить на пустоту ('')\n",
    "# После этого приведите столбец к нужному типу данных с помощью toInt32OrNull() и посчитайте среднюю частоту отклика в разбивке по тому, является ли хост суперхозяином или нет.\n",
    "# В качестве ответа укажите наибольшее среднее.\n",
    "SELECT\n",
    "    AVG(host_response_rate),\n",
    "    host_is_superhost\n",
    "FROM\n",
    "    (\n",
    "    SELECT\n",
    "        DISTINCT toInt32OrNull(replaceAll(host_response_rate, '%', '')) AS host_response_rate,  # DISTINCT Обязательно тут!\n",
    "        host_is_superhost,\n",
    "        host_id\n",
    "    FROM listings\n",
    "    )\n",
    "GROUP BY\n",
    "    host_is_superhost\n",
    "LIMIT 10\n",
    "# Меняем % на отсутствие знака для колонки host_response_rate\n",
    "# Колонку host_response_rate переводим в тип Int32, там, где нет значений - указываем null - toInt32OrNull\n",
    "# Для колонки host_response_rate берём уникальные значения!\n",
    "# Во внешней таблице группируем по значениям в таблице host_is_superhost в значениях берём среднее значение из колонки host_response_rate\n",
    "Внутренняя таблица:\n",
    "SELECT\n",
    "    DISTINCT toInt32OrNull(replaceAll(host_response_rate, '%', '')) AS host_response_rate,\n",
    "    host_is_superhost,\n",
    "    host_id\n",
    "FROM listings\n",
    "LIMIT 10"
   ]
  },
  {
   "cell_type": "code",
   "execution_count": null,
   "metadata": {
    "id": "y0UANltYbmzN"
   },
   "outputs": [],
   "source": [
    "# Сгруппируйте данные из listings по хозяевам (host_id) и посчитайте, какую цену за ночь в среднем каждый из них устанавливает (у одного хоста может быть несколько объявлений). \n",
    "# Идентификаторы сдаваемого жилья объедините в отдельный массив. \n",
    "# Таблицу отсортируйте по убыванию средней цены и убыванию host_id (в таком порядке). \n",
    "# В качестве ответа укажите первый массив в результирующей таблице, состоящий более чем из двух id.\n",
    "SELECT\n",
    "    host_id,\n",
    "    groupArray(id) AS ids,\n",
    "    AVG(toFloat32OrNull(replaceRegexpAll(price, '[$,]', ''))) AS price_avg\n",
    "FROM listings\n",
    "GROUP BY\n",
    "    host_id\n",
    "ORDER BY\n",
    "    price_avg DESC,\n",
    "    host_id DESC\n",
    "LIMIT 10\n",
    "# С помощью регулярного выражения [$,] иreplaceRegexpAll убираем знаки $ и запятые.\n",
    "# Затем остаётся всего лишь привести к float с помощью toFloat32OrNull, \n",
    "# а затем взять среднее\n",
    "# создаём массив по данным из колонки id\n",
    "# Группируем по host_id, фильтруем"
   ]
  },
  {
   "cell_type": "code",
   "execution_count": null,
   "metadata": {
    "id": "QprjF6p_AnUh"
   },
   "outputs": [],
   "source": [
    "# Немного усложним предыдущую задачу, и посчитаем разницу между максимальной и минимальной установленной ценой у каждого хозяина. \n",
    "# В качестве ответа укажите идентификатор хоста, у которого разница оказалась наибольшей. \n",
    "SELECT\n",
    "    host_id,\n",
    "    groupArray(id) AS ids,\n",
    "--    MAX(toFloat32OrNull(replaceRegexpAll(price, '[$,]', ''))) AS price_max,\n",
    "--    MIN(toFloat32OrNull(replaceRegexpAll(price, '[$,]', ''))) AS price_min\n",
    "    MAX(toFloat32OrNull(replaceRegexpAll(price, '[$,]', ''))) - MIN(toFloat32OrNull(replaceRegexpAll(price, '[$,]', ''))) AS dif_max_min\n",
    "FROM listings\n",
    "GROUP BY\n",
    "    host_id\n",
    "ORDER BY\n",
    "    dif_max_min DESC\n",
    "LIMIT 10\n",
    "# C прошлой задачи оставили заготовку!\n",
    "# Нашли минимум и максимум. Взял разницу"
   ]
  },
  {
   "cell_type": "code",
   "execution_count": null,
   "metadata": {
    "id": "OgwLiSROAnPS"
   },
   "outputs": [],
   "source": [
    "# Теперь сгруппируйте данные по типу жилья и выведите средние значения цены за ночь, размера депозита и цены уборки. \n",
    "# Обратите внимание на тип данных, наличие значка $ и запятых в больших суммах. \n",
    "# Для какого типа жилья среднее значение залога наибольшее?\n",
    "# room_type – тип сдаваемого жилья \n",
    "# price – цена за ночь\n",
    "# security_deposit – залог за сохранность имущества\n",
    "# cleaning_fee – плата за уборку\n",
    "SELECT\n",
    "    room_type,\n",
    "    AVG(toFloat32OrNull(replaceRegexpAll(price, '[$,]', ''))) AS price_avg,\n",
    "    AVG(toFloat32OrNull(replaceRegexpAll(security_deposit, '[$,]', ''))) AS security_deposit_avg,\n",
    "    AVG(toFloat32OrNull(replaceRegexpAll(cleaning_fee, '[$,]', ''))) AS cleaning_fee_avg\n",
    "FROM listings\n",
    "GROUP BY\n",
    "    room_type\n",
    "ORDER BY\n",
    "    security_deposit_avg DESC\n",
    "LIMIT 1\n",
    "# Просто прошлись по наполнению и типу колонок\n",
    "# Взяли среднее значение по тем, которые будем аггрегировать\n",
    "# Сгруппировали"
   ]
  },
  {
   "cell_type": "code",
   "execution_count": null,
   "metadata": {
    "id": "DrObSXwuAnKZ"
   },
   "outputs": [],
   "source": [
    "# Отлично! В каких частях города средняя стоимость за ночь является наиболее низкой? \n",
    "# Сгруппируйте данные по neighbourhood_cleansed и посчитайте среднюю цену за ночь в каждом районе. \n",
    "# В качестве ответа введите название места, где средняя стоимость за ночь ниже всего.\n",
    "SELECT\n",
    "    neighbourhood_cleansed,\n",
    "    AVG(toFloat32OrNull(replaceRegexpAll(price, '[$,]', ''))) AS price_avg\n",
    "FROM listings\n",
    "GROUP BY\n",
    "    neighbourhood_cleansed\n",
    "ORDER BY\n",
    "    price_avg ASC\n",
    "LIMIT 1\n",
    "# Очень простая группировка"
   ]
  },
  {
   "cell_type": "code",
   "execution_count": null,
   "metadata": {
    "id": "zQ4edIH4AnIC"
   },
   "outputs": [],
   "source": [
    "# В каких районах Берлина средняя площадь жилья, которое сдаётся целиком, является наибольшей? \n",
    "# Отсортируйте по среднему и выберите топ-3.\n",
    "# room_type – тип (нужный – 'Entire home/apt')\n",
    "SELECT\n",
    "    neighbourhood_cleansed,\n",
    "    AVG(toFloat32OrNull(square_feet)) AS square_feet_avg\n",
    "FROM listings\n",
    "WHERE\n",
    "    room_type = 'Entire home/apt'\n",
    "GROUP BY\n",
    "    neighbourhood_cleansed\n",
    "ORDER BY\n",
    "    square_feet_avg DESC\n",
    "LIMIT 3"
   ]
  },
  {
   "cell_type": "code",
   "execution_count": null,
   "metadata": {
    "id": "bBjjZxpJAnFy"
   },
   "outputs": [],
   "source": [
    "# Напоследок давайте посмотрим, какая из представленных комнат расположена ближе всего к центру города. \n",
    "# В качестве ответа укажите id объявления.\n",
    "# id – идентификатор жилья (объявления)\n",
    "room_type – тип жилья ('Private room')\n",
    "latitude – широта\n",
    "longitude – долгота\n",
    "52.5200 с.ш., 13.4050 в.д – координаты центра Берлина\n",
    "# Решение\n",
    "SELECT\n",
    "    id,\n",
    "    geoDistance(13.4050, 52.5200, toFloat64OrNull(longitude), toFloat64OrNull(latitude)) AS distance\n",
    "FROM listings\n",
    "WHERE\n",
    "    room_type = 'Private room'\n",
    "ORDER BY\n",
    "    distance ASC\n",
    "LIMIT 1\n",
    "# Перевели данные из типа строки в флот\n",
    "# При помощи функции geoDistance рассчитали дистанцию\n",
    "# Отфильровали по room_type"
   ]
  },
  {
   "cell_type": "markdown",
   "metadata": {
    "id": "E10A-kEsH3Qk"
   },
   "source": [
    "## Lesson 05"
   ]
  },
  {
   "cell_type": "markdown",
   "metadata": {
    "id": "-N0CRYAFH7Z1"
   },
   "source": [
    "### Lection"
   ]
  },
  {
   "cell_type": "code",
   "execution_count": null,
   "metadata": {
    "id": "t936rAkxH6FH"
   },
   "outputs": [],
   "source": [
    "# Научимся использовать подзапросы и представления таблиц, а также вставлять новые данные. \n",
    "# Узнаем, как создавать, сохранять и удалять таблицы."
   ]
  },
  {
   "cell_type": "code",
   "execution_count": null,
   "metadata": {
    "id": "1YVam4jdH6fU"
   },
   "outputs": [],
   "source": [
    "# Подзапросы\n",
    "# Используебтся тогда, когда результирующую таблицу необходимо использовать, как входную таблицу для другого запроса\n",
    "# Пример\n",
    "SELECT\n",
    "    AVG(cost_fix_avg) AS cost_fix_avg_total\n",
    "FROM\n",
    "    (\n",
    "    SELECT\n",
    "        Source,\n",
    "        AVG(cost_fix) AS cost_fix_avg\n",
    "    FROM\n",
    "        (\n",
    "        SELECT\n",
    "            InstallationDate,\n",
    "            Platform,\n",
    "            DeviceID,\n",
    "            Source,\n",
    "            InstallCost * 0.87 AS cost_fix\n",
    "        FROM installs\n",
    "        )\n",
    "    GROUP BY\n",
    "        Source\n",
    "    HAVING\n",
    "        cost_fix_avg > 0\n",
    "    )"
   ]
  },
  {
   "cell_type": "code",
   "execution_count": null,
   "metadata": {
    "id": "ntcU9zU0H6Z9"
   },
   "outputs": [],
   "source": [
    "# Представления\n",
    "# - Обычные\n",
    "# - Материализованные"
   ]
  },
  {
   "cell_type": "code",
   "execution_count": null,
   "metadata": {
    "id": "DyKvjI78H9j9"
   },
   "outputs": [],
   "source": [
    "# Обычные представления\n",
    "\n",
    "# Обычные представления – сохранение SQL запроса\n",
    "# Т.е. вы создаете виртуальную таблицу, при вызове которой будет выполняться запрос для её создания.\n",
    "# Такие представления на самом деле не содержат данных, а извлекают их из таблицы в момент обращения\n",
    "\n",
    "# Если часто используешь какую-то определённую выборку из определённой базы данных\n",
    "# По сути мы сохранили запрос как таблицу: он будет отображаться в списке таблиц как таблица, но на самом деле таблицей не является.\n",
    "#  Каждый раз, когда вызываем VIEW , код запроса выполняется.\n",
    "\n",
    "# Может быть удобно, если вы написали очень большой запрос и планируете часто переиспользовать."
   ]
  },
  {
   "cell_type": "code",
   "execution_count": null,
   "metadata": {
    "id": "vcSD4EEFH9ht"
   },
   "outputs": [],
   "source": [
    "# Пример создания представления обычного\n",
    "CREATE VIEW ios_source_14_installs_kucher AS (\n",
    "SELECT *\n",
    "FROM installs\n",
    "WHERE \n",
    "        Platform = 'iOS'\n",
    "    AND Source = 'Source_14'\n",
    ")\n",
    "# Задал 2 фильтра\n",
    "# Теперь можно использовать созданное ранее представление:\n",
    "SELECT *\n",
    "FROM ios_source_14_installs_kucher\n",
    "LIMIT 100\n",
    "# Получим таблицу с фильтрами нашими"
   ]
  },
  {
   "cell_type": "code",
   "execution_count": null,
   "metadata": {
    "id": "JJip1ouGH9fe"
   },
   "outputs": [],
   "source": [
    "# Материализованные представления\n",
    "# Создаются командой CREATE MATERIALIZED VIEW . Также нужно указать движок таблицы, о них поговорим немного позже!\n",
    "# Материализованное хранит данные на диске, т.е. больше похожа на таблицу\n",
    "# Когда мы вызываем обычное представление, выполняется запрос, а когда материализованное – данные поднимаются с диска.\n",
    "\n",
    "# Данные в материализованных представлениях обновляются тогда, когда обновляются те таблицы, по которым они считаются.\n",
    "# В данном случае, как только запишутся новые строки в installs , материализованное представление обновится и допишет их к себе"
   ]
  },
  {
   "cell_type": "code",
   "execution_count": null,
   "metadata": {
    "id": "gqGb47_hH9dM"
   },
   "outputs": [],
   "source": [
    "# Пример создания представления материализованного\n",
    "CREATE MATERIALIZED VIEW ios_source_14_installs_kucher_material ENGINE = Log POPULATE AS (\n",
    "SELECT *\n",
    "FROM installs\n",
    "WHERE \n",
    "        Platform = 'iOS'\n",
    "    AND Source = 'Source_14'\n",
    ")\n",
    "# Задал 2 фильтра\n",
    "# Теперь можно использовать созданное ранее представление - таблицу:\n",
    "SELECT *\n",
    "FROM ios_source_14_installs_kucher_material\n",
    "LIMIT 100"
   ]
  },
  {
   "cell_type": "code",
   "execution_count": null,
   "metadata": {
    "id": "Ypp-w_U1IE_V"
   },
   "outputs": [],
   "source": [
    "# WITH\n",
    "# WITH – используется для объявления параметров. В ClickHouse можно использовать только скалярные выражения, т.е. результат подзапроса должен быть одной строкой.\n",
    "WITH\n",
    "    (SELECT AVG(InstallCost) AS InstallCost_avg FROM installs) AS InstallCost_avg,  # Передали подзапрос\n",
    "    InstallCost * 0.87 AS cost_fix,                                                 # Сразу на будущее модифицировать колонку\n",
    "    'useless_text' AS text                                                          # Передать что-то дополнительное, например текст\n",
    "SELECT\n",
    "    InstallationDate,\n",
    "    Platform,\n",
    "    InstallCost,\n",
    "    InstallCost_avg,\n",
    "    cost_fix,\n",
    "    text\n",
    "FROM installs\n",
    "LIMIT 100"
   ]
  },
  {
   "cell_type": "code",
   "execution_count": null,
   "metadata": {
    "id": "hhZTwJMyIE6V"
   },
   "outputs": [],
   "source": [
    "# CREATE TABLE\n",
    "# Создание таблицы\n",
    "# 3 способа"
   ]
  },
  {
   "cell_type": "code",
   "execution_count": null,
   "metadata": {
    "id": "Cc4lo1JDIE4W"
   },
   "outputs": [],
   "source": [
    "# Создать новую пустую таблицу со своими колонками\n",
    "CREATE TABLE test_table_kucher (\n",
    "    field1 UInt32,  # название колонки и тип данных\n",
    "    field2 String   # название колонки и тип данных\n",
    ") ENGINE = Log\n",
    "# Обратиться к созданной таблице:\n",
    "SELECT *\n",
    "FROM test_table_kucher"
   ]
  },
  {
   "cell_type": "code",
   "execution_count": null,
   "metadata": {
    "id": "_zkWczL0IE1_"
   },
   "outputs": [],
   "source": [
    "# Создать новую пустую таблицу со структурой и движком, как у другой таблицы\n",
    "CREATE TABLE test_table_installs_kucher AS installs  # скопировали структуру у таблицы installs\n",
    "# Обратиться к созданной таблице:\n",
    "SELECT *\n",
    "FROM test_table_installs_kucher\n",
    "# Колонки такие же, значений нет"
   ]
  },
  {
   "cell_type": "code",
   "execution_count": null,
   "metadata": {
    "id": "smTyYlQxIEzv"
   },
   "outputs": [],
   "source": [
    "# Создать новую таблицу со структурой / данными, как у другой таблицы\n",
    "CREATE TABLE test_table_installs_iOS_select_kucher ENGINE = Log AS  # ENGINE = Log - обязательно указать движок\n",
    "(\n",
    "SELECT *  # через select указываем таблицу, которую необходимо скопировать\n",
    "FROM installs\n",
    "WHERE Platform = 'iOS'\n",
    ")"
   ]
  },
  {
   "cell_type": "code",
   "execution_count": null,
   "metadata": {
    "id": "31PgYx8JIExP"
   },
   "outputs": [],
   "source": [
    "# DROP TABLE\n",
    "# DROP TABLE – удалить таблицу.\n",
    "DROP TABLE test_table_kucher"
   ]
  },
  {
   "cell_type": "code",
   "execution_count": null,
   "metadata": {
    "id": "b_JzEdfbIEu4"
   },
   "outputs": [],
   "source": [
    "# INSERT INTO\n",
    "# INSERT INTO – запись данных в таблицу. Названия полей и типы данных должны совпадать с исходной таблицей."
   ]
  },
  {
   "cell_type": "code",
   "execution_count": null,
   "metadata": {
    "id": "M44GV5WQIEsO"
   },
   "outputs": [],
   "source": [
    "# Для начала создадим новую таблицу\n",
    "CREATE TABLE ct_test_new_kucher\n",
    "(\n",
    "    field_one UInt32,\n",
    "    field_two String\n",
    ") ENGINE = Log\n",
    "# Добавили по 1 значению в каждую колонку вручную\n",
    "INSERT INTO ct_test_new_kucher\n",
    "SELECT\n",
    "    123 AS field_one,\n",
    "    'TEXT' AS field_two"
   ]
  },
  {
   "cell_type": "code",
   "execution_count": null,
   "metadata": {
    "id": "7pUbs3GIIEp2"
   },
   "outputs": [],
   "source": [
    "# Вставить через SELECT\n",
    "# Создадим новую таблицу c формой другой таблицы\n",
    "CREATE TABLE test_table_kucher AS installs\n",
    "# Перенесли данные из другой таблицы с небольшой корректировкой\n",
    "INSERT INTO test_table_kucher\n",
    "SELECT\n",
    "    InstallationDate,\n",
    "    InstallCost * 0.87 AS InstallCost,  # Вот тут корректировка\n",
    "    Platform,\n",
    "    DeviceID,\n",
    "    Source\n",
    "FROM installs\n",
    "# Проверим длину таблицы\n",
    "SELECT count() AS rows\n",
    "FROM test_table_kucher"
   ]
  },
  {
   "cell_type": "code",
   "execution_count": null,
   "metadata": {
    "id": "CIEtjW7xIEn5"
   },
   "outputs": [],
   "source": [
    "# ALTER – команда для изменения данных\n",
    "# Скопируем таблицу\n",
    "CREATE TABLE installs_mt_kucher ENGINE = MergeTree ORDER BY (InstallationDate) AS\n",
    "(\n",
    "SELECT *\n",
    "FROM installs\n",
    ")\n",
    "# Создать пустую колонку. new_field - название колонки. AFTER DeviceID - расположение после колонки DeviceID\n",
    "ALTER TABLE installs_mt_kucher ADD COLUMN new_field String AFTER DeviceID\n",
    "# Изменили тип данных колонки new_field\n",
    "ALTER TABLE installs_mt_kucher MODIFY COLUMN new_field UInt16\n",
    "# Удалили столбец new_field\n",
    "ALTER TABLE installs_mt_kucher DROP COLUMN new_field\n",
    "# Удалить строки из таблицы по заданному условию: InstallCost = 0\n",
    "ALTER TABLE installs_mt_kucher DELETE WHERE InstallCost = 0\n",
    "# Откорректировать колонку при выполнении условия\n",
    "ALTER TABLE installs_mt_kucher UPDATE InstallCost = InstallCost * 2 WHERE Platform = 'iOS'"
   ]
  },
  {
   "cell_type": "code",
   "execution_count": null,
   "metadata": {
    "id": "QnWSm-JrdWLY"
   },
   "outputs": [],
   "source": [
    "# Преобразовать серию Sries в список\n",
    "print(series.tolist())\n",
    "print(df_task_2_exams.sort_values('comleted', ascending = False).head(1)['id_assessment'].tolist()[0])"
   ]
  },
  {
   "cell_type": "code",
   "execution_count": null,
   "metadata": {
    "id": "5TUQu3dRmhVf"
   },
   "outputs": [],
   "source": [
    "# Подзапросы можно использовать в разных частях запроса, в том числе и в блоке WHERE\n",
    "SELECT\n",
    "    column_1,\n",
    "    column_2\n",
    "FROM\n",
    "    table\n",
    "WHERE\n",
    "    column_2 = (SELECT MAX(column_2) \n",
    "                FROM table)"
   ]
  },
  {
   "cell_type": "code",
   "execution_count": null,
   "metadata": {
    "id": "vb_LRu9Hm3-U"
   },
   "outputs": [],
   "source": [
    "# Найти максимальное значение в колонке\n",
    "SELECT MAX(listing_id) \n",
    "FROM calendar_summary"
   ]
  },
  {
   "cell_type": "code",
   "execution_count": null,
   "metadata": {
    "id": "O0Dcts5-zTSd"
   },
   "outputs": [],
   "source": [
    "# Найти текст в строке\n",
    "# по функции multiSearchAnyCaseInsensitive(колонка, ['искомая_подстрока']), \n",
    "# которая ищет заданную подстроку в строке вне зависимости от регистра и выдает 0 в случае, если подстрока не была найдена\n",
    "SELECT\n",
    "    multiSearchAnyCaseInsensitive(amenities, ['WiFi'])  # amenities - колонка / WiFi - искомый текст\n",
    "FROM listings\n",
    "LIMIT 100"
   ]
  },
  {
   "cell_type": "code",
   "execution_count": null,
   "metadata": {
    "id": "VuAzv01EJSoR"
   },
   "outputs": [],
   "source": [
    "# оператор CASE\n",
    "# С помощью оператора CASE в SQL можно составлять условные конструкции, выполнять проверку условий и возвращать результат в зависимости от их выполнения. \n",
    "# Самих условий под оператором WHEN может быть сколько угодно, конструкцию необходимо завершить оператором END. \n",
    "# Структура выглядит следующим образом:\n",
    "SELECT \n",
    "    CASE\n",
    "        -- если значение в column_1 больше, чем в column_2, в новый столбец будет записана единичка\n",
    "        WHEN column_1 > column_2 THEN 1 \n",
    "        -- если значение в column_1 меньше, чем в column_2, в новый столбец будет записана двойка\n",
    "        WHEN column_1 < column_2 THEN 2\n",
    "        -- во всех остальных случаях – тройка\n",
    "        ELSE 3\n",
    "    END AS cond_1 -- END – завершаем конструкцию, а новый столбец называем cond_1\n",
    "FROM\n",
    "    table"
   ]
  },
  {
   "cell_type": "markdown",
   "metadata": {
    "id": "WwxazTT7H-BN"
   },
   "source": [
    "### Tasks"
   ]
  },
  {
   "cell_type": "code",
   "execution_count": null,
   "metadata": {
    "id": "RwLlz6NlIA6l"
   },
   "outputs": [],
   "source": [
    "# Сначала оставьте только те объявления, в которых оценка на основе отзывов выше среднего, а число отзывов в месяц составляет строго меньше трёх. \n",
    "# Затем отсортируйте по убыванию две колонки: сначала по числу отзывов в месяц, потом по оценке. \n",
    "# В качестве ответа укажите id объявления из первой строки.\n",
    "WITH\n",
    "    (SELECT AVG(toFloat32OrNull(review_scores_rating)) AS review_scores_rating_avg FROM listings) AS review_scores_rating_avg\n",
    "SELECT\n",
    "    toFloat32OrNull(review_scores_rating) AS review_scores_rating,\n",
    "    reviews_per_month,\n",
    "    id\n",
    "--    review_scores_rating_avg\n",
    "FROM listings\n",
    "WHERE\n",
    "        review_scores_rating > review_scores_rating_avg\n",
    "    AND reviews_per_month < 3\n",
    "ORDER BY\n",
    "    reviews_per_month DESC,\n",
    "    review_scores_rating DESC\n",
    "LIMIT 1\n",
    "# В условии WITH посчитал review_scores_rating_avg, с которым буду сравнивать\n",
    "# Задал необходимыые фильтры, отсортировал"
   ]
  },
  {
   "cell_type": "code",
   "execution_count": null,
   "metadata": {
    "id": "2FcXAQXwIA4W"
   },
   "outputs": [],
   "source": [
    "# Посчитайте среднее расстояние до центра города и выведите идентификаторы объявлений о сдаче отдельных комнат, для которых расстояние оказалось меньше среднего. \n",
    "# Результат отсортируйте по убыванию, тем самым выбрав комнату, которая является наиболее удаленной от центра, но при этом расположена ближе, чем остальные комнаты в среднем.\n",
    "# При подсчете среднего тип комнаты тоже следует учесть.\n",
    "WITH\n",
    "    (SELECT AVG(geoDistance(13.4050, 52.5200, toFloat64OrNull(longitude), toFloat64OrNull(latitude))) AS distance_avg FROM listings WHERE room_type = 'Private room') AS distance_avg\n",
    "SELECT\n",
    "    id,\n",
    "    host_id,\n",
    "    room_type,\n",
    "    geoDistance(13.4050, 52.5200, toFloat64OrNull(longitude), toFloat64OrNull(latitude)) AS distance,\n",
    "    distance_avg\n",
    "FROM listings\n",
    "WHERE\n",
    "        room_type = 'Private room'\n",
    "    AND distance < distance_avg\n",
    "ORDER BY\n",
    "    distance DESC\n",
    "LIMIT 1\n",
    "# В блоке WITH опредедлил среднюю удалённость от центра. НЕ ЗАБЫТЬ ФИЛЬТР ТУТ! room_type = 'Private room'. Иначе некорректное значение получается\n",
    "# Вывел необходимые столбцы на печать\n",
    "# Сделал необходимые фильтры / сортировку"
   ]
  },
  {
   "cell_type": "code",
   "execution_count": null,
   "metadata": {
    "id": "O1sV_TBNIA2Z"
   },
   "outputs": [],
   "source": [
    "# Отберите объявления из таблицы listings, которые:\n",
    "# находятся на расстоянии от центра меньше среднего (здесь нам пригодится запрос из предыдущего задания)\n",
    "# обойдутся дешевле 100$ в день (price с учетом cleaning_fee, который добавляется к общей сумме за неделю, т.е его нужно делить на кол-во дней)\n",
    "# имеют последние отзывы (last_review), начиная с 1 сентября 2018 года\n",
    "# имеют WiFi в списке удобств (amenities)\n",
    "# отсортируйте полученные значения по убыванию review_scores_rating (не забудьте перевести строку к численному виду) и в качестве ответа укажите host_id из первой строки. \n",
    "WITH\n",
    "    (SELECT AVG(geoDistance(13.4050, 52.5200, toFloat64OrNull(longitude), toFloat64OrNull(latitude))) AS distance_avg FROM listings ) AS distance_avg\n",
    "SELECT\n",
    "    host_id,\n",
    "    toFloat32OrNull(review_scores_rating) AS review_scores_rating,  # данные в перевёл в числа\n",
    "    geoDistance(13.4050, 52.5200, toFloat64OrNull(longitude), toFloat64OrNull(latitude)) AS distance, # данные в перевёл в числа и определил расстояние до точки для каждого\n",
    "    multiSearchAnyCaseInsensitive(amenities, ['WiFi']) AS wifi,  # определил наличие wifi\n",
    "    toDateOrNull(last_review) AS last_review,  # перевёл данные в дату\n",
    "    toFloat32OrNull(replaceRegexpAll(price, '[$,]', '')) AS price,  # удалили символы и перевёл в число\n",
    "    toFloat32OrNull(replaceRegexpAll(cleaning_fee, '[$,]', '')) / 7 AS cleaning_fee_per_7_days  # удалили символы и перевёл в число + разделил на количество дней в неделе\n",
    "FROM listings\n",
    "WHERE\n",
    "        distance < distance_avg  # находятся на расстоянии от центра меньше среднего\n",
    "    AND wifi = 1  # имеют WiFi в списке удобств (amenities)\n",
    "    AND last_review > '2018-09-01' # имеют последние отзывы (last_review), начиная с 1 сентября 2018 года\n",
    "    AND (price + cleaning_fee_per_7_days) < 100  # бойдутся дешевле 100$ в день\n",
    "ORDER BY\n",
    "    review_scores_rating DESC  # отсортируйте полученные значения по убыванию review_scores_rating\n",
    "LIMIT 1\n",
    "# В блоке WITH определил среднюю дистанцию по всем объявлениям - distance_avg\n"
   ]
  },
  {
   "cell_type": "code",
   "execution_count": null,
   "metadata": {
    "id": "vpeJ7HKkIA0Q"
   },
   "outputs": [],
   "source": [
    "# Теперь задача! Используйте таблицу checks и разделите всех покупателей на сегменты:\n",
    "# NB! Правые границы берутся не включительно, например, чек в 10 рублей будет относиться к сегменту С\n",
    "# Отсортируйте результирующую таблицу по возрастанию UserID и укажите сегмент четвертого пользователя.\n",
    "А — средний чек покупателя менее 5 ₽\n",
    "B — средний чек покупателя от 5-10 ₽\n",
    "C — средний чек покупателя от 10-20 ₽\n",
    "D — средний чек покупателя от 20 ₽\n",
    "Отсортируйте результирующую таблицу по возрастанию UserID и укажите сегмент четвертого пользователя.\n",
    "# Решение\n",
    "# Сначала сгруппируем таблицу по пользователям / среднему чеку\n",
    "SELECT\n",
    "    AVG(Rub) AS rub_avg,\n",
    "    UserID\n",
    "FROM checks\n",
    "GROUP BY\n",
    "    UserID\n",
    "# Полный запрос c включением исходной таблицы\n",
    "SELECT\n",
    "    UserID,\n",
    "    rub_avg,\n",
    "    CASE\n",
    "        WHEN rub_avg < 5 THEN 'A'\n",
    "        WHEN rub_avg >= 5 AND rub_avg < 10 THEN 'B'\n",
    "        WHEN rub_avg >= 10 AND rub_avg < 20 THEN 'C'\n",
    "        ELSE 'D'\n",
    "    END AS user_categoria\n",
    "FROM\n",
    "    (\n",
    "    SELECT\n",
    "        AVG(Rub) AS rub_avg,\n",
    "        UserID\n",
    "    FROM checks\n",
    "    GROUP BY\n",
    "        UserID\n",
    "    )\n",
    "ORDER BY\n",
    "    UserID ASC\n",
    "LIMIT 4\n",
    "# Создали исходную таблицу с группировкой\n",
    "# Вывели на печать необходимые колонки\n",
    "# В блоке CASE задали необходимые параметры\n",
    "# Сортировка необходимая"
   ]
  },
  {
   "cell_type": "code",
   "execution_count": null,
   "metadata": {
    "id": "PZeNYTH_yxAV"
   },
   "outputs": [],
   "source": [
    "# Используйте предыдущий запрос как подзапрос и посчитайте, сколько клиентов приходится на каждый сегмент и сколько доходов он приносит. \n",
    "# Отсортируйте результат по убыванию суммы доходов на сегмент и в качестве ответа укажите наибольшую сумму.\n",
    "SELECT\n",
    "    SUM(Rub) AS rub_sum,\n",
    "    count(UserID) AS UserID_count,\n",
    "    user_categoria\n",
    "FROM\n",
    "    (\n",
    "    SELECT\n",
    "        Rub,\n",
    "        UserID,\n",
    "        user_categoria\n",
    "    FROM checks AS l\n",
    "    LEFT JOIN \n",
    "    (\n",
    "    SELECT\n",
    "        UserID,\n",
    "        CASE\n",
    "            WHEN rub_avg < 5 THEN 'A'\n",
    "            WHEN rub_avg >= 5 AND rub_avg < 10 THEN 'B'\n",
    "            WHEN rub_avg >= 10 AND rub_avg < 20 THEN 'C'\n",
    "            ELSE 'D'\n",
    "        END AS user_categoria\n",
    "    FROM\n",
    "        (\n",
    "        SELECT\n",
    "            AVG(Rub) AS rub_avg,\n",
    "            UserID\n",
    "        FROM checks\n",
    "        GROUP BY\n",
    "            UserID\n",
    "        )\n",
    "    ORDER BY\n",
    "        UserID ASC\n",
    "    ) AS r\n",
    "        USING(UserID)\n",
    "    )\n",
    "GROUP BY\n",
    "    user_categoria\n",
    "ORDER BY\n",
    "    rub_sum DESC\n",
    "LIMIT 1\n",
    "# Использовал таблицу с группировкой\n",
    "# Присоединил к исходной таблице checks LEFT полученную таблицу - только категории по среднему чеку\n",
    "# Сгруппировал соединённую таблицу по сумме чеков - rub_sum и количеству ID UserID_count для каждой группы средних чеков user_categoria\n",
    "# Сортировка"
   ]
  },
  {
   "cell_type": "code",
   "execution_count": null,
   "metadata": {
    "id": "q3pMhs5pIAR9"
   },
   "outputs": [],
   "source": [
    "# Предположим, что в выборе жилья нас интересует только два параметра: наличие кухни (kitchen) и гибкой системы отмены (flexible), причем первый в приоритете.\n",
    "# Создайте с помощью оператора CASE колонку с обозначением группы, в которую попадает жилье из таблицы listings:\n",
    "'good', если в удобствах (amenities) присутствует кухня и система отмены (cancellation_policy) гибкая\n",
    "'ok', если в удобствах есть кухня, но система отмены не гибкая\n",
    "'not ok' во всех остальных случаях\n",
    "# Результат отсортируйте по новой колонке по возрастанию, установите ограничение в 5 строк, в качестве ответа укажите host_id первой строки.\n",
    "# Обратите внимание, что cancellation_policy - это отдельная колонка, по ней необходимо смотреть систему отмены\n",
    "SELECT\n",
    "    host_id,\n",
    "    amenities,  # Можно убрать\n",
    "    cancellation_policy,  # Можно убрать\n",
    "    multiSearchAnyCaseInsensitive(amenities, ['Kitchen']) AS Kitchen,  # Можно убрать\n",
    "    CASE\n",
    "        WHEN cancellation_policy = 'flexible' AND multiSearchAnyCaseInsensitive(amenities, ['Kitchen']) = 1 THEN 'good'\n",
    "        WHEN multiSearchAnyCaseInsensitive(amenities, ['Kitchen']) = 1 AND cancellation_policy != 'flexible' THEN 'ok'\n",
    "        ELSE 'not ok'\n",
    "    END AS my_select\n",
    "FROM listings\n",
    "ORDER BY\n",
    "    my_select ASC\n",
    "LIMIT 5\n",
    "# В блоке CASE задали необходимые границы и новую колонку\n",
    "# Вывели на печать необходимое / сортировка"
   ]
  },
  {
   "cell_type": "code",
   "execution_count": null,
   "metadata": {
    "id": "uoxdJdtr2Jxk"
   },
   "outputs": [],
   "source": [
    "# Давайте найдем в таблице calendar_summary те доступные (available='t') объявления, у которых число отзывов от уникальных пользователей в таблице reviews выше среднего.\n",
    "# NB! Для простоты будем считать, что отзыв — это уникальный посетитель на уникальное жилье, не учитывая возможные повторные отзывы от того же посетителя.\n",
    "# Для этого с помощью конструкции WITH посчитайте среднее число уникальных reviewer_id из таблицы reviews на каждое жильё, потом проведите джойн \n",
    "# таблиц calendar_summary и reviews по полю listing_id (при этом из таблицы calendar_summary должны быть отобраны уникальные listing_id, \n",
    "# отфильтрованные по правилу available='t'). Результат отфильтруйте так, чтобы остались только записи, у которых число отзывов от уникальных людей выше среднего.\n",
    "# Отсортируйте результат по возрастанию listing_id и в качестве ответа впишите количество отзывов от уникальных пользователей из первой строки.\n",
    "# Hint: для решения проблем со вложенными агрегационными функциями (и агрегационными функциями там, где их не ждут) как раз очень помогут подзапросы.\n",
    "WITH (  # В этом блоке предварительно сгруппировал количество reviewer_id для каждого listing_id. После этого взял среднее число\n",
    "SELECT\n",
    "    AVG(reviewer_id_uniq_count) AS reviewer_id_uniq_avg\n",
    "FROM\n",
    "    (\n",
    "    SELECT\n",
    "        count(DISTINCT reviewer_id) AS reviewer_id_uniq_count,\n",
    "        listing_id\n",
    "    FROM reviews\n",
    "    GROUP BY\n",
    "        listing_id\n",
    "    )\n",
    ") AS reviewer_id_uniq_avg  # название переменной для сравнения\n",
    "SELECT\n",
    "    listing_id,\n",
    "    count(DISTINCT reviewer_id) AS reviewer_id_count\n",
    "FROM\n",
    "    (\n",
    "    SELECT\n",
    "        DISTINCT listing_id\n",
    "    FROM calendar_summary\n",
    "    WHERE\n",
    "        available='t'\n",
    "    ) AS l\n",
    "JOIN reviews AS r\n",
    "    USING(listing_id)\n",
    "GROUP BY\n",
    "    listing_id\n",
    "HAVING\n",
    "    reviewer_id_count > reviewer_id_uniq_avg\n",
    "ORDER BY\n",
    "    listing_id ASC\n",
    "LIMIT 100"
   ]
  },
  {
   "cell_type": "code",
   "execution_count": null,
   "metadata": {
    "id": "QJSfwSIKUdsk"
   },
   "outputs": [],
   "source": [
    "# Напишите запрос для создания таблицы со следующими параметрами, также подобрав подходящий тип данных.\n",
    "CREATE TABLE reviews_kucher4 (\n",
    "    listing_id UInt32,  # – идентификатор объявления, может быть только положительным и целым числом, 32-битный тип данных\n",
    "    id UInt32,  # – идентификатор хозяина, может быть только положительным и целым числом, 32-битный тип данных\n",
    "    created_at DateTime('Europe/Moscow'),  # – дата со временем (2020-01-01 00:00:00), часовой пояс – 'Europe/Moscow'\n",
    "    reviewer_id UInt32,  # – идентификатор ревьюера, может быть только положительным и целым числом, 32-битный тип данных\n",
    "    reviewer_name String,  # – имя того, кто оставил отзыв\n",
    "    comments String  # - текст отзыва\n",
    ") ENGINE = MergeTree()\n",
    "ORDER BY (listing_id, id)"
   ]
  },
  {
   "cell_type": "code",
   "execution_count": null,
   "metadata": {
    "id": "pgmAuIGgeu1g"
   },
   "outputs": [],
   "source": [
    "# К вам пришел коллега с новостями: оказывается, в поле created_at будет записываться только дата, без времени, поэтому нужно изменить тип данных!\n",
    "# Напишите запрос, который модифицирует тип данных, и введите его в поле ниже без кавычек и лишних пробелов. \n",
    "# Не забудьте указать базу данных test перед названием таблицы!\n",
    "ALTER TABLE test.reviews MODIFY COLUMN created_at Date"
   ]
  },
  {
   "cell_type": "code",
   "execution_count": null,
   "metadata": {
    "id": "Yn-JedzhUdnj"
   },
   "outputs": [],
   "source": [
    "# Предположим, ваш коллега вставил данные, но что-то перепутал. Часть строк с комментариями осталась совершенно пустой! \n",
    "# Напишите запрос, который удалит из таблицы test.reviews те строки, где в столбце comments встречаются пустые значения (''). \n",
    "# Введите его в поле ниже без кавычек и лишних пробелов.\n",
    "ALTER TABLE test.reviews DELETE WHERE comments = ''"
   ]
  },
  {
   "cell_type": "code",
   "execution_count": null,
   "metadata": {
    "id": "aP778P-dUdkw"
   },
   "outputs": [],
   "source": [
    "# Напишите запрос, который удвоит price для всех строк с датой (created_at) после 2019-01-01.\n",
    "# Обратите внимание, что для сравнения с датой в формате '2019-01-01' можно не преобразовывать данные в колонке created_at.\n",
    "# Note: ответ введите без лишних пробелов между операциями умножения и сравнения и знака '='.\n",
    "\n",
    "# Откорректировать колонку при выполнении условия\n",
    "ALTER TABLE test.reviews UPDATE price  = price  * 2 WHERE created_at > '2019-01-01'"
   ]
  },
  {
   "cell_type": "markdown",
   "metadata": {
    "id": "h_3UzgEYmyqg"
   },
   "source": [
    "## Lesson 6"
   ]
  },
  {
   "cell_type": "markdown",
   "metadata": {
    "id": "0MluFLCXm1Ju"
   },
   "source": [
    "### Lection"
   ]
  },
  {
   "cell_type": "code",
   "execution_count": null,
   "metadata": {
    "id": "Ib4PE7H1m3QR"
   },
   "outputs": [],
   "source": [
    "# Научимся подключаться к ClickHouse через Python c использованием библиотеки pandahouse. \n",
    "# Ознакомимся с библиотекой Prophet,  попрактикуемся в прогнозировании временных рядов и визуализации предсказаний."
   ]
  },
  {
   "cell_type": "code",
   "execution_count": null,
   "metadata": {
    "id": "IYGzS8hnm4Af"
   },
   "outputs": [],
   "source": [
    "# pandahouse - Интерфейс Pandas для ClickHouse"
   ]
  },
  {
   "cell_type": "code",
   "execution_count": null,
   "metadata": {
    "id": "UqtBO4dRm34A"
   },
   "outputs": [],
   "source": [
    "# Все заготовки в Юпитре в лекциях"
   ]
  },
  {
   "cell_type": "code",
   "execution_count": null,
   "metadata": {
    "id": "KLvfpHgIm3ui"
   },
   "outputs": [],
   "source": [
    "# Датафрэйм с Российскими праздниками\n",
    "import pandas as pd\n",
    "import holidays\n",
    "\n",
    "holidays_dict = holidays.RU(years=(2015, 2016, 2017, 2018, 2019, 2020, 2021))\n",
    "df_holidays = pd.DataFrame.from_dict(holidays_dict, orient='index') \\\n",
    "    .reset_index()\n",
    "df_holidays = df_holidays.rename({'index':'ds', 0:'holiday'}, axis ='columns')\n",
    "df_holidays['ds'] = pd.to_datetime(df_holidays.ds)\n",
    "df_holidays = df_holidays.sort_values(by=['ds'])\n",
    "df_holidays = df_holidays.reset_index(drop=True)\n",
    "df_holidays.head()"
   ]
  },
  {
   "cell_type": "code",
   "execution_count": null,
   "metadata": {
    "id": "PhqFYx_rnB19"
   },
   "outputs": [],
   "source": [
    "# ДФ с праздниками 2023г.\n",
    "import pandas as pd\n",
    "import holidays\n",
    "\n",
    "holidays_dict = holidays.RU(years=(2023))\n",
    "df_holidays = pd.DataFrame.from_dict(holidays_dict, orient='index') \\\n",
    "    .reset_index()\n",
    "df_holidays = df_holidays.rename({'index':'ds', 0:'holiday'}, axis ='columns')\n",
    "df_holidays['ds'] = pd.to_datetime(df_holidays.ds)\n",
    "df_holidays = df_holidays.sort_values(by=['ds'])\n",
    "df_holidays = df_holidays.reset_index(drop=True)\n",
    "df_holidays"
   ]
  },
  {
   "cell_type": "code",
   "execution_count": null,
   "metadata": {
    "id": "QCNehmfOnBzP"
   },
   "outputs": [],
   "source": [
    "# Функция explode\n",
    "import pandas as pd\n",
    "#create DataFrame\n",
    "df33 = pd.DataFrame({'team': [['A', 'B', 'C'], ['D', 'E', 'F'], ['G', 'H', 'I']],\n",
    " 'position ':['Guard', 'Forward', 'Center'],\n",
    " 'points': [7, 14, 19]})\n",
    "#view DataFrame\n",
    "df33"
   ]
  },
  {
   "cell_type": "code",
   "execution_count": null,
   "metadata": {
    "id": "SwUwbaGynBwi"
   },
   "outputs": [],
   "source": [
    "df33.explode('team')"
   ]
  },
  {
   "cell_type": "markdown",
   "metadata": {
    "id": "-fuwIkntm4ce"
   },
   "source": [
    "### Tasks"
   ]
  },
  {
   "cell_type": "code",
   "execution_count": null,
   "metadata": {
    "id": "qYIo-50vm6fX"
   },
   "outputs": [],
   "source": [
    "import pandas as pd\n",
    "import numpy as np\n",
    "import seaborn as sns\n",
    "import matplotlib.pyplot as plt\n",
    "\n",
    "sns.scatterplot\n",
    "sns.scatterplot(data=df_group, x='price', y='review_scores_rating', hue='room_type')\n",
    "# price - первое значение\n",
    "# review_scores_rating - второе значение\n",
    "# room_type - по какому значению группировка выполнена"
   ]
  },
  {
   "cell_type": "markdown",
   "metadata": {
    "id": "m1Ym_v7jwnyQ"
   },
   "source": [
    "## Lesson 7"
   ]
  },
  {
   "cell_type": "markdown",
   "metadata": {
    "id": "J_wuT7hjwq8H"
   },
   "source": [
    "### Lection"
   ]
  },
  {
   "cell_type": "code",
   "execution_count": null,
   "metadata": {
    "id": "gLTibxs3wtHM"
   },
   "outputs": [],
   "source": [
    "# Приступим к визуализации данных. Узнаем, что такое дашборды, зачем они нужны и какими бывают. \n",
    "# Также поговорим о том, какие бывают метрики и в каких случаях возникает необходимость создать свою метрику."
   ]
  },
  {
   "cell_type": "code",
   "execution_count": null,
   "metadata": {
    "id": "a5q9NpSlwtdI"
   },
   "outputs": [],
   "source": [
    "# Группировка с IF в GROUP BY\n",
    "SELECT\n",
    "    Date,\n",
    "    type,\n",
    "    uniqExact(DeviceID) AS installs\n",
    "FROM default.installs\n",
    "GROUP BY\n",
    "    CAST(InstallationDate AS Date) AS Date,\n",
    "    IF(InstallCost = 0, 'free', 'money') AS type\n",
    "ORDER BY\n",
    "    Date ASC,\n",
    "    type ASC"
   ]
  },
  {
   "cell_type": "code",
   "execution_count": null,
   "metadata": {
    "id": "qXyIAPLNwymy"
   },
   "outputs": [],
   "source": [
    "# Что такое IF NOT EXISTS?\n",
    "# Вы можете добавить в запрос опциональное предложение IF NOT EXISTS. Оно нужно для проверки, не существует ли уже в базе данных та таблица, которую вы хотите создать. \n",
    "Это предложение можно поместить непосредственно перед именем таблицы.\n",
    "CREATE TABLE IF NOT EXISTS teachers();\n",
    "# Если такая таблица существует, новая не будет создана.\n",
    "# Если не указать IF NOT EXISTS и попытаться создать заново уже существующую таблицу, получите сообщение об ошибке."
   ]
  },
  {
   "cell_type": "markdown",
   "metadata": {
    "id": "QGUDbhLQwt_n"
   },
   "source": [
    "### Tasks"
   ]
  },
  {
   "cell_type": "code",
   "execution_count": null,
   "metadata": {
    "id": "vZDQqr7hwxCg"
   },
   "outputs": [],
   "source": [
    "# Ваш менее опытный коллега не уверен, что его таблица retail действительно создалась и добавилась в базу данных. \n",
    "# Напишите запрос, который создаст таблицу, если она еще не существует (IF NOT EXISTS), со следующими параметрами:\n",
    "CREATE TABLE IF NOT EXISTS test.retail(  # если она еще не существует (IF NOT EXISTS)\n",
    "    InvoiceNo String, # – идентификатор заказа, строковое значение\n",
    "    StockCode String, # – идентификатор заказа, строковое значение\n",
    "    Description String, # – описание товара, строковое значение\n",
    "    Quantity UInt32, # – количество единиц товара, добавленных в корзину (особенность данных – значения могут быть отрицательными, 32 бита)\n",
    "    InvoiceDate DateTime('Europe/London'), # – дата и время создания заказа (транзакции), часовой пояс – 'Europe/London'\n",
    "    UnitPrice Decimal64(3),  # – цена за единицу товара (особенность данных – значения могут быть отрицательными, точность – три знака после точки, 64 бита)\n",
    "    CustomerID Int32,  # – идентификатор пользователя, целое положительное число, 32 бита.\n",
    "    Country String  # – страна, строковое значение. \n",
    ") ENGINE = MergeTree()\n",
    "ORDER BY (InvoiceDate, CustomerID)"
   ]
  },
  {
   "cell_type": "code",
   "execution_count": null,
   "metadata": {
    "id": "lnb1-mokww6t"
   },
   "outputs": [],
   "source": [
    "# задача 4\n",
    "SELECT\n",
    "    Country,\n",
    "    uniqExact(CustomerID),\n",
    "    toStartOfMonth(CAST(InvoiceDate as date)) AS Date\n",
    "FROM default.retail\n",
    "WHERE Country IN ('United Kingdom', 'Australia', 'Netherlands')\n",
    "GROUP BY\n",
    "    Country,\n",
    "    Date\n",
    "HAVING\n",
    "    Date = '2011-02-01'\n",
    "LIMIT 100"
   ]
  },
  {
   "cell_type": "code",
   "execution_count": null,
   "metadata": {
    "id": "8T5NjmNryYsA"
   },
   "outputs": [],
   "source": [
    "# MAU (monthly active users) – число уникальных пользователей за месяц."
   ]
  },
  {
   "cell_type": "code",
   "execution_count": null,
   "metadata": {
    "id": "8_ze-ON5yefA"
   },
   "outputs": [],
   "source": [
    "# Посчитайте среднюю сумму заказа (AOV – average order value) "
   ]
  },
  {
   "cell_type": "code",
   "execution_count": null,
   "metadata": {
    "id": "jCOpyQX89RuH"
   },
   "outputs": [],
   "source": [
    "# задача 5\n",
    "SELECT\n",
    "    Country,\n",
    "    uniqExact(CustomerID),\n",
    "    toStartOfMonth(CAST(InvoiceDate as date)) AS Date\n",
    "FROM default.retail\n",
    "WHERE\n",
    "    Country != 'United Kingdom'\n",
    "    AND Country IN ('France', 'Germany')\n",
    "GROUP BY\n",
    "    Country,\n",
    "    Date\n",
    "LIMIT 100"
   ]
  },
  {
   "cell_type": "code",
   "execution_count": null,
   "metadata": {
    "id": "uIkppsLk9Rrn"
   },
   "outputs": [],
   "source": [
    "# задача 6\n",
    "SELECT\n",
    "    Country,\n",
    "    AVG(sum_total_price) AS avg_sum_total_price\n",
    "FROM\n",
    "    (\n",
    "    SELECT\n",
    "        InvoiceNo,\n",
    "        SUM(Quantity * UnitPrice) AS sum_total_price,\n",
    "        Country\n",
    "    FROM default.retail\n",
    "    WHERE\n",
    "        Quantity >= 0\n",
    "    GROUP BY\n",
    "        InvoiceNo,\n",
    "        Country\n",
    "    )\n",
    "GROUP BY\n",
    "    Country"
   ]
  },
  {
   "cell_type": "code",
   "execution_count": null,
   "metadata": {
    "id": "bKncyXCM9RpN"
   },
   "outputs": [],
   "source": [
    "# задача 7\n",
    "SELECT\n",
    "    Country,\n",
    "    AVG(sum_total_price) AS avg_sum_total_price,\n",
    "    Date\n",
    "FROM\n",
    "    (\n",
    "    SELECT\n",
    "        InvoiceNo,\n",
    "        SUM(Quantity * UnitPrice) AS sum_total_price,\n",
    "        Country,\n",
    "        Date\n",
    "    FROM default.retail\n",
    "    WHERE\n",
    "        Quantity >= 0\n",
    "    GROUP BY\n",
    "        InvoiceNo,\n",
    "        Country,\n",
    "        toStartOfMonth(CAST(InvoiceDate as date)) AS Date\n",
    "    )\n",
    "GROUP BY\n",
    "    Country,\n",
    "    Date\n",
    "HAVING\n",
    "    Country IN ('United Kingdom', 'Germany', 'France', 'Spain', 'Netherlands', 'Belgium', 'Switzerland', 'Portugal', 'Australia', 'USA')"
   ]
  },
  {
   "cell_type": "code",
   "execution_count": null,
   "metadata": {
    "id": "PtaWsIHh9Rmx"
   },
   "outputs": [],
   "source": [
    "# задача 8\n",
    "SELECT\n",
    "    Country,\n",
    "    AVG(sum_Quantity) AS avg_sum_Quantity\n",
    "FROM\n",
    "    (\n",
    "    SELECT\n",
    "        InvoiceNo,\n",
    "        SUM(Quantity) AS sum_Quantity,\n",
    "        Country\n",
    "    FROM default.retail\n",
    "    WHERE\n",
    "        Quantity >= 0\n",
    "    GROUP BY\n",
    "        InvoiceNo,\n",
    "        Country\n",
    "    )\n",
    "GROUP BY\n",
    "    Country"
   ]
  },
  {
   "cell_type": "code",
   "execution_count": null,
   "metadata": {
    "id": "2w-5sBGh9RkK"
   },
   "outputs": [],
   "source": [
    "# задача 9\n",
    "SELECT\n",
    "    CustomerID,\n",
    "    SUM(Quantity) AS Quantity_sum\n",
    "FROM default.retail\n",
    "WHERE Country = 'Netherlands'\n",
    "GROUP BY\n",
    "    CustomerID\n",
    "ORDER BY\n",
    "    Quantity_sum DESC\n",
    "LIMIT 100"
   ]
  },
  {
   "cell_type": "markdown",
   "metadata": {
    "id": "KLgzv0_cQMkG"
   },
   "source": [
    "## Lesson 8"
   ]
  },
  {
   "cell_type": "markdown",
   "metadata": {
    "id": "BRwpLdcmQaS_"
   },
   "source": [
    "### Lection"
   ]
  },
  {
   "cell_type": "code",
   "execution_count": null,
   "metadata": {
    "id": "RZDdtBYeQcwo"
   },
   "outputs": [],
   "source": [
    "# Научимся с помощью оконных функций получать значения соседних ячеек, не меняя при этом группировку строк.\n",
    "# Изучим синтаксис оконных функций и попрактикуемся на различных примерах.\n",
    "\n",
    "# Считать накопления учень удобно\n",
    "# Работает в PostgreSQL\n",
    "\n",
    "# В ClickHouse нет окон! Подобие - функция neighbor."
   ]
  },
  {
   "cell_type": "code",
   "execution_count": null,
   "metadata": {
    "id": "Y6QiRolvwRJ6"
   },
   "outputs": [],
   "source": [
    "# Концептуально, оконные функции можно описать как:\n",
    "некоторый выход на N строк вперед и/или назад с текущей строки\n",
    "сбор данных с этих строк\n",
    "операции над собранными данными\n",
    "запись в исходную строку\n",
    "повтор на следующей строке\n",
    "# Именно эта концепция и отражена в названии – с каждой строки создается некоторое окно, и по этому окну происходит подсчет"
   ]
  },
  {
   "cell_type": "code",
   "execution_count": null,
   "metadata": {
    "id": "sFgZVecVwyBh"
   },
   "outputs": [],
   "source": [
    "При создании окна ему можно передать следующие параметры:\n",
    "PARTITION BY [city]  # Работает аналогично блоку GROUP BY в запросе, только группирует данные для окна.\n",
    "ORDER BY [date ASC]  #  Работает аналогично блоку ORDER BY на уровне запроса\n",
    "ROWS [ BETWEEN UNBOUNDED PRECEDING AND CURRENT ROW ]  # Задает параметры рамки окна.\n",
    "– UNBOUNDED PRECEDING – указывает, что окно начинается с первой строки секции\n",
    "– UNBOUNDED FOLLOWING – указывает, что окно заканчивается на последней строке"
   ]
  },
  {
   "cell_type": "code",
   "execution_count": null,
   "metadata": {
    "id": "kya9PLvpQdP3"
   },
   "outputs": [],
   "source": [
    "# Пример кода с окном\n",
    "SELECT\n",
    "    sq.installationdate AS installationdate,\n",
    "    sq.cost AS cost,\n",
    "    SUM(sq.cost) OVER w AS total_cost  # выведет 1 дополнительную колонку со значением\n",
    "FROM\n",
    "    (\n",
    "    SELECT\n",
    "        installationdate,\n",
    "        SUM(installcost) AS cost\n",
    "    FROM installs\n",
    "    WHERE installcost>0\n",
    "    GROUP BY installationdate\n",
    "    ) AS sq\n",
    "WINDOW w AS ()  # название может быть любым"
   ]
  },
  {
   "cell_type": "code",
   "execution_count": null,
   "metadata": {
    "id": "yQ6Y_2XTQdMW"
   },
   "outputs": [],
   "source": [
    "# PARTITION BY - разделить колонку по определённому параметру\n",
    "# Работает также, как GROPU BY, но для окна\n",
    "SELECT\n",
    "    sq.installationdate AS installationdate,\n",
    "    sq.platform AS platform,\n",
    "    sq.cost AS cost,\n",
    "    SUM(sq.cost) OVER w AS total_cost\n",
    "FROM\n",
    "    (\n",
    "    SELECT\n",
    "        installationdate,\n",
    "        platform,\n",
    "        SUM(installcost) AS cost\n",
    "    FROM installs\n",
    "    WHERE installcost>0\n",
    "    GROUP BY\n",
    "        installationdate,\n",
    "        platform\n",
    "    ) AS sq\n",
    "WINDOW w AS (\n",
    "    PARTITION BY sq.platform\n",
    "    )\n",
    "ORDER BY\n",
    "    installationdate ASC,\n",
    "    platform ASC"
   ]
  },
  {
   "cell_type": "code",
   "execution_count": null,
   "metadata": {
    "id": "324NXC2fQdIo"
   },
   "outputs": [],
   "source": [
    "# ORDER BY\n",
    "# Задав данный параметр преобразуем данные в накопительные\n",
    "# Неявная рамка окна\n",
    "SELECT\n",
    "    sq.installationdate AS installationdate,\n",
    "    sq.platform AS platform,\n",
    "    sq.cost AS cost,\n",
    "    SUM(sq.cost) OVER w AS total_cost\n",
    "FROM\n",
    "    (\n",
    "    SELECT\n",
    "        installationdate,\n",
    "        platform,\n",
    "        SUM(installcost) AS cost\n",
    "    FROM installs\n",
    "    WHERE installcost>0\n",
    "    GROUP BY\n",
    "        installationdate,\n",
    "        platform\n",
    "    ) AS sq\n",
    "WINDOW w AS (\n",
    "    PARTITION BY sq.platform\n",
    "    ORDER BY CAST(sq.installationdate AS date) ASC  # Неявная рамка окна\n",
    "    )\n",
    "ORDER BY\n",
    "    installationdate ASC,\n",
    "    platform ASC"
   ]
  },
  {
   "cell_type": "code",
   "execution_count": null,
   "metadata": {
    "id": "hUaaZFPQQdCf"
   },
   "outputs": [],
   "source": [
    "# Явная рамка\n",
    "# Относительные рамки\n",
    "# Определение рамки через ROWS\n",
    "ROWS BETWEEN UNBOUNDED PRECEDING AND CURRENT ROW  # от начала партиции (PARTITION BY sq.platform) до текущей строки, на которой сейчас эта оконная функция выполняетсяю Сумма повышается!\n",
    "ROWS BETWEEN UNBOUNDED PRECEDING AND UNBOUNDED FOLLOWING  # от начала партиции (PARTITION BY sq.platform) до конца партиции (PARTITION BY sq.platform). Накопительная сумма перестала работать! Только итоговое значение суммы!\n",
    "ROWS BETWEEN CURRENT ROW AND UNBOUNDED FOLLOWING  # от текущей строки и до конца партиции (PARTITION BY sq.platform). Сумма снижается!"
   ]
  },
  {
   "cell_type": "code",
   "execution_count": null,
   "metadata": {
    "id": "m5G_ItcmQic3"
   },
   "outputs": [],
   "source": [
    "# Явная рамка\n",
    "SELECT\n",
    "    sq.installationdate AS installationdate,\n",
    "    sq.platform AS platform,\n",
    "    sq.cost AS cost,\n",
    "    SUM(sq.cost) OVER w AS total_cost\n",
    "FROM\n",
    "    (\n",
    "    SELECT\n",
    "        installationdate,\n",
    "        platform,\n",
    "        SUM(installcost) AS cost\n",
    "    FROM installs\n",
    "    WHERE installcost>0\n",
    "    GROUP BY\n",
    "        installationdate,\n",
    "        platform\n",
    "    ) AS sq\n",
    "WINDOW w AS (\n",
    "    PARTITION BY sq.platform\n",
    "    ORDER BY CAST(sq.installationdate AS date) ASC\n",
    "    ROWS BETWEEN UNBOUNDED PRECEDING AND CURRENT ROW # явная рамка окна\n",
    "    )\n",
    "ORDER BY\n",
    "    installationdate ASC,\n",
    "    platform ASC"
   ]
  },
  {
   "cell_type": "code",
   "execution_count": null,
   "metadata": {
    "id": "FX-mEj5eQiaZ"
   },
   "outputs": [],
   "source": [
    "# Явная рамка\n",
    "# Абсолютные значения строк\n",
    "ROWS BETWEEN 1 PRECEDING AND 1 FOLLOWING  # одна строчка вперёд и одна назад"
   ]
  },
  {
   "cell_type": "code",
   "execution_count": null,
   "metadata": {
    "id": "VmSX1MENQiXw"
   },
   "outputs": [],
   "source": [
    "# Определение рамки через RANGE\n",
    "# RANGE – Начало и конец рамки задаются в разнице значений столбца из ORDER BY\n",
    "# При указании рамки через RANGE обязательным условием является только один столбец в ORDER BY окна\n",
    "# Например, если в ORDER BY у вас столбец event_date с типом данных date, то определение окна можно задать следующим образом RANGE BETWEEN '3 day' PRECEDING AND '3 days' FOLLOWING что будет означать рамку на 3 дня назад и вперед.\n",
    "RANGE BETWEEN '1 day' PRECEDING AND '2 days' FOLLOWING  # Значения из строчки + 2 дня вперёд"
   ]
  },
  {
   "cell_type": "code",
   "execution_count": null,
   "metadata": {
    "id": "W1svXuOxQiVp"
   },
   "outputs": [],
   "source": [
    "SELECT\n",
    "    sq.installationdate AS installationdate,\n",
    "    sq.platform AS platform,\n",
    "    sq.cost AS cost,\n",
    "    SUM(sq.cost) OVER w AS total_cost\n",
    "FROM\n",
    "    (\n",
    "    SELECT\n",
    "        installationdate,\n",
    "        platform,\n",
    "        SUM(installcost) AS cost\n",
    "    FROM installs\n",
    "    WHERE installcost>0\n",
    "    GROUP BY\n",
    "        installationdate,\n",
    "        platform\n",
    "    ) AS sq\n",
    "WINDOW w AS (\n",
    "    PARTITION BY sq.platform\n",
    "    ORDER BY CAST(sq.installationdate AS date) ASC\n",
    "    RANGE BETWEEN '1 day' PRECEDING AND '2 days' FOLLOWING\n",
    "    )\n",
    "ORDER BY\n",
    "    installationdate ASC,\n",
    "    platform ASC"
   ]
  },
  {
   "cell_type": "code",
   "execution_count": null,
   "metadata": {
    "id": "BjcP0xr-QiTw"
   },
   "outputs": [],
   "source": [
    "# Любую аггрегатную функцию можно использовать через окно. Необходимо явно сказать, что она считается через окно!\n",
    "# Этонеобходимо делать явно с указанием OVER и имени окна.\n",
    "# Например AVG(revenue) OVER w AS avg_revenue Помимо обычных агрегатных функций, существуют специальные функции для работы через окно.\n",
    "\n",
    "row_number() – номер текущей строки в разделе, начинается c 1  # когда считаем сессии / важно понимать шаги / важно понимать порядок\n",
    "lag(my_field, 1) – получить значение столбца my_field из предыдущей строки\n",
    "lead(my_field, 1) – получить значение столбца my_field из следующей строки"
   ]
  },
  {
   "cell_type": "code",
   "execution_count": null,
   "metadata": {
    "id": "u6F7ytREQiRO"
   },
   "outputs": [],
   "source": [
    "# Несколько колонок через окна\n",
    "SELECT\n",
    "    sq.installationdate AS installationdate,\n",
    "    sq.cost AS cost,\n",
    "    SUM(sq.cost) OVER w AS sum_cost,\n",
    "    AVG(sq.cost) OVER w AS avg_cost\n",
    "FROM\n",
    "    (\n",
    "    SELECT\n",
    "        installationdate,\n",
    "        SUM(installcost) AS cost\n",
    "    FROM installs\n",
    "    WHERE installcost>0\n",
    "    GROUP BY installationdate\n",
    "    ) AS sq\n",
    "WINDOW w AS ()\n",
    "ORDER BY installationdate ASC"
   ]
  },
  {
   "cell_type": "code",
   "execution_count": null,
   "metadata": {
    "id": "fjmMUuy5QiOu"
   },
   "outputs": [],
   "source": [
    "# row_number()\n",
    "SELECT\n",
    "    sq.installationdate AS installationdate,\n",
    "    sq.cost AS cost,\n",
    "    SUM(sq.cost) OVER w AS sum_cost,\n",
    "    AVG(sq.cost) OVER w AS avg_cost,\n",
    "    row_number() OVER w AS row_number_test\n",
    "FROM\n",
    "    (\n",
    "    SELECT\n",
    "        installationdate,\n",
    "        SUM(installcost) AS cost\n",
    "    FROM installs\n",
    "    WHERE installcost>0\n",
    "    GROUP BY installationdate\n",
    "    ) AS sq\n",
    "WINDOW w AS ()\n",
    "ORDER BY installationdate ASC"
   ]
  },
  {
   "cell_type": "code",
   "execution_count": null,
   "metadata": {
    "id": "UDv0l1rBQiMe"
   },
   "outputs": [],
   "source": [
    "# LAG / LEAD\n",
    "SELECT\n",
    "    sq.installationdate AS installationdate,\n",
    "    sq.cost AS cost,\n",
    "    SUM(sq.cost) OVER w AS sum_cost,\n",
    "    AVG(sq.cost) OVER w AS avg_cost,\n",
    "    row_number() OVER w AS row_number_test,\n",
    "    LAG(sq.cost, 1) OVER w AS lag_1,\n",
    "    LEAD(sq.cost, 1) OVER w AS lead_1\n",
    "FROM\n",
    "    (\n",
    "    SELECT\n",
    "        installationdate,\n",
    "        SUM(installcost) AS cost\n",
    "    FROM installs\n",
    "    WHERE installcost>0\n",
    "    GROUP BY installationdate\n",
    "    ) AS sq\n",
    "WINDOW w AS ()\n",
    "ORDER BY installationdate ASC"
   ]
  },
  {
   "cell_type": "code",
   "execution_count": null,
   "metadata": {
    "id": "SE9JqLoTQiKT"
   },
   "outputs": [],
   "source": [
    "# Как вызвать окно без его объявления в блоке WINDOW\n",
    "# Прямо в блоке SELECT указать ссылку на окно:\n",
    "# \n",
    "SELECT\n",
    "    sq.installationdate AS installationdate,\n",
    "    sq.cost AS cost,\n",
    "    SUM(sq.cost) OVER () AS sum_cost  # () - просто окно без каких-либо параметров / при необходимости параметры можно указать прямо в скобках"
   ]
  },
  {
   "cell_type": "markdown",
   "metadata": {
    "id": "DnZDShKeQdlO"
   },
   "source": [
    "### Tasks"
   ]
  },
  {
   "cell_type": "code",
   "execution_count": null,
   "metadata": {
    "id": "B-EZF6e3QgNv"
   },
   "outputs": [],
   "source": [
    "# Задача 7\n",
    "SELECT\n",
    "    region,\n",
    "    date,\n",
    "    total_volume,\n",
    "    SUM(total_volume) OVER w AS volume\n",
    "FROM avocado\n",
    "WHERE \n",
    "        region IN ('NewYork', 'LosAngeles')\n",
    "    AND type = 'organic'\n",
    "WINDOW w AS (\n",
    "    PARTITION BY region\n",
    "    ORDER BY CAST(date AS date) ASC\n",
    "    ROWS BETWEEN UNBOUNDED PRECEDING AND CURRENT ROW\n",
    "    )\n",
    "ORDER BY\n",
    "    region DESC,\n",
    "    CAST(date AS date) ASC"
   ]
  },
  {
   "cell_type": "code",
   "execution_count": null,
   "metadata": {
    "id": "OxrUV4zPKI5O"
   },
   "outputs": [],
   "source": [
    "# Задача 8\n",
    "SELECT\n",
    "    region,\n",
    "    date,\n",
    "    year,\n",
    "    total_volume,\n",
    "    SUM(total_volume) OVER w AS volume\n",
    "FROM avocado\n",
    "WHERE \n",
    "        region IN ('NewYork', 'LosAngeles')\n",
    "    AND type = 'organic'\n",
    "WINDOW w AS (\n",
    "    PARTITION BY region, year\n",
    "    ORDER BY CAST(date AS date) ASC\n",
    "    ROWS BETWEEN UNBOUNDED PRECEDING AND CURRENT ROW\n",
    "    )\n",
    "ORDER BY\n",
    "    region DESC,\n",
    "    date ASC"
   ]
  },
  {
   "cell_type": "code",
   "execution_count": null,
   "metadata": {
    "id": "06Mt915EKI2k"
   },
   "outputs": [],
   "source": [
    "# Задача 9\n",
    "SELECT\n",
    "    sq.date,\n",
    "    sq.sum_total_volume_per_week,\n",
    "    ABS(sq.sum_total_volume_per_week - LAG(sq.sum_total_volume_per_week, 1) OVER w) AS week_diff\n",
    "FROM\n",
    "    (\n",
    "    SELECT\n",
    "        date,\n",
    "        SUM(total_volume) AS sum_total_volume_per_week\n",
    "    FROM avocado\n",
    "    WHERE \n",
    "            type = 'conventional'\n",
    "        AND region = 'TotalUS'\n",
    "    GROUP BY\n",
    "        date\n",
    "    ) AS sq\n",
    "WINDOW w AS (\n",
    "    ORDER BY CAST(sq.date AS date) ASC)"
   ]
  },
  {
   "cell_type": "code",
   "execution_count": null,
   "metadata": {
    "id": "ku1KaSSnkJ_5"
   },
   "outputs": [],
   "source": [
    "# Задача 10\n",
    "SELECT\n",
    "    date,\n",
    "    type,\n",
    "    total_volume,\n",
    "    (total_volume - LAG(total_volume, 1) OVER w) AS week_diff\n",
    "FROM avocado\n",
    "WHERE\n",
    "        region = 'NewYork'\n",
    "    AND year = '2018'\n",
    "WINDOW w AS (\n",
    "    PARTITION BY type\n",
    "    ORDER BY CAST(date AS date) ASC\n",
    "    )\n",
    "ORDER BY\n",
    "    type\n",
    "# Для визуализации стоит использовать bar chart."
   ]
  },
  {
   "cell_type": "code",
   "execution_count": null,
   "metadata": {
    "id": "raWyWBiPkJ6D"
   },
   "outputs": [],
   "source": [
    "# Задача 11\n",
    "SELECT\n",
    "    date,\n",
    "    average_price,\n",
    "    type,\n",
    "    AVG(average_price) OVER w AS average_price_2_rows\n",
    "FROM avocado\n",
    "WHERE\n",
    "    region = 'NewYork'\n",
    "WINDOW w AS (\n",
    "    PARTITION BY type\n",
    "    ORDER BY CAST(date AS date) ASC\n",
    "    ROWS BETWEEN 2 PRECEDING AND CURRENT ROW\n",
    "    )"
   ]
  },
  {
   "cell_type": "markdown",
   "metadata": {
    "id": "Vg-1K541pvsq"
   },
   "source": [
    "# Модуль 6 - Теория вероятностей"
   ]
  },
  {
   "cell_type": "markdown",
   "metadata": {
    "id": "QVHaraoUpzrK"
   },
   "source": [
    "## Урок 1 - СЛОЖЕНИЕ И ПРОИЗВЕДЕНИЕ ВЕРОЯТНОСТЕЙ"
   ]
  },
  {
   "cell_type": "markdown",
   "metadata": {
    "id": "AHCZT9Php_34"
   },
   "source": [
    "### Лекция"
   ]
  },
  {
   "cell_type": "code",
   "execution_count": null,
   "metadata": {
    "id": "sabXiJxhqD7y"
   },
   "outputs": [],
   "source": [
    "# Понимание основ теории вероятностей необходимо любому аналитику, чтобы хорошо разбираться в статистике и A/B тестах.\n",
    "# В первом уроке мы разберемся с основными понятиями и формулами расчёта вероятности."
   ]
  },
  {
   "cell_type": "code",
   "execution_count": null,
   "metadata": {
    "id": "mY0Uxko6qIgd"
   },
   "outputs": [],
   "source": [
    "# Что такое вероятность?\n",
    "# Чтобы не усложнять, остановимся на относительно простом понимании термина через такой формализм: \n",
    "p = n / m\n",
    "p может быть в диапазоне от 0 до 1\n",
    "n - количество интересных нам событий\n",
    "m - общее число событий\n",
    "# При этом m = n + x, где х - это события, которые нам не интересны"
   ]
  },
  {
   "cell_type": "code",
   "execution_count": null,
   "metadata": {
    "id": "N8l-gnK2qIbY"
   },
   "outputs": [],
   "source": [
    "# Типы задачек на вероятность\n",
    "# Их на собеседованиях бывает два."
   ]
  },
  {
   "cell_type": "code",
   "execution_count": null,
   "metadata": {
    "id": "2Rc-h6YWqIY3"
   },
   "outputs": [],
   "source": [
    "# Задачи без подвоха\n",
    "# Первый тип задач абсолютно честен с вами. Для решения понадобится всего лишь вспомнить нужные формулы и операции с числами. \n",
    "# Дальше вам остаётся только спокойно сесть, расписать всю формулу, подсчитать результат и дать правильный ответ. \n",
    "# Это довольно прагматичный тип задач, требующий только релевантных знаний."
   ]
  },
  {
   "cell_type": "code",
   "execution_count": null,
   "metadata": {
    "id": "gZKpQeOKqIWN"
   },
   "outputs": [],
   "source": [
    "# Задачи с подвохом\n",
    "# Второй тип задач часто выделяется тем, что в нём заранее не известны ни n, ни m. Такие задачки обычно дают, чтобы проверить нестандартность вашего мышления. \n",
    "# Правильного ответа либо нет, либо от вас не ожидают, что вы его знаете. \n",
    "# Здесь демонстрируется ваша логика рассуждений и способность \"мыслить за пределами коробки\"."
   ]
  },
  {
   "cell_type": "code",
   "execution_count": null,
   "metadata": {
    "id": "VjyAxYkzqITk"
   },
   "outputs": [],
   "source": [
    "# Умножение вероятностей\n",
    "# Также это можно выразить как \"вероятность того, что случится событие 1 И событие 2\".\n",
    "# Чаще всего такое делают с независимыми событиями — когда одно событие не меняет вероятность другого события."
   ]
  },
  {
   "cell_type": "code",
   "execution_count": null,
   "metadata": {
    "id": "vBwFTyzGqIQ3"
   },
   "outputs": [],
   "source": [
    "# Сложение вероятностей\n",
    "# Также у нас бывают зависимые события — когда возникновение одного события меняет вероятность другого.\n",
    "# Крайний случай зависимых событий — взаимоисключающие события, и вероятности таких событий допустимо просто складывать.\n",
    "# Это также называется полным набором событий и может быть выражено как \"вероятность того что случится событие 1 ИЛИ событие 2\". "
   ]
  },
  {
   "cell_type": "code",
   "execution_count": null,
   "metadata": {
    "id": "vR4cyO2iVBlM"
   },
   "outputs": [],
   "source": [
    "# Смотри конспект в тетради!"
   ]
  },
  {
   "cell_type": "markdown",
   "metadata": {
    "id": "DrsH8q5nqDb4"
   },
   "source": [
    "### Практика"
   ]
  },
  {
   "cell_type": "code",
   "execution_count": null,
   "metadata": {
    "id": "neUascxlqHDy"
   },
   "outputs": [],
   "source": [
    "# Задание 1\n",
    "# Два человека одновременно стреляют по мишени. Вероятность попадания по мишени у первого стрелка равна 0,5, у второго — 0,8. \n",
    "# Какова вероятность того, что в мишени будет только одна пробоина?\n"
   ]
  },
  {
   "cell_type": "code",
   "execution_count": null,
   "metadata": {
    "id": "mp9mj1pQzI2s"
   },
   "outputs": [],
   "source": [
    "# Смотри конспект в тетради!"
   ]
  },
  {
   "cell_type": "markdown",
   "metadata": {
    "id": "XjrUiYM4VId9"
   },
   "source": [
    "## Урок 2 - ФОРМУЛА БЕРНУЛЛИ"
   ]
  },
  {
   "cell_type": "markdown",
   "metadata": {
    "id": "lJH6k6t1VNdM"
   },
   "source": [
    "### Лекция"
   ]
  },
  {
   "cell_type": "code",
   "execution_count": null,
   "metadata": {
    "id": "FulWZ56UVQNc"
   },
   "outputs": [],
   "source": [
    "# Смотри конспект в тетради!"
   ]
  },
  {
   "cell_type": "markdown",
   "metadata": {
    "id": "jBS3IP1dVTML"
   },
   "source": [
    "### Практика"
   ]
  },
  {
   "cell_type": "code",
   "execution_count": null,
   "metadata": {
    "id": "Rn7LJKWEVZIs"
   },
   "outputs": [],
   "source": [
    "# Продолжим решать задачки по теории вероятностей. В этом степе попрактикуемся в решении задач по формуле Бернулли."
   ]
  },
  {
   "cell_type": "code",
   "execution_count": null,
   "metadata": {
    "id": "daYMWo5QVea6"
   },
   "outputs": [],
   "source": [
    "# Чтобы подсчитать задачу через Python, вам может пригодиться следующее:\n",
    "\n",
    "from scipy import special #модуль питона, предназначенный для научных и инженерных расчетов\n",
    "special.comb(n, k) #биномиальный коэффициент"
   ]
  },
  {
   "cell_type": "code",
   "execution_count": null,
   "metadata": {
    "id": "YgMVFz6TVeXw"
   },
   "outputs": [],
   "source": [
    "# Альтернативный вариант\n",
    "\n",
    "from math import factorial\n",
    "def num_of_successes(n, k):\n",
    "    return factorial(n)/(factorial(k) * factorial(n - k))"
   ]
  },
  {
   "cell_type": "code",
   "execution_count": null,
   "metadata": {
    "id": "qGLnHs_cVeVH"
   },
   "outputs": [],
   "source": [
    "# Решение задачи из лекции.\n",
    "# 10 бросоков монет. Вероятность выпадения только 3х решек из 10 раз.\n",
    "\n",
    "# Находим количество возможных комбинаций\n",
    "n = 10\n",
    "k = 3\n",
    "from math import factorial\n",
    "def num_of_successes(n, k):\n",
    "    return factorial(n)/(factorial(k) * factorial(n - k))\n",
    "print('количество возможных комбинаций = ', num_of_successes(n, k))\n",
    "\n",
    "# Находим вероятность\n",
    "# 10 раз вероятность выпасть решке = 0,5\n",
    "# Необходимо применить умножение вероятностей, так как нам необходима определённая комбинация: 3 решки и 7 орлов\n",
    "p_each_case = 0.5\n",
    "cases = 10\n",
    "# Произведение вероятностей необходимо умножить на количество возможных вариантов:\n",
    "p_total = p_each_case ** cases * num_of_successes(n, k)\n",
    "print('вероятность = ', round(p_total, 2)*100, '%')"
   ]
  },
  {
   "cell_type": "code",
   "execution_count": null,
   "metadata": {
    "id": "fjxcSvHFVeSU"
   },
   "outputs": [],
   "source": [
    "# Задание 1\n",
    "# Устройство, состоящее из пяти независимо работающих элементов, включается за время Т. Вероятность отказа каждого из них за это время равна 0,4. \n",
    "# Найти вероятность того, что откажут три элемента. Ответ округлите до четырёх знаков после запятой. В качестве десятичного разделителя используйте точку.\n",
    "\n",
    "# Определим количество возможных вариантов\n",
    "n = 5\n",
    "k = 3\n",
    "from math import factorial\n",
    "def num_of_successes(n, k):\n",
    "    return factorial(n)/(factorial(k) * factorial(n - k))\n",
    "print('количество возможных комбинаций = ', num_of_successes(n, k))\n",
    "\n",
    "p_work = 0.6  # вероятность успешного запуска = 1 - вероятность отказа запуска\n",
    "p_error = 0.4 # вероятность отказа запуска\n",
    "p_total = p_error * p_error * p_error * p_work * p_work * num_of_successes(n, k)  # расписал возможный сценарий и умножил его на количество комбинаций\n",
    "print('вероятность = ', round(p_total, 4))"
   ]
  },
  {
   "cell_type": "code",
   "execution_count": null,
   "metadata": {
    "id": "K03y84lwYhic"
   },
   "outputs": [],
   "source": [
    "# Задание 2\n",
    "# Устройство, состоящее из пяти независимо работающих элементов, включается за время Т. Вероятность отказа каждого из них за это время равна 0,4. \n",
    "# Найдите вероятность того, что хотя бы один элемент откажет. Ответ округлите до трёх знаков после запятой. \n",
    "# В качестве десятичного разделителя используйте точку.\n",
    "\n",
    "# Вероятность того, что хотя бы один элемент откажет = 1 - вероятность того, что НИ ОДИН не откажет\n",
    "\n",
    "# Вероятность того, что НИ ОДИН не откажет\n",
    "p_work = 0.6  # вероятность успеха\n",
    "p_work_total = p_work ** 5  # комбинация, когда все успшно запустились\n",
    "p = 1 - p_work_total\n",
    "round(p, 3)"
   ]
  },
  {
   "cell_type": "code",
   "execution_count": null,
   "metadata": {
    "id": "pFyc1cl8Yhe9"
   },
   "outputs": [],
   "source": [
    "# Задание 3\n",
    "# Производится 8 выстрелов по цели, в каждом из которых вероятность попадания равна 0,3.\n",
    "# Найти вероятность того, что цель будет поражена хотя бы два раза. Ответ округлите до тысячных.\n",
    "\n",
    "# NB! Попали хотя бы два раза - это попали два раза или больше.\n",
    "\n",
    "# Здесь ситуация очень похожа на предыдущую, но нужно вычислить две вероятности и сложить их:\n",
    "# - Вероятность, что по цели вообще не будет попаданий\n",
    "# - Вероятность, что попадание будет только одно\n",
    "# Сумма этих вероятностей противоположна вероятности события \"попали хотя бы два раза\".\n",
    "\n",
    "# Находим -  Вероятность, что по цели вообще не будет попаданий\n",
    "n = 8  # общее количество выстрелов\n",
    "p_goal = 0.3  # попал\n",
    "p_0 = 0.7     # не попал\n",
    "p_total_0_goal = p_0 ** 8\n",
    "# Находим -  Вероятность, что попадание будет только одно\n",
    "k = 1  # необходимый исход для нас - только одно попадание\n",
    "# Определим количество возможных вариантов\n",
    "from math import factorial\n",
    "def num_of_successes(n, k):\n",
    "    return factorial(n)/(factorial(k) * factorial(n - k))\n",
    "#print('количество возможных комбинаций = ', num_of_successes(n, k))\n",
    "p_one_goal = p_goal * p_0 ** 7 * num_of_successes(n, k)\n",
    "\n",
    "p_need = 1 - p_total_0_goal - p_one_goal\n",
    "print('вероятность = ', round(p_need, 3))"
   ]
  },
  {
   "cell_type": "code",
   "execution_count": null,
   "metadata": {
    "id": "Qw1NSrPrYhcE"
   },
   "outputs": [],
   "source": [
    "# Задание 4\n",
    "# В магазине 7 покупателей. Каждый может совершить покупку с вероятностью 0,4. \n",
    "# Найти вероятность того, что не более двух человек совершат покупку. Ответ округлите до сотых.\n",
    "\n",
    "# Не более двух значит 0,1,2 человека выполнят покупку. или / или / или\n",
    "p_buy = 0.4  # купит\n",
    "p_not_buy = 0.6  # не купит\n",
    "n = 7  # 7 покупателей / возможных событий\n",
    "from math import factorial\n",
    "def num_of_successes_1(n, k):\n",
    "    return factorial(n)/(factorial(k) * factorial(n - k))\n",
    "# Вариант, когда никто не купит\n",
    "p_buy_0 = p_not_buy ** n * 1  # 1, так как свего 1 такой вариант возможен\n",
    "# Вариант, когда купит только 1\n",
    "# Определим количество возможных вариантов\n",
    "k_1 = 1  # 1 вариант нас интересует, когда только 1 купил\n",
    "p_buy_1 = p_buy * p_not_buy ** (n-k_1) * num_of_successes_1(n, k_1)\n",
    "# Вариант, когда купят только 2\n",
    "# Определим количество возможных вариантов\n",
    "k_2 = 2  # 21 варианта нас интересует, когда только 2 купили\n",
    "p_buy_2 = p_buy ** 2 * p_not_buy ** (n-k_2) * num_of_successes_1(n, k_2)\n",
    "# Искомое число\n",
    "p_total = p_buy_0 + p_buy_1 + p_buy_2\n",
    "round(p_total, 2)"
   ]
  },
  {
   "cell_type": "code",
   "execution_count": null,
   "metadata": {
    "id": "iN6-WduYYhZV"
   },
   "outputs": [],
   "source": [
    "# Задание 5\n",
    "# В телеателье имеется 7 телевизоров. \n",
    "# Для каждого телевизора вероятность того, что в данный момент он включен, равна 0,5. \n",
    "# Найти вероятность того, что в данный момент включены не менее трех телевизоров. Ответ округлите до тысячных.\n",
    "\n",
    "# Не менее трёх значит 1 - (вероятность включения 0 + 1 + 2)\n",
    "p_on = 0.5\n",
    "p_off = 0.5\n",
    "n = 7\n",
    "from math import factorial\n",
    "def num_of_successes(n, k):\n",
    "    return factorial(n)/(factorial(k) * factorial(n - k))\n",
    "# Включено 0 / Выключено 0 - одинаковая вероятность будет\n",
    "p_0 = p_on ** 7 * 1\n",
    "# Включено 1\n",
    "k_1 = 1\n",
    "p_on_1 = p_on * p_off ** (n-k_1) * num_of_successes(n, k_1)\n",
    "# Включено 2\n",
    "k_2 = 2\n",
    "p_on_2 = p_on ** 2 * p_off ** (n-k_2) * num_of_successes(n, k_2)\n",
    "# Вероятность, что включен 0 или 1 или 2\n",
    "p_on_0_2 = p_0 + p_on_1 + p_on_2\n",
    "# Определим искомое число\n",
    "p_on_3_and_more = 1 - p_on_0_2\n",
    "round(p_on_3_and_more, 3)"
   ]
  },
  {
   "cell_type": "code",
   "execution_count": null,
   "metadata": {
    "id": "bG2INRE1ovXM"
   },
   "outputs": [],
   "source": [
    "# Задание 6\n",
    "# Пусть вероятность того, что покупателю необходим компьютер с операционной системой Linux, равна 0.25. \n",
    "# Найдите вероятность того, что из 6 покупателей по крайней мере двум необходим компьютер с операционной системой Linux.\n",
    "# Ответ округлите до сотых, в качестве разделителя используйте точку.\n",
    "\n",
    "# по крайней мере двум - значит 2,3,4,5,6. Это значит противоположное значение для вероятности 0,1. 1 - (p0 + p1)\n",
    "p_need = 0.25\n",
    "p_not_need = 0.75\n",
    "n = 6\n",
    "from math import factorial\n",
    "def num_of_successes(n, k):\n",
    "    return factorial(n)/(factorial(k) * factorial(n - k))\n",
    "# Нужен 0 покупятелям\n",
    "p_0 = p_not_need ** n * 1\n",
    "# Нужен 1 покупятелям\n",
    "k_1 = 1\n",
    "p_1 = p_need * p_not_need ** (n-k_1) * num_of_successes(n, k_1)\n",
    "# Искомое число\n",
    "p_need_2_and_more = 1 - (p_0 + p_1)\n",
    "round(p_need_2_and_more, 2)"
   ]
  },
  {
   "cell_type": "code",
   "execution_count": null,
   "metadata": {
    "id": "YCOeJ3GPou5X"
   },
   "outputs": [],
   "source": [
    "# Задание 7\n",
    "# Для нормальной работы отдела по дата-аналитике необходимо, чтобы в офисе было не менее восьми программистов, а всего в штате 10 программистов. \n",
    "# Вероятность того, что программист заболеет, равна 0.1. Найдите вероятность нормальной работы отдела по дата-аналитике.\n",
    "\n",
    "# Отдел будет работать нормально в трёх случаях:\n",
    "# - Не болеет никто\n",
    "# - Болеет один программист\n",
    "# - Болеют двое программистов\n",
    "# Суммируете вероятности этих событий и получаете нужное число.\n",
    "p_seek = 0.1\n",
    "p_not_seek = 0.9\n",
    "n = 10\n",
    "from math import factorial\n",
    "def num_of_successes(n, k):\n",
    "    return factorial(n)/(factorial(k) * factorial(n - k))\n",
    "# Не болеет никто\n",
    "p_seek_0 = p_not_seek ** 10 * 1\n",
    "# Болеет 1\n",
    "k_1 = 1\n",
    "p_seek_1 = p_seek * p_not_seek ** (n-k_1) * num_of_successes(n, k_1)\n",
    "# Болеет 1\n",
    "k_2 = 2\n",
    "p_seek_2 = p_seek ** k_2 * p_not_seek ** (n-k_2) * num_of_successes(n, k_2)\n",
    "# Сумма\n",
    "p = p_seek_0 + p_seek_1 + p_seek_2\n",
    "round(p, 2)"
   ]
  },
  {
   "cell_type": "code",
   "execution_count": null,
   "metadata": {
    "id": "div8EXMooum5"
   },
   "outputs": [],
   "source": [
    "# Задание 8\n",
    "# Среди всех скриптов, которые пишет программист, с 10%-ой вероятностью скрипт будет с ошибкой. \n",
    "# Найдем вероятность того, что среди 30 скриптов два не будут работать.\n",
    "p_error = 0.1\n",
    "p_ok = 0.9\n",
    "n = 30\n",
    "k = 2\n",
    "from math import factorial\n",
    "def num_of_successes(n, k):\n",
    "    return factorial(n)/(factorial(k) * factorial(n - k))\n",
    "p = p_error**k * p_ok**(n-k) * num_of_successes(n, k)\n",
    "round(p, 3)"
   ]
  },
  {
   "cell_type": "code",
   "execution_count": null,
   "metadata": {
    "id": "8Pit4I7uoukN"
   },
   "outputs": [],
   "source": [
    "# Задание 9\n",
    "# В очень большом чате по дата аналитике сидит 1730 человек. \n",
    "# Вероятность того, что день рождения наугад взятого участника чата приходится на определенный день года, равна 1/365 для каждого из 365 дней. \n",
    "# Найдем наиболее вероятное число счастливчиков, которые родились 1 марта.\n",
    "\n",
    "# Для решения этой задачи вам может потребоваться формула для наиболее вероятного числа успехов \"к\"\n",
    "# n*p - q <= k <= n*p + p\n",
    "# n = количество событий / p = вероятность события / q = обратное число от р (q=1-p)\n",
    "\n",
    "n = 1730\n",
    "p = 1/365\n",
    "q = 1 - p\n",
    "x = n * p - q\n",
    "y = n * p + p\n",
    "print(x, y)\n",
    "# Целое число в промежутке = 4"
   ]
  },
  {
   "cell_type": "code",
   "execution_count": null,
   "metadata": {
    "id": "zpCX7vbQouhb"
   },
   "outputs": [],
   "source": [
    "# Задание 10\n",
    "# В урне 20 шаров: 15 белых и 5 чёрных. \n",
    "# Вынули подряд 5 шаров, причём каждый вынутый шар возвращается в урну и перед извлечением следующего шары в урне тщательно перемешиваются. \n",
    "# Найдите вероятность того, что из пяти вынутых шаров будет 2 белых.\n",
    "p_white = 15/20\n",
    "p_black = 5/20\n",
    "n = 5\n",
    "k = 2\n",
    "from math import factorial\n",
    "def num_of_successes(n, k):\n",
    "    return factorial(n)/(factorial(k) * factorial(n - k))\n",
    "p_2_white_3_black = p_white * p_white * p_black * p_black * p_black * num_of_successes(n, k)\n",
    "round(p_2_white_3_black, 3)"
   ]
  },
  {
   "cell_type": "markdown",
   "metadata": {
    "id": "3q3or-KNUnhW"
   },
   "source": [
    "## Урок 3 - УСЛОВНАЯ ВЕРОЯТНОСТЬ"
   ]
  },
  {
   "cell_type": "markdown",
   "metadata": {
    "id": "pFytqL65Uupg"
   },
   "source": [
    "### Лекция"
   ]
  },
  {
   "cell_type": "code",
   "execution_count": null,
   "metadata": {
    "id": "wrcCCiHbUxS2"
   },
   "outputs": [],
   "source": [
    "# Смотри тетрадь!"
   ]
  },
  {
   "cell_type": "markdown",
   "metadata": {
    "id": "CuTXQ0RjU3BW"
   },
   "source": [
    "### Практика"
   ]
  },
  {
   "cell_type": "code",
   "execution_count": null,
   "metadata": {
    "id": "g7IK4JlOU42-"
   },
   "outputs": [],
   "source": [
    "# Задание 1\n",
    "# Из 500 компьютеров  180 принадлежат к 1 партии, 170 – ко второй партии, остальные к третьей. В первой партии 3% брака, во второй — 2%, в третьей – 6%. \n",
    "# Случайно выбирается один компьютер. Определить вероятность того, что выбранный компьютер – бракованный.\n",
    "p_1_brak = 180/500 # вероятность детали из партии\n",
    "p_2_brak = 170/500\n",
    "p_3_brak = 150/500\n",
    "p_1_koef = 0.03 # процент брака\n",
    "p_2_koef = 0.02\n",
    "p_3_koef = 0.06\n",
    "p_a = p_1_brak * p_1_koef + p_2_brak * p_2_koef + p_3_brak * p_3_koef  # общая вероятность получить бракованную деталь\n",
    "round(p_a, 4)"
   ]
  },
  {
   "cell_type": "code",
   "execution_count": null,
   "metadata": {
    "id": "CEOtt2ckU6NE"
   },
   "outputs": [],
   "source": [
    "# Задание 2\n",
    "# Есть компания с программистами. В ней на языке Java пишут в 3 раза больше человек, чем на языке C++. \n",
    "# Программистов на языке C++ в 4 раза больше, чем на Python. \n",
    "# Вероятность сделать работу за один день для Java-программиста — 0,85, для программиста на языке C++ 0,9, а для Python программиста 0,8. \n",
    "# Найти вероятность того, что программист, выбранный наугад, сделает работу за один день.\n",
    "\n",
    "# В тетради через уровнение вывел искомое число\n",
    "p_c = 4/17\n",
    "p_j = 3 * p_c\n",
    "p_p = p_c / 4\n",
    "p_c_koef = 0.9\n",
    "p_j_koef = 0.85\n",
    "p_p_koef = 0.8\n",
    "p = p_c * p_c_koef + p_j * p_j_koef + p_p * p_p_koef  # общая вероятность сделать работу за 1 день\n",
    "round(p, 2)"
   ]
  },
  {
   "cell_type": "code",
   "execution_count": null,
   "metadata": {
    "id": "3IwD__6fU6IX"
   },
   "outputs": [],
   "source": [
    "# Задание 3\n",
    "# Из 40 снайперов 18 попадает в цель с вероятностью 0,9, 8 — с вероятностью 0,4 и 14 – с вероятностью 0,7. \n",
    "# Случайно выбранный снайпер произвел выстрел, поразив цель.\n",
    "# Мы хотим вычислить, снайпер из какой группы наиболее вероятно совершил этот выстрел.\n",
    "# Теперь вам нужно вычислить P(Y|X) для каждой из трёх групп снайперов и выбрать ту, которая больше всего.\n",
    "p_1 = 18 / 40 # вероятность группы\n",
    "p_2 = 8 / 40\n",
    "p_3 = 14 / 40\n",
    "p_1_k = 0.9 # эффективность группы\n",
    "p_2_k = 0.4\n",
    "p_3_k = 0.7\n",
    "p_a = p_1 * p_1_k + p_2 * p_2_k + p_3 * p_3_k  # общая вероятность попасть рандомного снайпера\n",
    "p_1_a = p_1 * p_1_k / p_a  # вероятность попадания для каждой группы\n",
    "p_2_a = p_2 * p_2_k / p_a\n",
    "p_3_a = p_3 * p_3_k / p_a\n",
    "round(max(p_1_a, p_2_a, p_3_a), 3)"
   ]
  },
  {
   "cell_type": "code",
   "execution_count": null,
   "metadata": {
    "id": "Uu6cy9g3U6D2"
   },
   "outputs": [],
   "source": [
    "# Задание 4\n",
    "# Есть 4 кубика. На трех из них окрашена белым половина граней, а на четвертом кубике всего одна грань из шести белая. \n",
    "# Наудачу выбранный кубик подбрасывается семь раз. \n",
    "# Найти вероятность того, что был выбран четвертый кубик, если при семи подбрасываниях белая грань выпала ровно один раз.\n",
    "# Вероятность выкинуть 1 белую грань из 7 бросков считаем по ней для каждого из двух типов кубиков, а дальше пользуемся формулой Байеса, как в прошлой задаче.\n",
    "\n",
    "# Вероятность выкинуть 1 белую грань из 7 бросков для кубиков 1-3\n",
    "k_1_3 = 1\n",
    "n_1_3 = 7\n",
    "from math import factorial\n",
    "def num_of_successes(n, k):\n",
    "    return factorial(n)/(factorial(k) * factorial(n - k))\n",
    "p_1_3 = (3/6) ** 7 * num_of_successes(n_1_3, k_1_3)\n",
    "#p_1_3\n",
    "# Вероятность выкинуть 1 белую грань из 7 бросков для кубика 4\n",
    "k_4 = 1\n",
    "n_4 = 7\n",
    "p_4 = (5/6) ** 6 * (1/6) * num_of_successes(n_4, k_4)\n",
    "#p_4\n",
    "# Вероятности выпадения самих кубиков\n",
    "p_1_3_possible = 3 / 4\n",
    "p_4_possible = 1 / 4\n",
    "# общая вероятность выпадения 1 белой грани из 7 бросков:\n",
    "p_a = p_1_3_possible * p_1_3 + p_4_possible * p_4\n",
    "#p_a\n",
    "# Определяем нашу необходимую вероятность. Что выпала одна белая грань из 7 бросков при том, что это был кубик 4\n",
    "p = p_4_possible * p_4 / p_a\n",
    "round(p, 3)\n",
    "#print(p_1_3, p_4, p_1_3_possible, p_4_possible, p_a, p, round(p, 3), sep = '\\n')"
   ]
  },
  {
   "cell_type": "code",
   "execution_count": null,
   "metadata": {
    "id": "aWv2bfWFU5_l"
   },
   "outputs": [],
   "source": [
    "# Задание 5\n",
    "# На гитхабе лежит 12 скриптов, написанных аналитиком №1, 20 скриптов — написанных аналитиком №2 и 18 скриптов — написанных аналитиком №3. \n",
    "# Вероятность того, что скрипт, написанный аналитиком №1, работает  без ошибок, равна 0,9; для скриптов, написанных аналитиками  №2 и №3, эти вероятности соответственно равны 0,6 и 0,9.\n",
    "# Нужно найти вероятность того, что случайно взятый скрипт будет работать без ошибок.\n",
    "p_1 = 12 / 50\n",
    "p_2 = 20 / 50\n",
    "p_3 = 18 / 50\n",
    "p_1_k = 0.9\n",
    "p_2_k = 0.6\n",
    "p_3_k = 0.9\n",
    "p_a = p_1 * p_1_k + p_2 * p_2_k + p_3 * p_3_k\n",
    "round(p_a, 2)"
   ]
  },
  {
   "cell_type": "code",
   "execution_count": null,
   "metadata": {
    "id": "HZe-TCvlYUOg"
   },
   "outputs": [],
   "source": [
    "# Задание 6\n",
    "# Известно, что около 60% всех людей в городе болеют заболеванием А. \n",
    "# Для определения того, заболел человек или нет, проводится тест, точность которого составляет 99%. \n",
    "# Вы получили положительный тест, какова вероятность того, что вы реально больны?\n",
    "seek_total = 0.6  # P(Y) доля больных в городе\n",
    "p_test = 0.99     # P(X|Y)  доля верных диагнозов\n",
    "not_seek_total = 1 - seek_total  # доля здоровых в городе\n",
    "pogreshnost = 1 - p_test  # доля неверных диагнозов\n",
    "# P(X) - Вероятность того, что тест положительный\n",
    "p_x = seek_total * p_test + not_seek_total * pogreshnost  # Вероятность больного положительного + вероятность здорового положительного\n",
    "# Необходимая вероятность\n",
    "p = seek_total * p_test / p_x  # формула Байеса\n",
    "round(p, 3)"
   ]
  },
  {
   "cell_type": "code",
   "execution_count": null,
   "metadata": {
    "id": "ZIS7Fg-IYUMQ"
   },
   "outputs": [],
   "source": [
    "# Задание 7\n",
    "# Три фабрики производят лампочки. \n",
    "# Фабрика А производит 20% всех лампочек, 50% лампочек производится на фабрике В и оставшиеся 30% на фабрике С. \n",
    "# 2% лампочек, произведенных на фабрике А, 1% лампочек, произведенных на фабрике В, и 3% лампочек, произведенных на фабрике С, являются бракованными.\n",
    "# На рынке наугад выбирается лампочка и оказывается бракованной. \n",
    "# Какова вероятность того, что эта лампочка была произведена на заводе B?\n",
    "p_a, p_a_k = 0.2, 0.02\n",
    "p_b, p_b_k = 0.5, 0.01\n",
    "p_c, p_c_k = 0.3, 0.03\n",
    "p_a = p_a * p_a_k + p_b * p_b_k + p_c * p_c_k  # Вероятность того, что лампочта из ЛЮБОГО завда будет бракованной\n",
    "p = p_b * p_b_k / p_a\n",
    "round(p, 3)"
   ]
  },
  {
   "cell_type": "code",
   "execution_count": null,
   "metadata": {
    "id": "BlW20msYYUKb"
   },
   "outputs": [],
   "source": [
    "# Задание 8\n",
    "# Система РЛС (радиолокационная система) может обнаружить присутствие самолета в 98% случаев. \n",
    "# Однако если в зоне действия радара нет самолета, система все равно сообщает (ложно), что самолет присутствует, в 5% случаев. \n",
    "# В любой момент времени вероятность того, что самолет находится в зоне действия радара, составляет 7%.\n",
    "# Какова вероятность того, что самолет находится в зоне действия радара, учитывая, что на радаре нет самолета?\n",
    "\n",
    "# $P(Y|X)$ - вероятность, что самолёт есть, если радар его не видит (**то, что мы ищем в задаче**)\n",
    "# $P(X|Y)$ - вероятность, что радар ничего не увидит, если самолёт прилетит (**в условии указана обратная вероятность - что радар увидит реально летящий самолёт**)\n",
    "# $P(Y)$ - вероятность, что самолёт в принципе может залететь в область радара (**также указана в условии**)\n",
    "# $P(X)$ - вероятность того, что самолёт не будет видно на радаре в принципе (**считаем по аналогии с прошлыми задачами, учитываем указанную в условии вероятность ложноположительного срабатывания, \n",
    "#           но про ложноотрицательное тоже не забывайте**)\n",
    "\n",
    "p_x_y = 1 - 0.98\n",
    "p_y = 0.07\n",
    "# Определим вероятность того, что самолёта не будет видно. В случае если он залател / не залетел\n",
    "p_x = 0.07*0.02 + 0.93*0.95\n",
    "# 0.07 - В любой момент времени вероятность того, что самолет находится в зоне действия радара, составляет 7%.\n",
    "# 0.02 - 1 минус 0.98 (может обнаружить присутствие самолета в 98% случаев)\n",
    "# 0.93 - 1 минус 0.07 (В любой момент времени вероятность того, что самолет находится в зоне действия радара, составляет 7%.)\n",
    "# 0.95 - 1 минус 0.05 (Однако если в зоне действия радара нет самолета, система все равно сообщает (ложно), что самолет присутствует, в 5% случаев)\n",
    "p = p_x_y * p_y / p_x  # наша необходимая вероятность\n",
    "round(p, 4)"
   ]
  },
  {
   "cell_type": "code",
   "execution_count": null,
   "metadata": {
    "id": "ciBocyA_YUGv"
   },
   "outputs": [],
   "source": [
    "# Задание 9\n",
    "# Какова вероятность того, что самолет находится в зоне действия радара, учитывая, что радар показывает наличие самолета?\n",
    "p_y = 0.07 # вероятность, что самолёт в принципе может залететь в область радара\n",
    "p_x_y = 0.98  # вероятность, что радар увидит, если самолёт прилетит\n",
    "# Определим вероятность того, что самолёт будет видно. В случае если он залател / не залетел\n",
    "p_x = 0.07*0.98 + 0.93*0.05\n",
    "# 0.07 - В любой момент времени вероятность того, что самолет находится в зоне действия радара, составляет 7%\n",
    "# 0.98 - может обнаружить присутствие самолета в 98% случаев\n",
    "# 0.93 - 1 минус 0.07 (В любой момент времени вероятность того, что самолет находится в зоне действия радара, составляет 7%.)\n",
    "# 0.05 - Однако если в зоне действия радара нет самолета, система все равно сообщает (ложно), что самолет присутствует, в 5% случаев\n",
    "p = p_x_y * p_y / p_x  # наша необходимая вероятность\n",
    "round(p, 3)"
   ]
  },
  {
   "cell_type": "code",
   "execution_count": null,
   "metadata": {
    "id": "zaUEBGiDYUD9"
   },
   "outputs": [],
   "source": [
    "# Задание 10\n",
    "# Передатчик аварийного локатора самолета (ELT) - это устройство, предназначенное для передачи сигнала в случае аварии. \n",
    "# Компания A производит 80% всех ELT на рынке, компания B - 15%, а компания C - остальные 5%. \n",
    "# Уровень дефектности ELT, произведенных компанией A, составляет 4%, компанией B - 6%, а компанией C - 9%. \n",
    "# Случайно выбранный ELT был протестирован и оказался бракованным. \n",
    "# Найдите вероятность того, что он был произведен компанией A.\n",
    "p_a, p_a_k = 0.8, 0.04\n",
    "p_b, p_b_k = 0.15, 0.06\n",
    "p_c, p_c_k = 0.05, 0.09\n",
    "p_a_total = p_a * p_a_k + p_b * p_b_k + p_c * p_c_k  # Вероятность того, что любая деталь будет бракованной\n",
    "p = p_a * p_a_k / p_a_total\n",
    "round(p, 3)"
   ]
  }
 ],
 "metadata": {
  "colab": {
   "collapsed_sections": [
    "3feGa2Plcl-g",
    "8Ue7EJR1cq93",
    "3iyWt_uB-3jJ",
    "mDMerqHw-tGI",
    "jUTGRcj--zkS",
    "X_lzjzoUATAn",
    "m1Ym_v7jwnyQ",
    "J_wuT7hjwq8H",
    "KLgzv0_cQMkG",
    "BRwpLdcmQaS_",
    "DnZDShKeQdlO",
    "Vg-1K541pvsq",
    "QVHaraoUpzrK",
    "XjrUiYM4VId9",
    "lJH6k6t1VNdM",
    "pFytqL65Uupg"
   ],
   "provenance": [
    {
     "file_id": "1xi8Doevd2Tz7pzfvuOZodQpI_f92PBJd",
     "timestamp": 1676276410014
    }
   ]
  },
  "kernelspec": {
   "display_name": "Python 3 (ipykernel)",
   "language": "python",
   "name": "python3"
  },
  "language_info": {
   "codemirror_mode": {
    "name": "ipython",
    "version": 3
   },
   "file_extension": ".py",
   "mimetype": "text/x-python",
   "name": "python",
   "nbconvert_exporter": "python",
   "pygments_lexer": "ipython3",
   "version": "3.9.13"
  }
 },
 "nbformat": 4,
 "nbformat_minor": 1
}
