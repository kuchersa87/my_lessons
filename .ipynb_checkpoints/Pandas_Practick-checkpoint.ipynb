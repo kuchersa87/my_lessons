{
 "cells": [
  {
   "cell_type": "markdown",
   "metadata": {
    "id": "f596A9J4D5c2"
   },
   "source": [
    "# Практическое занятие 1"
   ]
  },
  {
   "cell_type": "markdown",
   "metadata": {
    "id": "pB31XxjcEGjW"
   },
   "source": [
    "## Задача 1. Создать серию"
   ]
  },
  {
   "cell_type": "code",
   "execution_count": null,
   "metadata": {
    "id": "sLsaKJkuEMne"
   },
   "outputs": [],
   "source": [
    "import pandas as pd\n",
    "def solution():\n",
    "    lst = list('zyxwvutsr')\n",
    "    result = pd.Series(lst)\n",
    "    return result\n",
    "solution()"
   ]
  },
  {
   "cell_type": "markdown",
   "metadata": {
    "id": "xGubXxcAEY0X"
   },
   "source": [
    "## Задача 2. Создать серию"
   ]
  },
  {
   "cell_type": "code",
   "execution_count": null,
   "metadata": {
    "id": "6DP1DK6aEbCW"
   },
   "outputs": [],
   "source": [
    "# Сформировать серию из имеющегося массива и списка\n",
    "import pandas as pd\n",
    "import numpy as np\n",
    "def solution():\n",
    "    lst = list('abced')\n",
    "    arr = np.arange(5)\n",
    "    result = pd.Series(arr, index=lst)\n",
    "    return result\n",
    "solution()"
   ]
  },
  {
   "cell_type": "markdown",
   "metadata": {
    "id": "vfo_7MpwH1Rm"
   },
   "source": [
    "## Задача 3. to_frame и reset_index"
   ]
  },
  {
   "cell_type": "code",
   "execution_count": null,
   "metadata": {
    "id": "_Zqi6oEvMD2t"
   },
   "outputs": [],
   "source": [
    "# Cбросить индекс DataFrame и сохранить старый индекс в виде столбца в DataFrame\n",
    "# df.reset_index(inplace=True)\n",
    "\n",
    "# Cбросить индекс и удалить старый индекс\n",
    "# df.reset_index(drop=True , inplace=True)"
   ]
  },
  {
   "cell_type": "code",
   "execution_count": null,
   "metadata": {
    "id": "AUKUtloNH48-"
   },
   "outputs": [],
   "source": [
    "# Преобразуйте ее в pandas.DataFrame таким образом, чтобы индекс стал отдельной колонкой датафрейма\n",
    "# pandas.Series.to_frame\n",
    "import pandas as pd\n",
    "import numpy as np\n",
    "s1 = pd.Series(np.arange(5), index=['a', 'b', 'c', 'e', 'd'])\n",
    "def solution(ser):\n",
    "  df = ser.to_frame()\n",
    "  df.reset_index(inplace=True)\n",
    "  return df\n",
    "solution(s1)"
   ]
  },
  {
   "cell_type": "markdown",
   "metadata": {
    "id": "Xsvm1sbuQFHs"
   },
   "source": [
    "## Задача 4"
   ]
  },
  {
   "cell_type": "code",
   "execution_count": null,
   "metadata": {
    "id": "uDuT6ZpMQH5s"
   },
   "outputs": [],
   "source": [
    "# Объедините два pandas.Series (s1, s2)\n",
    "pandas.concat"
   ]
  },
  {
   "cell_type": "code",
   "execution_count": null,
   "metadata": {
    "id": "MOJiq8u6kO6W"
   },
   "outputs": [],
   "source": [
    "import pandas as pd\n",
    "import numpy as np\n",
    "def solution():\n",
    "    s1 = pd.Series(list('abced'))\n",
    "    s2 = pd.Series(np.arange(5))\n",
    "    result = pd.concat([s1,s2], axis=1)\n",
    "    return result\n",
    "solution()"
   ]
  },
  {
   "cell_type": "markdown",
   "metadata": {
    "id": "PYHMIEpHnG1c"
   },
   "source": [
    "## Задача 5"
   ]
  },
  {
   "cell_type": "code",
   "execution_count": null,
   "metadata": {
    "id": "jUqzSxC6nFrL"
   },
   "outputs": [],
   "source": [
    "# Объедините два pandas.Series (переменные s1, s2) таким образом чтобы получился pandas.DataFrame.\n",
    "# Теперь используйте конструктор DataFrame."
   ]
  },
  {
   "cell_type": "code",
   "execution_count": null,
   "metadata": {
    "id": "HrF56KZFnVyY"
   },
   "outputs": [],
   "source": [
    "import pandas as pd\n",
    "import numpy as np\n",
    "def solution1():\n",
    "    s1 = pd.Series(list('abced'))\n",
    "    s2 = pd.Series(np.arange(5))\n",
    "    result = pd.concat([s1, s2], names=['col1', 'col2'], axis=1)\n",
    "    return result\n",
    "solution1()"
   ]
  }
 ],
 "metadata": {
  "colab": {
   "collapsed_sections": [
    "pB31XxjcEGjW",
    "xGubXxcAEY0X",
    "vfo_7MpwH1Rm",
    "Xsvm1sbuQFHs",
    "PYHMIEpHnG1c"
   ],
   "provenance": []
  },
  "kernelspec": {
   "display_name": "Python 3 (ipykernel)",
   "language": "python",
   "name": "python3"
  },
  "language_info": {
   "codemirror_mode": {
    "name": "ipython",
    "version": 3
   },
   "file_extension": ".py",
   "mimetype": "text/x-python",
   "name": "python",
   "nbconvert_exporter": "python",
   "pygments_lexer": "ipython3",
   "version": "3.9.13"
  }
 },
 "nbformat": 4,
 "nbformat_minor": 1
}
