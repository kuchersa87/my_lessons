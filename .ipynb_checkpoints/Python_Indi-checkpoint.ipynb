{
 "cells": [
  {
   "cell_type": "markdown",
   "metadata": {
    "id": "XGUdhsoF66As"
   },
   "source": [
    "# 2. Строки и списки"
   ]
  },
  {
   "cell_type": "markdown",
   "metadata": {
    "id": "-GtkHFTc5MES"
   },
   "source": [
    "## 2.1 Cтроки и операции над ними"
   ]
  },
  {
   "cell_type": "code",
   "execution_count": null,
   "metadata": {
    "id": "vPQWSGHo5Q_i"
   },
   "outputs": [],
   "source": [
    "# Строка - упорядоченная коллекция символов\n",
    "# Строка - неизменяемый объект!\n",
    "# Cпособы создания строк: ' ' или \" \"\n",
    "#'''\n",
    "#'''\n",
    "# s = 'hello!'\n",
    "# s = input ()"
   ]
  },
  {
   "cell_type": "code",
   "execution_count": null,
   "metadata": {
    "id": "m7TSaN216U65"
   },
   "outputs": [],
   "source": [
    "# Конкатенация - сложение/сцепление строк: a + b\n",
    "# Повторение/умножение строки: a*2. Не допускается умножать на вещественные числа\n",
    "# Преобразование в строку: str()\n",
    "# Нахождение длины строки: len ()\n",
    "# Проверка наличия какого-то символа в строке: '4' in s. True - есть\n",
    "# Сравнение строк: 'abc' == 'abb'. True / False"
   ]
  },
  {
   "cell_type": "markdown",
   "metadata": {
    "id": "jr4A3zZX9GaN"
   },
   "source": [
    "## 2.2 Строки: индексы и срезы"
   ]
  },
  {
   "cell_type": "code",
   "execution_count": null,
   "metadata": {
    "id": "zVwIWFA19J-r"
   },
   "outputs": [],
   "source": [
    "# У каждого символа есть свой порядковый номер\n",
    "# Индекс - Порядковый номер\n",
    "# Первый порядковый номер - 0\n",
    "# Обращение к инедексу: строка [номер индекса]\n",
    "# Найти последний индекс: строка [len(строка)-1]\n",
    "# Обращение к последнему индексу: строка [-1]"
   ]
  },
  {
   "cell_type": "code",
   "execution_count": null,
   "metadata": {
    "id": "-sW-nQ8K_kXw"
   },
   "outputs": [],
   "source": [
    "# Срезы\n",
    "# строка [индекс начала среза:индекс конца среза]\n",
    "# ВАЖНО! Индекс начала среза - включительно / индекс конца среза - невключительно\n",
    "# Срез с какого-то определённого идекса и до конца строки: строка [индекс начала среза:пробел]\n",
    "# Срез всей строки / Копия строки: строка [пробел:пробел]\n",
    "# Срез через интервал: строка [пробел:пробел:интервал]\n",
    "# Строка наоборот : строка [пробел:пробел:-1]"
   ]
  },
  {
   "cell_type": "markdown",
   "metadata": {
    "id": "4xqujdZoCpzd"
   },
   "source": [
    "## 2.3 Методы строк"
   ]
  },
  {
   "cell_type": "code",
   "execution_count": null,
   "metadata": {
    "id": "LL10ne2PCszU"
   },
   "outputs": [],
   "source": [
    "# Метод - функция, связанная с определённым типом объекта\n",
    "# Вызов метода: объект.метод(аргументы)"
   ]
  },
  {
   "cell_type": "code",
   "execution_count": null,
   "metadata": {
    "id": "vHHjeongPoUU"
   },
   "outputs": [],
   "source": [
    "int ('1134')                   # преобразование строки в число"
   ]
  },
  {
   "cell_type": "code",
   "execution_count": null,
   "metadata": {
    "id": "z5C4---vDSbT"
   },
   "outputs": [],
   "source": [
    "print ('Hello World!'.upper()) # переводит все буквы в заглавные"
   ]
  },
  {
   "cell_type": "code",
   "execution_count": null,
   "metadata": {
    "id": "2KZnt0AKDtfD"
   },
   "outputs": [],
   "source": [
    "print ('Hello World!'.lower()) # переводит все буквы в строчный"
   ]
  },
  {
   "cell_type": "code",
   "execution_count": null,
   "metadata": {
    "id": "RwZYWz9ID_lq"
   },
   "outputs": [],
   "source": [
    "'hello!'.count ('l')           # определяет суммарное количество заданных символов в строке\n",
    "'hello!'.count ('l', 1, 4)     # определяет суммарное количество заданных символов в строке с индекса 1(включительно) по 4(не включительно)"
   ]
  },
  {
   "cell_type": "code",
   "execution_count": null,
   "metadata": {
    "id": "24RA8pEyGNQK"
   },
   "outputs": [],
   "source": [
    "'hello!'.find ('l')            # определяет номер индекса указанного символа. Первый слева символ!\n",
    "'hello!'.find ('l', 6)         # определяет номер индекса указанного символа, будет искать с шестого индекса"
   ]
  },
  {
   "cell_type": "code",
   "execution_count": null,
   "metadata": {
    "id": "tRatKzsFHBCW"
   },
   "outputs": [],
   "source": [
    "'hello!'.rfind ('l')           # определяет номер индекса указанного символа. Первый справа символ!"
   ]
  },
  {
   "cell_type": "code",
   "execution_count": null,
   "metadata": {
    "id": "pTe5MAraI3AH"
   },
   "outputs": [],
   "source": [
    "'hello!'.index ('l')           # определяет номер индекса указанного символа.\n",
    "# Разница между find и index:\n",
    "# запрос номера индекса для символа, которого нет в строке\n",
    "# результат find: -1\n",
    "# результат index: error"
   ]
  },
  {
   "cell_type": "code",
   "execution_count": null,
   "metadata": {
    "id": "YxEy2o7YMnKp"
   },
   "outputs": [],
   "source": [
    "'hello!'.replace ('h', 'P', 3)    # заменяет символы h на P в строке. Только 3 первые буквы h!\n",
    "# ВАЖНО! Сама строка при этом не меняется"
   ]
  },
  {
   "cell_type": "code",
   "execution_count": null,
   "metadata": {
    "id": "nEodlgGKNc8A"
   },
   "outputs": [],
   "source": [
    "'hello!'.isalpha ()              # проверка факта состава строки только из букв"
   ]
  },
  {
   "cell_type": "code",
   "execution_count": null,
   "metadata": {
    "id": "BXqL4cekPWWd"
   },
   "outputs": [],
   "source": [
    "'hello!'.isdigit ()              # проверка факта состава строки только из цифр"
   ]
  },
  {
   "cell_type": "code",
   "execution_count": null,
   "metadata": {
    "id": "INuDOSRoP3lf"
   },
   "outputs": [],
   "source": [
    "'111'.rjust (5, '-')             # дополняет сроку до заданного количества символов. Текущие символы сдвигаются вправо. В данном случае дополняет до 5 символов. Заполняет новые символы знаком -"
   ]
  },
  {
   "cell_type": "code",
   "execution_count": null,
   "metadata": {
    "id": "lw8X4W48P3U7"
   },
   "outputs": [],
   "source": [
    "'111'.ljust (10, '+')            # дополняет сроку до заданного количества символов. Текущие символы сдвигаются влево. В данном случае дополняет до 10 символов. Заполняет новые символы знаком +"
   ]
  },
  {
   "cell_type": "code",
   "execution_count": null,
   "metadata": {
    "id": "rdLYyjh0Q3Ll"
   },
   "outputs": [],
   "source": [
    "stroka = 'Петя Петров Петрович'\n",
    "a = stroka.split ()              # разбивает строку по заданному аргументу. Вырезает в отдельную строку. По умолчанию аргумент это пробел\n",
    "                                 # ВАЖНО! после разбивки мы получаем СПИСОК из n СТРОК!\n",
    "print (a)       \n",
    "print (stroka.split ('е'))       # разбили по букве \"е\" и вывели на экран"
   ]
  },
  {
   "cell_type": "code",
   "execution_count": null,
   "metadata": {
    "id": "As_8mCa1a1p-"
   },
   "outputs": [],
   "source": [
    "# ВАЖНО!\n",
    "# Как объеденить список в строку\n",
    "\n",
    "t = 'wqrqr,131,!,srfr'.split(',') # вводим строку и сразу её разбиваем по знаку \",\". На выходе получаем список из разбитых строк.\n",
    "b= '-'.join(t)                    # создаём новую переменную. Разбитые строки (список) из переменной t собираем обратно в одну строку с соединяющим знаком \"-\"\n",
    "print (t,b)"
   ]
  },
  {
   "cell_type": "code",
   "execution_count": null,
   "metadata": {
    "id": "z6i_J7RofdBA"
   },
   "outputs": [],
   "source": [
    "# ВАЖНО!\n",
    "# Разбивка строки и её сборка позволяет делать разные манипуляции со строкой\n",
    "print ('-'.join('Вверх и вниз'.split()))   # Заменили в строке знак \" \" на знак \"-\""
   ]
  },
  {
   "cell_type": "code",
   "execution_count": null,
   "metadata": {
    "id": "unTvZPPHgjYe"
   },
   "outputs": [],
   "source": [
    "'   Hello!    '.strip()          # удаляет знаки пробелов и переносов на новые строки\n",
    "'   Hello!    '.rstrip()         # удаляет знаки пробелов и переносов на новые строки c правой стороны\n",
    "'   Hello!    '.lstrip()         # удаляет знаки пробелов и переносов на новые строки c левой стороны"
   ]
  },
  {
   "cell_type": "code",
   "execution_count": null,
   "metadata": {
    "id": "IpptuEs6iTwl"
   },
   "outputs": [],
   "source": [
    "# ВАЖНО!\n",
    "# Цепочки методов/вызовов\n",
    "print ('На теБе'.upper().replace ('Н', 'З').replace ('Е', '!').rjust(10, '-'))\n",
    "# Возводим в верхний регистр. Меняем символ Н на З. Меняем символ Е на !. Дополняем строку до 10 символов знаком -."
   ]
  },
  {
   "cell_type": "markdown",
   "metadata": {
    "id": "fMwnnbSwj748"
   },
   "source": [
    "## 2.5 Экранированные (служебные символы) в Python"
   ]
  },
  {
   "cell_type": "code",
   "execution_count": null,
   "metadata": {
    "colab": {
     "base_uri": "https://localhost:8080/",
     "height": 35
    },
    "id": "zk2K4zJVkD17",
    "outputId": "3fccbb61-ec04-445e-9199-8e934aa6f83d"
   },
   "outputs": [
    {
     "data": {
      "application/vnd.google.colaboratory.intrinsic+json": {
       "type": "string"
      },
      "text/plain": [
       "'Первая\\nВторая\\nТретья'"
      ]
     },
     "execution_count": 102,
     "metadata": {},
     "output_type": "execute_result"
    }
   ],
   "source": [
    "# \\n - перенос строки\n",
    "test = '''Первая\n",
    "Вторая\n",
    "Третья'''\n",
    "test\n",
    "# ВАЖНО! При выводе данной переменной на печать получим:\n",
    "#Первая\n",
    "#Вторая\n",
    "#Третья"
   ]
  },
  {
   "cell_type": "code",
   "execution_count": null,
   "metadata": {
    "colab": {
     "base_uri": "https://localhost:8080/"
    },
    "id": "-TWS4aSeln_R",
    "outputId": "e77d4878-1ba1-4694-bbbd-77b86852295b"
   },
   "outputs": [
    {
     "name": "stdout",
     "output_type": "stream",
     "text": [
      "ab\n",
      "bc\n",
      "cd\n"
     ]
    }
   ],
   "source": [
    "print ('ab\\nbc\\ncd')"
   ]
  },
  {
   "cell_type": "code",
   "execution_count": null,
   "metadata": {
    "id": "nP5GLq5RobnX"
   },
   "outputs": [],
   "source": [
    "data = r'anf\\nsdsd\\n'   # буква r в начале строки убирает все служебные символы в строке. Выключает их\n",
    "print (data)"
   ]
  },
  {
   "cell_type": "markdown",
   "metadata": {
    "id": "6xZMLvN9pNsA"
   },
   "source": [
    "## 2.6 Форматирование строк Python. Метод format"
   ]
  },
  {
   "cell_type": "code",
   "execution_count": null,
   "metadata": {
    "id": "e2YLPsfopSXu"
   },
   "outputs": [],
   "source": [
    "# Изначальный необходимый текст\n",
    "text = '''Дорогой Семён Семенович, баланс вашего лицевого счёта\n",
    "составляет 32.56 руб.'''"
   ]
  },
  {
   "cell_type": "code",
   "execution_count": null,
   "metadata": {
    "id": "ZFlzEQBOTMhn"
   },
   "outputs": [],
   "source": [
    "# Первый самый сложный способ - Конкатенация - сложение\n",
    "name = 'Семён'\n",
    "midname = 'Семенович'\n",
    "balance = 32.56\n",
    "# ВАЖНО! Не указывать в тексте просто имя переменной. Оно будет выведено просто, как текст\n",
    "text = 'Дорогой' + ' ' + name + ' ' + midname +''', баланс вашего лицевого счёта\n",
    "составляет ''' + str(balance) + ''' руб.'''\n",
    "print (text)"
   ]
  },
  {
   "cell_type": "code",
   "execution_count": null,
   "metadata": {
    "id": "u87J3lMrXiLm"
   },
   "outputs": [],
   "source": [
    "# Второй способ - формат строки\n",
    "name = 'Семён'\n",
    "midname = 'Семенович'\n",
    "balance = 32.56\n",
    "text = '''Дорогой {0} {1}, баланс вашего лицевого счёта\n",
    "составляет {2} руб.'''.format(name, midname, balance)       # .format (первое значение - {0}, второе - {1}, третье - {2})\n",
    "print (text)"
   ]
  },
  {
   "cell_type": "code",
   "execution_count": null,
   "metadata": {
    "id": "P_aWXxrwZwV3"
   },
   "outputs": [],
   "source": [
    "# Другой способ использования той же функции\n",
    "name = 'Семён'\n",
    "midname = 'Семенович'\n",
    "balance = 32.56\n",
    "text = '''Дорогой {n} {m}, баланс вашего лицевого счёта\n",
    "составляет {b} руб.'''.format(n=name, m=midname, b=balance)\n",
    "print (text)"
   ]
  },
  {
   "cell_type": "markdown",
   "metadata": {
    "id": "PzFgKGyqasMf"
   },
   "source": [
    "## 2.7 F-строки"
   ]
  },
  {
   "cell_type": "code",
   "execution_count": null,
   "metadata": {
    "id": "XAOe142Fawfe"
   },
   "outputs": [],
   "source": [
    "name = 'Семён'\n",
    "midname = 'Семенович'\n",
    "balance = 32.56\n",
    "text = f'''Дорогой {name.lower()} {midname.upper()}, баланс вашего лицевого счёта\n",
    "составляет {balance} руб.'''                              # для примера просто сделали дополнительный действия над двумя первыми перемеными\n",
    "print (text)                                              # втнури {} можно делать всё, что угодно"
   ]
  },
  {
   "cell_type": "markdown",
   "metadata": {
    "id": "FqN8A9LWd-We"
   },
   "source": [
    "## 2.8 Списки и операции над ними"
   ]
  },
  {
   "cell_type": "code",
   "execution_count": null,
   "metadata": {
    "id": "LPr0H-yMd_8U"
   },
   "outputs": [],
   "source": [
    "# Список - упорядоченная коллекция элементов. Каждый элемент располагается на своём конкретном месте. Хранят в одном месте взаимосвязанные данные\n",
    "# Допускается хранить элементы различных типов\n",
    "# list - список\n",
    "numbers = [3,4,2,3,5,2,5,6]"
   ]
  },
  {
   "cell_type": "code",
   "execution_count": null,
   "metadata": {
    "id": "evv-khrFR-ck"
   },
   "outputs": [],
   "source": [
    "# Ввод списка чисел через пробел\n",
    "spisok = list(map(int, input().split()))    # Прочитать из ввода целые числа и сохранить их в виде списка\n",
    "print(spisok)"
   ]
  },
  {
   "cell_type": "code",
   "execution_count": null,
   "metadata": {
    "id": "MCvTDKOz5Z37"
   },
   "outputs": [],
   "source": [
    "# Нахождение длины спсика\n",
    "numbers = [3,4,2,3,5,2,5,6]\n",
    "len(numbers)"
   ]
  },
  {
   "cell_type": "code",
   "execution_count": null,
   "metadata": {
    "id": "3rV88FkI5neS"
   },
   "outputs": [],
   "source": [
    "# Сложение / сцепление списков\n",
    "numbers = [3,4,2,3,5,2,5,6]\n",
    "numbers2 = [2,3]\n",
    "print(numbers+numbers2)"
   ]
  },
  {
   "cell_type": "code",
   "execution_count": null,
   "metadata": {
    "id": "_HAUcQ5S6FEj"
   },
   "outputs": [],
   "source": [
    "# Дублирование списков\n",
    "numbers = [3,4,2,3,5,2,5,6]\n",
    "print(numbers*5)"
   ]
  },
  {
   "cell_type": "code",
   "execution_count": null,
   "metadata": {
    "id": "4y4jpz8GcbWe"
   },
   "outputs": [],
   "source": [
    "# Проверка вхождения\n",
    "numbers = [3,4,2,3,5,2,5,6]\n",
    "4 in numbers                   # True or False"
   ]
  },
  {
   "cell_type": "code",
   "execution_count": null,
   "metadata": {
    "id": "5d2zLUScdDp-"
   },
   "outputs": [],
   "source": [
    "# Найти минимальное / максимальное значание в списке\n",
    "numbers = [3,4,2,3,5,2,5,6]\n",
    "print(min(numbers))\n",
    "print(max(numbers))"
   ]
  },
  {
   "cell_type": "code",
   "execution_count": null,
   "metadata": {
    "id": "A3KO2KNDdWVH"
   },
   "outputs": [],
   "source": [
    "# Найти сумму всех значений\n",
    "numbers = [3,4,2,3,5,2,5,6]\n",
    "print(sum(numbers))"
   ]
  },
  {
   "cell_type": "code",
   "execution_count": null,
   "metadata": {
    "id": "yH7FQnU0di8O"
   },
   "outputs": [],
   "source": [
    "# Сортировка по возрастанию / по убыванию\n",
    "numbers = [3,4,2,3,5,2,5,6]\n",
    "print(sorted(numbers))\n",
    "print(sorted(numbers,reverse=True))"
   ]
  },
  {
   "cell_type": "code",
   "execution_count": null,
   "metadata": {
    "id": "FkWg9NHxf3wu"
   },
   "outputs": [],
   "source": [
    "# Сравнение спсиков между собой\n",
    "numbers = [3,4,2,3,5,2,5,6]\n",
    "numbers1 = [3,4,2,3]\n",
    "numbers > numbers1               #  Сравнивает первые элементы!\n",
    "numbers == numbers1"
   ]
  },
  {
   "cell_type": "code",
   "execution_count": null,
   "metadata": {
    "id": "-U6r4hVJgd8O"
   },
   "outputs": [],
   "source": [
    "# Найти среднее арифметческое списка\n",
    "numbers = [3,4,2,3,5,2,5,6]\n",
    "sred_arifm = sum(numbers) / len(numbers)\n",
    "print(sred_arifm)"
   ]
  },
  {
   "cell_type": "markdown",
   "metadata": {
    "id": "h8FRfhT2g-0m"
   },
   "source": [
    "## 2.9 Списки: индексы и срезы"
   ]
  },
  {
   "cell_type": "code",
   "execution_count": null,
   "metadata": {
    "id": "MvNxHlGfhAVt"
   },
   "outputs": [],
   "source": [
    "# Обратиться к элементу списка\n",
    "spisok = [2,3,4,5]\n",
    "pervii_element = spisok [0]\n",
    "print (pervii_element)\n",
    "# Иммется также обратная нумерация\n",
    "poslednii_element = spisok [-1]\n",
    "print (poslednii_element)"
   ]
  },
  {
   "cell_type": "code",
   "execution_count": null,
   "metadata": {
    "id": "FMgrFjSSsri2"
   },
   "outputs": [],
   "source": [
    "# Обратиться к нескольким элементам (срез). ВАЖНО! Последний индекс не включается!\n",
    "spisok = [2,3,4,5]\n",
    "vtoroi_tretii_element = spisok [1:3]\n",
    "print (vtoroi_tretii_element)\n",
    "# Срез с какого-то индекса и до конца списка:\n",
    "do_poslednego_element = spisok [1:]\n",
    "print (do_poslednego_element)\n",
    "# Срез с первого индекса и по какой-то\n",
    "s_pervogo_element = spisok [:2]\n",
    "print (s_pervogo_element)\n",
    "# Срез всего списка\n",
    "vse_elementi = spisok [:]\n",
    "print (vse_elementi)"
   ]
  },
  {
   "cell_type": "markdown",
   "metadata": {
    "id": "Uwh6n9355noe"
   },
   "source": [
    "## 2.10 Списки и их методы"
   ]
  },
  {
   "cell_type": "code",
   "execution_count": null,
   "metadata": {
    "id": "xwjfhwkA5bPI"
   },
   "outputs": [],
   "source": [
    " # Добавление одного значения в конец списка. Только 1 объект!\n",
    " my_list = [5,6,2,33,113,134,133]\n",
    " my_list.append (555)               \n",
    " print (my_list)"
   ]
  },
  {
   "cell_type": "code",
   "execution_count": null,
   "metadata": {
    "id": "F8TxVyUO6nr8"
   },
   "outputs": [],
   "source": [
    "# Очиститка списка\n",
    "my_list1 = [5,6,2,33,113,134,133]\n",
    "my_list.clear ()                    \n",
    "print (my_list)"
   ]
  },
  {
   "cell_type": "code",
   "execution_count": null,
   "metadata": {
    "id": "fvOQaVZl7LaU"
   },
   "outputs": [],
   "source": [
    "# Сделать копию списка и завести его в другую переменную. Будут 2 разных списка!\n",
    "my_list2 = [5,6,2,33,113,134,133]\n",
    "copy_my_list = my_list2.copy ()     \n",
    "print (copy_my_list)"
   ]
  },
  {
   "cell_type": "code",
   "execution_count": null,
   "metadata": {
    "id": "SKJXBK1t7wnr"
   },
   "outputs": [],
   "source": [
    "# Посчитать сколько раз в этом списке встретилось это значение\n",
    "my_list3 = [5,6,2,33,33,33,133]\n",
    "my_list3.count (33)                  "
   ]
  },
  {
   "cell_type": "code",
   "execution_count": null,
   "metadata": {
    "id": "DbSxrMSg8VpD"
   },
   "outputs": [],
   "source": [
    "# Пройти по списку слева направо и найти значение. когда найдёт выведет индекс этого значения\n",
    "my_list4 = [5,6,2,33,33,33,200]\n",
    "my_list4.index (33, 3, 6)            # задали интервал с 4-го индекса до 5-го\n",
    "# _.index (ищем это, с этого индекса, до этого индекса невключительно)"
   ]
  },
  {
   "cell_type": "code",
   "execution_count": null,
   "metadata": {
    "id": "9yjDv-UD-v_H"
   },
   "outputs": [],
   "source": [
    "# Проверка вхождения этого значения в список\n",
    "234 in my_list4                     "
   ]
  },
  {
   "cell_type": "code",
   "execution_count": null,
   "metadata": {
    "id": "B3m08Lna_DpO"
   },
   "outputs": [],
   "source": [
    "# Дополнить список. Только по одному объекту добавляет!\n",
    "my_list5 = [5,6,2,54,242,2424]\n",
    "my_list5.insert (0,100)            # куда вставить, что вставить \n",
    "print (my_list5)"
   ]
  },
  {
   "cell_type": "code",
   "execution_count": null,
   "metadata": {
    "id": "uRvWqcsBAgIE"
   },
   "outputs": [],
   "source": [
    "# Удалить значение с конца списка и показать его. \n",
    "my_list6 = [5,6,2,45,1321,414]\n",
    "my_list6.pop ()                    # Если указать значение - то  будет удалять значение по индексу\n",
    "print (my_list6)\n",
    "# _.pop (3) - удалить элемент 3 в списке"
   ]
  },
  {
   "cell_type": "code",
   "execution_count": null,
   "metadata": {
    "id": "oef9YsZ0BsJS"
   },
   "outputs": [],
   "source": [
    "# Удалить по значению. Ищет значение и удаляет его\n",
    "my_list7 = [3,6,2,45,1321,414]\n",
    "my_list7.remove (3)                # Удаляется первое найденное значение\n",
    "print (my_list7)"
   ]
  },
  {
   "cell_type": "code",
   "execution_count": null,
   "metadata": {
    "id": "CgUvXnKgC--C"
   },
   "outputs": [],
   "source": [
    "# Переставить все значения наоборот\n",
    "my_list = [3,6,2,45,1321,414]\n",
    "my_list.reverse ()                \n",
    "print (my_list)"
   ]
  },
  {
   "cell_type": "code",
   "execution_count": null,
   "metadata": {
    "id": "b1nQdtCYDVGy"
   },
   "outputs": [],
   "source": [
    "# Выполить сортировку. По возрастанию\n",
    "my_list = [3,6,2,45,1321,414]\n",
    "my_list.sort ()                   # Не передать аргумент - будет по возрастанию сортировать\n",
    "print (my_list)\n",
    "# _.sort(reverse=True) - сортировка по убыванию"
   ]
  },
  {
   "cell_type": "code",
   "execution_count": null,
   "metadata": {
    "id": "soz5vcDMELWI"
   },
   "outputs": [],
   "source": [
    "mas = input().split()\n",
    "mas.reverse ()\n",
    "print(*mas)              # * - это оператор распаковки"
   ]
  },
  {
   "cell_type": "code",
   "execution_count": null,
   "metadata": {
    "id": "0TABBkb9Fg5A"
   },
   "outputs": [],
   "source": [
    "# Задача 1 без имени\n",
    "list_cel=list(map(int, input().split())) # Вводим список из целых чисел\n",
    "print (list_cel.count (999))             # считаем и выводим на экран количество значений 999 в строке"
   ]
  },
  {
   "cell_type": "code",
   "execution_count": null,
   "metadata": {
    "id": "DMikwJoNRcml"
   },
   "outputs": [],
   "source": [
    "# Задача 2 - Дефиснутая фраза\n",
    "phrase = input().upper()    # вводим слова. Сразу делаем верхний регистр\n",
    "words = phrase.split()      # разделили фразу на слова\n",
    "word1 = words[0]            # взяли первое слово из фразы\n",
    "word2 = words[1]            # взяли второе слово из фразы\n",
    "list1 = list (word1)           # преобразуем первое слово в список - разбиваем на буквы\n",
    "list2 = list (word2)           # преобразуем второе слово в список - разбиваем на буквы\n",
    "list1_join = '-'.join (list1)  # соединяем разбитые буквы (список) обратно в слово со зн ()аком \"-\" между буквами\n",
    "list2_join = '-'.join (list2)  # соединяем разбитые буквы (список) обратно в слово со знаком \"-\" между буквами\n",
    "print(list1_join, list2_join)\n"
   ]
  },
  {
   "cell_type": "code",
   "execution_count": null,
   "metadata": {
    "id": "hBSAL39Vla5T"
   },
   "outputs": [],
   "source": [
    "# Задача 3 без имени\n",
    "phrase = input().split()       # вводим данные и сразу разбиваем их на элементы\n",
    "print ('\\n'.join(phrase))      # объединям обратно в список НО в качестве соединителя используем \"перенос строки \\n\"."
   ]
  },
  {
   "cell_type": "code",
   "execution_count": null,
   "metadata": {
    "id": "USxJJIfLrYgb"
   },
   "outputs": [],
   "source": [
    "# Задача 4 - Инициалы\n",
    "fio = input().split() # вводим данные и сразу разбиваем на элементы\n",
    "o = fio [1] [0]       # берём первую букву из второго слова - Отчество\n",
    "i = fio [0] [0]       # берём перую букву из первого слова - Имя\n",
    "f = fio [2]           # берём третье слово целиком - Фамилия\n",
    "print (f, ' ', i, '.', o, '.', sep='')"
   ]
  },
  {
   "cell_type": "markdown",
   "metadata": {
    "id": "R974dgck6bXD"
   },
   "source": [
    "# 3. Условия и циклы"
   ]
  },
  {
   "cell_type": "markdown",
   "metadata": {
    "id": "-iLp6MAYpLMr"
   },
   "source": [
    "## 3.1 Условный оператор if"
   ]
  },
  {
   "cell_type": "code",
   "execution_count": null,
   "metadata": {
    "id": "ZPrJyTRdpSyB"
   },
   "outputs": [],
   "source": [
    "if 4>1:         # В случае выполнения условия - выполняются команды внутри блока.\n",
    "  print(5)\n",
    "  print(6)\n",
    "# условие выполнено - команда на печать активна\n",
    "if 4<1:\n",
    "  print(9)\n",
    "  print(10)\n",
    "# условие не выполнено - команда на печать не выполняется"
   ]
  },
  {
   "cell_type": "code",
   "execution_count": null,
   "metadata": {
    "id": "AmpeiyBa2Q84"
   },
   "outputs": [],
   "source": [
    "# Проверка возможности похода в кино\n",
    "money = 100\n",
    "bilet = 99\n",
    "if money >= bilet:                       # если денег дольше чем стоит билет\n",
    "  print('Ура! Денег хватило на кино')\n",
    "  print('Я иду в кино!')\n",
    "print('Пора идти домой')                 # фраза выводится при любом исходе"
   ]
  },
  {
   "cell_type": "code",
   "execution_count": null,
   "metadata": {
    "id": "eKHbQXXZ3Y2Q"
   },
   "outputs": [],
   "source": [
    "# Найти максимальное число из введёных\n",
    "a = int(input())\n",
    "b = int(input())\n",
    "max = a\n",
    "if b > a:\n",
    "  max = b\n",
    "print(max)"
   ]
  },
  {
   "cell_type": "code",
   "execution_count": null,
   "metadata": {
    "id": "6-TeaOUwV22K"
   },
   "outputs": [],
   "source": [
    "# Вывести на экран большее значение при замене переменных\n",
    "a = int(input())\n",
    "b = int(input())\n",
    "if b > a:\n",
    "  a, b = b, a\n",
    "print(a, b)"
   ]
  },
  {
   "cell_type": "code",
   "execution_count": null,
   "metadata": {
    "id": "MAFvJPIZXQAG"
   },
   "outputs": [],
   "source": [
    "# Добавляем условие else\n",
    "a = int(input())\n",
    "b = int(input())\n",
    "if a > b:         \n",
    "  print('Я смогу выучить это!')\n",
    "else:\n",
    "  print('Всё равно смогу!')"
   ]
  },
  {
   "cell_type": "code",
   "execution_count": null,
   "metadata": {
    "id": "kHq1taYBX9F1"
   },
   "outputs": [],
   "source": [
    "# Добавляем условие\n",
    "a = int(input())\n",
    "b = int(input())\n",
    "с = int(input())\n",
    "if a > b and a > c:                      # not, or. Можно задавать любое условие\n",
    "  print('Я смогу выучить это!')\n",
    "else:\n",
    "  print('Всё равно смогу!')"
   ]
  },
  {
   "cell_type": "code",
   "execution_count": null,
   "metadata": {
    "id": "1hMpo5uCY4w1"
   },
   "outputs": [],
   "source": [
    "# Проверка на чётность\n",
    "a = int(input())                       # кратность другим числам - a%3==0 и так далее\n",
    "if a % 2 == 0:\n",
    "  print('Чётное')\n",
    "else:\n",
    "  print('Нечётное')"
   ]
  },
  {
   "cell_type": "code",
   "execution_count": null,
   "metadata": {
    "id": "FUCh7ASuZ4La"
   },
   "outputs": [],
   "source": [
    "# Задача 1. Без названия. Найти сумму дохода при вычете 13% при сумме з/п более 20000\n",
    "dohod = int(input())\n",
    "if dohod < 20000:\n",
    "  print(dohod)\n",
    "else:\n",
    "  print(dohod*0.87)"
   ]
  },
  {
   "cell_type": "code",
   "execution_count": null,
   "metadata": {
    "id": "Y_6Nu0qBbddn"
   },
   "outputs": [],
   "source": [
    "# Задача 2. Без названия. Вывести Да, если введённое слово - «Python»\n",
    "slovo = input()\n",
    "if slovo == 'Python':\n",
    "  print('ДА')\n",
    "else:\n",
    "  print('НЕТ')"
   ]
  },
  {
   "cell_type": "code",
   "execution_count": null,
   "metadata": {
    "id": "2HcyFzfYcwMc"
   },
   "outputs": [],
   "source": [
    "# Задача 3. Без названия. Найти наибольшее из двух чисел\n",
    "a,b = int(input()), int(input())\n",
    "if a > b:\n",
    "  print(a)\n",
    "else:\n",
    "  print(b)"
   ]
  },
  {
   "cell_type": "code",
   "execution_count": null,
   "metadata": {
    "id": "nUFEAnPFdFFs"
   },
   "outputs": [],
   "source": [
    "# Задача 4. Без названия. Если палиндром (зеркальное) - Yes\n",
    "a = input()\n",
    "if a[0] == a[3] and a[1] == a[2]:\n",
    "  print('YES')\n",
    "else:\n",
    "  print('NO')"
   ]
  },
  {
   "cell_type": "code",
   "execution_count": null,
   "metadata": {
    "id": "mX7jgzseensR"
   },
   "outputs": [],
   "source": [
    "# Задача 5. Без названия. Отработка условий\n",
    "A,B,C = map(int, (input().split()))     # Вводим три целых числа через пробел\n",
    "if (A+B) == C:                          # Задаём уловие из задачи\n",
    "  print('YES')\n",
    "else:\n",
    "  print('NO')"
   ]
  },
  {
   "cell_type": "code",
   "execution_count": null,
   "metadata": {
    "id": "wA-n8_XDf_0t"
   },
   "outputs": [],
   "source": [
    "# Задача 6. Без названия. Отработка условий. Слово наоборот\n",
    "s_slovo = input()\n",
    "t_slovo = input()\n",
    "if t_slovo == s_slovo[::-1]:\n",
    "  print('YES')\n",
    "else:\n",
    "  print('NO')"
   ]
  },
  {
   "cell_type": "code",
   "execution_count": null,
   "metadata": {
    "id": "RNU4t4yHhawr"
   },
   "outputs": [],
   "source": [
    "# Задача 7. Без названия. Отработка условий\n",
    "a, b, c = int(input()), int(input()), int(input())\n",
    "if (a+b)>c and (a+c)>b and (c+b)>a:\n",
    "  print('YES')\n",
    "else:\n",
    "  print('NO')"
   ]
  },
  {
   "cell_type": "code",
   "execution_count": null,
   "metadata": {
    "id": "45e4PHAqip2B"
   },
   "outputs": [],
   "source": [
    "# Задача 8. Счастливый билет. Номера билетов длиной 6 и 4 символов.\n",
    "number = input()\n",
    "if len(number)<6:                # ВАЖНО! Добавляем 2 нуля слева, если цифры только 4\n",
    "  number = number.rjust(6,'0')\n",
    "if (int(number[0])+int(number[1])+int(number[2]))==(int(number[3])+int(number[4])+int(number[5])):  # ВАЖНО! заводим элемент строки в цифру через int. Задаём условие - сумма первых 3х чисел == сумме последних 3х чисел\n",
    "  print('YES')\n",
    "else:\n",
    "  print('NO')"
   ]
  },
  {
   "cell_type": "code",
   "execution_count": null,
   "metadata": {
    "id": "j7tg_OblL6g-"
   },
   "outputs": [],
   "source": [
    "# Задача 9. Координаты на шахтмотной доске. Координаты на входе - a1,b2 и т.п. Являются ли координаты одного цвета?\n",
    "stroka = ' abcdefgh'               # задаём строку - список букв на доске. В начале указываем пробел умышленно для того, чтобы нумерация элементов в строке соответствовала нумерации на доске\n",
    "# Задачу необходимо решать через нумерацию шахматной доски\n",
    "# Взамен букв присваивается числовой код\n",
    "# Каждую координату преобразуем в цифровую координату \n",
    "# Исходя из доски понимаем, что сумма координат черных ячеек - чётная, для белых - нечётная.\n",
    "coord1 = input()       # вводим координату 1 \n",
    "coord2 = input()       # вводим координату 2\n",
    "letter1 = coord1[0]    # обращаеся к букве в изначальных координатах первого квадрата. Она будет приобразована в номер колонки. a=1, b=2, c=3...\n",
    "letter2 = coord2[0]    # обращаеся к букве в изначальных координатах второго квадрата. Она будет приобразована в номер колонки. a=1, b=2, c=3...\n",
    "column1 = stroka.find(letter1)  # Номер колонки. Ищем букву из координаты первого квадрата в специальной изнчально заданной строке. Через функцию find ищем индекс соответствующей буквы. Теперь это у нас целое число\n",
    "column2 = stroka.find(letter2)  # Номер колонки. Ищем букву из координаты второго квадрата в специальной изнчально заданной строке. Через функцию find ищем индекс соответствующей буквы. Теперь это у нас целое число\n",
    "row1 = int(coord1[1])           # Номер строки. Преобразуем тесктовую координату первого квадрата в целое число для возможности дальнейших манипуляций\n",
    "row2 = int(coord2[1])           # Номер строки. Преобразуем тесктовую координату второго квадрата в целое число для возможности дальнейших манипуляций\n",
    "# Далее составляем условие if. Сумма данных координат может быть либо чётной либо нечётной. Если сумма координат обоих квадратов чётная либо нечётная - условие выполняется, цвет одинаковый.\n",
    "amount_coord1 = column1 + row1  # Сумма координат первого квадрата\n",
    "amount_coord2 = column2 + row2  # Сумма координат второго квадрата\n",
    "if amount_coord1 % 2 == 0 and amount_coord2 % 2 == 0 or amount_coord1 % 2 == 1 and amount_coord2 % 2 == 1:  # ВАЖНО! сначало рассматривается улосие \"and\" и только после этого - условие \"if\" \n",
    "  print('YES')\n",
    "else:\n",
    "  print('NO')"
   ]
  },
  {
   "cell_type": "code",
   "execution_count": null,
   "metadata": {
    "id": "lLJMvsMBPSkl"
   },
   "outputs": [],
   "source": [
    "# Задача 10. Для положительного целого числа n определим функцию f(n)=-1+2-3+...+((-1)**n)*n\n",
    "n = int(input())\n",
    "if n % 2 == 0:\n",
    "  print(n // 2)\n",
    "else:\n",
    "  print(n // 2 - n)"
   ]
  },
  {
   "cell_type": "markdown",
   "metadata": {
    "id": "k1uVSWMCVbgp"
   },
   "source": [
    "## 3.2 Вложенный оператор if"
   ]
  },
  {
   "cell_type": "code",
   "execution_count": null,
   "metadata": {
    "id": "Xh93nIp_V_5A"
   },
   "outputs": [],
   "source": [
    "# Задача 1. Найти наименьшее из трёх чисел\n",
    "a, b, c = int(input()), int(input()), int(input())\n",
    "if a < b:      # a - min\n",
    "  if a < c:\n",
    "    print(a)\n",
    "  else:\n",
    "    print(c)\n",
    "else:          # b - min\n",
    "  if b < c:\n",
    "    print(b)\n",
    "  else:\n",
    "    print(c)"
   ]
  },
  {
   "cell_type": "code",
   "execution_count": null,
   "metadata": {
    "id": "Sp7FlHetZWDl"
   },
   "outputs": [],
   "source": [
    "# Задача 2. По координатам найти принадлежность к четверти\n",
    "x, y = int(input()), int(input())\n",
    "if x > 0:        # это уже либо первая либо четвертая\n",
    "  if y > 0:\n",
    "    print(1)\n",
    "  else:\n",
    "    print(4)\n",
    "else:            # это уже либо вторая либо третья\n",
    "  if y > 0:\n",
    "    print(2)\n",
    "  else:\n",
    "    print(3)"
   ]
  },
  {
   "cell_type": "code",
   "execution_count": null,
   "metadata": {
    "id": "oNnJeyjzbIRe"
   },
   "outputs": [],
   "source": [
    "# Задача 3. В данной задаче необходимо сравнить два целых числа A и B.\n",
    "A, B = int(input()), int(input())\n",
    "if A < B:\n",
    "  print('<')\n",
    "else:\n",
    "  if A > B:\n",
    "    print('>')\n",
    "  else:\n",
    "    print('=')"
   ]
  },
  {
   "cell_type": "code",
   "execution_count": null,
   "metadata": {
    "id": "ba7lapFIcMfD"
   },
   "outputs": [],
   "source": [
    "# Задача 4. Нужно вывести значение наибольшего из трёх чисел.\n",
    "a, b, c = int(input()), int(input()), int(input())\n",
    "if a > b:\n",
    "  if a > c:\n",
    "    print(a)\n",
    "  else:\n",
    "    print(c)\n",
    "else:\n",
    "  if b > c:\n",
    "    print(b)\n",
    "  else:\n",
    "    print(c)"
   ]
  },
  {
   "cell_type": "code",
   "execution_count": null,
   "metadata": {
    "id": "_NOGLlbbdEQp"
   },
   "outputs": [],
   "source": [
    "# Задача 5. На свой день рождения Петя купил красивый и вкусный торт. Определить наименьшее число разрезов торта по заданному числу гостей.\n",
    "# Программа получает на вход натуральное число N – число гостей, включая самого виновника торжества\n",
    "N = int(input())\n",
    "if N % 2 == 0:\n",
    "  print(N//2)     # Если общее число едаков торта - чётное число, то количество разрезов будет в 2 раза меньше количества едаков\n",
    "else:\n",
    "  if N == 1:\n",
    "    print(0)      # Если других гостей, кроме Пети нет - резать торт не нужно\n",
    "  else:\n",
    "    print(N)      # Если общее число едаков торта - нечётное число, то количество разрезов будет равно общему количеству едаков. По-другому торт не порезать."
   ]
  },
  {
   "cell_type": "code",
   "execution_count": null,
   "metadata": {
    "id": "HsxU2CuNgJMO"
   },
   "outputs": [],
   "source": [
    "# Задача 6. В отделе работают 3 сотрудника, которые получают заработную плату в рублях. Требуется определить: на сколько зарплата самого высокооплачиваемого из них отличается от самого низкооплачиваемого.\n",
    "s1, s2, s3 = map(int, input().split())\n",
    "# сначала найдём максимальное значение\n",
    "if s1 > s2 and s1 > s3:\n",
    "  max_s = s1\n",
    "elif s2 > s1 and s2 > s3:\n",
    "  max_s = s2\n",
    "elif s3 > s1 and s3 > s2:\n",
    "  max_s = s3\n",
    "# теперь найдём минимальное значение\n",
    "if s1 < s2 and s1 < s3:\n",
    "  min_s = s1\n",
    "elif s2 < s1 and s2 < s3:\n",
    "  min_s = s2\n",
    "elif s3 < s1 and s3 < s2:\n",
    "  min_s = s3\n",
    "print(max_s - min_s)   # разность между максимальным значением и минимальным значением выводится на экран"
   ]
  },
  {
   "cell_type": "code",
   "execution_count": null,
   "metadata": {
    "id": "wVqTW_HVwPv5"
   },
   "outputs": [],
   "source": [
    "# Задача 7. Маленький Петя очень любит подарки. Его мама подарила ему на день рождения две строки равной длины, состоящие из больших и маленьких букв латинского алфавита.\n",
    "# Необходимо сравнить эти строки лексикографически. При этом регистр букв значения не имеет, то есть большая буква считается эквивалентной соответствующей маленькой букве.\n",
    "str1, str2 = input().upper(),  input().upper()   # сразу приводим к верхнему регистру\n",
    "if str1 == str2:\n",
    "  print(0)\n",
    "else:\n",
    "  if str1 > str2:\n",
    "    print(1)\n",
    "  else:\n",
    "    print(-1)"
   ]
  },
  {
   "cell_type": "code",
   "execution_count": null,
   "metadata": {
    "id": "oWBb0ZIOWpKO"
   },
   "outputs": [],
   "source": [
    "# Задача 8. Кнопочные гонки\n",
    "# v - это скорость набора одного символа! Поэтому необходимо принимать в качестве скорости 1/v\n",
    "s, v1, v2, t1, t2 = map(int, input().split())\n",
    "t_total_1 = s/(1/v1) + t1 + t1      # формула t=S/V. Само время набора текста это S/V. +t1 это пинг перед получением задания и + t2 это пинг после отправки задания\n",
    "t_total_2 = s/(1/v2) + t2 + t2\n",
    "if t_total_1 < t_total_2:\n",
    "  print('First')\n",
    "else:\n",
    "  if t_total_1 > t_total_2:\n",
    "    print('Second')\n",
    "  else:\n",
    "    print('Friendship')"
   ]
  },
  {
   "cell_type": "code",
   "execution_count": null,
   "metadata": {
    "id": "GsMF471_df9H"
   },
   "outputs": [],
   "source": [
    "# Задача 9. Игра в города.\n",
    "# Первая буква каждого нового слова совпадала с последней буквой предыдущего\n",
    "# При этом считают, что если последняя буква предыдущего слова — мягкий знак, то с первой буквой следующего слова надо сравнивать букву, предшествующую мягкому знаку.\n",
    "word1, word2 = input().upper(), input().upper()      # Не забыть все буквы привести к одному регистру!\n",
    "if word1[-1] == 'Ь':                                 # Большая буква тут тоже!\n",
    "  if word1[-2] == word2[0]:\n",
    "    print('Good')\n",
    "  else:\n",
    "    print('Bad')\n",
    "else:\n",
    "  if word1[-1] == word2[0]:\n",
    "    print('Good')\n",
    "  else:\n",
    "    print('Bad')"
   ]
  },
  {
   "cell_type": "markdown",
   "metadata": {
    "id": "n41r0XvqjVBY"
   },
   "source": [
    "## 3.3 Множественный выбор при помощи оператора elif"
   ]
  },
  {
   "cell_type": "code",
   "execution_count": null,
   "metadata": {
    "id": "-wqThIszjXf4"
   },
   "outputs": [],
   "source": [
    "# Задача 1. FizzBuzz\n",
    "# Классическая задача для начинающих.\n",
    "num = int(input())\n",
    "if num % 5 == 0 and num % 3 == 0:\n",
    "  print('FizzBuzz')\n",
    "elif num % 5 == 0:\n",
    "  print('Buzz')\n",
    "elif num % 3 == 0:\n",
    "  print('Fizz')\n",
    "else:\n",
    "  print(num)"
   ]
  },
  {
   "cell_type": "code",
   "execution_count": null,
   "metadata": {
    "id": "caEm9C6u1Mwz"
   },
   "outputs": [],
   "source": [
    "# Задача 2. FizzBuzzДаны три целых числа, записанных в отдельных строках. Определите, сколько среди них совпадающих.\n",
    "a, b, c = int(input()), int(input()), int(input())\n",
    "if a == b and b == c:\n",
    "  print(3)\n",
    "elif a == b or b == c or c == a:\n",
    "  print(2)\n",
    "else:\n",
    "  print(0)"
   ]
  },
  {
   "cell_type": "code",
   "execution_count": null,
   "metadata": {
    "id": "UqSH93IR1wT9"
   },
   "outputs": [],
   "source": [
    "# Задача 3. Программа определяет наименование месяца по его номеру n. Название месяца пишется с заглавной буквы\n",
    "n = int(input())\n",
    "months = ['Январь','Февраль','Март','Апрель','Май','Июнь','Июль','Август','Сентябрь','Октябрь','Ноябрь','Декабрь']\n",
    "if n == 1:\n",
    "  print(months[0])\n",
    "elif n == 2:\n",
    "  print(months[1])\n",
    "elif n == 3:\n",
    "  print(months[2])\n",
    "elif n == 4:\n",
    "  print(months[3])\n",
    "elif n == 5:\n",
    "  print(months[4])\n",
    "elif n == 6:\n",
    "  print(months[5])\n",
    "elif n == 7:\n",
    "  print(months[6])\n",
    "elif n == 8:\n",
    "  print(months[7])\n",
    "elif n == 9:\n",
    "  print(months[8])\n",
    "elif n == 10:\n",
    "  print(months[9])\n",
    "elif n == 11:\n",
    "  print(months[10])\n",
    "elif n == 12:\n",
    "  print(months[11])"
   ]
  },
  {
   "cell_type": "code",
   "execution_count": null,
   "metadata": {
    "id": "8lTvp_YO3bB1"
   },
   "outputs": [],
   "source": [
    "# Задача 4. Ваша программа получает на вход возраст человека. Вам необходимо вывести на экран сообщение.\n",
    "age = int(input())\n",
    "period = ['Младенец','Малыш','Ребенок','Подросток','Взрослый человек','Пожилой человек']\n",
    "if age < 2:\n",
    "  print(period[0])\n",
    "elif 2 <= age < 4:\n",
    "  print(period[1])\n",
    "elif 4 <= age < 12:\n",
    "  print(period[2])\n",
    "elif 12 <= age < 19:\n",
    "  print(period[3])\n",
    "elif 19 <= age < 65:\n",
    "  print(period[4])\n",
    "elif 65 <= age:\n",
    "  print(period[5])"
   ]
  },
  {
   "cell_type": "code",
   "execution_count": null,
   "metadata": {
    "id": "df-Rldlr4peN"
   },
   "outputs": [],
   "source": [
    "# Задача 5. Калькулятор своими руками\n",
    "a, b = float(input()), float(input())\n",
    "znak = input()\n",
    "if b == 0 and znak == '/':\n",
    "  print('Неизвестно')\n",
    "elif znak == '+':\n",
    "  print(a + b)\n",
    "elif znak == '-':\n",
    "  print(a - b)\n",
    "elif znak == '*':\n",
    "  print(a * b)\n",
    "elif znak == '/':\n",
    "  print(a / b)\n",
    "else:\n",
    "  print('Неизвестно')"
   ]
  },
  {
   "cell_type": "code",
   "execution_count": null,
   "metadata": {
    "id": "VFHgbI4F6EbV"
   },
   "outputs": [],
   "source": [
    "# Задача 6. Напишите программу, которая имитирует проверку пароля, придуманного пользователем.\n",
    "password1, password2 = input(), input()\n",
    "if len(password1) < 7:\n",
    "  print('Short')\n",
    "elif len(password1) >= 7 and password1 != password2:\n",
    "  print('Difference')\n",
    "else:\n",
    "  print('OK')"
   ]
  },
  {
   "cell_type": "markdown",
   "metadata": {
    "id": "5YLQF-JadUZy"
   },
   "source": [
    "# 4.1 Цикл while. Знакомство с циклом while"
   ]
  },
  {
   "cell_type": "code",
   "execution_count": null,
   "metadata": {
    "id": "fdoGNM7xdch6"
   },
   "outputs": [],
   "source": [
    "i = 1            # задаём изначальное значение переменной\n",
    "while i <= 10:   # задаём условия выполнения цикла. Он будет выполнять по кругу блок внутри цикла пока условие будет выполняться\n",
    "  print(i)       # блок внутри цикла\n",
    "  i = i + 1      # блок внутри цикла. К текущему значению переменной добавить число"
   ]
  },
  {
   "cell_type": "code",
   "execution_count": null,
   "metadata": {
    "id": "YMklm-k9gx86"
   },
   "outputs": [],
   "source": [
    "# Выведем список от 20 до 10 по убыванию\n",
    "i = 20\n",
    "while i >= 10:\n",
    "  print(i)\n",
    "  i = i - 1"
   ]
  },
  {
   "cell_type": "code",
   "execution_count": null,
   "metadata": {
    "id": "UbaT0dgOimAk"
   },
   "outputs": [],
   "source": [
    "# Запрашивать секретное число, до тех пор, пока его не введут верно\n",
    "a = int(input('Введите секретное число:'))\n",
    "while a != 10:  # число 10 это и есть секретное число\n",
    "  print('Нет, это не оно, пробуёте ещё раз!')\n",
    "  a = int(input('Введите секретное число:'))\n",
    "print('Еа!')"
   ]
  },
  {
   "cell_type": "code",
   "execution_count": null,
   "metadata": {
    "id": "RoRiSRvujRVi"
   },
   "outputs": [],
   "source": [
    "# Запрашивать пароль, до тех пор, пока его не введут верно. Со счётчиком попыток.\n",
    "guess = input('Введите пароль:')\n",
    "password = 'Сергей - молодец'       # вот это секретная строка - пароль\n",
    "count = 0                           # добавим счётчик\n",
    "while guess != password:\n",
    "  count += 1                        # считаем каждую попытку\n",
    "  print('Нет, не верно!')\n",
    "  guess = input('Введите пароль:')\n",
    "print('Да, верно, возьми пирожок с полки!')\n",
    "print('Всего попыток:', count)"
   ]
  },
  {
   "cell_type": "code",
   "execution_count": null,
   "metadata": {
    "id": "oICG1-LRmRis"
   },
   "outputs": [],
   "source": [
    "# Из списка цифр удалить одну из цифр\n",
    "a = [1,2,3]*5  # список дублируем 5 раз\n",
    "print(a)       # промежуточный результат для проверки\n",
    "count = 0      # счётчик\n",
    "while 1 in a:  # пока цифра 1 будет в списке - это условие цикла\n",
    "  count+=1     # считаем количество циклов\n",
    "  a.remove(1)  # удалять цифру 1 в списке\n",
    "  print(a)     # печать промежуточного цикла\n",
    "print('Финальный список:', a)\n",
    "print('Всего циклов:', count)"
   ]
  },
  {
   "cell_type": "code",
   "execution_count": null,
   "metadata": {
    "id": "15w6j9c4pNGd"
   },
   "outputs": [],
   "source": [
    "# Операции над строкой через цикл\n",
    "# Выводим на печать по одной бекве из строки\n",
    "s = 'privet'\n",
    "while len(s) > 0:\n",
    "  print(s[0])\n",
    "  s = s[1:]"
   ]
  },
  {
   "cell_type": "code",
   "execution_count": null,
   "metadata": {
    "id": "3lh2SXoEpuPW"
   },
   "outputs": [],
   "source": [
    "# Операции над строкой через цикл\n",
    "# Выводим на печать по одной бекве из строки + информацию большая это буква или маленькая + информацию что это число (если это число)\n",
    "s = input('Введите набор букв:')\n",
    "count = 0                    # заведём счётчик\n",
    "while len(s) > 0:\n",
    "  count+=1                   # считаем количество циклов\n",
    "  bukva = s[0]\n",
    "  if 'a' <= bukva <= 'z':    # маленькая буква\n",
    "    print(bukva, 'small')\n",
    "  elif 'A' <= bukva <= 'Z':  # большая буква\n",
    "    print(bukva, 'big')\n",
    "  elif bukva.isdigit():      # число\n",
    "    print(bukva, 'digit')\n",
    "  elif bukva == '.' or bukva == ',' or bukva == '*':  # знак\n",
    "    print(bukva, 'znak')\n",
    "  s = s[1:]                  # убираем первый символ из строки\n",
    "print('Программа окончена, всего циклов:', count)"
   ]
  },
  {
   "cell_type": "code",
   "execution_count": null,
   "metadata": {
    "id": "h7SILeCquou9"
   },
   "outputs": [],
   "source": [
    "# Задача 1. Мишка и старший брат\n",
    "# Лимак ест много, и его вес утраивается каждый год, а вес Боба удваивается каждый год.\n",
    "mL, mB = map(int, input().split())\n",
    "year = 0                     # заводим счётчик для определения количества циклов. Это будет количество лет\n",
    "while mL <= mB:              # Пока условие выполняется цикл будет крутиться\n",
    "  year += 1\n",
    "  mL *= 3                   # вес Лимака утраивается каждый год\n",
    "  mB *= 2                   # вес Боба удваивается каждый год\n",
    "print(year)"
   ]
  },
  {
   "cell_type": "code",
   "execution_count": null,
   "metadata": {
    "id": "1tdedXkuAz8k"
   },
   "outputs": [],
   "source": [
    "# Задача 2. Удалить все упоминания цифры «4»\n",
    "numbers = [2, 3, 7, 9, 5, 0, 6, 3, 6, 0, 1, 7, 9, 4, 4, 4, 2, 2, 6, 9, 1, 7, 0, 3, 8, 1, 0, 3, 8, 0, 8, 4, 0, 2, 3, 6, 6, 1, 5, 8, 7, 2, 3, 8, 7, 7, 1, 2, 2, 8, 4, 3, 4, 8, 0, 7, 9, 8, 3, 7, 7, 7, 7, 5, 1, 7, 4, 5, 0, 8, 0, 9, 2, 4, 7, 6, 6, 5, 9, 7, 1, 7, 8, 8, 3, 4, 9, 7, 6, 4, 2, 0, 0, 0, 9, 4, 0, 9, 4, 4, 4, 5, 5, 4, 2, 5, 9, 4, 8, 1, 5, 7, 1, 0, 2, 6, 8, 7, 2, 7, 9, 3, 6, 4, 7, 5, 0, 7, 2, 0, 8, 2, 9, 8, 6, 4, 4, 7, 5, 5, 9, 4, 9, 5, 6, 9, 1, 1, 3, 1, 5, 2, 1, 7, 0, 0, 7, 8, 1, 3, 0, 0, 4, 4, 3, 3, 6, 7, 8, 6, 1, 2, 0, 2, 0, 9, 9, 0, 5, 2, 4, 1, 7, 4, 9, 9, 4, 9, 6, 9, 2, 7, 1, 2, 4, 5, 4, 0, 9, 0]\n",
    "while 4 in numbers:\n",
    "  numbers.remove(4)   # Удаляет цифру 4 в указанном списке\n",
    "print(*numbers)       # ВАЖНО! * в начале переменной распечатело на экран список без знака []"
   ]
  },
  {
   "cell_type": "code",
   "execution_count": null,
   "metadata": {
    "id": "orKk2tgXCAOj"
   },
   "outputs": [],
   "source": [
    "# Задача 3. Необходимо воспроизвести процесс, в котором каждый раз у этого слово будет пропадать первая и последняя буква.\n",
    "word = input()\n",
    "while len(word) >= 1 :  # пока длина слова не будет меньше 1 или 0\n",
    "  print(word)\n",
    "  word = word[1:-1]     # убираем первый и последний символ в строке. Теперь переменная word изменена"
   ]
  },
  {
   "cell_type": "code",
   "execution_count": null,
   "metadata": {
    "id": "bJ4P5Ux7aKwr"
   },
   "outputs": [],
   "source": [
    "# Задача 4. Выведите все точные квадраты натуральных чисел, не превосходящие данного числа N.\n",
    "N = int(input())\n",
    "n = 1                # задаём первое число, которое будем возводить в квадрат\n",
    "while n**2 <= N:     # квадрат числа должен быть меньше либо равен N, тогда условие выполняется\n",
    "  print(n**2)        # выводим квадрат текущего значения n\n",
    "  n+=1               # добавляем по 1"
   ]
  },
  {
   "cell_type": "code",
   "execution_count": null,
   "metadata": {
    "id": "KBKJqbTKcO_6"
   },
   "outputs": [],
   "source": [
    "# Задача 5. Вам необходимо определить номер дня, в который пробег спортсмена составил не менее Y километров. Само число Y будем поступать на вход программе.\n",
    "X, Y = map(int, input().split())\n",
    "# X - В первый день спортсмен пробежал километров\n",
    "# Y - Вам необходимо определить номер дня, в который пробег спортсмена составил не менее Y километров.\n",
    "day = 1          # счётчик дней\n",
    "while X < Y:     # пока факт пройденных километров не будет больше либо равен заданой норме Y\n",
    "  X = X * 1.15   # каждый последующий день быстрее предыдущего на 15%\n",
    "  day+=1         # добавляем 1 день\n",
    "print(day)"
   ]
  },
  {
   "cell_type": "code",
   "execution_count": null,
   "metadata": {
    "id": "NpzkTYl2eYZH"
   },
   "outputs": [],
   "source": [
    "# Задача 6. Вася и носки. На сколько подряд идущих дней Васе хватит носков?\n",
    "socks, m = map(int, input().split())\n",
    "# socks - изначальное количество носков, которые есть у Васи\n",
    "# m - число, через которое мама покупает Васе новые носки (m,2m,3m...).\n",
    "# Мама покупает носки поздно вечером, поэтому Вася может надеть новые носки не раньше следующего дня.\n",
    "# Каждый день вечером Вася выкидывает ношеные носки\n",
    "day = 0                # задаём счётчик дней\n",
    "while socks > 0:       # будем повторять цикл, пока количество носков будет положительным\n",
    "  socks = socks - 1    # забираем 1 носок\n",
    "  day = day + 1        # добавляем 1 день\n",
    "  if day % m == 0:     # каждый m-тый день мама покупает новые носки. Соответственно чтобы выцепить такой день - текущий день должен быть кратен маминой очередности.\n",
    "    socks = socks + 1  # добавляем ещё один носок, если текущий день кратен маминому дню\n",
    "print(day)"
   ]
  },
  {
   "cell_type": "code",
   "execution_count": null,
   "metadata": {
    "id": "HasRxo9muFfG"
   },
   "outputs": [],
   "source": [
    "# Задача 7. Новогодние свечки\n",
    "# У Василия есть a свечей. Когда Василий зажигает новую свечу, сначала она горит ровно один час, а затем тухнет.\n",
    "# Из b потухших свечей он умеет получать одну новую свечу.\n",
    "# На сколько часов освещения хватит его свечек, если он будет действовать оптимальным образом.\n",
    "a, b = map(int, input().split())\n",
    "time = 0                # начинаем считать время горения свечей\n",
    "while a > 0:            # крутим цикл пока свечек больше нуля\n",
    "  time +=1              # добавляем 1 час\n",
    "  a -= 1                # убираем 1 свечу\n",
    "  if time % b == 0:     # лепим из b свечей ещё одну новую. Время уже включило в себя количество свечей\n",
    "    a += 1              # склеиваем 1 новую свечу из b затухших\n",
    "print(time)"
   ]
  },
  {
   "cell_type": "markdown",
   "metadata": {
    "id": "nKfpRa_j4tcj"
   },
   "source": [
    "# 6. None, словари, множество"
   ]
  },
  {
   "cell_type": "markdown",
   "metadata": {
    "id": "uCSO7yTaSbuX"
   },
   "source": [
    "## 6.6 Методы словаря"
   ]
  },
  {
   "cell_type": "code",
   "execution_count": null,
   "metadata": {
    "id": "k5WlQgf7Slxf"
   },
   "outputs": [],
   "source": [
    "# словари - изменяемый объект, не забывать!"
   ]
  },
  {
   "cell_type": "code",
   "execution_count": null,
   "metadata": {
    "id": "-815CzcuSzwP"
   },
   "outputs": [],
   "source": [
    "# Метод CLEAR\n",
    "d = {1: 'one', 2: 'two', 3: 'three'}\n",
    "print(d)\n",
    "d.clear()\n",
    "print(d)"
   ]
  },
  {
   "cell_type": "code",
   "execution_count": null,
   "metadata": {
    "id": "KkcjjIXGVnkq"
   },
   "outputs": [],
   "source": [
    "# Метод GET\n",
    "# позволяет получить значение ключа.\n",
    "# Нужно указать внутри скобок один аргумент – КЛЮЧ, значение которого хотим получить\n",
    "d = {1: 'one', 2: 'two', 3: 'three'}\n",
    "print(d.get(1))\n",
    "print(d.get(5))\n",
    "print(d.get(5, 'WTF!'))  # ВАЖНО! елсли указать второй элемент, то он будет выведен на экран, если не будет такого ключа."
   ]
  },
  {
   "cell_type": "code",
   "execution_count": null,
   "metadata": {
    "id": "dZPZCmRJWXGU"
   },
   "outputs": [],
   "source": [
    "# SETDEFAULT\n",
    "# Получает значение ключа\n",
    "# при обращении к несуществующему ключу он вносит в словарь новую пару ключ-значение. Значением будет второй аргумент, который был передан в этот метод, либо же None, если в методе только один аргумент\n",
    "d = {1: 'one', 2: 'two', 3: 'three'}\n",
    "print(d)\n",
    "print(d.setdefault(1))  # данный ключ есть, выводим его значение\n",
    "print(d)\n",
    "print(d.setdefault(6))  # данного ключа нет, добавляем значение ключа None\n",
    "print(d)\n",
    "print(d.setdefault(7, 'семь' ))  # добавляем ключ 7 и значение для него через запятую\n",
    "print(d)"
   ]
  },
  {
   "cell_type": "code",
   "execution_count": null,
   "metadata": {
    "id": "OTyhPNJQXNZ7"
   },
   "outputs": [],
   "source": [
    "# POP\n",
    "# возвращает значение, находящееся под указанным ключом, а из самого словаря удаляется пара с данным ключом\n",
    "d = {1: 'one', 2: 'two', 3: 'three'}\n",
    "print(d.pop(2))\n",
    "print(d)\n",
    "print(\"-\"*25)\n",
    "deleted_value = d.pop(1)\n",
    "print(deleted_value)\n",
    "print(d)"
   ]
  },
  {
   "cell_type": "code",
   "execution_count": null,
   "metadata": {
    "id": "2ZdxhOUWXs7z"
   },
   "outputs": [],
   "source": [
    "# POPITEM\n",
    "# удалит и вернет двойной кортеж (key, value) из словаря.\n",
    "# Пары возвращаются с конца словаря, в порядке LIFO (последним пришёл - первым ушёл).\n",
    "d = {1: 'one', 2: 'two', 3: 'three'}\n",
    "print(d.popitem())\n",
    "print(d)\n",
    "print(d.popitem())\n",
    "print(d.popitem())\n",
    "print(d)\n",
    "print('-'*20)\n",
    "lang = {}\n",
    "lang['ru'] = 'Русский'\n",
    "lang['eng'] = 'Английский'\n",
    "print(lang.popitem())\n",
    "print(lang.popitem())\n",
    "print('-'*20)\n",
    "lang_2 = {}\n",
    "lang_2['eng'] = 'Английский'\n",
    "lang_2['ru'] = 'Русский'\n",
    "print(lang_2.popitem())\n",
    "print(lang_2.popitem())"
   ]
  },
  {
   "cell_type": "code",
   "execution_count": null,
   "metadata": {
    "id": "QIB59_lXYT-z"
   },
   "outputs": [],
   "source": [
    "# KEYS\n",
    "# позволяет получить все ключи словаря.\n",
    "d = {1: 'one', 2: 'two', 3: 'three'}\n",
    "print(d.keys())\n",
    "keys = list(d.keys())\n",
    "print(keys)\n",
    "print(\"*\"*25)\n",
    "lang = {'eng':'Английский', 'ru':'Русский'}\n",
    "print(lang.keys())"
   ]
  },
  {
   "cell_type": "code",
   "execution_count": null,
   "metadata": {
    "id": "bjj_LmNwYrjj"
   },
   "outputs": [],
   "source": [
    "# VALUES\n",
    "# позволяет получить все значения словаря\n",
    "d = {1: 'one', 2: 'two', 3: 'three'}\n",
    "print(d.values())\n",
    "vals = list(d.values())\n",
    "print(vals)\n",
    "print(\"*\"*25)\n",
    "lang = {'eng':'Английский', 'ru':'Русский'}\n",
    "print(lang.values())"
   ]
  },
  {
   "cell_type": "code",
   "execution_count": null,
   "metadata": {
    "id": "H81CCfffZC9k"
   },
   "outputs": [],
   "source": [
    "# ITEMS\n",
    "# возвращает коллекцию, в которой содержаться все пары «ключ-значение» в виде кортежей\n",
    "d = {1: 'one', 2: 'two', 3: 'three'}\n",
    "print(d.items())\n",
    "couples = list(d.items())\n",
    "print(couples)\n",
    "print(\"*\"*25)\n",
    "lang = {'eng':'Английский', 'ru':'Русский'}\n",
    "print(lang.items())"
   ]
  },
  {
   "cell_type": "code",
   "execution_count": null,
   "metadata": {
    "id": "GT0ImCWeZW-j"
   },
   "outputs": [],
   "source": [
    "# UPDATES\n",
    "# обновляет словарь элементами из другого словаря.\n",
    "# метод сливает(мержит от английского «merge») один словарь в другой: добавляются новые ключи из другого словаря, при совпадении ключей записывается значение из переданного словаря\n",
    "d = {1: 'one', 2: 'two', 3: 'three'}\n",
    "w = {4: 'four', 5: 'five'}\n",
    "d.update(w)\n",
    "print(d)\n",
    "print(\"*\"*25)\n",
    "lang = {'eng':'Английский', 'ru': 'Русский'}\n",
    "other = {'esp': 'Spanish', 'ru': 'Rus'}\n",
    "lang.update(other)\n",
    "print(lang)"
   ]
  },
  {
   "cell_type": "code",
   "execution_count": null,
   "metadata": {
    "id": "3tpnX07NZuf7"
   },
   "outputs": [],
   "source": [
    "# Обход элементов словаря в цикле\n",
    "# Словари относятся к коллекциям как и списки, строки и кортежи.\n",
    "# Все коллекции объединяет то, что по их элементам можно итерироваться: обходить элементы коллекции при помощи цикла for\n",
    "# Именно ключи словаря используются при итерации."
   ]
  },
  {
   "cell_type": "code",
   "execution_count": null,
   "metadata": {
    "id": "gPcXBtccZ_uT"
   },
   "outputs": [],
   "source": [
    "lang = {'eng': 'Английский',\n",
    "        'ru': 'Русский',\n",
    "        'fra': 'Французский',\n",
    "        'esp': 'Испанский'}\n",
    "for item in lang:\n",
    "  print(item)"
   ]
  },
  {
   "cell_type": "code",
   "execution_count": null,
   "metadata": {
    "id": "KQTTOoKuaNej"
   },
   "outputs": [],
   "source": [
    "# итерироваться по ключам, и обращаться через них по значениям\n",
    "lang = {'eng': 'Английский',\n",
    "        'ru': 'Русский',\n",
    "        'fra': 'Французский',\n",
    "        'esp': 'Испанский'}\n",
    "for key in lang.keys():\n",
    "  print(lang[key])"
   ]
  },
  {
   "cell_type": "code",
   "execution_count": null,
   "metadata": {
    "id": "5yt4Ud_manwb"
   },
   "outputs": [],
   "source": [
    "# использовать метод values\n",
    "lang = {'eng': 'Английский',\n",
    "        'ru': 'Русский',\n",
    "        'fra': 'Французский',\n",
    "        'esp': 'Испанский'}\n",
    "for value in lang.values():\n",
    "  print(value)   "
   ]
  },
  {
   "cell_type": "code",
   "execution_count": null,
   "metadata": {
    "id": "zB8zSdOlavpL"
   },
   "outputs": [],
   "source": [
    "# А можно сразу итерироваться и по ключу и по его значению, спросите Вы? Конечно! Используйте метод items\n",
    "lang = {'eng': 'Английский',\n",
    "        'ru': 'Русский',\n",
    "        'fra': 'Французский',\n",
    "        'esp': 'Испанский'}\n",
    "for item in lang.items():\n",
    "  print(item, f'Key={item[0]}, value={item[1]}')"
   ]
  },
  {
   "cell_type": "code",
   "execution_count": null,
   "metadata": {
    "id": "CjzV_nFobHsb"
   },
   "outputs": [],
   "source": [
    "# Мы можем достать их по индексам, либо лучше сразу распаковать в две переменные в самом цикле for\n",
    "lang = {'eng': 'Английский',\n",
    "        'ru': 'Русский',\n",
    "        'fra': 'Французский',\n",
    "        'esp': 'Испанский'}\n",
    "for key, value in lang.items():\n",
    "  print(key, '-', value)"
   ]
  },
  {
   "cell_type": "markdown",
   "metadata": {
    "id": "lx3bcrCO4cb0"
   },
   "source": [
    "# 7. Функции"
   ]
  },
  {
   "cell_type": "markdown",
   "metadata": {
    "id": "QVtzMf8CdS80"
   },
   "source": [
    "## 7.1 Определение и вызов функции. Инструкция def"
   ]
  },
  {
   "cell_type": "code",
   "execution_count": null,
   "metadata": {
    "id": "xoei7Qk3dWjT"
   },
   "outputs": [],
   "source": [
    "# Функции - это многократно используемые фрагменты программы.\n",
    "# При помощи функций можно объединить несколько инструкций в один блок, присвоить этому блоку имя\n",
    "# и затем, обращаясь по имени этого блока, выполнить инструкции внутри него в любом месте программы\n",
    "# необходимое число раз.\n",
    "# def - defenation - определение\n",
    "# Обращение к функции должно быть после её определения"
   ]
  },
  {
   "cell_type": "code",
   "execution_count": null,
   "metadata": {
    "id": "HaisksxMiX-0"
   },
   "outputs": [],
   "source": [
    "# просто загоняем определённый набор программ в функцию со своим именем\n",
    "def print_01():  # определение функции\n",
    "  print('Hello')\n",
    "  print('World!')\n",
    "print_01()  # вызов функции\n",
    "print('once again')\n",
    "print_01()"
   ]
  },
  {
   "cell_type": "code",
   "execution_count": null,
   "metadata": {
    "id": "Rua9dl68VYtx"
   },
   "outputs": [],
   "source": [
    "# Определение функции и её вызов - пример\n",
    "def square(x):\n",
    "  print(f'Квадрат числа {x} = {x**2}')\n",
    "square(5)  # задаём аргумент, который прогоним по функции\n",
    "square(int(input(\"Введите число, мы его возведём в квадрат:\")))  # заводим аргумент снаружи\n",
    "for i in range(1,6):  # через цикл прогоняем последовательность от 1 до 5\n",
    "  square(i)"
   ]
  },
  {
   "cell_type": "code",
   "execution_count": null,
   "metadata": {
    "id": "aa4FLHOVW8nJ"
   },
   "outputs": [],
   "source": [
    "# Пример функции на 2 агрумента\n",
    "def multiply(x,y):\n",
    "  print(f\"Произведение {x} на {y} равно {x*y}\")\n",
    "multiply(3,5)"
   ]
  },
  {
   "cell_type": "code",
   "execution_count": null,
   "metadata": {
    "id": "KhNhmMKfXleh"
   },
   "outputs": [],
   "source": [
    "# Пример функции с проверкой на чётность\n",
    "def even(a):\n",
    "  if a%2==0:\n",
    "    print(f\"{a} является чётным числом\")\n",
    "  else:\n",
    "    print(f\"{a} является НЕчётным числом\")\n",
    "print(\"-\"*5, \"Начало программы\", \"-\"*5)\n",
    "even(20)  # прогоним число 20 через функцию\n",
    "even(15)  # прогоним число 15 через функцию\n",
    "for i in range(1, 11):  # прогоним через цикл цифры 1 - 10\n",
    "  even(i)"
   ]
  },
  {
   "cell_type": "code",
   "execution_count": null,
   "metadata": {
    "id": "rqeLpFW-34kz"
   },
   "outputs": [],
   "source": [
    "# Функция нахождения факториала числа\n",
    "def factorial(n):\n",
    "  pr=1\n",
    "  for i in range(2,n+1):\n",
    "    pr=pr*i\n",
    "  print(pr)\n",
    "factorial(3)"
   ]
  },
  {
   "cell_type": "code",
   "execution_count": null,
   "metadata": {
    "id": "9pwjnMVJ8mts"
   },
   "outputs": [],
   "source": [
    "# Определение функции исходя из условий\n",
    "if 5>7:\n",
    "  def primer():\n",
    "    print('one')\n",
    "else:\n",
    "  def primer():\n",
    "    print(\"two\")\n",
    "primer()"
   ]
  },
  {
   "cell_type": "code",
   "execution_count": null,
   "metadata": {
    "id": "N4JJiLDQ_LCM"
   },
   "outputs": [],
   "source": [
    "def say_hello_world():\n",
    "    name = input()\n",
    "    print(name, \"говорит hello world!\")\n",
    "say_hello_world()"
   ]
  },
  {
   "cell_type": "code",
   "execution_count": null,
   "metadata": {
    "id": "F6oTtsryKFmN"
   },
   "outputs": [],
   "source": [
    "# Написать функцию\n",
    "# принимает одно целое положительное t число и находит сумму всех чисел от 1 до t включительно.\n",
    "def summa_n(t):\n",
    "  S=0\n",
    "  for i in range(1,t+1):\n",
    "    S=S+i\n",
    "  print(f\"Я знаю, что сумма чисел от 1 до {t} равна {S}\")\n",
    "summa_n(245)"
   ]
  },
  {
   "cell_type": "code",
   "execution_count": null,
   "metadata": {
    "id": "TCXWY3OjLlks"
   },
   "outputs": [],
   "source": [
    "# Напишите функцию, которая принимает на вход целое число и выводит на экран через пробел квадрат и куб этого числа.\n",
    "def exponentiation(n):\n",
    "  print(n**2, n**3)\n",
    "exponentiation(3)"
   ]
  },
  {
   "cell_type": "code",
   "execution_count": null,
   "metadata": {
    "id": "H_nNr-D2MH4N"
   },
   "outputs": [],
   "source": [
    "# Функция для суммирования всех цифр строки.\n",
    "def sum_num(n):\n",
    "  s = 0\n",
    "  for i in n:\n",
    "    if i in \"1234567890\":\n",
    "      s = s+int(i)\n",
    "  print(s)\n",
    "sum_num(\"-123.78\")\n",
    "# Второе решение\n",
    "def sum_num(s):\n",
    "    print(sum([int(i) for i in s if i.isdigit()]))"
   ]
  },
  {
   "cell_type": "code",
   "execution_count": null,
   "metadata": {
    "id": "zpARdM2VD3y5"
   },
   "outputs": [],
   "source": [
    "# Принимает массу тела человека в кг и рост в см и рассчитывает индекс массы тела человека по формуле\n",
    "def get_body_mass_index(massa, weight):\n",
    "  index = int(massa) / (int(weight)/100)**2\n",
    "  if index < 18.5:\n",
    "    print(\"Недостаточная масса тела\")\n",
    "  elif 18.5 <= index <= 25:\n",
    "    print(\"Норма\")\n",
    "  else:\n",
    "    print(\"Избыточная масса тела\")\n",
    "get_body_mass_index(58, 167)"
   ]
  },
  {
   "cell_type": "code",
   "execution_count": null,
   "metadata": {
    "id": "wKpalzzElpZb"
   },
   "outputs": [],
   "source": [
    "# Проверяет переданный ей пароль на сложность и печатает на экран результат проверки.\n",
    "def check_password(x):\n",
    "  #x = input()\n",
    "  c = 0\n",
    "  if len(x)>=10 and '!@#$%*' in x and x!=x.lower():\n",
    "    a = 1\n",
    "  else:\n",
    "    a = 0\n",
    "  for i in x:\n",
    "    if i.isdigit() == True:\n",
    "      c +=1\n",
    "  if c >=3 and a==1:\n",
    "    print(\"Perfect password\")\n",
    "  else:\n",
    "    print(\"Easy peasy\")\n",
    "check_password('Qwerty1357!%')"
   ]
  },
  {
   "cell_type": "markdown",
   "metadata": {
    "id": "uCIitdCG5tgp"
   },
   "source": [
    "## 7.2 Зачем нужны функции в программировании"
   ]
  },
  {
   "cell_type": "code",
   "execution_count": null,
   "metadata": {
    "id": "-_js7REj5urR"
   },
   "outputs": [],
   "source": [
    "# Помогают избегать повторения одинаковых фрагментов кода\n",
    "# Позволяют разбить задачи на подзадачи\n",
    "# Упрощают внесение изменений в повторяемых блоках"
   ]
  },
  {
   "cell_type": "markdown",
   "metadata": {
    "id": "4WC0CshWE1pA"
   },
   "source": [
    "## 7.3 Возвращаемое значение функции. Оператор return"
   ]
  },
  {
   "cell_type": "code",
   "execution_count": null,
   "metadata": {
    "id": "19BfjTOdFAAA"
   },
   "outputs": [],
   "source": [
    "# Позволяет вернуть из функции значение, которое потом мы можем использовать для своих целей.\n",
    "# Любая функция в python возвращает значение."
   ]
  },
  {
   "cell_type": "code",
   "execution_count": null,
   "metadata": {
    "id": "fqkw3LElKv7n"
   },
   "outputs": [],
   "source": [
    "def square(x):\n",
    "    #print(x**2)\n",
    "    return x**3\n",
    "a = square(4)\n",
    "print(a)"
   ]
  },
  {
   "cell_type": "code",
   "execution_count": null,
   "metadata": {
    "id": "PZuwlHDVNZdn"
   },
   "outputs": [],
   "source": [
    "def is_adult(a):\n",
    "    return a >= 18\n",
    "a = is_adult(13)\n",
    "b = is_adult(19)\n",
    "print(a, b)"
   ]
  },
  {
   "cell_type": "code",
   "execution_count": null,
   "metadata": {
    "id": "kzvuURxIM8zn"
   },
   "outputs": [],
   "source": [
    "def make_car():\n",
    "    car = {'model': 'tesla', 'color': 'red', 'price': 16000}\n",
    "    return car\n",
    "my_tesla = make_car()\n",
    "print(my_tesla)"
   ]
  },
  {
   "cell_type": "code",
   "execution_count": null,
   "metadata": {
    "id": "WSIhaNxoPMBH"
   },
   "outputs": [],
   "source": [
    "def example():\n",
    "    print(1)\n",
    "    return 2\n",
    "    print(3)\n",
    "print(example())"
   ]
  },
  {
   "cell_type": "code",
   "execution_count": null,
   "metadata": {
    "id": "Q_XDi8FHPm6f"
   },
   "outputs": [],
   "source": [
    "def is_person_teenager(age):\n",
    "  return 12<=age<=17\n",
    "is_person_teenager(13)"
   ]
  },
  {
   "cell_type": "code",
   "execution_count": null,
   "metadata": {
    "id": "1zbAzHxcRU-o"
   },
   "outputs": [],
   "source": [
    "def factorial(a):\n",
    "  pr=1\n",
    "  for i in range(2,a+1):\n",
    "    pr=pr*i\n",
    "  return pr\n",
    "  #print(pr)\n",
    "#b = factorial(3)\n",
    "#b = factorial(3)\n",
    "factorial(3)"
   ]
  },
  {
   "cell_type": "markdown",
   "metadata": {
    "id": "X2UFLBNZ2Ao_"
   },
   "source": [
    "## 7.5 Область видимости: локальная, глобальная и встроенная."
   ]
  },
  {
   "cell_type": "code",
   "execution_count": null,
   "metadata": {
    "colab": {
     "base_uri": "https://localhost:8080/"
    },
    "id": "xy6DoKxy2CDe",
    "outputId": "eea2d855-7a4d-4ac9-88ed-f503ae20cf60"
   },
   "outputs": [
    {
     "name": "stdout",
     "output_type": "stream",
     "text": [
      "3d может водить\n"
     ]
    }
   ],
   "source": [
    "# Задача 1\n",
    "# Написать функцию, которая на вход принимает имя и возраст человека и далее выводит на печать решение\n",
    "\n",
    "MIN_DRIVING_AGE = 18\n",
    "def allowed_driving(name, age):\n",
    "    if age >= MIN_DRIVING_AGE:\n",
    "      print(f'{name} может водить')\n",
    "    else:\n",
    "      print(f'{name} еще рано садиться за руль')\n",
    "allowed_driving('3d', 188)"
   ]
  },
  {
   "cell_type": "markdown",
   "metadata": {
    "id": "HSFbrVrj3HPv"
   },
   "source": [
    "## 7.6 Передача аргументов. Сопоставление аргументов по имени и позиции"
   ]
  },
  {
   "cell_type": "code",
   "execution_count": null,
   "metadata": {
    "id": "Xd2SvT_h3IUH"
   },
   "outputs": [],
   "source": [
    "#"
   ]
  },
  {
   "cell_type": "code",
   "execution_count": null,
   "metadata": {
    "id": "4M5mAkZr3KTf"
   },
   "outputs": [],
   "source": [
    "#"
   ]
  },
  {
   "cell_type": "code",
   "execution_count": null,
   "metadata": {
    "id": "tmruXhIZ3KGG"
   },
   "outputs": [],
   "source": [
    "#"
   ]
  },
  {
   "cell_type": "code",
   "execution_count": null,
   "metadata": {
    "id": "88SyaQt93J8O"
   },
   "outputs": [],
   "source": [
    "#"
   ]
  },
  {
   "cell_type": "code",
   "execution_count": null,
   "metadata": {
    "id": "s9MHXrYr3Jz3"
   },
   "outputs": [],
   "source": [
    "#"
   ]
  },
  {
   "cell_type": "code",
   "execution_count": null,
   "metadata": {
    "id": "6bALXAQk3Jr2"
   },
   "outputs": [],
   "source": [
    "#"
   ]
  },
  {
   "cell_type": "code",
   "execution_count": null,
   "metadata": {
    "id": "AoIOA7lc3Jje"
   },
   "outputs": [],
   "source": [
    "#"
   ]
  },
  {
   "cell_type": "code",
   "execution_count": null,
   "metadata": {
    "id": "N_RCwF6o3Jae"
   },
   "outputs": [],
   "source": [
    "#"
   ]
  },
  {
   "cell_type": "code",
   "execution_count": null,
   "metadata": {
    "id": "1hoLEnX66xJD"
   },
   "outputs": [],
   "source": []
  },
  {
   "cell_type": "markdown",
   "metadata": {
    "id": "E9zlvamF6x4e"
   },
   "source": [
    "## 7.10 Анонимная функция Lambda"
   ]
  },
  {
   "cell_type": "code",
   "execution_count": null,
   "metadata": {
    "id": "-Y7LMwxA60og"
   },
   "outputs": [],
   "source": [
    "# Lambda - функция без имени - анонимная функция\n",
    "# Без передачи функции в аргумент её не вызвать\n",
    "# Рационально использовать, когда необходимо написать функцию в одну строчку.\n",
    "# Анонимные функции не могут содержать циклы.\n",
    "# Условный оператор if может быть применен в анонимных функциях\n",
    "# "
   ]
  },
  {
   "cell_type": "code",
   "execution_count": null,
   "metadata": {
    "id": "JJH6XjMS9vt_"
   },
   "outputs": [],
   "source": [
    "per = lambda a, b, c: a+b+c"
   ]
  },
  {
   "cell_type": "code",
   "execution_count": null,
   "metadata": {
    "id": "BdnZBOzUKRtV"
   },
   "outputs": [],
   "source": [
    "a = lambda x: 'positive' if x>0 else 'negative'"
   ]
  },
  {
   "cell_type": "code",
   "execution_count": null,
   "metadata": {
    "id": "9BAPIxuygb1U"
   },
   "outputs": [],
   "source": [
    "# Сразу применить lambda\n",
    "(lambda x, y: x+y)(5, 7)"
   ]
  },
  {
   "cell_type": "code",
   "execution_count": null,
   "metadata": {
    "id": "nD27FL_19vkR"
   },
   "outputs": [],
   "source": [
    "# Lambda функция как ключ сортировки\n",
    "a = [72, 4, 39, 100, 200, 5, 28, 123, 44]\n",
    "a.sort(key=lambda x: x%10)  # сортирует по второму с конца числу значения\n",
    "print(a)"
   ]
  },
  {
   "cell_type": "code",
   "execution_count": null,
   "metadata": {
    "id": "51fH_pse9vaK"
   },
   "outputs": [],
   "source": [
    "# Задача 1.\n",
    "# В переменную adding_10 присвойте lambda функцию, которая принимает одно число и увеличивает его на 10.\n",
    "adding_10 = lambda x: x+10\n",
    "adding_10(10)"
   ]
  },
  {
   "cell_type": "code",
   "execution_count": null,
   "metadata": {
    "id": "MambTQ929vNS"
   },
   "outputs": [],
   "source": [
    "# Задача 2.\n",
    "# В переменную присвойте lambda функцию, которая принимает строку и возвращает True, когда переданная строка начинается с буквы W.\n",
    "# Во всех остальных случаях нужно возвращать False\n",
    "starts_with = lambda x: x[0]=='W'\n",
    "starts_with('World')"
   ]
  },
  {
   "cell_type": "code",
   "execution_count": null,
   "metadata": {
    "id": "cFz7bCYp9ux4"
   },
   "outputs": [],
   "source": [
    "# Задача 3.\n",
    "# Имеется функция sale, которая возвращает цену товара со скидкой 10%.\n",
    "# на основе данной функции создайте анонимную функцию и присвойте её переменной sale_lambda\n",
    "sale_lambda = lambda x: x*0.9\n",
    "#def sale(x):\n",
    "    #return x*0.9"
   ]
  },
  {
   "cell_type": "code",
   "execution_count": null,
   "metadata": {
    "id": "amAT7cVZKy93"
   },
   "outputs": [],
   "source": [
    "# Задача 4.\n",
    "# Скидка должна быть только для тех товаров, стоимость которых больше 50. Вам стоит внести это изменение в прошлый код\n",
    "sale_lambda = lambda x: x*0.9 if x>50 else x"
   ]
  },
  {
   "cell_type": "code",
   "execution_count": null,
   "metadata": {
    "id": "SWVQ6-GJKyx8"
   },
   "outputs": [],
   "source": [
    "# Задача 5.\n",
    "# Напишите lambda функцию, которая принимает произвольное количество числовых аргументов и выводит их среднее арифметическое.\n",
    "average = lambda: sum(map(int, (input().split()))) / 10\n",
    "average()\n",
    "#A,B,C = map(int, (input().split()))\n",
    "#print(A, B, C)\n",
    "#Не решил!"
   ]
  },
  {
   "cell_type": "markdown",
   "metadata": {
    "id": "NnnOzPtLhTYc"
   },
   "source": [
    "# 10 Advanced Python"
   ]
  },
  {
   "cell_type": "markdown",
   "metadata": {
    "id": "340eEh8thZlF"
   },
   "source": [
    "## 10.3 Функция map Python"
   ]
  },
  {
   "cell_type": "code",
   "execution_count": null,
   "metadata": {
    "id": "k8ujGyuzhXR1"
   },
   "outputs": [],
   "source": [
    "# Нередко во время написания программы появляется необходимость преобразовать некую последовательность в другую.\n",
    "# Для этих целей в Python имеется встроенная функция map.\n",
    "# map применяет специальную функцию для всех элементов в последовательности\n",
    "# \n",
    "map(функция, последовательности)\n",
    "map(function, *iterable)  # итерабельная последовательность должна быть - то-есть её можно через цикл прогнать\n",
    "# на выходе мы получаем map object"
   ]
  },
  {
   "cell_type": "code",
   "execution_count": null,
   "metadata": {
    "id": "wXWZkQFOhl34"
   },
   "outputs": [],
   "source": [
    "a = [-1, 2, -3]\n",
    "b = map(abs, a)  # abs без скобок! Возьмём число по модулю\n",
    "print(b)\n",
    "# ответ - <map object at 0x7fbbe63a6e50> - какой-то объект\n",
    "# так как объект итерируемый получился мы можем делать манипуляции с ним:\n",
    "c = list(map(abs, a))  # сделали список из объекта\n",
    "print(c)"
   ]
  },
  {
   "cell_type": "code",
   "execution_count": null,
   "metadata": {
    "id": "l1uJS0xIKmI2"
   },
   "outputs": [],
   "source": [
    "a = [abs(-1), abs(2), abs(-3)]\n",
    "a"
   ]
  },
  {
   "cell_type": "code",
   "execution_count": null,
   "metadata": {
    "id": "WiO5fkMAhlnL"
   },
   "outputs": [],
   "source": [
    "# Вот эти 2 строчки делают одно и тоже\n",
    "c = list(map(abs, a))\n",
    "c = [abs(i) for i in a]"
   ]
  },
  {
   "cell_type": "code",
   "execution_count": null,
   "metadata": {
    "id": "TM174CPvhlZE"
   },
   "outputs": [],
   "source": [
    "# Какие функции мы можем передавать\n",
    "# В функцию map можно передать ещё одну функцию\n",
    "def X(x):\n",
    "  return x**3\n",
    "d = list(map(X, [-2,10,4]))  # Без скобок функция!\n",
    "d"
   ]
  },
  {
   "cell_type": "code",
   "execution_count": null,
   "metadata": {
    "id": "QORg9ZOOhlI8"
   },
   "outputs": [],
   "source": [
    "A,B,C = map(int, (input().split()))\n",
    "print(A, B, C)"
   ]
  },
  {
   "cell_type": "code",
   "execution_count": null,
   "metadata": {
    "id": "2Vv0HLaYhk1e"
   },
   "outputs": [],
   "source": [
    "# Передать функцию len - длина строки\n",
    "words = ['asfd', 'awd2q', 'd']\n",
    "lenghts = list(map(len, words))  # Не забывать list или другую фунекцию\n",
    "lenghts"
   ]
  },
  {
   "cell_type": "code",
   "execution_count": null,
   "metadata": {
    "id": "ZyGEoAcwhkjE"
   },
   "outputs": [],
   "source": [
    "# Передать метод upper - все буквы большие сделать\n",
    "words1 = ['asfd', 'awd2q', 'd']\n",
    "lenghts1 = list(map(str.upper, words))  # Не забывать list или другую функцию\n",
    "lenghts1"
   ]
  },
  {
   "cell_type": "code",
   "execution_count": null,
   "metadata": {
    "id": "oh0ZdM0hhkUk"
   },
   "outputs": [],
   "source": [
    "# Передать анонимную функцию lambda\n",
    "words2 = ['asfd', 'awd2q', 'd']\n",
    "lenghts2 = list(map(lambda x: x[::-1], words))  # создали анонимную функцию чтобы строчки задам наперёд поменять\n",
    "lenghts2"
   ]
  },
  {
   "cell_type": "code",
   "execution_count": null,
   "metadata": {
    "id": "_CedYCuJhkDn"
   },
   "outputs": [],
   "source": [
    "# Передать функцию list - сделать список из слова. Список внутри списка\n",
    "words3 = ['asfd', 'awd2q', 'd']\n",
    "lenghts3 = list(map(list, words))  # создали анонимную функцию чтобы строчки задам наперёд поменять\n",
    "lenghts3[0]"
   ]
  },
  {
   "cell_type": "code",
   "execution_count": null,
   "metadata": {
    "id": "L66IzxTihjxB"
   },
   "outputs": [],
   "source": [
    "# Очень важная заготовка:\n",
    "s = list(map(int, (input().split())))\n",
    "# Считывает введённый текст - input\n",
    "# Разбиваем строку на части списка по пробелу - split()\n",
    "# Делаем из текста числа - int\n",
    "# Прогоняем все тесты через int по средствам функции map\n",
    "# Создаём список из полученных отдельных цифр\n",
    "print(s)"
   ]
  },
  {
   "cell_type": "markdown",
   "metadata": {
    "id": "2rldaBD0k0wl"
   },
   "source": [
    "## 10.9 Функции all и any"
   ]
  },
  {
   "cell_type": "code",
   "execution_count": null,
   "metadata": {
    "id": "ZyNn-LX3k5lZ"
   },
   "outputs": [],
   "source": [
    "# \n",
    "# \n",
    "# \n",
    "# "
   ]
  },
  {
   "cell_type": "code",
   "execution_count": null,
   "metadata": {
    "id": "uVlYIY4Gk-ul"
   },
   "outputs": [],
   "source": [
    "# "
   ]
  },
  {
   "cell_type": "code",
   "execution_count": null,
   "metadata": {
    "id": "0TGiRAbik-bF"
   },
   "outputs": [],
   "source": [
    "# "
   ]
  },
  {
   "cell_type": "code",
   "execution_count": null,
   "metadata": {
    "id": "7Cs9ed_rk-IF"
   },
   "outputs": [],
   "source": [
    "# "
   ]
  },
  {
   "cell_type": "code",
   "execution_count": null,
   "metadata": {
    "id": "xpphAN9Lk9wY"
   },
   "outputs": [],
   "source": [
    "# "
   ]
  },
  {
   "cell_type": "code",
   "execution_count": null,
   "metadata": {
    "id": "6TJt118Ok839"
   },
   "outputs": [],
   "source": [
    "# "
   ]
  },
  {
   "cell_type": "code",
   "execution_count": null,
   "metadata": {
    "id": "Nuk57sRGk8Yl"
   },
   "outputs": [],
   "source": [
    "# "
   ]
  }
 ],
 "metadata": {
  "colab": {
   "collapsed_sections": [
    "XGUdhsoF66As",
    "-GtkHFTc5MES",
    "jr4A3zZX9GaN",
    "4xqujdZoCpzd",
    "fMwnnbSwj748",
    "6xZMLvN9pNsA",
    "PzFgKGyqasMf",
    "FqN8A9LWd-We",
    "h8FRfhT2g-0m",
    "Uwh6n9355noe",
    "R974dgck6bXD",
    "-iLp6MAYpLMr",
    "k1uVSWMCVbgp",
    "n41r0XvqjVBY",
    "5YLQF-JadUZy",
    "nKfpRa_j4tcj",
    "uCSO7yTaSbuX",
    "QVtzMf8CdS80",
    "uCIitdCG5tgp",
    "4WC0CshWE1pA",
    "X2UFLBNZ2Ao_",
    "HSFbrVrj3HPv",
    "E9zlvamF6x4e"
   ],
   "provenance": []
  },
  "kernelspec": {
   "display_name": "Python 3 (ipykernel)",
   "language": "python",
   "name": "python3"
  },
  "language_info": {
   "codemirror_mode": {
    "name": "ipython",
    "version": 3
   },
   "file_extension": ".py",
   "mimetype": "text/x-python",
   "name": "python",
   "nbconvert_exporter": "python",
   "pygments_lexer": "ipython3",
   "version": "3.9.13"
  }
 },
 "nbformat": 4,
 "nbformat_minor": 1
}
